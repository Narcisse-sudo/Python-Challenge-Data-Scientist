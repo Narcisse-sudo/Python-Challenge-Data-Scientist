{
 "cells": [
  {
   "cell_type": "markdown",
   "metadata": {},
   "source": [
    "# Tuples en Python\n",
    "\n",
    "Dans cette section, nous allons explorer les **tuples**, une structure de données en Python qui représente une collection ordonnée et immutable. Nous couvrirons leur immutabilité et leurs cas d’usage, avec des explications détaillées, des exemples pratiques, des tests et des erreurs intentionnelles pour illustrer les concepts.\n",
    "\n",
    "## Qu’est-ce qu’un Tuple ?\n",
    "Un **tuple** est une séquence d’éléments entourée de parenthèses `()` ou créée avec `tuple()`. Contrairement aux listes, les tuples sont **immutables** : une fois créés, leurs éléments ne peuvent pas être modifiés. Ils sont utiles pour représenter des données fixes ou garantir l’intégrité des données.\n",
    "\n",
    "## Pourquoi Utiliser les Tuples ?\n",
    "\n",
    "Les tuples sont des collections ordonnées et immuables. Voici leurs cas d’usage et avantages :\n",
    "\n",
    "### Cas d’Usage\n",
    "- **Données fixes** : Stocker des valeurs qui ne doivent pas changer (ex. : coordonnées géographiques).\n",
    "- **Retour multiple** : Retourner plusieurs valeurs d’une fonction.\n",
    "- **Clés de dictionnaire** : Utiliser comme clés dans un dictionnaire grâce à leur immutabilité.\n"
   ]
  },
  {
   "cell_type": "markdown",
   "metadata": {},
   "source": [
    "## Création de Tuples\n",
    "\n",
    "Les tuples sont créés avec des parenthèses `()` ou la fonction `tuple()`. Ils peuvent être vides ou contenir des éléments de n’importe quel type.\n",
    "\n",
    "### Syntaxe\n",
    "```python\n",
    "mon_tuple = (element1, element2)\n",
    "# ou\n",
    "mon_tuple = tuple(iterable)\n",
    "```"
   ]
  },
  {
   "cell_type": "code",
   "execution_count": null,
   "metadata": {},
   "outputs": [],
   "source": [
    "# Tuple vide\n",
    "tuple_vide = ()\n",
    "print(\"Tuple vide :\", tuple_vide)"
   ]
  },
  {
   "cell_type": "code",
   "execution_count": null,
   "metadata": {},
   "outputs": [],
   "source": [
    "# Tuple avec éléments\n",
    "coordonnees = (3, 4)\n",
    "print(\"Coordonnées :\", coordonnees)"
   ]
  },
  {
   "cell_type": "code",
   "execution_count": null,
   "metadata": {},
   "outputs": [],
   "source": [
    "# Tuple avec un seul élément\n",
    "singleton = (42,)  # Notez la virgule\n",
    "print(\"Singleton :\", singleton)\n",
    "\n",
    "pas_un_tuple = (42)  # Sans virgule, c’est un int\n",
    "print(\"Pas un tuple :\", pas_un_tuple, type(pas_un_tuple))"
   ]
  },
  {
   "cell_type": "code",
   "execution_count": null,
   "metadata": {},
   "outputs": [],
   "source": [
    "# Tuple avec types mixtes\n",
    "mixte = (1, \"deux\", 3.0)\n",
    "print(\"Tuple mixte :\", mixte)"
   ]
  },
  {
   "cell_type": "code",
   "execution_count": null,
   "metadata": {},
   "outputs": [],
   "source": [
    "# À partir d’une liste\n",
    "nombres = tuple([1, 2, 3])\n",
    "print(\"Tuple desde liste :\", nombres)"
   ]
  },
  {
   "cell_type": "markdown",
   "metadata": {},
   "source": [
    "## Immutabilité des Tuples\n",
    "\n",
    "L’**immutabilité** signifie qu’on ne peut ni modifier, ni ajouter, ni supprimer des éléments après la création.\n",
    "\n",
    "### Exemple\n",
    "Tentons de modifier un tuple pour voir l’erreur."
   ]
  },
  {
   "cell_type": "code",
   "execution_count": null,
   "metadata": {},
   "outputs": [],
   "source": [
    "point = (10, 20)\n",
    "print(point)"
   ]
  },
  {
   "cell_type": "code",
   "execution_count": null,
   "metadata": {},
   "outputs": [],
   "source": [
    "print(\"X :\", point[0])\n",
    "print(\"Y :\", point[1])"
   ]
  },
  {
   "cell_type": "code",
   "execution_count": null,
   "metadata": {},
   "outputs": [],
   "source": [
    "# Tenter de modifier\n",
    "point[0] = 15  # Erreur : TypeError: 'tuple' object does not support item assignment\n",
    "# Pourquoi ? Les tuples sont immutables."
   ]
  },
  {
   "cell_type": "code",
   "execution_count": null,
   "metadata": {},
   "outputs": [],
   "source": [
    "# Tenter d’ajouter\n",
    "point.append(30)  # Erreur : AttributeError: 'tuple' object has no attribute 'append'"
   ]
  },
  {
   "cell_type": "code",
   "execution_count": null,
   "metadata": {},
   "outputs": [],
   "source": [
    "# Solution : Créer un nouveau tuple\n",
    "nouveau_point = (point[0] * 2, point[1], 30)\n",
    "print(\"Nouveau tuple :\", nouveau_point)"
   ]
  },
  {
   "cell_type": "markdown",
   "metadata": {},
   "source": [
    "## Indexation et Tranches\n",
    "\n",
    "Comme les listes, les tuples permettent l’accès par index (à partir de 0) et les tranches.\n",
    "\n",
    "### Exemple\n",
    "Accédons aux éléments d’un tuple."
   ]
  },
  {
   "cell_type": "code",
   "execution_count": 42,
   "metadata": {},
   "outputs": [],
   "source": [
    "jours = (\"lundi\", \"mardi\", \"mercredi\", \"jeudi\")"
   ]
  },
  {
   "cell_type": "code",
   "execution_count": 43,
   "metadata": {},
   "outputs": [
    {
     "name": "stdout",
     "output_type": "stream",
     "text": [
      "Premier jour : lundi\n"
     ]
    }
   ],
   "source": [
    "print(\"Premier jour :\", jours[0])"
   ]
  },
  {
   "cell_type": "code",
   "execution_count": 44,
   "metadata": {},
   "outputs": [
    {
     "name": "stdout",
     "output_type": "stream",
     "text": [
      "Dernier jour : jeudi\n"
     ]
    }
   ],
   "source": [
    "print(\"Dernier jour :\", jours[-1])"
   ]
  },
  {
   "cell_type": "code",
   "execution_count": 45,
   "metadata": {},
   "outputs": [
    {
     "name": "stdout",
     "output_type": "stream",
     "text": [
      "Deux premiers : ('lundi', 'mardi')\n"
     ]
    }
   ],
   "source": [
    "print(\"Deux premiers :\", jours[:2])"
   ]
  },
  {
   "cell_type": "code",
   "execution_count": 46,
   "metadata": {},
   "outputs": [
    {
     "name": "stdout",
     "output_type": "stream",
     "text": [
      "À partir du 2e : ('mardi', 'mercredi', 'jeudi')\n"
     ]
    }
   ],
   "source": [
    "print(\"À partir du 2e :\", jours[1:])"
   ]
  },
  {
   "cell_type": "markdown",
   "metadata": {},
   "source": [
    "## Cas d’Usage des Tuples\n",
    "\n",
    "L’immutabilité des tuples les rend utiles dans plusieurs scénarios :\n",
    "1. **Données fixes** : Coordonnées, dates, clés de dictionnaire.\n",
    "2. **Retour multiple** : Fonctions renvoyant plusieurs valeurs.\n",
    "3. **Intégrité** : Garantir que les données ne changent pas.\n",
    "4. **Efficacité** : Plus légers et rapides que les listes."
   ]
  },
  {
   "cell_type": "markdown",
   "metadata": {},
   "source": [
    "On les retrouve donc dans :\n",
    "- les shapes des tableaux numpy\n",
    "- les return des fonctions"
   ]
  }
 ],
 "metadata": {
  "kernelspec": {
   "display_name": "Python 3",
   "language": "python",
   "name": "python3"
  },
  "language_info": {
   "codemirror_mode": {
    "name": "ipython",
    "version": 3
   },
   "file_extension": ".py",
   "mimetype": "text/x-python",
   "name": "python",
   "nbconvert_exporter": "python",
   "pygments_lexer": "ipython3",
   "version": "3.12.9"
  }
 },
 "nbformat": 4,
 "nbformat_minor": 2
}
