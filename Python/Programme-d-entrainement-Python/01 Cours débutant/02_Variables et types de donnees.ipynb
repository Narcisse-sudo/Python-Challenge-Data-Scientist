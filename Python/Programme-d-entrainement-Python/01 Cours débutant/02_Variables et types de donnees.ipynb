{
 "cells": [
  {
   "cell_type": "markdown",
   "metadata": {},
   "source": [
    "# Variables et Types de Données en Python\n",
    "\n",
    "Dans cette section, nous allons explorer les bases de Python : les **variables** et les principaux **types de données** que sont les **nombres**, les **chaînes de caractères** (strings) et les **booléens**. Ce cours est conçu pour être complet, avec des explications détaillées, des exemples pratiques, des tests et des erreurs intentionnelles pour illustrer les concepts.\n",
    "\n",
    "## Qu’est-ce qu’une Variable ?\n",
    "Une variable en Python est comme une boîte étiquetée dans laquelle on stocke une valeur. Contrairement à d’autres langages, Python n’exige pas de déclarer le type d’une variable avant de l’utiliser : il est **dynamiquement typé**. On assigne une valeur à une variable avec l’opérateur `=`.\n",
    "\n",
    "## Types de Données\n",
    "Nous allons nous concentrer sur trois types fondamentaux :\n",
    "1. **Nombres** : Entiers (`int`) et nombres à virgule (`float`).\n",
    "2. **Chaînes de caractères** (`str`) : Séquences de caractères comme du texte.\n",
    "3. **Booléens** (`bool`) : Valeurs logiques `True` ou `False`.\n",
    "\n",
    "Commençons par les bases !"
   ]
  },
  {
   "cell_type": "markdown",
   "metadata": {},
   "source": [
    "## Les Nombres : Entiers et Flottants\n",
    "\n",
    "Les nombres en Python se divisent en deux catégories principales :\n",
    "- **Entiers (`int`)** : Nombres sans décimales (ex. : 5, -10, 42).\n",
    "- **Flottants (`float`)** : Nombres avec décimales (ex. : 3.14, -0.5).\n",
    "\n",
    "### Assignation et Utilisation\n",
    "Assigner une valeur numérique à une variable est simple. Voici un exemple :"
   ]
  },
  {
   "cell_type": "code",
   "execution_count": 1,
   "metadata": {},
   "outputs": [
    {
     "name": "stdout",
     "output_type": "stream",
     "text": [
      "Âge : 25\n",
      "Taille (en mètres) : 1.75\n",
      "Type de 'age' : <class 'int'>\n",
      "Type de 'taille' : <class 'float'>\n",
      "Âge dans 10 ans : 35\n",
      "Taille doublée : 3.5\n"
     ]
    }
   ],
   "source": [
    "# Assignation de nombres à des variables\n",
    "age = 25        # Entier (int)\n",
    "taille = 1.75   # Flottant (float)\n",
    "\n",
    "# Affichage des valeurs\n",
    "print(\"Âge :\", age)\n",
    "print(\"Taille (en mètres) :\", taille)\n",
    "\n",
    "# Vérification des types avec la fonction type()\n",
    "print(\"Type de 'age' :\", type(age))      # <class 'int'>\n",
    "print(\"Type de 'taille' :\", type(taille))  # <class 'float'>\n",
    "\n",
    "# Opérations simples\n",
    "somme = age + 10\n",
    "produit = taille * 2\n",
    "print(\"Âge dans 10 ans :\", somme)       # 35\n",
    "print(\"Taille doublée :\", produit)      # 3.5"
   ]
  },
  {
   "cell_type": "markdown",
   "metadata": {},
   "source": [
    "## Les Chaînes de Caractères (Strings)\n",
    "\n",
    "Une **chaîne de caractères** (`str`) est une séquence de caractères entourée de guillemets simples (`'`) ou doubles (`\"`). Exemples : `\"Bonjour\"`, `'Python'`.\n",
    "\n",
    "### Création et Manipulation\n",
    "Les chaînes sont utilisées pour stocker du texte. Elles peuvent être concaténées ou répétées."
   ]
  },
  {
   "cell_type": "code",
   "execution_count": 2,
   "metadata": {},
   "outputs": [
    {
     "name": "stdout",
     "output_type": "stream",
     "text": [
      "Nom : Alice\n",
      "Ville : Paris\n",
      "Type de 'nom' : <class 'str'>\n",
      "Alice habite à Paris\n",
      "Rire : hahaha\n"
     ]
    }
   ],
   "source": [
    "# Définir des chaînes\n",
    "nom = \"Alice\"\n",
    "ville = 'Paris'\n",
    "\n",
    "# Afficher les chaînes\n",
    "print(\"Nom :\", nom)\n",
    "print(\"Ville :\", ville)\n",
    "\n",
    "# Vérifier le type\n",
    "print(\"Type de 'nom' :\", type(nom))  # <class 'str'>\n",
    "\n",
    "# Concaténation (fusion de chaînes)\n",
    "phrase = nom + \" habite à \" + ville\n",
    "print(phrase)  # \"Alice habite à Paris\"\n",
    "\n",
    "# Répétition\n",
    "rire = \"ha\" * 3\n",
    "print(\"Rire :\", rire)  # \"hahaha\""
   ]
  },
  {
   "cell_type": "markdown",
   "metadata": {},
   "source": [
    "### Accès aux Caractères et Erreurs\n",
    "Chaque caractère d’une chaîne a un **index**, commençant à 0. On peut y accéder avec des crochets `[]`. Attention aux erreurs d’index !"
   ]
  },
  {
   "cell_type": "code",
   "execution_count": null,
   "metadata": {},
   "outputs": [
    {
     "name": "stdout",
     "output_type": "stream",
     "text": [
      "Premier caractère : P\n",
      "Dernier caractère : n\n",
      "Troisième caractère : t\n",
      "Longueur de 'mot' : 6\n",
      "Erreur : L’index 10 est trop grand pour une chaîne de longueur 6\n"
     ]
    }
   ],
   "source": [
    "# Définir une chaîne\n",
    "mot = \"Python\"\n",
    "\n",
    "# Accéder aux caractères\n",
    "print(\"Premier caractère :\", mot[0])    # \"P\"\n",
    "print(\"Dernier caractère :\", mot[-1])   # \"n\" (index négatif depuis la fin)\n",
    "print(\"Troisième caractère :\", mot[2])  # \"t\"\n",
    "\n",
    "# Longueur de la chaîne\n",
    "print(\"Longueur de 'mot' :\", len(mot))  # 6\n",
    "\n",
    "# Provoquer une erreur d’index\n",
    "# print(mot[10])  # Erreur : IndexError: string index out of range\n",
    "# Pourquoi ? L’index 10 dépasse la longueur (6 caractères, index 0 à 5)."
   ]
  },
  {
   "cell_type": "markdown",
   "metadata": {},
   "source": [
    "### Méthodes Utiles des Chaînes\n",
    "Les chaînes ont des méthodes intégrées pour les manipuler :\n",
    "- `.upper()` : Convertit en majuscules.\n",
    "- `.lower()` : Convertit en minuscules.\n",
    "- `.strip()` : Supprime les espaces au début et à la fin.\n",
    "- `.replace()` : Remplace une sous-chaîne.\n",
    "\n",
    "Testons quelques-unes de ces méthodes."
   ]
  },
  {
   "cell_type": "markdown",
   "metadata": {},
   "source": []
  },
  {
   "cell_type": "code",
   "execution_count": 4,
   "metadata": {},
   "outputs": [
    {
     "name": "stdout",
     "output_type": "stream",
     "text": [
      "Majuscules :   BONJOUR PYTHON  \n",
      "Minuscules :   bonjour python  \n",
      "Sans espaces : Bonjour Python\n",
      "Remplacement :   Bonjour monde  \n",
      "Texte original :   Bonjour Python  \n"
     ]
    }
   ],
   "source": [
    "# Définir une chaîne\n",
    "texte = \"  Bonjour Python  \"\n",
    "\n",
    "# Appliquer des méthodes\n",
    "print(\"Majuscules :\", texte.upper())         # \"  BONJOUR PYTHON  \"\n",
    "print(\"Minuscules :\", texte.lower())         # \"  bonjour python  \"\n",
    "print(\"Sans espaces :\", texte.strip())       # \"Bonjour Python\"\n",
    "print(\"Remplacement :\", texte.replace(\"Python\", \"monde\"))  # \"  Bonjour monde  \"\n",
    "\n",
    "# Les chaînes sont immuables : la variable originale reste inchangée\n",
    "print(\"Texte original :\", texte)  # \"  Bonjour Python  \""
   ]
  },
  {
   "cell_type": "markdown",
   "metadata": {},
   "source": [
    "## Les Booléens\n",
    "\n",
    "Un **booléen** (`bool`) représente une valeur logique : `True` (vrai) ou `False` (faux). Ils sont essentiels pour les tests et les conditions.\n",
    "\n",
    "### Création et Utilisation\n",
    "Les booléens viennent souvent de comparaisons ou d’opérations logiques."
   ]
  },
  {
   "cell_type": "code",
   "execution_count": null,
   "metadata": {},
   "outputs": [
    {
     "name": "stdout",
     "output_type": "stream",
     "text": [
      "x > y : True\n",
      "x == y : False\n",
      "Type de 'est_plus_grand' : <class 'bool'>\n"
     ]
    }
   ],
   "source": [
    "# Définir des variables\n",
    "x = 10\n",
    "y = 5\n",
    "\n",
    "# Comparaisons générant des booléens\n",
    "est_plus_grand = x > y\n",
    "est_egal = x == y\n",
    "\n",
    "# Afficher les résultats\n",
    "print(\"x > y :\", est_plus_grand)  # True\n",
    "print(\"x == y :\", est_egal)       # False\n",
    "\n",
    "# Vérifier le type\n",
    "print(\"Type de 'est_plus_grand' :\", type(est_plus_grand))  # <class 'bool'>"
   ]
  },
  {
   "cell_type": "code",
   "execution_count": 14,
   "metadata": {},
   "outputs": [
    {
     "name": "stdout",
     "output_type": "stream",
     "text": [
      "True\n"
     ]
    }
   ],
   "source": [
    "# Opération sur les Strings :\n",
    "\n",
    "message = \"Je voudrais consulter le contrat numéro 50192\"\n",
    "\n",
    "print(\"50192\" in message)"
   ]
  },
  {
   "cell_type": "markdown",
   "metadata": {},
   "source": [
    "## Conversion entre Types (Type Casting)\n",
    "\n",
    "On peut convertir un type en un autre avec `int()`, `float()`, `str()`, ou `bool()`. Attention aux limites et aux erreurs possibles !"
   ]
  },
  {
   "cell_type": "code",
   "execution_count": null,
   "metadata": {},
   "outputs": [
    {
     "name": "stdout",
     "output_type": "stream",
     "text": [
      "Chaîne en entier : 123\n",
      "Chaîne en flottant : 123.0\n",
      "Entier en chaîne : 25 ans\n",
      "bool(0) : False\n",
      "bool(42) : True\n",
      "bool('') : False\n",
      "bool('texte') : True\n",
      "Erreur : La chaîne Python ne peut pas être convertie en nombre.\n"
     ]
    }
   ],
   "source": [
    "# Conversions réussies\n",
    "n = \"123\"\n",
    "n_entier = int(n)      # Chaîne -> Entier\n",
    "n_flottant = float(n)  # Chaîne -> Flottant\n",
    "print(\"Chaîne en entier :\", n_entier)    # 123\n",
    "print(\"Chaîne en flottant :\", n_flottant)  # 123.0\n",
    "\n",
    "# Nombre en chaîne\n",
    "age = 25\n",
    "age_str = str(age)\n",
    "print(\"Entier en chaîne :\", age_str + \" ans\")  # \"25 ans\"\n",
    "\n",
    "# Booléen à partir d’autres types\n",
    "print(\"bool(0) :\", bool(0))        # False (0 est faux)\n",
    "print(\"bool(42) :\", bool(42))      # True (non-zéro est vrai)\n",
    "print(\"bool('') :\", bool(\"\"))      # False (chaîne vide est fausse)\n",
    "print(\"bool('texte') :\", bool(\"texte\"))  # True (chaîne non vide est vraie)\n",
    "\n",
    "# Provoquer une erreur de conversion\n",
    "texte = \"Python\"\n",
    "# n = int(texte)  # Erreur : ValueError: invalid literal for int() with base 10: 'Python'\n",
    "# Pourquoi ? On ne peut pas convertir \"Python\" en nombre."
   ]
  },
  {
   "cell_type": "markdown",
   "metadata": {},
   "source": [
    "### L'utilisation des `f-strings`"
   ]
  },
  {
   "cell_type": "code",
   "execution_count": 4,
   "metadata": {},
   "outputs": [
    {
     "name": "stdout",
     "output_type": "stream",
     "text": [
      "Bonjour, je m'appelle Guillaume et j'ai  32 ans\n"
     ]
    }
   ],
   "source": [
    "prenom = \"Guillaume\"\n",
    "age = 32\n",
    "\n",
    "print(\"Bonjour, je m'appelle\", prenom, \"et j'ai \", age, \"ans\")"
   ]
  },
  {
   "cell_type": "code",
   "execution_count": 5,
   "metadata": {},
   "outputs": [
    {
     "name": "stdout",
     "output_type": "stream",
     "text": [
      "Bonjour, je m'appelle Guillaume, et j'ai 32 ans\n"
     ]
    }
   ],
   "source": [
    "print(f\"Bonjour, je m'appelle {prenom}, et j'ai {age} ans\")"
   ]
  },
  {
   "cell_type": "code",
   "execution_count": 10,
   "metadata": {},
   "outputs": [
    {
     "data": {
      "text/plain": [
       "'Prénom : Guillaume, age : 32'"
      ]
     },
     "execution_count": 10,
     "metadata": {},
     "output_type": "execute_result"
    }
   ],
   "source": [
    "ma_chaine_speciale = \"Prénom : {}, age : {}\".format(prenom, age)\n",
    "\n",
    "ma_chaine_speciale"
   ]
  },
  {
   "cell_type": "code",
   "execution_count": 6,
   "metadata": {},
   "outputs": [
    {
     "name": "stdout",
     "output_type": "stream",
     "text": [
      "Bonjour, je m'appelle Guillaume, et j'ai 32 ans\n"
     ]
    }
   ],
   "source": [
    "print(\"Bonjour, je m'appelle {}, et j'ai {} ans\".format(prenom, age))"
   ]
  },
  {
   "cell_type": "code",
   "execution_count": 16,
   "metadata": {},
   "outputs": [
    {
     "name": "stdout",
     "output_type": "stream",
     "text": [
      "message='Je voudrais consulter le contrat numéro 50192'\n"
     ]
    }
   ],
   "source": [
    "print(f\"{message=}\")"
   ]
  },
  {
   "cell_type": "markdown",
   "metadata": {},
   "source": [
    "## Conclusion\n",
    "\n",
    "Cette section vous a permis de maîtriser :\n",
    "- Les **nombres** (`int`, `float`) et leurs opérations.\n",
    "- Les **chaînes** (`str`) avec indexation, concaténation et méthodes.\n",
    "- Les **booléens** (`bool`) pour les tests logiques et conditions.\n",
    "- La conversion entre types et la gestion des erreurs associées.\n",
    "\n",
    "Vous êtes maintenant prêt à manipuler ces types de données dans des contextes plus complexes, comme des structures de contrôle ou des fonctions. Continuez à expérimenter avec les exemples pour solidifier vos connaissances !"
   ]
  }
 ],
 "metadata": {
  "kernelspec": {
   "display_name": "Python 3",
   "language": "python",
   "name": "python3"
  },
  "language_info": {
   "codemirror_mode": {
    "name": "ipython",
    "version": 3
   },
   "file_extension": ".py",
   "mimetype": "text/x-python",
   "name": "python",
   "nbconvert_exporter": "python",
   "pygments_lexer": "ipython3",
   "version": "3.12.9"
  }
 },
 "nbformat": 4,
 "nbformat_minor": 2
}
