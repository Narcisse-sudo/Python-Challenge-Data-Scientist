{
 "cells": [
  {
   "cell_type": "markdown",
   "metadata": {},
   "source": [
    "# Structures Conditionnelles en Python\n",
    "\n",
    "Dans cette section, nous allons explorer les **structures conditionnelles** en Python, qui permettent de prendre des décisions dans le code. Nous couvrirons les mots-clés **if**, **elif** et **else**, avec des explications détaillées, des exemples pratiques, des tests et des erreurs intentionnelles pour illustrer les concepts.\n",
    "\n",
    "## Qu’est-ce qu’une Structure Conditionnelle ?\n",
    "Une structure conditionnelle exécute un bloc de code uniquement si une condition est vraie. Elle repose sur des expressions booléennes (`True` ou `False`) pour diriger le flux du programme.\n",
    "\n",
    "## Mots-Clés\n",
    "- **`if`** : Teste une condition initiale.\n",
    "- **`elif`** : Teste des conditions supplémentaires si la première est fausse (optionnel).\n",
    "- **`else`** : Exécute un bloc par défaut si aucune condition précédente n’est vraie (optionnel).\n",
    "\n",
    "Commençons par les bases !"
   ]
  },
  {
   "cell_type": "markdown",
   "metadata": {},
   "source": [
    "# Un exemple avec la météo :\n",
    "\n",
    "- S'il fait chaud dehors :\n",
    "    - Alors je vais aller a la mer\n",
    "\n",
    "- Sinon (s'il ne fait pas chaud) mais qu'il fait suffisamment beau :\n",
    "    - Alors je vais aller au parc\n",
    "    \n",
    "- Sinon :\n",
    "    - Je reste a la maison et je code des projets de Machine Learning :D"
   ]
  },
  {
   "cell_type": "markdown",
   "metadata": {},
   "source": [
    "# Attention !\n",
    "\n",
    "Les structures conditionnelles if elif else introduisent donc une sorte de séquence de tests !\n",
    "Dans les projets complexes, il n'est pas rare d'obtenir le mauvais résultat car nous nous sommes trompé dans l'ordre des tests.\n",
    "\n",
    "Si vos tests n'ont pas d'ordre, on préferera adopter une structure Match Case (voir plus tard)"
   ]
  },
  {
   "cell_type": "markdown",
   "metadata": {},
   "source": [
    "## Utilisation de `if`\n",
    "\n",
    "Le mot-clé `if` évalue une condition. Si elle est `True`, le bloc de code indenté est exécuté.\n",
    "\n",
    "### Syntaxe\n",
    "```python\n",
    "if condition:\n",
    "    # Code à exécuter si la condition est vraie"
   ]
  },
  {
   "cell_type": "code",
   "execution_count": 8,
   "metadata": {},
   "outputs": [],
   "source": [
    "# Définir une variable\n",
    "nombre = -3\n",
    "\n",
    "# Condition avec if\n",
    "if nombre > 0:\n",
    "    print(f\"{nombre} est positif.\")"
   ]
  },
  {
   "cell_type": "markdown",
   "metadata": {},
   "source": [
    "## Ajout de `else`\n",
    "\n",
    "Le mot-clé `else` fournit une alternative quand la condition du `if` est `False`. Il n’a pas de condition propre.\n",
    "\n",
    "### Syntaxe\n",
    "```python\n",
    "if condition:\n",
    "    # Code si vrai\n",
    "else:\n",
    "    # Code si faux"
   ]
  },
  {
   "cell_type": "code",
   "execution_count": 11,
   "metadata": {},
   "outputs": [
    {
     "name": "stdout",
     "output_type": "stream",
     "text": [
      "0 n’est pas positif.\n"
     ]
    }
   ],
   "source": [
    "# Définir une variable\n",
    "nombre = 0\n",
    "\n",
    "# Condition avec if et else\n",
    "if nombre > 0:\n",
    "    print(f\"{nombre} est positif.\")\n",
    "else:\n",
    "    print(f\"{nombre} n’est pas positif.\")\n",
    "\n",
    "# Sortie : -2 n’est pas positif."
   ]
  },
  {
   "cell_type": "markdown",
   "metadata": {},
   "source": [
    "## Ajout de `elif`\n",
    "\n",
    "Le mot-clé `elif` (else if) permet de tester des conditions supplémentaires si le `if` initial est faux. On peut en avoir plusieurs.\n",
    "\n",
    "### Syntaxe\n",
    "```python\n",
    "if condition1:\n",
    "    # Code si condition1 est vraie\n",
    "elif condition2:\n",
    "    # Code si condition2 est vraie\n",
    "else:\n",
    "    # Code si aucune condition n’est vraie"
   ]
  },
  {
   "cell_type": "code",
   "execution_count": 15,
   "metadata": {},
   "outputs": [
    {
     "name": "stdout",
     "output_type": "stream",
     "text": [
      "0 est zéro.\n"
     ]
    }
   ],
   "source": [
    "# Définir une variable\n",
    "nombre = 0\n",
    "\n",
    "# Conditions multiples\n",
    "if nombre > 0:\n",
    "    print(f\"{nombre} est positif.\")\n",
    "elif nombre < 0:\n",
    "    print(f\"{nombre} est négatif.\")\n",
    "else:\n",
    "    print(f\"{nombre} est zéro.\")\n",
    "\n",
    "# Sortie : 0 est zéro."
   ]
  },
  {
   "cell_type": "markdown",
   "metadata": {},
   "source": [
    "## Conditions Imbriquées\n",
    "\n",
    "On peut imbriquer des `if` dans d’autres `if` pour des tests plus complexes.\n",
    "\n",
    "### Exemple\n",
    "Vérifions si un nombre est positif et pair."
   ]
  },
  {
   "cell_type": "code",
   "execution_count": 18,
   "metadata": {},
   "outputs": [
    {
     "name": "stdout",
     "output_type": "stream",
     "text": [
      "-4 n’est pas positif.\n"
     ]
    }
   ],
   "source": [
    "# Définir une variable\n",
    "nombre = -4\n",
    "\n",
    "# Conditions imbriquées\n",
    "if nombre > 0:\n",
    "    if nombre % 2 == 0:\n",
    "        print(f\"{nombre} est positif et pair.\")\n",
    "    else:\n",
    "        print(f\"{nombre} est positif mais impair.\")\n",
    "else:\n",
    "    print(f\"{nombre} n’est pas positif.\")"
   ]
  },
  {
   "cell_type": "markdown",
   "metadata": {},
   "source": [
    "## Conditions Multiples avec Opérateurs Logiques\n",
    "\n",
    "On peut combiner des conditions avec `and`, `or`, et `not` au lieu d’imbriquer.\n",
    "\n",
    "### Exemple\n",
    "Même test que ci-dessus, mais avec `and`."
   ]
  },
  {
   "cell_type": "code",
   "execution_count": 5,
   "metadata": {},
   "outputs": [
    {
     "name": "stdout",
     "output_type": "stream",
     "text": [
      "6 est positif et pair.\n",
      "-4 est positif ou pair.\n"
     ]
    }
   ],
   "source": [
    "# Définir une variable\n",
    "nombre = 6\n",
    "\n",
    "# Condition avec and\n",
    "if nombre > 0 and nombre % 2 == 0:\n",
    "    print(f\"{nombre} est positif et pair.\")\n",
    "else:\n",
    "    print(f\"{nombre} ne remplit pas toutes les conditions.\")\n",
    "\n",
    "# Sortie : 6 est positif et pair.\n",
    "\n",
    "# Tester avec or\n",
    "nombre = -4\n",
    "if nombre > 0 or nombre % 2 == 0:\n",
    "    print(f\"{nombre} est positif ou pair.\")  # Sortie : -4 est positif ou pair.\n",
    "else:\n",
    "    print(f\"{nombre} n’est ni positif ni pair.\")"
   ]
  },
  {
   "cell_type": "markdown",
   "metadata": {},
   "source": [
    "## Exercice\n",
    "\n",
    "Un club privé n'autorise l’entrée qu’à certaines conditions :\n",
    "\n",
    "- La personne doit avoir au moins 18 ans.\n",
    "- Si elle a entre 18 et 25 ans, elle peut entrer gratuitement\n",
    "- Si elle a plus de 25 ans, elle doit être soit membre du club, soit accompagnée d’un membre.\n",
    "- Toute autre situation est refusée."
   ]
  },
  {
   "cell_type": "code",
   "execution_count": 5,
   "metadata": {},
   "outputs": [],
   "source": [
    "age = 20\n",
    "membre = True\n",
    "accompagne = False"
   ]
  },
  {
   "cell_type": "code",
   "execution_count": null,
   "metadata": {},
   "outputs": [],
   "source": [
    "# Votre Code ici\n",
    "\n"
   ]
  },
  {
   "cell_type": "markdown",
   "metadata": {},
   "source": [
    "## Correction"
   ]
  },
  {
   "cell_type": "code",
   "execution_count": 6,
   "metadata": {},
   "outputs": [
    {
     "name": "stdout",
     "output_type": "stream",
     "text": [
      "Entrée gratuite !\n"
     ]
    }
   ],
   "source": [
    "if age < 18:\n",
    "    print(\"Désolé, l'entrée est refusée.\")\n",
    "elif 18 <= age <= 25:\n",
    "    print(\"Entrée gratuite !\")\n",
    "elif age > 25 and (membre == True or accompagne == True):\n",
    "    print(\"Entrée autorisée, mais payante.\")\n",
    "else:\n",
    "    print(\"Désolé, l'entrée est refusée.\")"
   ]
  },
  {
   "cell_type": "markdown",
   "metadata": {},
   "source": [
    "## Conclusion\n",
    "\n",
    "Cette section vous a permis de maîtriser :\n",
    "- L’utilisation de **`if`** pour tester une condition.\n",
    "- L’ajout de **`elif`** pour des conditions multiples.\n",
    "- L’utilisation de **`else`** comme cas par défaut.\n",
    "- Les conditions imbriquées et les opérateurs logiques pour plus de flexibilité.\n",
    "- La gestion des erreurs de syntaxe ou logique.\n",
    "\n",
    "Vous êtes maintenant prêt à utiliser les structures conditionnelles pour contrôler le flux de vos programmes. Expérimentez avec les exemples pour consolider vos compétences !"
   ]
  }
 ],
 "metadata": {
  "kernelspec": {
   "display_name": "Python 3",
   "language": "python",
   "name": "python3"
  },
  "language_info": {
   "codemirror_mode": {
    "name": "ipython",
    "version": 3
   },
   "file_extension": ".py",
   "mimetype": "text/x-python",
   "name": "python",
   "nbconvert_exporter": "python",
   "pygments_lexer": "ipython3",
   "version": "3.12.9"
  }
 },
 "nbformat": 4,
 "nbformat_minor": 2
}
