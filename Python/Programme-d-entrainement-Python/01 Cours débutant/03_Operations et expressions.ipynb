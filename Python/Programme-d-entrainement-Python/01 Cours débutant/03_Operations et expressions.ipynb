{
 "cells": [
  {
   "cell_type": "markdown",
   "metadata": {},
   "source": [
    "# Opérations et Expressions en Python\n",
    "\n",
    "Dans cette section, nous allons explorer les **opérations** et **expressions** en Python, qui sont les outils de base pour manipuler des données. Nous couvrirons les opérations **arithmétiques**, **logiques** et de **comparaison**, avec des explications détaillées, des exemples pratiques, des tests et des erreurs intentionnelles pour illustrer les concepts.\n",
    "\n",
    "## Qu’est-ce qu’une Expression ?\n",
    "Une **expression** est une combinaison de valeurs, de variables et d’opérateurs qui produit un résultat. Par exemple, `2 + 3` est une expression arithmétique qui donne `5`. Les opérations sont les \"briques\" qui construisent ces expressions.\n",
    "\n",
    "## Types d’Opérations Couvrés\n",
    "Nous nous concentrerons sur :\n",
    "1. **Arithmétiques** : Addition, soustraction, multiplication, etc.\n",
    "2. **Logiques** : AND, OR, NOT pour manipuler des booléens.\n",
    "3. **Comparaisons** : Tester des relations comme supérieur, égal, etc.\n",
    "\n",
    "Commençons par les bases !"
   ]
  },
  {
   "cell_type": "markdown",
   "metadata": {},
   "source": [
    "## Opérations Arithmétiques\n",
    "\n",
    "Les opérations arithmétiques permettent de faire des calculs numériques avec des entiers (`int`) et des flottants (`float`). Voici la liste des opérateurs :\n",
    "- `+` : Addition\n",
    "- `-` : Soustraction\n",
    "- `*` : Multiplication\n",
    "- `/` : Division (résultat toujours un `float`)\n",
    "- `//` : Division entière (résultat arrondi à l’entier inférieur)\n",
    "- `%` : Modulo (reste de la division)\n",
    "- `**` : Puissance\n",
    "\n",
    "### Exemple Simple\n",
    "Voyons comment utiliser ces opérateurs."
   ]
  },
  {
   "cell_type": "code",
   "execution_count": null,
   "metadata": {},
   "outputs": [],
   "source": [
    "# Définir des nombres\n",
    "a = 10\n",
    "b = 3\n",
    "\n",
    "# Opérations arithmétiques\n",
    "addition = a + b\n",
    "soustraction = a - b\n",
    "multiplication = a * b\n",
    "division = a / b\n",
    "division_entiere = a // b\n",
    "modulo = a % b\n",
    "puissance = a ** 2\n",
    "\n",
    "# Afficher les résultats\n",
    "print(\"Addition :\", addition)           # 13\n",
    "print(\"Soustraction :\", soustraction)   # 7\n",
    "print(\"Multiplication :\", multiplication)  # 30\n",
    "print(\"Division :\", division)           # 3.333... (float)\n",
    "print(\"Division entière :\", division_entiere)  # 3\n",
    "print(\"Modulo :\", modulo)               # 1\n",
    "print(\"Puissance (a²) :\", puissance)    # 100\n",
    "\n",
    "# Vérifier les types\n",
    "print(\"Type de division :\", type(division))  # <class 'float'>\n",
    "print(\"Type de division entière :\", type(division_entiere))  # <class 'int'>"
   ]
  },
  {
   "cell_type": "markdown",
   "metadata": {},
   "source": [
    "### L'opérateur +="
   ]
  },
  {
   "cell_type": "code",
   "execution_count": null,
   "metadata": {
    "vscode": {
     "languageId": "ruby"
    }
   },
   "outputs": [
    {
     "name": "stdout",
     "output_type": "stream",
     "text": [
      "0\n"
     ]
    }
   ],
   "source": [
    "a = 0\n",
    "print(a)"
   ]
  },
  {
   "cell_type": "code",
   "execution_count": null,
   "metadata": {
    "vscode": {
     "languageId": "ruby"
    }
   },
   "outputs": [
    {
     "name": "stdout",
     "output_type": "stream",
     "text": [
      "1\n"
     ]
    }
   ],
   "source": [
    "a = a + 1\n",
    "print(a)"
   ]
  },
  {
   "cell_type": "code",
   "execution_count": null,
   "metadata": {
    "vscode": {
     "languageId": "ruby"
    }
   },
   "outputs": [
    {
     "name": "stdout",
     "output_type": "stream",
     "text": [
      "2\n"
     ]
    }
   ],
   "source": [
    "a += 1\n",
    "print(a)"
   ]
  },
  {
   "cell_type": "code",
   "execution_count": null,
   "metadata": {
    "vscode": {
     "languageId": "ruby"
    }
   },
   "outputs": [
    {
     "name": "stdout",
     "output_type": "stream",
     "text": [
      "1\n"
     ]
    }
   ],
   "source": [
    "a -= 1\n",
    "print(a)"
   ]
  },
  {
   "cell_type": "code",
   "execution_count": null,
   "metadata": {
    "vscode": {
     "languageId": "ruby"
    }
   },
   "outputs": [
    {
     "name": "stdout",
     "output_type": "stream",
     "text": [
      "50\n"
     ]
    }
   ],
   "source": [
    "a *= 50\n",
    "print(a)"
   ]
  },
  {
   "cell_type": "code",
   "execution_count": null,
   "metadata": {
    "vscode": {
     "languageId": "ruby"
    }
   },
   "outputs": [
    {
     "name": "stdout",
     "output_type": "stream",
     "text": [
      "25.0\n"
     ]
    }
   ],
   "source": [
    "a /= 2\n",
    "print(a)"
   ]
  },
  {
   "cell_type": "markdown",
   "metadata": {},
   "source": [
    "### Priorité des Opérations et Erreurs\n",
    "Python suit les règles mathématiques habituelles pour la priorité :\n",
    "1. Parenthèses `()`\n",
    "2. Puissance `**`\n",
    "3. Multiplication, division, modulo (`*`, `/`, `//`, `%`)\n",
    "4. Addition, soustraction (`+`, `-`)\n",
    "\n",
    "Attention aux erreurs comme la division par zéro !"
   ]
  },
  {
   "cell_type": "code",
   "execution_count": null,
   "metadata": {},
   "outputs": [],
   "source": [
    "# Priorité des opérations\n",
    "resultat = 2 + 3 * 4    # Multiplication avant addition\n",
    "print(\"2 + 3 * 4 =\", resultat)  # 14 (pas 20)\n",
    "\n",
    "resultat_avec_parentheses = (2 + 3) * 4  # Forcer l’addition d’abord\n",
    "print(\"(2 + 3) * 4 =\", resultat_avec_parentheses)  # 20\n",
    "\n",
    "# Provoquer une erreur : division par zéro\n",
    "x = 5\n",
    "y = 0\n",
    "# print(x / y)  # Erreur : ZeroDivisionError: division by zero\n",
    "# Pourquoi ? Diviser par 0 est indéfini."
   ]
  },
  {
   "cell_type": "markdown",
   "metadata": {},
   "source": [
    "## Opérations de Comparaison\n",
    "\n",
    "Les opérations de comparaison comparent deux valeurs et renvoient un booléen (`True` ou `False`). Voici les opérateurs :\n",
    "- `==` : Égal à\n",
    "- `!=` : Différent de\n",
    "- `<` : Inférieur à\n",
    "- `>` : Supérieur à\n",
    "- `<=` : Inférieur ou égal à\n",
    "- `>=` : Supérieur ou égal à\n",
    "\n",
    "### Exemple Simple\n",
    "Testons ces opérateurs avec des nombres."
   ]
  },
  {
   "cell_type": "code",
   "execution_count": null,
   "metadata": {},
   "outputs": [],
   "source": [
    "# Définir des valeurs\n",
    "a = 10\n",
    "b = 5\n",
    "c = \"10\"  # Chaîne pour tester plus tard\n",
    "\n",
    "# Comparaisons\n",
    "egal = a == b\n",
    "different = a != b\n",
    "superieur = a > b\n",
    "inferieur = a < b\n",
    "sup_ou_egal = a >= b\n",
    "inf_ou_egal = a <= b\n",
    "\n",
    "# Afficher les résultats\n",
    "print(\"a == b :\", egal)         # False\n",
    "print(\"a != b :\", different)    # True\n",
    "print(\"a > b :\", superieur)     # True\n",
    "print(\"a < b :\", inferieur)     # False\n",
    "print(\"a >= b :\", sup_ou_egal)  # True\n",
    "print(\"a <= b :\", inf_ou_egal)  # False\n",
    "\n",
    "# Attention : Comparaison avec une chaîne\n",
    "# print(a < c)  # Erreur : TypeError: '<' not supported between instances of 'int' and 'str'\n",
    "# Pourquoi ? On ne peut pas comparer directement un int et un str.\n",
    "\n",
    "# Solution : Convertir avant\n",
    "c_int = int(c)\n",
    "print(\"a < int(c) :\", a < c_int)  # False (10 n’est pas < 10)"
   ]
  },
  {
   "cell_type": "markdown",
   "metadata": {},
   "source": [
    "### Comparaisons avec des Chaînes\n",
    "Les comparaisons fonctionnent aussi avec des chaînes, en suivant l’ordre lexicographique (comme dans un dictionnaire). Testons cela."
   ]
  },
  {
   "cell_type": "code",
   "execution_count": null,
   "metadata": {},
   "outputs": [],
   "source": [
    "# Définir des chaînes\n",
    "mot1 = \"chat\"\n",
    "mot2 = \"chien\"\n",
    "\n",
    "# Comparaisons lexicographiques\n",
    "print(\"chat == chien :\", mot1 == mot2)  # False\n",
    "print(\"chat < chien :\", mot1 < mot2)    # True (c avant ch dans l’ordre alphabétique)\n",
    "print(\"chat > chien :\", mot1 > mot2)    # False\n",
    "\n",
    "# Attention à la casse\n",
    "mot3 = \"Chat\"\n",
    "print(\"chat == Chat :\", mot1 == mot3)  # False (sensible à la casse)\n",
    "print(\"chat < Chat :\", mot1 < mot3)    # False (minuscules après majuscules en ASCII)"
   ]
  },
  {
   "cell_type": "markdown",
   "metadata": {},
   "source": [
    "## Opérations Logiques\n",
    "\n",
    "Les opérations logiques combinent des booléens pour créer des conditions complexes :\n",
    "- `and` : Vrai si les deux conditions sont vraies.\n",
    "- `or` : Vrai si au moins une condition est vraie.\n",
    "- `not` : Inverse la valeur booléenne.\n",
    "\n",
    "### Exemple Simple\n",
    "Utilisons-les avec des comparaisons."
   ]
  },
  {
   "cell_type": "code",
   "execution_count": 13,
   "metadata": {},
   "outputs": [
    {
     "name": "stdout",
     "output_type": "stream",
     "text": [
      "cond1=True\n",
      "cond2=False\n"
     ]
    }
   ],
   "source": [
    "# Définir des valeurs\n",
    "x = 15\n",
    "y = 10\n",
    "\n",
    "# Comparaisons pour générer des booléens\n",
    "cond1 = x > 10\n",
    "cond2 = y < 10\n",
    "\n",
    "print(f\"{cond1=}\")\n",
    "print(f\"{cond2=}\")"
   ]
  },
  {
   "cell_type": "code",
   "execution_count": 14,
   "metadata": {},
   "outputs": [
    {
     "data": {
      "text/plain": [
       "False"
      ]
     },
     "execution_count": 14,
     "metadata": {},
     "output_type": "execute_result"
    }
   ],
   "source": [
    "cond1 and cond2"
   ]
  },
  {
   "cell_type": "code",
   "execution_count": 15,
   "metadata": {},
   "outputs": [
    {
     "data": {
      "text/plain": [
       "True"
      ]
     },
     "execution_count": 15,
     "metadata": {},
     "output_type": "execute_result"
    }
   ],
   "source": [
    "cond1 or cond2"
   ]
  },
  {
   "cell_type": "code",
   "execution_count": 16,
   "metadata": {},
   "outputs": [
    {
     "data": {
      "text/plain": [
       "False"
      ]
     },
     "execution_count": 16,
     "metadata": {},
     "output_type": "execute_result"
    }
   ],
   "source": [
    "not cond1"
   ]
  },
  {
   "cell_type": "markdown",
   "metadata": {},
   "source": [
    "### Combinaison d’Opérations\n",
    "On peut combiner arithmétiques, comparaisons et logiques dans des expressions plus complexes. Attention à la priorité : `and` avant `or`."
   ]
  },
  {
   "cell_type": "code",
   "execution_count": null,
   "metadata": {
    "vscode": {
     "languageId": "ruby"
    }
   },
   "outputs": [],
   "source": [
    "# Définir des valeurs\n",
    "age = 25\n",
    "salaire = 3000\n",
    "experience = 2\n",
    "\n",
    "# Expression combinée\n",
    "condition_embauche = (age >= 18 and salaire > 2500) or experience >= 3\n",
    "\n",
    "# Afficher les étapes\n",
    "print(\"age >= 18 :\", age >= 18)             \n",
    "print(\"salaire > 2500 :\", salaire > 2500)    \n",
    "print(\"age >= 18 AND salaire > 2500 :\", age >= 18 and salaire > 2500)  \n",
    "print(\"experience >= 3 :\", experience >= 3)  \n",
    "print(\"Condition finale :\", condition_embauche)  \n",
    "\n",
    "# Avec parenthèses pour clarifier\n",
    "condition_embauche = ((age >= 18) and (salaire > 2500)) or (experience >= 3)\n",
    "print(\"Avec parenthèses :\", condition_embauche)  # True"
   ]
  },
  {
   "cell_type": "markdown",
   "metadata": {},
   "source": [
    "## Conclusion\n",
    "\n",
    "Cette section vous a permis de maîtriser :\n",
    "- Les **opérations arithmétiques** pour calculer avec des nombres.\n",
    "- Les **opérations de comparaison** pour tester des relations.\n",
    "- Les **opérations logiques** pour combiner des conditions.\n",
    "- La construction d’expressions complexes avec priorité et gestion des erreurs.\n",
    "\n",
    "Vous êtes maintenant prêt à utiliser ces outils dans des structures comme les boucles ou les fonctions. Continuez à expérimenter pour consolider vos compétences !\n"
   ]
  },
  {
   "cell_type": "markdown",
   "metadata": {},
   "source": []
  }
 ],
 "metadata": {
  "kernelspec": {
   "display_name": "Python 3",
   "language": "python",
   "name": "python3"
  },
  "language_info": {
   "codemirror_mode": {
    "name": "ipython",
    "version": 3
   },
   "file_extension": ".py",
   "mimetype": "text/x-python",
   "name": "python",
   "nbconvert_exporter": "python",
   "pygments_lexer": "ipython3",
   "version": "3.12.9"
  }
 },
 "nbformat": 4,
 "nbformat_minor": 2
}
