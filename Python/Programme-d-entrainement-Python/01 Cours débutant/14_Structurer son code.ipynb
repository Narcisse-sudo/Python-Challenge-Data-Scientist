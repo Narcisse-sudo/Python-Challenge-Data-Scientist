{
 "cells": [
  {
   "cell_type": "markdown",
   "metadata": {},
   "source": [
    "# Structuration du Code dans des Fonctions et Modules\n",
    "\n",
    "Dans cette section, nous allons explorer comment **structurer vos projets Python** en utilisant les fonctions et les modules et les packages. Nous aborderons également le rôle du fichier `__init__.py` et de la garde `__main__`\n",
    "\n",
    "## Pourquoi Structurer le Code ?\n",
    "À mesure que les programmes grossissent, un code monolithique devient difficile à gérer. Structurer le code en :\n",
    "- **Fonctions** : Sépare les tâches en blocs réutilisables.\n",
    "- **Modules** : Organise le code en fichiers distincts.\n",
    "- **Packages** : Regroupe les modules dans une hiérarchie avec `__init__.py`.\n",
    "\n",
    "Commençons par les fonctions !"
   ]
  },
  {
   "cell_type": "markdown",
   "metadata": {},
   "source": [
    "```\n",
    "project  \n",
    "│\n",
    "└─── Package\n",
    "│   │__init__.py\n",
    "│   └───module.py\n",
    "│       │   fonction()\n",
    "│       │   fonction()\n",
    "│       │   ...\n",
    "│   \n",
    "│   README.md\n",
    "│   .venv  \n",
    "```"
   ]
  },
  {
   "cell_type": "markdown",
   "metadata": {},
   "source": [
    "## Structuration avec des Fonctions\n",
    "\n",
    "Les fonctions permettent de diviser un programme en tâches spécifiques, rendant le code plus clair et réutilisable.\n",
    "\n",
    "### Bonnes Pratiques\n",
    "- Une fonction = une tâche unique.\n",
    "- Noms explicites (PEP 8 : `snake_case`).\n",
    "- Paramètres et retours bien définis.\n",
    "\n",
    "### Exemple Monolithique\n",
    "Voici un code non structuré :"
   ]
  },
  {
   "cell_type": "code",
   "execution_count": null,
   "metadata": {},
   "outputs": [],
   "source": [
    "# Code non structuré\n",
    "nombres = [1, 2, 3, 4, 5]\n",
    "somme = 0\n",
    "for n in nombres:\n",
    "    somme += n\n",
    "moyenne = somme / len(nombres)\n",
    "print(f\"Somme : {somme}, Moyenne : {moyenne}\")"
   ]
  },
  {
   "cell_type": "markdown",
   "metadata": {},
   "source": [
    "### Refactorisation en Fonctions\n",
    "Transformons ce code en fonctions réutilisables :"
   ]
  },
  {
   "cell_type": "code",
   "execution_count": null,
   "metadata": {},
   "outputs": [],
   "source": [
    "def calculer_somme(nombres):\n",
    "    \"\"\"Calcule la somme d’une liste de nombres.\"\"\"\n",
    "    return sum(nombres)\n",
    "\n",
    "\n",
    "def calculer_moyenne(nombres):\n",
    "    \"\"\"Calcule la moyenne d’une liste de nombres.\"\"\"\n",
    "    return calculer_somme(nombres) / len(nombres)\n",
    "\n",
    "\n",
    "# Programme principal\n",
    "nombres = [1, 2, 3, 4, 5]\n",
    "somme = calculer_somme(nombres)\n",
    "moyenne = calculer_moyenne(nombres)\n",
    "print(f\"Somme : {somme}, Moyenne : {moyenne}\")"
   ]
  },
  {
   "cell_type": "markdown",
   "metadata": {},
   "source": [
    "## Avantages des Fonctions\n",
    "- **Clarté** : Chaque fonction a un rôle défini.\n",
    "- **Réutilisabilité** : Les fonctions peuvent être appelées ailleurs.\n",
    "- **Testabilité** : Plus facile à tester individuellement.\n",
    "\n",
    "Passons maintenant aux modules !"
   ]
  },
  {
   "cell_type": "markdown",
   "metadata": {},
   "source": [
    "## Structuration avec des Modules\n",
    "\n",
    "Un **module** est un fichier `.py` contenant des fonctions, classes ou variables. Il peut être importé dans d’autres fichiers.\n",
    "\n",
    "### Création d’un Module\n",
    "1. Créez un fichier (ex. `calculs.py`).\n",
    "2. Ajoutez des fonctions ou variables.\n",
    "3. Importez-le avec `import`.\n",
    "\n",
    "### Exemple\n",
    "Imaginons un module `calculs.py` (non exécutable dans Jupyter, mais montré ici comme simulation)."
   ]
  },
  {
   "cell_type": "code",
   "execution_count": null,
   "metadata": {},
   "outputs": [],
   "source": [
    "# Fichier : calculs.py (simulation)\n",
    "def calculer_somme(nombres):\n",
    "    \"\"\"Calcule la somme d’une liste de nombres.\"\"\"\n",
    "    return sum(nombres)\n",
    "\n",
    "\n",
    "def calculer_moyenne(nombres):\n",
    "    \"\"\"Calcule la moyenne d’une liste de nombres.\"\"\"\n",
    "    return calculer_somme(nombres) / len(nombres)\n",
    "\n",
    "\n",
    "# Variable globale dans le module\n",
    "PI = 3.14159"
   ]
  },
  {
   "cell_type": "code",
   "execution_count": null,
   "metadata": {},
   "outputs": [],
   "source": [
    "# Programme principal utilisant le module (simulation dans Jupyter)\n",
    "# En réalité, vous écririez : import calculs\n",
    "\n",
    "# Simulation : copier les fonctions ici pour démontrer\n",
    "def calculer_somme(nombres):\n",
    "    return sum(nombres)\n",
    "\n",
    "def calculer_moyenne(nombres):\n",
    "    return calculer_somme(nombres) / len(nombres)\n",
    "\n",
    "PI = 3.14159\n",
    "\n",
    "# Utilisation\n",
    "nombres = [1, 2, 3, 4, 5]\n",
    "somme = calculer_somme(nombres)  # Simule calculs.calculer_somme\n",
    "moyenne = calculer_moyenne(nombres)  # Simule calculs.calculer_moyenne\n",
    "print(f\"Somme : {somme}, Moyenne : {moyenne}\")\n",
    "print(f\"PI depuis le module : {PI}\")  # Simule calculs.PI"
   ]
  },
  {
   "cell_type": "markdown",
   "metadata": {},
   "source": [
    "## Gestion des Imports\n",
    "\n",
    "### Options d’Importation\n",
    "- `import module` : Importe tout le module.\n",
    "- `from module import nom` : Importe un élément spécifique.\n",
    "- `from module import *` : Importe tout (à éviter sauf cas spécifiques).\n",
    "\n",
    "### Exemple avec Imports"
   ]
  },
  {
   "cell_type": "code",
   "execution_count": null,
   "metadata": {},
   "outputs": [],
   "source": [
    "# Simulation d’imports (en réalité, nécessite calculs.py)\n",
    "# import calculs\n",
    "# from calculs import calculer_somme\n",
    "# from calculs import *\n",
    "\n",
    "# Simulation dans Jupyter\n",
    "def calculer_somme(nombres):\n",
    "    return sum(nombres)\n",
    "\n",
    "# Utilisation avec import explicite\n",
    "somme = calculer_somme([1, 2, 3])  # Simule from calculs import calculer_somme\n",
    "print(\"Somme :\", somme)"
   ]
  },
  {
   "cell_type": "markdown",
   "metadata": {},
   "source": [
    "## Packages et `__init__.py`\n",
    "\n",
    "Un **package** est un répertoire contenant des modules et un fichier `__init__.py` (peut être vide). Il permet d’organiser les modules hiérarchiquement.\n",
    "\n",
    "### Structure d’un Package\n",
    "\n",
    "```text\n",
    "mon_package/\n",
    "    __init__.py\n",
    "    calculs.py\n",
    "    utilitaires.py\n",
    "```\n",
    "\n",
    "### Rôle de `__init__.py`\n",
    "- Indique que le répertoire est un package.\n",
    "- Peut initialiser le package ou exposer des éléments.\n"
   ]
  },
  {
   "cell_type": "markdown",
   "metadata": {},
   "source": [
    "### Simulation d’un Package\n",
    "Voici comment cela fonctionnerait dans des fichiers séparés :\n",
    "\n",
    "**Fichier : `mon_package/calculs.py`**\n",
    "```python\n",
    "def calculer_somme(nombres):\n",
    "    return sum(nombres)\n",
    "```\n",
    "\n",
    "**Fichier : `mon_package/utilitaires.py`**\n",
    "```python\n",
    "def dire_bonjour(nom):\n",
    "    return f\"Bonjour {nom} !\"\n",
    "```\n",
    "\n",
    "**Fichier : `mon_package/__init__.py`**\n",
    "```python\n",
    "from .calculs import calculer_somme\n",
    "from .utilitaires import dire_bonjour\n",
    "```\n",
    "\n",
    "**Fichier principal : `main.py`**\n",
    "```python\n",
    "from mon_package import calculer_somme, dire_bonjour\n",
    "\n",
    "nombres = [1, 2, 3]\n",
    "print(calculer_somme(nombres))\n",
    "print(dire_bonjour(\"Alice\"))\n",
    "```"
   ]
  },
  {
   "cell_type": "markdown",
   "metadata": {},
   "source": [
    "\n",
    "## Garde `__main__`\n",
    "\n",
    "Pour éviter que le code d’un module s’exécute lors de son import, utilisez `if __name__ == \"__main__\":`.\n",
    "\n",
    "### Exemple dans un Module"
   ]
  },
  {
   "cell_type": "code",
   "execution_count": null,
   "metadata": {},
   "outputs": [],
   "source": [
    "# Simulation d’un module avec garde\n",
    "def calculer_produit(nombres):\n",
    "    produit = 1\n",
    "    for n in nombres:\n",
    "        produit *= n\n",
    "    return produit\n",
    "\n",
    "if __name__ == \"__main__\":\n",
    "    # Ce code ne s’exécute que si le fichier est lancé directement\n",
    "    test = [2, 3, 4]\n",
    "    print(f\"Produit : {calculer_produit(test)}\")  # Sortie : 24\n",
    "\n",
    "# Si importé, seul calculer_produit est disponible"
   ]
  },
  {
   "cell_type": "markdown",
   "metadata": {},
   "source": [
    "## Exercice\n",
    "\n",
    "\n",
    "Créer un outil permettant de :\n",
    "\n",
    "- Créer et gérer une base d'individus (nom, âge, taille, poids, ville),\n",
    "- calculer leur BMI (body mass index),\n",
    "- organiser les données par ville,\n",
    "- sauvegarder les résultats dans un fichier texte.\n",
    "\n",
    "organiser le tout de maniere intelligente en un package contenant plusieurs modules, et executer le code final dans un fichier `main.py`"
   ]
  },
  {
   "cell_type": "code",
   "execution_count": null,
   "metadata": {},
   "outputs": [],
   "source": []
  },
  {
   "cell_type": "markdown",
   "metadata": {},
   "source": [
    "## Correction"
   ]
  },
  {
   "cell_type": "markdown",
   "metadata": {},
   "source": [
    "```\n",
    "gestion_individus/\n",
    "│\n",
    "├── __init__.py\n",
    "├── individus.py       # Fonctions liées à la gestion des individus\n",
    "├── imc.py             # Fonctions liées au calcul de l’IMC\n",
    "└── fichier.py         # Fonctions pour l’écriture dans un fichier\n",
    "main.py                # Script principal d'exécution\n",
    "```"
   ]
  },
  {
   "cell_type": "code",
   "execution_count": 4,
   "metadata": {},
   "outputs": [],
   "source": [
    "# contenu du module individus.py\n",
    "\n",
    "def ajouter_individu(liste, nom, age, taille, poids, ville):\n",
    "    individu = {\n",
    "        \"nom\": nom,\n",
    "        \"age\": age,\n",
    "        \"taille\": taille,\n",
    "        \"poids\": poids,\n",
    "        \"ville\": ville\n",
    "    }\n",
    "    liste.append(individu)\n",
    "\n",
    "def organiser_par_ville(liste):\n",
    "    villes = {}\n",
    "    for individu in liste:\n",
    "        ville = individu[\"ville\"]\n",
    "        if ville not in villes:\n",
    "            villes[ville] = []\n",
    "        villes[ville].append(individu)\n",
    "    return villes\n"
   ]
  },
  {
   "cell_type": "code",
   "execution_count": null,
   "metadata": {},
   "outputs": [],
   "source": [
    "# contenu du module imc.py\n",
    "\n",
    "def calcul_imc(poids, taille):\n",
    "    if taille <= 0:\n",
    "        return None\n",
    "    return round(poids / (taille ** 2), 2)\n",
    "\n",
    "def categorie_imc(imc):\n",
    "    match imc:\n",
    "        case imc if imc < 18.5:\n",
    "            return \"sous-poids\"\n",
    "        case imc if 18.5 <= imc < 25:\n",
    "            return \"Normal\"\n",
    "        case imc if 25 <= imc < 30:\n",
    "            return \"Surpoids\"\n",
    "        case _:\n",
    "            return \"Obésité\""
   ]
  },
  {
   "cell_type": "code",
   "execution_count": null,
   "metadata": {},
   "outputs": [],
   "source": [
    "# contenu du module fichier.py\n",
    "\n",
    "def sauvegarder_donnees(nom_fichier, individus):\n",
    "    with open(nom_fichier, \"w\", encoding=\"utf-8\") as f:\n",
    "        for ind in individus:\n",
    "            ligne = f\"{ind['nom']} | {ind['age']} ans | {ind['ville']} | IMC: {ind['imc']} ({ind['categorie']})\\n\"\n",
    "            f.write(ligne)"
   ]
  },
  {
   "cell_type": "code",
   "execution_count": null,
   "metadata": {},
   "outputs": [],
   "source": [
    "# Contenu du fichier main.py\n",
    "\n",
    "from gestion_individus.individus import ajouter_individu, organiser_par_ville\n",
    "from gestion_individus.imc import calcul_imc, categorie_imc\n",
    "from gestion_individus.fichier import sauvegarder_donnees\n",
    "\n",
    "# Liste d'individus\n",
    "individus = []\n",
    "\n",
    "# Ajout d'individus\n",
    "ajouter_individu(individus, \"Alice\", 28, 1.65, 55, \"Paris\")\n",
    "ajouter_individu(individus, \"Bob\", 35, 1.80, 85, \"Lyon\")\n",
    "ajouter_individu(individus, \"Chloé\", 22, 1.70, 95, \"Paris\")\n",
    "ajouter_individu(individus, \"David\", 40, 1.75, 70, \"Marseille\")\n",
    "\n",
    "# Calcul de l'IMC et ajout dans le dictionnaire\n",
    "for ind in individus:\n",
    "    imc = calcul_imc(ind[\"poids\"], ind[\"taille\"])\n",
    "    ind[\"imc\"] = imc\n",
    "    ind[\"categorie\"] = categorie_imc(imc)\n",
    "\n",
    "# Organisation par ville\n",
    "villes = organiser_par_ville(individus)\n",
    "\n",
    "# Affichage\n",
    "for ville, personnes in villes.items():\n",
    "    print(f\"\\n--- {ville} ---\")\n",
    "    for p in personnes:\n",
    "        print(f\"{p['nom']}, IMC: {p['imc']} ({p['categorie']})\")\n",
    "\n",
    "# Sauvegarde\n",
    "sauvegarder_donnees(\"resultats.txt\", individus)"
   ]
  },
  {
   "cell_type": "markdown",
   "metadata": {},
   "source": [
    "## Conclusion\n",
    "\n",
    "Cette section vous a permis de maîtriser :\n",
    "- La **structuration avec fonctions** pour diviser les tâches.\n",
    "- L’organisation en **modules** pour séparer le code.\n",
    "- L’utilisation des **packages** avec `__init__.py` pour une hiérarchie claire.\n",
    "- La **garde `__main__`** pour contrôler l’exécution.\n",
    "\n",
    "Structurez vos projets pour les rendre modulaires et maintenables. Créez vos propres modules et packages pour expérimenter !"
   ]
  }
 ],
 "metadata": {
  "kernelspec": {
   "display_name": "Python 3",
   "language": "python",
   "name": "python3"
  },
  "language_info": {
   "codemirror_mode": {
    "name": "ipython",
    "version": 3
   },
   "file_extension": ".py",
   "mimetype": "text/x-python",
   "name": "python",
   "nbconvert_exporter": "python",
   "pygments_lexer": "ipython3",
   "version": "3.12.9"
  }
 },
 "nbformat": 4,
 "nbformat_minor": 2
}
