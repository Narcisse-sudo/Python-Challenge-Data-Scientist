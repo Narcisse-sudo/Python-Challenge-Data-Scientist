{
 "cells": [
  {
   "cell_type": "markdown",
   "metadata": {},
   "source": [
    "# Listes en Python\n",
    "\n",
    "Dans cette section, nous allons explorer les **listes**, une structure de données fondamentale en Python qui permet de stocker une collection ordonnée et mutable d’éléments. Nous couvrirons leur création, l’indexation et les méthodes courantes comme `append`, `pop`, etc., avec des explications détaillées, des exemples pratiques, des tests et des erreurs intentionnelles pour illustrer les concepts.\n",
    "\n",
    "## Qu’est-ce qu’une Liste ?\n",
    "Une **liste** est une séquence d’éléments entourée de crochets `[]`, où chaque élément peut être de n’importe quel type (nombres, chaînes, autres listes, etc.). Les listes sont **mutables**, c’est-à-dire qu’on peut les modifier après leur création.\n",
    "\n",
    "Commençons par les bases !"
   ]
  },
  {
   "cell_type": "markdown",
   "metadata": {},
   "source": [
    "## Création de Listes\n",
    "\n",
    "Les listes sont créées avec des crochets `[]` ou la fonction `list()`. Elles peuvent être vides ou contenir des éléments.\n",
    "\n",
    "### Syntaxe\n",
    "```python\n",
    "ma_liste = [element1, element2, element3]\n",
    "# ou\n",
    "ma_liste = list(iterable)\n",
    "```"
   ]
  },
  {
   "cell_type": "code",
   "execution_count": 232,
   "metadata": {},
   "outputs": [
    {
     "name": "stdout",
     "output_type": "stream",
     "text": [
      "Fruits : ['Pommes', 'Oranges', 'Poires']\n"
     ]
    }
   ],
   "source": [
    "fruits = [\"Pommes\", \"Oranges\", \"Poires\"]\n",
    "print(\"Fruits :\", fruits)"
   ]
  },
  {
   "cell_type": "code",
   "execution_count": 233,
   "metadata": {},
   "outputs": [
    {
     "name": "stdout",
     "output_type": "stream",
     "text": [
      "Liste vide : []\n"
     ]
    }
   ],
   "source": [
    "# Liste vide\n",
    "liste_vide = []\n",
    "print(\"Liste vide :\", liste_vide)"
   ]
  },
  {
   "cell_type": "code",
   "execution_count": 234,
   "metadata": {},
   "outputs": [
    {
     "name": "stdout",
     "output_type": "stream",
     "text": [
      "Nombres : [3, 56, 7, 2]\n"
     ]
    }
   ],
   "source": [
    "# Liste avec éléments\n",
    "nombres = [3, 56, 7, 2]\n",
    "print(\"Nombres :\", nombres)"
   ]
  },
  {
   "cell_type": "code",
   "execution_count": 235,
   "metadata": {},
   "outputs": [
    {
     "name": "stdout",
     "output_type": "stream",
     "text": [
      "Liste mixte : [1, 'deux', 3.0, True]\n"
     ]
    }
   ],
   "source": [
    "# Liste avec types mixtes\n",
    "mixte = [1, \"deux\", 3.0, True]\n",
    "print(\"Liste mixte :\", mixte)"
   ]
  },
  {
   "cell_type": "code",
   "execution_count": 236,
   "metadata": {},
   "outputs": [
    {
     "data": {
      "text/plain": [
       "[['Pommes', 'Oranges', 'Poires'], [3, 56, 7, 2], [1, 'deux', 3.0, True]]"
      ]
     },
     "execution_count": 236,
     "metadata": {},
     "output_type": "execute_result"
    }
   ],
   "source": [
    "liste_de_listes = [fruits, nombres, mixte]\n",
    "liste_de_listes"
   ]
  },
  {
   "cell_type": "code",
   "execution_count": 237,
   "metadata": {},
   "outputs": [
    {
     "name": "stdout",
     "output_type": "stream",
     "text": [
      "Nombres : [0, 1, 2, 3, 4]\n"
     ]
    }
   ],
   "source": [
    "# Liste à partir d’un itérable (ex. range)\n",
    "nombres = list(range(5))\n",
    "print(\"Nombres :\", nombres)"
   ]
  },
  {
   "cell_type": "markdown",
   "metadata": {},
   "source": [
    "### Indexing\n",
    "\n",
    "Les éléments d’une liste sont accessibles par leur **index**, qui commence à `0`. On peut aussi utiliser des index négatifs (depuis la fin).\n",
    "\n",
    "### Syntaxe\n",
    "`liste[index]` : Accède à un élément."
   ]
  },
  {
   "cell_type": "code",
   "execution_count": 238,
   "metadata": {},
   "outputs": [],
   "source": [
    "semaine = [\"lundi\", \"mardi\", \"mercredi\", \"jeudi\", \"vendredi\", \"samedi\", \"dimanche\"]"
   ]
  },
  {
   "cell_type": "code",
   "execution_count": 239,
   "metadata": {},
   "outputs": [
    {
     "name": "stdout",
     "output_type": "stream",
     "text": [
      "Premier jour : vendredi\n"
     ]
    }
   ],
   "source": [
    "print(\"Premier jour :\", semaine[4])"
   ]
  },
  {
   "cell_type": "code",
   "execution_count": 240,
   "metadata": {},
   "outputs": [
    {
     "name": "stdout",
     "output_type": "stream",
     "text": [
      "Dernier jour : jeudi\n"
     ]
    }
   ],
   "source": [
    "print(\"Dernier jour :\", semaine[-4])"
   ]
  },
  {
   "cell_type": "markdown",
   "metadata": {},
   "source": [
    "### Slicing\n",
    "\n",
    "On peut également obtenir des fenetres de valeurs a l'aide du slicing.\n",
    "\n",
    "### Syntaxe\n",
    "`liste[début : fin : step]` : Accède aux valeurs entre début et fin, en sautant un pas `step`"
   ]
  },
  {
   "cell_type": "code",
   "execution_count": 241,
   "metadata": {},
   "outputs": [
    {
     "name": "stdout",
     "output_type": "stream",
     "text": [
      "Deux premiers : ['lundi', 'mardi']\n"
     ]
    }
   ],
   "source": [
    "print(\"Deux premiers :\", semaine[:2])"
   ]
  },
  {
   "cell_type": "code",
   "execution_count": 242,
   "metadata": {},
   "outputs": [
    {
     "name": "stdout",
     "output_type": "stream",
     "text": [
      "À partir du 2e : ['mardi', 'mercredi', 'jeudi', 'vendredi', 'samedi', 'dimanche']\n"
     ]
    }
   ],
   "source": [
    "print(\"À partir du 2e :\", semaine[1:])  "
   ]
  },
  {
   "cell_type": "code",
   "execution_count": 243,
   "metadata": {},
   "outputs": [
    {
     "name": "stdout",
     "output_type": "stream",
     "text": [
      "Tous les 2 : ['lundi', 'mercredi', 'vendredi', 'dimanche']\n"
     ]
    }
   ],
   "source": [
    "print(\"Tous les 2 :\", semaine[::2])"
   ]
  },
  {
   "cell_type": "markdown",
   "metadata": {},
   "source": [
    "# Liste et Boucle For\n",
    "\n",
    "Les listes et le boucles ***for*** sont tres bons amis !"
   ]
  },
  {
   "cell_type": "code",
   "execution_count": 244,
   "metadata": {},
   "outputs": [],
   "source": [
    "semaine = [\"lundi\", \"mardi\", \"mercredi\", \"jeudi\", \"vendredi\", \"samedi\", \"dimanche\"]"
   ]
  },
  {
   "cell_type": "code",
   "execution_count": 245,
   "metadata": {},
   "outputs": [
    {
     "name": "stdout",
     "output_type": "stream",
     "text": [
      "lundi\n",
      "mardi\n",
      "mercredi\n",
      "jeudi\n",
      "vendredi\n",
      "samedi\n",
      "dimanche\n"
     ]
    }
   ],
   "source": [
    "for jour in semaine:\n",
    "    print(jour)"
   ]
  },
  {
   "cell_type": "code",
   "execution_count": 246,
   "metadata": {},
   "outputs": [
    {
     "name": "stdout",
     "output_type": "stream",
     "text": [
      "0 lundi\n",
      "1 mardi\n",
      "2 mercredi\n",
      "3 jeudi\n",
      "4 vendredi\n",
      "5 samedi\n",
      "6 dimanche\n"
     ]
    }
   ],
   "source": [
    "for index, jour in enumerate(semaine):\n",
    "    print(index, jour)"
   ]
  },
  {
   "cell_type": "code",
   "execution_count": 247,
   "metadata": {},
   "outputs": [],
   "source": [
    "semaine = [\"lundi\", \"mardi\", \"mercredi\", \"jeudi\", \"vendredi\", \"samedi\", \"dimanche\"]\n",
    "activites = [\"tractions\", \"repos\", \"pompes\", \"repos\", \"jambes\", \"repos\", \"abdos\"]"
   ]
  },
  {
   "cell_type": "code",
   "execution_count": 248,
   "metadata": {},
   "outputs": [
    {
     "name": "stdout",
     "output_type": "stream",
     "text": [
      "tractions lundi\n",
      "repos mardi\n",
      "pompes mercredi\n",
      "repos jeudi\n",
      "jambes vendredi\n",
      "repos samedi\n",
      "abdos dimanche\n"
     ]
    }
   ],
   "source": [
    "for activite, jour in zip(activites, semaine):\n",
    "    print(activite, jour)"
   ]
  },
  {
   "cell_type": "markdown",
   "metadata": {},
   "source": [
    "## Méthodes de Base des Listes\n",
    "\n",
    "Les listes ont des méthodes intégrées pour les manipuler. Voici les plus courantes :\n",
    "- `append(x)` : Ajoute `x` à la fin.\n",
    "- `pop(index)` : Supprime et retourne l’élément à l’index donné (par défaut dernier).\n",
    "- `insert(index, x)` : Insère `x` à l’index spécifié.\n",
    "- `remove(x)` : Supprime la première occurrence de `x`.\n",
    "- `extend(iterable)` : Ajoute tous les éléments d’un itérable.\n",
    "- `index(x)` : Retourne l’index de la première occurrence de `x`.\n",
    "- `count(x)` : Compte les occurrences de `x`.\n",
    "- `sort()` : Trie la liste (in-place).\n",
    "- `reverse()` : Inverse l’ordre des éléments.\n",
    "\n",
    "### Exemple"
   ]
  },
  {
   "cell_type": "code",
   "execution_count": 249,
   "metadata": {},
   "outputs": [],
   "source": [
    "# notre liste de course pour faire des carbonaras\n",
    "\n",
    "courses = [\"pâtes\", \"oeufs\", \"lardons\", \"creme\", \"oignons\"]"
   ]
  },
  {
   "cell_type": "code",
   "execution_count": 250,
   "metadata": {},
   "outputs": [
    {
     "name": "stdout",
     "output_type": "stream",
     "text": [
      "Après append : ['pâtes', 'oeufs', 'lardons', 'creme', 'oignons', 'poivre']\n"
     ]
    }
   ],
   "source": [
    "# Ajouter = append\n",
    "courses.append(\"poivre\")\n",
    "print(\"Après append :\", courses)"
   ]
  },
  {
   "cell_type": "code",
   "execution_count": 251,
   "metadata": {},
   "outputs": [
    {
     "name": "stdout",
     "output_type": "stream",
     "text": [
      "Tâche supprimée : poivre\n",
      "Liste après pop : ['pâtes', 'oeufs', 'lardons', 'creme', 'oignons']\n"
     ]
    }
   ],
   "source": [
    "# Supprimer = pop\n",
    "element_supprime = courses.pop()  # Par défaut dernier élément\n",
    "print(\"Tâche supprimée :\", element_supprime) \n",
    "print(\"Liste après pop :\", courses)"
   ]
  },
  {
   "cell_type": "code",
   "execution_count": 252,
   "metadata": {},
   "outputs": [
    {
     "name": "stdout",
     "output_type": "stream",
     "text": [
      "Première tâche supprimée : pâtes\n",
      "Liste restante : ['oeufs', 'lardons', 'creme', 'oignons']\n"
     ]
    }
   ],
   "source": [
    "# Pop sur index\n",
    "premier_elt = courses.pop(0)\n",
    "print(\"Première tâche supprimée :\", premier_elt)\n",
    "print(\"Liste restante :\", courses)"
   ]
  },
  {
   "cell_type": "code",
   "execution_count": 253,
   "metadata": {},
   "outputs": [
    {
     "name": "stdout",
     "output_type": "stream",
     "text": [
      "Après insert : ['oeufs', 'lardons', 'pattes', 'creme', 'oignons']\n"
     ]
    }
   ],
   "source": [
    "# Insérer avec insert\n",
    "courses.insert(2, \"pattes\")\n",
    "print(\"Après insert :\", courses)"
   ]
  },
  {
   "cell_type": "code",
   "execution_count": 254,
   "metadata": {},
   "outputs": [
    {
     "name": "stdout",
     "output_type": "stream",
     "text": [
      "Après remplacement : ['oeufs', 'lardons', 'pâtes', 'creme', 'oignons']\n"
     ]
    }
   ],
   "source": [
    "# remplacer (pour cela on utilise l'index)\n",
    "\n",
    "courses[2] = \"pâtes\"\n",
    "print(\"Après remplacement :\", courses)"
   ]
  },
  {
   "cell_type": "code",
   "execution_count": 255,
   "metadata": {},
   "outputs": [
    {
     "name": "stdout",
     "output_type": "stream",
     "text": [
      "Après remove : ['oeufs', 'lardons', 'pâtes', 'oignons']\n"
     ]
    }
   ],
   "source": [
    "# Supprimer avec remove\n",
    "courses.remove(\"creme\")\n",
    "print(\"Après remove :\", courses)"
   ]
  },
  {
   "cell_type": "code",
   "execution_count": 256,
   "metadata": {},
   "outputs": [
    {
     "name": "stdout",
     "output_type": "stream",
     "text": [
      "Après extend : ['oeufs', 'lardons', 'pâtes', 'oignons', 'oeufs', 'chocolat', 'farine', 'sucre']\n"
     ]
    }
   ],
   "source": [
    "# Ajouter une liste a une autre liste avec extend\n",
    "courses.extend([\"oeufs\", \"chocolat\", \"farine\", \"sucre\"])\n",
    "print(\"Après extend :\", courses)"
   ]
  },
  {
   "cell_type": "code",
   "execution_count": 257,
   "metadata": {},
   "outputs": [
    {
     "name": "stdout",
     "output_type": "stream",
     "text": [
      "3\n"
     ]
    }
   ],
   "source": [
    "# Trouver un index\n",
    "print(courses.index(\"oignons\"))"
   ]
  },
  {
   "cell_type": "code",
   "execution_count": 258,
   "metadata": {},
   "outputs": [
    {
     "name": "stdout",
     "output_type": "stream",
     "text": [
      "2\n"
     ]
    }
   ],
   "source": [
    "# Compter les occurrences\n",
    "print(courses.count(\"oeufs\"))"
   ]
  },
  {
   "cell_type": "code",
   "execution_count": 259,
   "metadata": {},
   "outputs": [
    {
     "name": "stdout",
     "output_type": "stream",
     "text": [
      "Après sort : ['chocolat', 'farine', 'lardons', 'oeufs', 'oeufs', 'oignons', 'pâtes', 'sucre']\n"
     ]
    }
   ],
   "source": [
    "# Trier\n",
    "courses.sort()\n",
    "print(\"Après sort :\", courses)"
   ]
  },
  {
   "cell_type": "code",
   "execution_count": 260,
   "metadata": {},
   "outputs": [],
   "source": [
    "nombres = [0, 1, 5, 6, 7, 8, 8, -1, 2, -8]"
   ]
  },
  {
   "cell_type": "code",
   "execution_count": 261,
   "metadata": {},
   "outputs": [
    {
     "name": "stdout",
     "output_type": "stream",
     "text": [
      "Après sort : [-8, -1, 0, 1, 2, 5, 6, 7, 8, 8]\n"
     ]
    }
   ],
   "source": [
    "nombres.sort()\n",
    "print(\"Après sort :\", nombres)"
   ]
  },
  {
   "cell_type": "code",
   "execution_count": 262,
   "metadata": {},
   "outputs": [
    {
     "name": "stdout",
     "output_type": "stream",
     "text": [
      "Après reverse : ['sucre', 'pâtes', 'oignons', 'oeufs', 'oeufs', 'lardons', 'farine', 'chocolat']\n"
     ]
    }
   ],
   "source": [
    "# Inverser\n",
    "courses.reverse()\n",
    "print(\"Après reverse :\", courses)"
   ]
  },
  {
   "cell_type": "markdown",
   "metadata": {},
   "source": [
    "## Liste comprehensions\n",
    "\n",
    "Les **list comprehensions** sont une manière concise de créer des listes. Elles permettent de générer des listes à partir d’autres listes, de manière plus lisible et élégante.\n",
    "\n",
    "### Syntaxe\n",
    "```python\n",
    "nouvelle_liste = [expression for element in liste if condition]\n",
    "```\n",
    "\n",
    "### Exemple"
   ]
  },
  {
   "cell_type": "code",
   "execution_count": 263,
   "metadata": {},
   "outputs": [
    {
     "name": "stdout",
     "output_type": "stream",
     "text": [
      "Carrés : [0, 1, 4, 9, 16, 25]\n"
     ]
    }
   ],
   "source": [
    "# Liste des carrés de 0 a 5 :\n",
    "carres = []\n",
    "for n in range(6):\n",
    "    carres.append(n**2)\n",
    "\n",
    "print(\"Carrés :\", carres)"
   ]
  },
  {
   "cell_type": "code",
   "execution_count": 264,
   "metadata": {},
   "outputs": [
    {
     "name": "stdout",
     "output_type": "stream",
     "text": [
      "Carrés : [0, 1, 4, 9, 16]\n"
     ]
    }
   ],
   "source": [
    "# Liste des carrés\n",
    "carres = [n**2 for n in range(5)]\n",
    "print(\"Carrés :\", carres)"
   ]
  },
  {
   "cell_type": "markdown",
   "metadata": {},
   "source": [
    "### Combo List Comprehesion + Conditions\n",
    "\n",
    "Il est courrant d'intégrer des conditions if dans les listes compréhensions. Mais attention a ne pas construire des instructions trop compliquées.\n",
    "\n",
    "Ne jamais sacrifier la lisibilité et la clareté du code !"
   ]
  },
  {
   "cell_type": "code",
   "execution_count": 265,
   "metadata": {},
   "outputs": [
    {
     "name": "stdout",
     "output_type": "stream",
     "text": [
      "Carrés : [0, 4, 16, 36, 64]\n"
     ]
    }
   ],
   "source": [
    "# Liste des carrés de 0 a 5 :\n",
    "carres = []\n",
    "for n in range(10):\n",
    "    if n % 2 == 0 :\n",
    "        carres.append(n**2)\n",
    "\n",
    "print(\"Carrés :\", carres)"
   ]
  },
  {
   "cell_type": "code",
   "execution_count": 266,
   "metadata": {},
   "outputs": [
    {
     "name": "stdout",
     "output_type": "stream",
     "text": [
      "Carrés pairs : [0, 4, 16, 36, 64]\n"
     ]
    }
   ],
   "source": [
    "# Liste des carrés des nombres pairs\n",
    "carres_pairs = [n**2 for n in range(10) if n % 2 == 0]\n",
    "print(\"Carrés pairs :\", carres_pairs)"
   ]
  },
  {
   "cell_type": "code",
   "execution_count": 267,
   "metadata": {},
   "outputs": [],
   "source": [
    "liste1 = [4, 5, 2, 7, 2]\n",
    "liste2 = [2, 5, 9, 6, 6]"
   ]
  },
  {
   "cell_type": "code",
   "execution_count": 268,
   "metadata": {},
   "outputs": [
    {
     "name": "stdout",
     "output_type": "stream",
     "text": [
      "Carrés : ['42', '55', '29', '76', '26']\n"
     ]
    }
   ],
   "source": [
    "# Liste des carrés\n",
    "combinaison = [f\"{n}{m}\" for n, m in zip(liste1, liste2)]\n",
    "print(\"Carrés :\", combinaison)"
   ]
  },
  {
   "cell_type": "markdown",
   "metadata": {},
   "source": [
    "## Exercice\n",
    "\n",
    "- Reprenez l'exercice sur la suite de Syracuse et mettez le résultat dans une liste\n",
    "- Trier ensuite cette liste du nombre le plus petit au plus grand"
   ]
  },
  {
   "cell_type": "code",
   "execution_count": 275,
   "metadata": {},
   "outputs": [],
   "source": [
    "n = 60"
   ]
  },
  {
   "cell_type": "code",
   "execution_count": null,
   "metadata": {},
   "outputs": [
    {
     "data": {
      "text/plain": [
       "[1, 2, 4, 5, 8, 10, 15, 16, 20, 23, 30, 35, 40, 46, 53, 70, 80, 106, 160]"
      ]
     },
     "execution_count": 276,
     "metadata": {},
     "output_type": "execute_result"
    }
   ],
   "source": [
    "\"\"\"\n",
    "Votre réponse ici\n",
    "\"\"\""
   ]
  },
  {
   "cell_type": "markdown",
   "metadata": {},
   "source": [
    "## Correction"
   ]
  },
  {
   "cell_type": "code",
   "execution_count": 271,
   "metadata": {},
   "outputs": [
    {
     "data": {
      "text/plain": [
       "[30, 15, 46, 23, 70, 35, 106, 53, 160, 80, 40, 20, 10, 5, 16, 8, 4, 2, 1]"
      ]
     },
     "execution_count": 271,
     "metadata": {},
     "output_type": "execute_result"
    }
   ],
   "source": [
    "n = 60\n",
    "syracuse = []\n",
    "while n != 1:\n",
    "    if n % 2 == 0:\n",
    "        n = n // 2\n",
    "    else:\n",
    "        n = 3 * n + 1\n",
    "    syracuse.append(n)\n",
    "\n",
    "syracuse"
   ]
  },
  {
   "cell_type": "code",
   "execution_count": 272,
   "metadata": {},
   "outputs": [
    {
     "data": {
      "text/plain": [
       "[1, 2, 4, 5, 8, 10, 15, 16, 20, 23, 30, 35, 40, 46, 53, 70, 80, 106, 160]"
      ]
     },
     "execution_count": 272,
     "metadata": {},
     "output_type": "execute_result"
    }
   ],
   "source": [
    "syracuse.sort()\n",
    "syracuse"
   ]
  },
  {
   "cell_type": "markdown",
   "metadata": {},
   "source": [
    "## Conclusion\n",
    "\n",
    "Cette section vous a permis de maîtriser :\n",
    "- La **création** de listes avec `[]` ou `list()`.\n",
    "- L’**indexation** pour accéder ou modifier des éléments.\n",
    "- Les **méthodes** comme `append`, `pop`, `insert`, `remove`, `extend`, `index`, `count`, `sort`, `reverse`.\n",
    "- La gestion des erreurs comme les index hors limites ou les éléments absents.\n",
    "\n",
    "Vous êtes maintenant prêt à manipuler des listes pour organiser et traiter des données. Expérimentez avec les exemples pour approfondir vos compétences !"
   ]
  }
 ],
 "metadata": {
  "kernelspec": {
   "display_name": "3.13.3",
   "language": "python",
   "name": "python3"
  },
  "language_info": {
   "codemirror_mode": {
    "name": "ipython",
    "version": 3
   },
   "file_extension": ".py",
   "mimetype": "text/x-python",
   "name": "python",
   "nbconvert_exporter": "python",
   "pygments_lexer": "ipython3",
   "version": "3.13.3"
  }
 },
 "nbformat": 4,
 "nbformat_minor": 2
}
