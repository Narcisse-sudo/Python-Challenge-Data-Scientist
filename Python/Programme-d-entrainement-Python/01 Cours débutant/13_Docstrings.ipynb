{
 "cells": [
  {
   "cell_type": "markdown",
   "metadata": {},
   "source": [
    "# Rédaction de Docstrings et Typage des Entrées et Sorties\n",
    "\n",
    "Dans cette section, nous allons explorer comment rédiger des **docstrings** détaillées et professionnelles pour documenter les fonctions, classes et méthodes en Python. Nous intégrerons également le **typage des entrées et sorties** avec des annotations de type (type hints), introduites dans Python 3.5.\n",
    "\n",
    "## Pourquoi Documenter son code ?\n"
   ]
  },
  {
   "cell_type": "code",
   "execution_count": null,
   "metadata": {},
   "outputs": [],
   "source": [
    "# Question : Que fait cette fonction ?\n",
    "\n",
    "def process_names(data):\n",
    "    result = []\n",
    "    for item in data:\n",
    "        name = item[0].strip().title()\n",
    "        count = 0\n",
    "        for char in name:\n",
    "            if char.lower() in 'aeiou':\n",
    "                count += 1\n",
    "        result.append(f\"{name} ({count} vowels)\")\n",
    "    return result"
   ]
  },
  {
   "cell_type": "code",
   "execution_count": null,
   "metadata": {},
   "outputs": [],
   "source": [
    "from typing import List, Tuple\n",
    "\n",
    "def process_names(data: List[Tuple[str]]) -> List[str]:\n",
    "    \"\"\"Formats and annotates names with their vowel counts.\n",
    "\n",
    "    This function takes a list of tuples, where each tuple contains a single name as a string.\n",
    "    It formats each name (strips spaces and capitalizes it), counts the number of vowels in the name,\n",
    "    and returns a new list of formatted strings with the vowel count included.\n",
    "\n",
    "    Args:\n",
    "        data (List[Tuple[str]]): List of tuples, each containing a name string.\n",
    "\n",
    "    Returns:\n",
    "        List[str]: List of formatted names with vowel counts.\n",
    "\n",
    "    Examples:\n",
    "        >>> process_names([(\" alice \",), (\"BOB\",), (\"eve\",)])\n",
    "        ['Alice (3 vowels)', 'Bob (1 vowels)', 'Eve (2 vowels)']\n",
    "    \"\"\"\n",
    "    result = []\n",
    "    for item in data:\n",
    "        name = item[0].strip().title()\n",
    "        count = 0\n",
    "        for char in name:\n",
    "            if char.lower() in 'aeiou':\n",
    "                count += 1\n",
    "        result.append(f\"{name} ({count} vowels)\")\n",
    "    return result"
   ]
  },
  {
   "cell_type": "markdown",
   "metadata": {},
   "source": [
    "## Bases des Docstrings\n",
    "\n",
    "Une **docstring** est une chaîne de caractères placée juste après la définition d’une fonction, classe ou méthode, entourée de triples guillemets `\"\"\"`. Elle doit :\n",
    "- Décrire ce que fait l’objet.\n",
    "- Lister les paramètres et leurs types.\n",
    "- Indiquer la valeur de retour et son type.\n",
    "- Fournir des exemples avec `>>>`.\n",
    "\n",
    "### Conventions\n",
    "- Utilisez des phrases complètes en anglais.\n",
    "- Au niveau de la structure :\n",
    "    - **Description** : courte et précise.\n",
    "    - **Args** : Chaque paramètre (`a`, `b`) est listé avec son type (`int`) et une explication.\n",
    "    - **Returns** : Type de retour (`int`) et description de la sortie.\n",
    "    - **Examples** : Utilisation de `>>>` pour montrer des cas concrets, comme dans les docstrings officielles Python.\n",
    "\n",
    "### Exemple Simple"
   ]
  },
  {
   "cell_type": "code",
   "execution_count": 3,
   "metadata": {},
   "outputs": [],
   "source": [
    "def add_int(a, b):\n",
    "    \"\"\"Adds two integers.\n",
    "\n",
    "    Args:\n",
    "        a (int): First integer to add.\n",
    "        b (int): Second integer to add.\n",
    "\n",
    "    Returns:\n",
    "        int: The sum of the two numbers.\n",
    "\n",
    "    Examples:\n",
    "        >>> add_int(3, 5)\n",
    "        8\n",
    "        >>> add_int(-2, 7)\n",
    "        5\n",
    "    \"\"\"\n",
    "    return a + b\n"
   ]
  },
  {
   "cell_type": "code",
   "execution_count": 4,
   "metadata": {},
   "outputs": [
    {
     "name": "stdout",
     "output_type": "stream",
     "text": [
      "8\n"
     ]
    }
   ],
   "source": [
    "# Test\n",
    "print(add_int(3, 5))"
   ]
  },
  {
   "cell_type": "markdown",
   "metadata": {},
   "source": [
    "## Type Hinting\n",
    "\n",
    "Le type hinting, introduit en Python 3.5, permet d’indiquer les types de variables, paramètres et retours de fonctions pour :\n",
    "\n",
    "- améliorer la lisibilité\n",
    "- aider les outils comme mypy, Pyright, ou les IDE à détecter les erreurs\n",
    "- faciliter la maintenance du code\n"
   ]
  },
  {
   "cell_type": "code",
   "execution_count": 5,
   "metadata": {},
   "outputs": [],
   "source": [
    "def add_int(a: int, b: int) -> int:\n",
    "    \n",
    "    return a + b"
   ]
  },
  {
   "cell_type": "markdown",
   "metadata": {},
   "source": [
    "### Pour les Types plus avancés :\n",
    "\n",
    "le module `typing ` de python nous fournit toute une collection de Typing : \n",
    "- `List[int]` → liste d'entiers\n",
    "- `Dict[str, int]` → dictionnaire avec des clés str et des valeurs int\n",
    "- `Optional[str]` → chaîne de caractères ou None\n",
    "- `Union[int, str]` → soit un entier, soit une chaîne\n",
    "- `Tuple[int, str, float]` → un tuple avec un int, un str, puis un float"
   ]
  },
  {
   "cell_type": "code",
   "execution_count": null,
   "metadata": {},
   "outputs": [],
   "source": [
    "def filtre_liste(valeurs, seuil = 0.0):\n",
    "    new_list = []\n",
    "    for v in valeurs:\n",
    "        if v > seuil:\n",
    "            new_list.append(v)\n",
    "    return new_list"
   ]
  },
  {
   "cell_type": "code",
   "execution_count": null,
   "metadata": {},
   "outputs": [],
   "source": [
    "from typing import List, Union\n",
    "\n",
    "def filtre_liste(valeurs: List[Union[int, float]], seuil: float = 0.0) -> List[float]:\n",
    "    new_list = []\n",
    "    for v in valeurs:\n",
    "        if v > seuil:\n",
    "            new_list.append(v)\n",
    "    return new_list"
   ]
  },
  {
   "cell_type": "markdown",
   "metadata": {},
   "source": [
    "Et encore mieux... avec la docstring !"
   ]
  },
  {
   "cell_type": "code",
   "execution_count": null,
   "metadata": {},
   "outputs": [],
   "source": [
    "def filtre_liste(valeurs: List[Union[int, float]], seuil: float = 0.0) -> List[float]:\n",
    "    \"\"\"Filters a list of numbers based on a threshold.\n",
    "\n",
    "    This function takes a list of numbers (integers or floats) and returns a new list\n",
    "    containing only the values strictly greater than the given threshold.\n",
    "\n",
    "    Args:\n",
    "        valeurs (List[Union[int, float]]): List of numbers to filter.\n",
    "        seuil (float, optional): Minimum value to include a number (default: 0.0).\n",
    "\n",
    "    Returns:\n",
    "        List[float]: List of values greater than the threshold.\n",
    "\n",
    "    Examples:\n",
    "        >>> filtre_liste([1, 2, 3, -1], 0.0)\n",
    "        [1, 2, 3]\n",
    "        >>> filtre_liste([1.5, -2.0, 3.0], 2.0)\n",
    "        [3.0]\n",
    "        >>> filtre_liste([], 0.0)\n",
    "        []\n",
    "    \"\"\"\n",
    "    new_list = []\n",
    "    for v in valeurs:\n",
    "        if v > seuil:\n",
    "            new_list.append(v)\n",
    "    return new_list"
   ]
  },
  {
   "cell_type": "markdown",
   "metadata": {},
   "source": [
    "## Docstring pour une Classe\n",
    "\n",
    "Une classe doit inclure une docstring générale et des docstrings pour ses méthodes. Le typage est crucial pour les attributs et méthodes.\n",
    "\n",
    "### Exemple\n",
    "Documentons une classe de gestion d’employés."
   ]
  },
  {
   "cell_type": "code",
   "execution_count": null,
   "metadata": {},
   "outputs": [],
   "source": [
    "from typing import Dict, Optional\n",
    "\n",
    "\n",
    "class Employee:\n",
    "    \"\"\"Represents an employee with personal and professional information.\n",
    "\n",
    "    This class allows storing and managing employee data, such as their name,\n",
    "    salary, and skills.\n",
    "\n",
    "    Attributes:\n",
    "        name (str): Full name of the employee.\n",
    "        salary (float): Monthly salary in euros.\n",
    "        skills (Dict[str, int]): Dictionary of skills and levels (1 to 5).\n",
    "\n",
    "    Examples:\n",
    "        >>> emp = Employee(\"Alice Dupont\", 3000.0)\n",
    "        >>> emp.add_skills(\"Python\", 4)\n",
    "        >>> emp.name\n",
    "        'Alice Dupont'\n",
    "        >>> emp.skills\n",
    "        {'Python': 4}\n",
    "    \"\"\"\n",
    "    \n",
    "    def __init__(self, name: str, salary: float) -> None:\n",
    "        \"\"\"Initializes a new employee.\n",
    "\n",
    "        Args:\n",
    "            name (str): Full name of the employee.\n",
    "            salary (float): Monthly salary in euros.\n",
    "        \"\"\"\n",
    "        self.name = name\n",
    "        self.salary = salary\n",
    "        self.skills: Dict[str, int] = {}\n",
    "\n",
    "    def add_skills(self, skill: str, niveau: int) -> None:\n",
    "        \"\"\"Adds or updates a skill for the employee.\n",
    "\n",
    "        Args:\n",
    "            skill (str): Name of the skill (e.g., \"Python\").\n",
    "            niveau (int): Mastery level (from 1 to 5).\n",
    "\n",
    "        Raises:\n",
    "            ValueError: If the level is not between 1 and 5.\n",
    "\n",
    "        Examples:\n",
    "            >>> emp = Employee(\"Bob Martin\", 2500.0)\n",
    "            >>> emp.add_skills(\"Java\", 3)\n",
    "            >>> emp.skills[\"Java\"]\n",
    "            3\n",
    "            >>> emp.add_skills(\"C++\", 6)\n",
    "            Traceback (most recent call last):\n",
    "                ...\n",
    "            ValueError: The level must be between 1 and 5\n",
    "        \"\"\"\n",
    "        if not 1 <= niveau <= 5:\n",
    "            raise ValueError(\"The level must be between 1 and 5\")\n",
    "        self.skills[skill] = niveau\n",
    "\n",
    "    def get_annual_salary(self) -> float:\n",
    "        \"\"\"Calculates the employee's annual salary.\n",
    "\n",
    "        Returns:\n",
    "            float: Annual salary (monthly salary multiplied by 12).\n",
    "\n",
    "        Examples:\n",
    "            >>> emp = Employee(\"Clara\", 2000.0)\n",
    "            >>> emp.get_annual_salary()\n",
    "            24000.0\n",
    "        \"\"\"\n",
    "        return self.salary * 12\n",
    "\n",
    "\n",
    "# Test\n",
    "emp = Employee(\"Alice Dupont\", 3000.0)\n",
    "emp.add_skills(\"Python\", 4)\n",
    "print(emp.skills)  \n",
    "print(emp.get_annual_salary())"
   ]
  },
  {
   "cell_type": "markdown",
   "metadata": {},
   "source": [
    "## Analyse de la Classe\n",
    "\n",
    "- **Docstring de la classe** :\n",
    "  - Description générale et attributs avec types (`name: str`, `skills: Dict[str, int]`).\n",
    "  - Exemple global avec `>>>` montrant la création et l’utilisation.\n",
    "- **Méthodes** :\n",
    "  - `__init__` : Typage des paramètres (`name: str`, `salary: float`), pas de retour (`-> None`).\n",
    "  - `add_skills` : Typage complexe, gestion d’erreur documentée, exemples avec succès et échec.\n",
    "  - `get_annual_salary` : Retour typé (`-> float`), exemple simple.\n",
    "\n",
    "Passons à un exemple avancé avec module !"
   ]
  },
  {
   "cell_type": "markdown",
   "metadata": {},
   "source": [
    "## Docstring dans un Module\n",
    "\n",
    "Un module peut avoir une docstring globale et des docstrings pour ses fonctions. Voici une simulation d’un module.\n",
    "\n",
    "### Exemple\n",
    "Simulons un module `operations.py`."
   ]
  },
  {
   "cell_type": "code",
   "execution_count": null,
   "metadata": {},
   "outputs": [],
   "source": [
    "\"\"\"Module operations: Advanced mathematical operations.\n",
    "\n",
    "This module provides functions for performing complex mathematical calculations,\n",
    "with error handling and interactive examples.\n",
    "\n",
    "Examples:\n",
    "    >>> from operations import normalized_power\n",
    "    >>> normalized_power(2, 3, 10)\n",
    "    0.8\n",
    "\"\"\"\n",
    "\n",
    "from typing import Optional\n",
    "\n",
    "\n",
    "def normalized_power(base: float, exponent: int, normalizer: float) -> float:\n",
    "    \"\"\"Calculates a normalized power of a base raised to an exponent.\n",
    "\n",
    "    Normalization divides the result by the normalizer to limit the scale.\n",
    "\n",
    "    Args:\n",
    "        base (float): Base for the power calculation.\n",
    "        exponent (int): Exponent to apply to the base.\n",
    "        normalizer (float): Value used to normalize the result.\n",
    "\n",
    "    Returns:\n",
    "        float: Result of (base ** exponent) / normalizer.\n",
    "\n",
    "    Raises:\n",
    "        ValueError: If the normalizer is zero.\n",
    "        TypeError: If the arguments are not numbers.\n",
    "\n",
    "    Examples:\n",
    "        >>> normalized_power(2, 3, 10)\n",
    "        0.8\n",
    "        >>> normalized_power(5, 2, 100)\n",
    "        0.25\n",
    "        >>> normalized_power(3, 2, 0)\n",
    "        Traceback (most recent call last):\n",
    "            ...\n",
    "        ValueError: The normalizer cannot be zero\n",
    "    \"\"\"\n",
    "    if not isinstance(base, (int, float)) or not isinstance(exponent, int):\n",
    "        raise TypeError(\"base and exponent must be numbers\")\n",
    "    if normalizer == 0:\n",
    "        raise ValueError(\"The normalizer cannot be zero\")\n",
    "    return (base ** exponent) / normalizer\n",
    "\n",
    "\n",
    "# Test\n",
    "print(normalized_power(2, 3, 10))"
   ]
  },
  {
   "cell_type": "markdown",
   "metadata": {},
   "source": [
    "## Exercice\n",
    "\n",
    "Créer une fonction `compute_list_sum` qui prend une liste de nombres entiers et retourne la somme de ces nombres paires. La fonction doit être documentée avec une docstring détaillée et typée.\n",
    "\n",
    "### Exemple\n",
    "```python\n",
    ">>> compute_list_sum([1, 2, 3, 4, 5])\n",
    "6\n",
    "```"
   ]
  },
  {
   "cell_type": "code",
   "execution_count": null,
   "metadata": {},
   "outputs": [],
   "source": [
    "\"\"\"\n",
    "Votre réponse ici\n",
    "\"\"\""
   ]
  },
  {
   "cell_type": "markdown",
   "metadata": {},
   "source": [
    "## Correction"
   ]
  },
  {
   "cell_type": "code",
   "execution_count": null,
   "metadata": {},
   "outputs": [],
   "source": [
    "# Correction : Créer une fonction `compute_list_sum` qui prend une liste de nombres et retourne la somme de ces nombres paires. La fonction doit être documentée avec une docstring détaillée et typée.\n",
    "\n",
    "def compute_list_sum(numbers: List[int]) -> int:\n",
    "    \"\"\"Computes the sum of even numbers in a list.\n",
    "\n",
    "    This function takes a list of integers, filters the even numbers,\n",
    "    and returns the sum of these numbers.\n",
    "\n",
    "    Args:\n",
    "        numbers (List[int]): List of integers to process.\n",
    "\n",
    "    Returns:\n",
    "        int: Sum of even numbers in the list.\n",
    "\n",
    "    Examples:\n",
    "        >>> compute_list_sum([1, 2, 3, 4, 5, 6])\n",
    "        12\n",
    "        >>> compute_list_sum([10, 20, 30, 40])\n",
    "        100\n",
    "    \"\"\"\n",
    "    return sum(x for x in numbers if x % 2 == 0)\n",
    "\n",
    "\n",
    "print(compute_list_sum([1, 2, 3, 4, 5, 6]))"
   ]
  },
  {
   "cell_type": "markdown",
   "metadata": {},
   "source": [
    "## Conclusion\n",
    "\n",
    "Cette section vous a permis de maîtriser :\n",
    "- La rédaction de **docstrings avancées** avec description, paramètres, retours, exceptions et exemples interactifs (`>>>`).\n",
    "- Le **typage des entrées et sorties** avec `typing` pour des annotations précises (ex. : `List[Union[int, float]]`).\n",
    "- L’application à des fonctions, classes et modules pour une documentation professionnelle.\n",
    "\n",
    "Une bonne documentation rend votre code accessible et robuste."
   ]
  }
 ],
 "metadata": {
  "kernelspec": {
   "display_name": "Python 3",
   "language": "python",
   "name": "python3"
  },
  "language_info": {
   "codemirror_mode": {
    "name": "ipython",
    "version": 3
   },
   "file_extension": ".py",
   "mimetype": "text/x-python",
   "name": "python",
   "nbconvert_exporter": "python",
   "pygments_lexer": "ipython3",
   "version": "3.12.9"
  }
 },
 "nbformat": 4,
 "nbformat_minor": 2
}
