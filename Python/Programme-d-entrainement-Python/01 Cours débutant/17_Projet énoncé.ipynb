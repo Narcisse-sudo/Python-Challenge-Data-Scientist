{
 "cells": [
  {
   "cell_type": "markdown",
   "metadata": {},
   "source": [
    "# Projet d'analyse et manipulation d'un fichier JSON d'individus\n",
    "\n",
    "Ce notebook contient toutes les tâches demandées pour le projet de fin de cours. Chaque tâche est à implémenter dans une cellule distincte. Les docstrings sont en français pour plus de clarté.\n",
    "\n",
    "Il faut utiliser les modules suivants : `math`, `datetime`, `os`, `glob`, `string`, `random`, `csv`, `json`."
   ]
  },
  {
   "cell_type": "code",
   "execution_count": null,
   "metadata": {},
   "outputs": [],
   "source": [
    "# Importation des modules\n",
    "import json\n",
    "import csv\n",
    "import os\n",
    "import glob\n",
    "import random\n",
    "import string\n",
    "import math\n",
    "from datetime import datetime, timedelta"
   ]
  },
  {
   "cell_type": "markdown",
   "metadata": {},
   "source": [
    "---\n",
    "\n",
    "## Tâche 1 : Chargement des données\n",
    "\n",
    "Nous allons créer une fonction qui charge le fichier `individus.json` (il se situe dans le dossier fichiers_projet) et retourne les données sous forme de liste de dictionnaires. Nous vérifierons également que le fichier existe."
   ]
  },
  {
   "cell_type": "markdown",
   "metadata": {},
   "source": [
    "On créera également une fonction `save_to_json` qui prendre en paramètre les données et le nom du fichier et les sauvegardera dans un fichier JSON."
   ]
  },
  {
   "cell_type": "code",
   "execution_count": null,
   "metadata": {},
   "outputs": [],
   "source": [
    "def load_json(filename):\n",
    "    \"\"\"\n",
    "    Charge un fichier JSON et retourne son contenu.\n",
    "\n",
    "    Args:\n",
    "        filename (str): Nom du fichier JSON.\n",
    "\n",
    "    Returns:\n",
    "        list ou dict: Contenu du fichier JSON, ou None si le fichier n'existe pas.\n",
    "    \"\"\"\n",
    "    # TODO\n",
    "\n",
    "\n",
    "# Charger les données initiales\n",
    "individus = load_json(\"fichiers_projet/individus.json\")\n",
    "if individus is not None:\n",
    "    print(f\"Données chargées avec succès. Nombre d'individus : {len(individus)}\")"
   ]
  },
  {
   "cell_type": "code",
   "execution_count": null,
   "metadata": {},
   "outputs": [],
   "source": [
    "def save_to_json(data, filename):\n",
    "    \"\"\"\n",
    "    Sauvegarde une structure de données dans un fichier JSON.\n",
    "\n",
    "    Args:\n",
    "        data: Données à sauvegarder (list, dict, etc.).\n",
    "        filename (str): Nom du fichier JSON.\n",
    "    \"\"\"\n",
    "    # TODO"
   ]
  },
  {
   "cell_type": "markdown",
   "metadata": {},
   "source": [
    "---\n",
    "\n",
    "## Tâche 2 : Ajout du champ \"taille\"\n",
    "\n",
    "Nous allons ajouter un champ `taille` (en mètres) à chaque individu, généré aléatoirement entre 1.50 et 2.00. Les données mises à jour seront sauvegardées dans un nouveau fichier JSON."
   ]
  },
  {
   "cell_type": "code",
   "execution_count": null,
   "metadata": {},
   "outputs": [],
   "source": [
    "def add_taille(individus):\n",
    "    \"\"\"\n",
    "    Ajoute un champ 'taille' à chaque individu avec une valeur aléatoire.\n",
    "\n",
    "    Args:\n",
    "        individus (list): Liste de dictionnaires représentant les individus.\n",
    "\n",
    "    Returns:\n",
    "        list: Liste mise à jour avec le champ 'taille'.\n",
    "    \"\"\"\n",
    "    # TODO\n",
    "\n",
    "\n",
    "# Ajouter le champ taille et sauvegarder\n",
    "individus_with_taille = add_taille(individus)\n",
    "save_to_json(individus_with_taille, \"fichiers_projet/individus_with_taille.json\")\n",
    "print(\"Champ 'taille' ajouté et sauvegardé dans 'individus_with_taille.json'.\")"
   ]
  },
  {
   "cell_type": "markdown",
   "metadata": {},
   "source": [
    "---\n",
    "\n",
    "## Tâche 3 : Ajout du champ \"IMC\"\n",
    "\n",
    "Nous allons calculer l'IMC pour chaque individu à l'aide de la formule : IMC = poids / (taille * taille). Le résultat sera arrondi à 2 décimales et ajouté comme champ `imc`. Les données mises à jour seront sauvegardées dans un nouveau fichier JSON."
   ]
  },
  {
   "cell_type": "code",
   "execution_count": null,
   "metadata": {},
   "outputs": [],
   "source": [
    "# Ajout du champ \"IMC\"\n",
    "\n",
    "def calculate_imc(poids, taille):\n",
    "    \"\"\"\n",
    "    Calcule l'IMC à partir du poids et de la taille.\n",
    "\n",
    "    Args:\n",
    "        poids (float): Poids en kilogrammes.\n",
    "        taille (float): Taille en mètres.\n",
    "\n",
    "    Returns:\n",
    "        float: IMC arrondi à 2 décimales.\n",
    "    \"\"\"\n",
    "    # TODO\n",
    "\n",
    "\n",
    "def add_imc(individus):\n",
    "    \"\"\"\n",
    "    Ajoute un champ 'imc' à chaque individu.\n",
    "\n",
    "    Args:\n",
    "        individus (list): Liste de dictionnaires représentant les individus.\n",
    "\n",
    "    Returns:\n",
    "        list: Liste mise à jour avec le champ 'imc'.\n",
    "    \"\"\"\n",
    "    # TODO\n",
    "\n",
    "\n",
    "# Ajouter le champ IMC et sauvegarder\n",
    "individus_with_imc = add_imc(individus_with_taille)\n",
    "save_to_json(individus_with_imc, \"fichiers_projet/individus_with_imc.json\")\n",
    "print(\"Champ 'imc' ajouté et sauvegardé dans 'individus_with_imc.json'.\")"
   ]
  },
  {
   "cell_type": "markdown",
   "metadata": {},
   "source": [
    "---\n",
    "\n",
    "## Tâche 4 : Ajout du champ \"pays de naissance\"\n",
    "\n",
    "Nous allons créer un dictionnaire associant chaque ville de naissance à un pays, puis ajouter un champ `pays_naissance` à chaque individu. Si une ville n'est pas dans le dictionnaire, le pays sera \"Inconnu\". Les données mises à jour seront sauvegardées dans un nouveau fichier JSON."
   ]
  },
  {
   "cell_type": "code",
   "execution_count": null,
   "metadata": {},
   "outputs": [],
   "source": [
    "def add_pays_naissance(individus):\n",
    "    \"\"\"\n",
    "    Ajoute un champ 'pays_naissance' à chaque individu en fonction de la ville de naissance.\n",
    "\n",
    "    Args:\n",
    "        individus (list): Liste de dictionnaires représentant les individus.\n",
    "\n",
    "    Returns:\n",
    "        list: Liste mise à jour avec le champ 'pays_naissance'.\n",
    "    \"\"\"\n",
    "    # TODO\n",
    "\n",
    "\n",
    "# Ajouter le champ pays_naissance et sauvegarder\n",
    "individus_with_pays = add_pays_naissance(individus_with_imc)\n",
    "save_to_json(individus_with_pays, \"fichiers_projet/individus_with_pays.json\")\n",
    "print(\"Champ 'pays_naissance' ajouté et sauvegardé dans 'individus_with_pays.json'.\")"
   ]
  },
  {
   "cell_type": "markdown",
   "metadata": {},
   "source": [
    "---\n",
    "\n",
    "## Tâche 5 : Analyse des âges\n",
    "\n",
    "Nous allons calculer et afficher des statistiques sur les âges (moyen, minimum, maximum, nombre de personnes de plus de 50 ans). Les résultats seront sauvegardés dans un fichier JSON."
   ]
  },
  {
   "cell_type": "code",
   "execution_count": null,
   "metadata": {},
   "outputs": [],
   "source": [
    "# Analyse des âges\n",
    "\n",
    "def analyze_ages(individus):\n",
    "    \"\"\"\n",
    "    Calcule des statistiques sur les âges des individus.\n",
    "\n",
    "    Args:\n",
    "        individus (list): Liste de dictionnaires représentant les individus.\n",
    "\n",
    "    Returns:\n",
    "        dict: Dictionnaire contenant les statistiques sur les âges.\n",
    "    \"\"\"\n",
    "    # TODO\n",
    "\n",
    "\n",
    "# Analyser les âges et afficher les résultats\n",
    "stats_ages = analyze_ages(individus_with_pays)\n",
    "print(\"Statistiques sur les âges :\")\n",
    "for key, value in stats_ages.items():\n",
    "    print(f\"- {key.replace('_', ' ').capitalize()} : {value}\")\n",
    "\n",
    "# Sauvegarder les statistiques\n",
    "save_to_json(stats_ages, \"fichiers_projet/stats_ages.json\")\n",
    "print(\"Statistiques sauvegardées dans 'stats_ages.json'.\")"
   ]
  },
  {
   "cell_type": "markdown",
   "metadata": {},
   "source": [
    "---\n",
    "\n",
    "## Tâche 6 : Analyse des IMC\n",
    "\n",
    "Nous allons identifier et afficher le nombre d'individus dans différentes catégories d'IMC (maigreur, poids normal, surpoids). Les résultats seront sauvegardés dans un fichier JSON."
   ]
  },
  {
   "cell_type": "code",
   "execution_count": null,
   "metadata": {},
   "outputs": [],
   "source": [
    "def analyze_imc(individus):\n",
    "    \"\"\"\n",
    "    Calcule des statistiques sur les IMC des individus.\n",
    "\n",
    "    Args:\n",
    "        individus (list): Liste de dictionnaires représentant les individus.\n",
    "\n",
    "    Returns:\n",
    "        dict: Dictionnaire contenant les statistiques sur les IMC.\n",
    "    \"\"\"\n",
    "    # TODO\n",
    "\n",
    "\n",
    "# Analyser les IMC et afficher les résultats\n",
    "# TODO\n",
    "\n",
    "# Sauvegarder les statistiques\n",
    "# TODO"
   ]
  },
  {
   "cell_type": "markdown",
   "metadata": {},
   "source": [
    "---\n",
    "\n",
    "## Tâche 7 : Sélection aléatoire\n",
    "\n",
    "Nous allons sélectionner aléatoirement 3 individus ayant un IMC inférieur à 18.5, afficher leurs informations, et les sauvegarder dans un fichier JSON."
   ]
  },
  {
   "cell_type": "code",
   "execution_count": null,
   "metadata": {},
   "outputs": [],
   "source": [
    "# Sélection aléatoire\n",
    "\n",
    "def select_random_sous_poids(individus, nb=3):\n",
    "    \"\"\"\n",
    "    Sélectionne aléatoirement un certain nombre d'individus ayant un IMC < 18.5.\n",
    "\n",
    "    Args:\n",
    "        individus (list): Liste de dictionnaires représentant les individus.\n",
    "        nb (int): Nombre d'individus à sélectionner (par défaut 3).\n",
    "\n",
    "    Returns:\n",
    "        list: Liste des individus sélectionnés.\n",
    "    \"\"\"\n",
    "    # TODO\n",
    "\n",
    "\n",
    "# Sélectionner et afficher les individus\n",
    "# TODO\n",
    "\n",
    "# Sauvegarder les individus sélectionnés\n",
    "# TODO"
   ]
  },
  {
   "cell_type": "markdown",
   "metadata": {},
   "source": [
    "---\n",
    "\n",
    "## Tâche 8 : Exportation en CSV\n",
    "\n",
    "Nous allons exporter les données complètes (avec tous les champs ajoutés) dans un fichier CSV."
   ]
  },
  {
   "cell_type": "code",
   "execution_count": null,
   "metadata": {},
   "outputs": [],
   "source": [
    "def export_to_csv(individus, filename):\n",
    "    \"\"\"\n",
    "    Exporte les données des individus dans un fichier CSV.\n",
    "\n",
    "    Args:\n",
    "        individus (list): Liste de dictionnaires représentant les individus.\n",
    "        filename (str): Nom du fichier CSV.\n",
    "    \"\"\"\n",
    "    # TODO\n",
    "\n",
    "\n",
    "# Exporter les données complètes\n",
    "export_to_csv(individus_with_pays, \"fichiers_projet/individus_complets.csv\")\n",
    "print(\"Données exportées dans 'individus_complets.csv'.\")"
   ]
  },
  {
   "cell_type": "markdown",
   "metadata": {},
   "source": [
    "---\n",
    "\n",
    "## Tâche 9 : Recherche par pays \n",
    "\n",
    "Nous allons rechercher automatiquement les individus pour une liste prédéfinie de pays (par exemple, \"France\", \"Portugal\", \"Inconnu\"). Les résultats seront affichés et sauvegardés dans des fichiers JSON nommés dynamiquement (ex. : `individus_par_pays_France.json`)."
   ]
  },
  {
   "cell_type": "code",
   "execution_count": null,
   "metadata": {},
   "outputs": [],
   "source": [
    "# Recherche par pays (sans input)\n",
    "\n",
    "def search_by_country(individus, pays_list):\n",
    "    \"\"\"\n",
    "    Recherche et affiche les individus nés dans une liste de pays donnée.\n",
    "\n",
    "    Args:\n",
    "        individus (list): Liste de dictionnaires représentant les individus.\n",
    "        pays_list (list): Liste des pays à rechercher.\n",
    "    \"\"\"\n",
    "    # TODO\n",
    "\n",
    "\n",
    "# Liste prédéfinie de pays à rechercher\n",
    "pays_a_rechercher = [...]\n",
    "\n",
    "# Lancer la recherche\n",
    "search_by_country(individus_with_pays, pays_a_rechercher)"
   ]
  },
  {
   "cell_type": "markdown",
   "metadata": {},
   "source": [
    "---\n",
    "\n",
    "## Tâche 10 : Nettoyage des fichiers temporaires\n",
    "\n",
    "Nous allons supprimer automatiquement tous les fichiers JSON temporaires (sauf `individus.json`) sans demander de confirmation. Nous afficherons la liste des fichiers supprimés pour vérification."
   ]
  },
  {
   "cell_type": "code",
   "execution_count": null,
   "metadata": {},
   "outputs": [],
   "source": [
    "# Nettoyage des fichiers temporaires\n",
    "\n",
    "def clean_temp_files():\n",
    "    \"\"\"\n",
    "    Supprime automatiquement tous les fichiers JSON temporaires sauf 'individus.json'.\n",
    "    \"\"\"\n",
    "    # TODO\n",
    "\n",
    "\n",
    "# Lancer le nettoyage\n",
    "clean_temp_files()"
   ]
  }
 ],
 "metadata": {
  "language_info": {
   "name": "python"
  }
 },
 "nbformat": 4,
 "nbformat_minor": 2
}
