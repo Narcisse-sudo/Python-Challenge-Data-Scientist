{
 "cells": [
  {
   "cell_type": "markdown",
   "metadata": {},
   "source": [
    "# Ensembles (Sets) en Python\n",
    "\n",
    "Dans cette section, nous allons explorer les **ensembles** (sets), une structure de données en Python qui représente une collection non ordonnée et sans doublons. Nous couvrirons leurs propriétés et les opérations comme l’union et l’intersection, avec des explications détaillées, des exemples pratiques, des tests et des erreurs intentionnelles pour illustrer les concepts.\n",
    "\n",
    "## Qu’est-ce qu’un Ensemble ?\n",
    "Un **ensemble** est une structure de données :\n",
    "- non-ordonnée\n",
    "- d’éléments uniques\n",
    "- Dont les éléments sont Hashables (ils peuvent passer a travers une fonction de ***Hashing*** qui retourne un ***hash***, c'est a dire un code unique). N'importe quel nombre ou mot comme le mot `pomme` sont hashable, ainsi n'importe quel tuple `(1, 2, 3)`. en Revanche une liste ne l'est pas\n",
    "\n",
    "\n",
    "\n",
    "## Pourquoi Utiliser les Ensembles ?\n",
    "\n",
    "Les ensembles (`set`) sont une structure spécialisée pour gérer des éléments uniques. Voici leurs cas d’usage et avantages :\n",
    "\n",
    "### Cas d’Usage\n",
    "- **Élimination des doublons** : Supprimer les éléments répétés d’une liste rapidement.\n",
    "- **Opérations mathématiques** : Union, intersection, différence entre collections.\n",
    "- **complexité O(1)** : Comme leurs éléments sont hashables, il est tres rapide d'ajouter, d'enlever, ou de trouver un élément dans un set.\n",
    "\n",
    "\n",
    "\n",
    "### Par Rapport à d’Autres Structures\n",
    "- **Vs Listes** : Les listes conservent l’ordre et les doublons mais sont lentes pour les tests d’appartenance (O(n)), tandis que les sets sont rapides (O(1)) et uniques.\n",
    "- **Vs Dictionnaires** : Les dictionnaires associent des valeurs à des clés, alors que les sets ne stockent que des éléments sans valeurs associées.\n",
    "- **Vs Tuples** : Les tuples sont immuables et ordonnés mais ne gèrent pas l’unicité ni les opérations d’ensemble.\n",
    "\n",
    "### Exemple Pratique\n",
    "Un set est parfait pour trouver les éléments communs entre deux listes (ex. : amis en commun), où une liste nécessiterait des boucles imbriquées coûteuses. Ou encore pour supprimer les doublons d’une liste en une seule ligne.\n",
    "\n",
    "Commençons par les bases !"
   ]
  },
  {
   "cell_type": "markdown",
   "metadata": {},
   "source": [
    "## Création et Propriétés des Ensembles\n",
    "\n",
    "Les ensembles sont créés avec `{}` ou `set()`. Leurs principales propriétés sont :\n",
    "1. **Unicité** : Pas de doublons.\n",
    "2. **Non ordonnés** : L’ordre des éléments n’est pas garanti.\n",
    "3. **Éléments immuables** : Pas de listes ou dictionnaires comme éléments.\n",
    "\n",
    "### Syntaxe\n",
    "```python\n",
    "mon_set = {element1, element2}\n",
    "# ou\n",
    "mon_set = set(iterable)\n",
    "```"
   ]
  },
  {
   "cell_type": "code",
   "execution_count": 30,
   "metadata": {},
   "outputs": [
    {
     "name": "stdout",
     "output_type": "stream",
     "text": [
      "Nombres : {2, 3, 4}\n"
     ]
    }
   ],
   "source": [
    "nombres = {2, 3, 4, 3}  # Les doublons sont ignorés\n",
    "print(\"Nombres :\", nombres) "
   ]
  },
  {
   "cell_type": "code",
   "execution_count": 31,
   "metadata": {},
   "outputs": [
    {
     "name": "stdout",
     "output_type": "stream",
     "text": [
      "Ensemble vide : <class 'set'>\n"
     ]
    }
   ],
   "source": [
    "set_vide = set()\n",
    "print(\"Ensemble vide :\", type(set_vide))"
   ]
  },
  {
   "cell_type": "code",
   "execution_count": 32,
   "metadata": {},
   "outputs": [
    {
     "ename": "TypeError",
     "evalue": "unhashable type: 'list'",
     "output_type": "error",
     "traceback": [
      "\u001b[31m---------------------------------------------------------------------------\u001b[39m",
      "\u001b[31mTypeError\u001b[39m                                 Traceback (most recent call last)",
      "\u001b[36mCell\u001b[39m\u001b[36m \u001b[39m\u001b[32mIn[32]\u001b[39m\u001b[32m, line 1\u001b[39m\n\u001b[32m----> \u001b[39m\u001b[32m1\u001b[39m mauvais_set = {\u001b[32m1\u001b[39m, [\u001b[32m2\u001b[39m, \u001b[32m3\u001b[39m]}  \u001b[38;5;66;03m# Erreur : TypeError: unhashable type: 'list'\u001b[39;00m\n",
      "\u001b[31mTypeError\u001b[39m: unhashable type: 'list'"
     ]
    }
   ],
   "source": [
    "mauvais_set = {1, [2, 3]}  # Erreur : TypeError: unhashable type: 'list'"
   ]
  },
  {
   "cell_type": "code",
   "execution_count": null,
   "metadata": {},
   "outputs": [],
   "source": [
    "# Ensemble à partir d’une liste\n",
    "fruits = set([\"pomme\", \"banane\", \"pomme\", \"orange\"])\n",
    "print(\"Fruits :\", fruits)"
   ]
  },
  {
   "cell_type": "code",
   "execution_count": null,
   "metadata": {},
   "outputs": [],
   "source": [
    "# Solution : Utiliser des tuples\n",
    "set_valide = {1, (2, 3)}\n",
    "print(\"Set valide :\", set_valide)"
   ]
  },
  {
   "cell_type": "markdown",
   "metadata": {},
   "source": [
    "## Manipulation des Ensembles\n",
    "\n",
    "Les ensembles permettent d’ajouter ou supprimer des éléments avec des méthodes.\n",
    "\n",
    "### Méthodes de Base\n",
    "- `add(x)` : Ajoute `x` à l’ensemble.\n",
    "- `remove(x)` : Supprime `x` (erreur si absent).\n",
    "- `discard(x)` : Supprime `x` (pas d’erreur si absent).\n",
    "- `pop()` : Supprime et retourne un élément aléatoire.\n",
    "\n",
    "### Exemple\n",
    "Modifions un ensemble."
   ]
  },
  {
   "cell_type": "code",
   "execution_count": null,
   "metadata": {},
   "outputs": [],
   "source": [
    "couleurs = {\"rouge\", \"bleu\", \"vert\", \"orange\"}"
   ]
  },
  {
   "cell_type": "code",
   "execution_count": null,
   "metadata": {},
   "outputs": [
    {
     "name": "stdout",
     "output_type": "stream",
     "text": [
      "Après add : {'rouge', 'bleu', 'violet'}\n"
     ]
    }
   ],
   "source": [
    "# Ajouter avec add\n",
    "couleurs.add(\"violet\")\n",
    "print(\"Après add :\", couleurs)"
   ]
  },
  {
   "cell_type": "code",
   "execution_count": null,
   "metadata": {},
   "outputs": [
    {
     "name": "stdout",
     "output_type": "stream",
     "text": [
      "Après remove : {'rouge', 'violet'}\n"
     ]
    }
   ],
   "source": [
    "# Supprimer avec remove\n",
    "couleurs.remove(\"bleu\")\n",
    "print(\"Après remove :\", couleurs)"
   ]
  },
  {
   "cell_type": "code",
   "execution_count": null,
   "metadata": {},
   "outputs": [
    {
     "ename": "KeyError",
     "evalue": "'jaune'",
     "output_type": "error",
     "traceback": [
      "\u001b[31m---------------------------------------------------------------------------\u001b[39m",
      "\u001b[31mKeyError\u001b[39m                                  Traceback (most recent call last)",
      "\u001b[36mCell\u001b[39m\u001b[36m \u001b[39m\u001b[32mIn[13]\u001b[39m\u001b[32m, line 2\u001b[39m\n\u001b[32m      1\u001b[39m \u001b[38;5;66;03m# Erreur si élément absent avec remove\u001b[39;00m\n\u001b[32m----> \u001b[39m\u001b[32m2\u001b[39m \u001b[43mcouleurs\u001b[49m\u001b[43m.\u001b[49m\u001b[43mremove\u001b[49m\u001b[43m(\u001b[49m\u001b[33;43m\"\u001b[39;49m\u001b[33;43mjaune\u001b[39;49m\u001b[33;43m\"\u001b[39;49m\u001b[43m)\u001b[49m \n",
      "\u001b[31mKeyError\u001b[39m: 'jaune'"
     ]
    }
   ],
   "source": [
    "# Erreur si élément absent avec remove\n",
    "couleurs.remove(\"jaune\") "
   ]
  },
  {
   "cell_type": "code",
   "execution_count": null,
   "metadata": {},
   "outputs": [
    {
     "name": "stdout",
     "output_type": "stream",
     "text": [
      "Après discard (absent) : {'violet'}\n"
     ]
    }
   ],
   "source": [
    "# Solution : Utiliser discard\n",
    "couleurs.discard(\"rouge\")  # Pas d’erreur\n",
    "print(\"Après discard (absent) :\", couleurs) "
   ]
  },
  {
   "cell_type": "code",
   "execution_count": null,
   "metadata": {},
   "outputs": [
    {
     "name": "stdout",
     "output_type": "stream",
     "text": [
      "Couleur supprimée : bleu\n",
      "Après pop : {'rouge', 'orange', 'vert'}\n"
     ]
    }
   ],
   "source": [
    "# Supprimer avec pop (aléatoire)\n",
    "couleur_supprimee = couleurs.pop()\n",
    "print(\"Couleur supprimée :\", couleur_supprimee)\n",
    "print(\"Après pop :\", couleurs) "
   ]
  },
  {
   "cell_type": "markdown",
   "metadata": {},
   "source": [
    "## Opérations sur les Ensembles\n",
    "\n",
    "Les ensembles supportent des opérations mathématiques :\n",
    "- **Union** (`|` ou `union()`) : Tous les éléments des deux ensembles.\n",
    "- **Intersection** (`&` ou `intersection()`) : Éléments communs.\n",
    "- **Différence** (`-` ou `difference()`) : Éléments dans un ensemble mais pas l’autre.\n",
    "- **Différence symétrique** (`^` ou `symmetric_difference()`) : Éléments dans un seul des deux ensembles.\n",
    "\n",
    "### Exemple\n",
    "Effectuons ces opérations."
   ]
  },
  {
   "cell_type": "code",
   "execution_count": null,
   "metadata": {},
   "outputs": [],
   "source": [
    "Alice = {\"Paris\", \"Londres\", \"Madrid\", \"Geneve\", \"Marseille\", \"Berlin\"}\n",
    "Pierre = {\"Londres\", \"Strasbourg\", \"Lyon\", \"Paris\", \"Marseille\", \"Rome\"}"
   ]
  },
  {
   "cell_type": "code",
   "execution_count": null,
   "metadata": {},
   "outputs": [
    {
     "name": "stdout",
     "output_type": "stream",
     "text": [
      "Union (|): {'Strasbourg', 'Berlin', 'Lyon', 'Geneve', 'Londres', 'Madrid', 'Marseille', 'Rome', 'Paris'}\n"
     ]
    }
   ],
   "source": [
    "# Union\n",
    "union = Alice | Pierre\n",
    "print(\"Union (|):\", union)"
   ]
  },
  {
   "cell_type": "code",
   "execution_count": null,
   "metadata": {},
   "outputs": [
    {
     "name": "stdout",
     "output_type": "stream",
     "text": [
      "{'Strasbourg', 'Berlin', 'Lyon', 'Geneve', 'Londres', 'Madrid', 'Marseille', 'Rome', 'Paris'}\n"
     ]
    }
   ],
   "source": [
    "union_method = Alice.union(Pierre)\n",
    "print(union_method) "
   ]
  },
  {
   "cell_type": "code",
   "execution_count": null,
   "metadata": {},
   "outputs": [
    {
     "name": "stdout",
     "output_type": "stream",
     "text": [
      "Intersection (&) : {'Londres', 'Marseille', 'Paris'}\n"
     ]
    }
   ],
   "source": [
    "# Intersection\n",
    "intersection = Alice & Pierre\n",
    "print(\"Intersection (&) :\", intersection)"
   ]
  },
  {
   "cell_type": "code",
   "execution_count": null,
   "metadata": {},
   "outputs": [
    {
     "name": "stdout",
     "output_type": "stream",
     "text": [
      "{'Londres', 'Marseille', 'Paris'}\n"
     ]
    }
   ],
   "source": [
    "intersection_method = Alice.intersection(Pierre)\n",
    "print(intersection_method)"
   ]
  },
  {
   "cell_type": "code",
   "execution_count": null,
   "metadata": {},
   "outputs": [
    {
     "name": "stdout",
     "output_type": "stream",
     "text": [
      "Différence (-) : {'Strasbourg', 'Lyon', 'Rome'}\n"
     ]
    }
   ],
   "source": [
    "# Différence\n",
    "difference = Pierre - Alice\n",
    "print(\"Différence (-) :\", difference) "
   ]
  },
  {
   "cell_type": "code",
   "execution_count": null,
   "metadata": {},
   "outputs": [
    {
     "name": "stdout",
     "output_type": "stream",
     "text": [
      "{'Geneve', 'Berlin', 'Madrid'}\n"
     ]
    }
   ],
   "source": [
    "difference_method = Alice.difference(Pierre)\n",
    "print(difference_method)"
   ]
  },
  {
   "cell_type": "code",
   "execution_count": null,
   "metadata": {},
   "outputs": [
    {
     "name": "stdout",
     "output_type": "stream",
     "text": [
      "Différence symétrique (^) : {'Strasbourg', 'Berlin', 'Lyon', 'Geneve', 'Madrid', 'Rome'}\n"
     ]
    }
   ],
   "source": [
    "# Différence symétrique\n",
    "sym_diff = Alice ^ Pierre\n",
    "print(\"Différence symétrique (^) :\", sym_diff) "
   ]
  },
  {
   "cell_type": "code",
   "execution_count": null,
   "metadata": {},
   "outputs": [
    {
     "name": "stdout",
     "output_type": "stream",
     "text": [
      "{'Strasbourg', 'Berlin', 'Lyon', 'Geneve', 'Madrid', 'Rome'}\n"
     ]
    }
   ],
   "source": [
    "sym_diff_method = Alice.symmetric_difference(Pierre)\n",
    "print(sym_diff_method)"
   ]
  },
  {
   "cell_type": "markdown",
   "metadata": {},
   "source": [
    "## Itérations sur les Ensembles\n",
    "\n",
    "Les ensembles sont itérables avec une boucle `for`, mais l’ordre n’est pas garanti.\n",
    "\n",
    "### Exemple\n",
    "Parcourons un ensemble."
   ]
  },
  {
   "cell_type": "code",
   "execution_count": null,
   "metadata": {},
   "outputs": [
    {
     "name": "stdout",
     "output_type": "stream",
     "text": [
      "Jour : mardi\n",
      "Jour : mercredi\n",
      "Jour : lundi\n"
     ]
    }
   ],
   "source": [
    "jours = {\"lundi\", \"mardi\", \"mercredi\"}\n",
    "\n",
    "for jour in jours:\n",
    "    print(f\"Jour : {jour}\")"
   ]
  },
  {
   "cell_type": "markdown",
   "metadata": {},
   "source": [
    "## Exercices\n",
    "\n",
    "voici 2 textes, donner la ***liste*** des mots qu'ils ont en commun (en ne gardant que les mots qui font plus de 3 lettres)"
   ]
  },
  {
   "cell_type": "code",
   "execution_count": 33,
   "metadata": {},
   "outputs": [],
   "source": [
    "text_1 = \"Linear regression analysis is used to predict the value of a variable based on the value of another variable. The variable you want to predict is called the dependent variable. The variable you are using to predict the other variable's value is called the independent variable. This form of analysis estimates the coefficients of the linear equation, involving one or more independent variables that best predict the value of the dependent variable. Linear regression fits a straight line or surface that minimizes the discrepancies between predicted and actual output values. There are simple linear regression calculators that use a “least squares” method to discover the best-fit line for a set of paired data. You then estimate the value of X (dependent variable) from Y (independent variable).\"\n",
    "\n",
    "text_2 = \"Logistic regression is a supervised machine learning algorithm widely used for binary classification tasks, such as identifying whether an email is spam or not and diagnosing diseases by assessing the presence or absence of specific conditions based on patient test results. This approach utilizes the logistic (or sigmoid) function to transform a linear combination of input features into a probability value ranging between 0 and 1. This probability indicates the likelihood that a given input corresponds to one of two predefined categories. The essential mechanism of logistic regression is grounded in the logistic function's ability to model the probability of binary outcomes accurately.\""
   ]
  },
  {
   "cell_type": "code",
   "execution_count": 37,
   "metadata": {},
   "outputs": [
    {
     "data": {
      "text/plain": [
       "['between', 'used', 'that', 'based', 'linear', 'This', 'value', 'regression']"
      ]
     },
     "execution_count": 37,
     "metadata": {},
     "output_type": "execute_result"
    }
   ],
   "source": [
    "set1 = set(text_1.split())\n",
    "set2 = set(text_2.split())\n",
    "set3 = set1 & set2\n",
    "[mot for mot in set3 if len(mot) > 3]"
   ]
  },
  {
   "cell_type": "markdown",
   "metadata": {},
   "source": [
    "## Correction"
   ]
  },
  {
   "cell_type": "code",
   "execution_count": 38,
   "metadata": {},
   "outputs": [
    {
     "name": "stdout",
     "output_type": "stream",
     "text": [
      "{'between', 'used', 'is', 'a', 'The', 'that', 'one', 'for', 'to', 'based', 'linear', 'This', 'or', 'the', 'of', 'value', 'on', 'regression', 'and'}\n"
     ]
    }
   ],
   "source": [
    "mots_1 = text_1.split()\n",
    "set_mots_1 = set(mots_1)\n",
    "\n",
    "mots_2 = text_2.split()\n",
    "set_mots_2 = set(mots_2)\n",
    "\n",
    "\n",
    "print(set_mots_1 & set_mots_2) # il s'agit pour le moment d'un set"
   ]
  },
  {
   "cell_type": "code",
   "execution_count": 39,
   "metadata": {},
   "outputs": [
    {
     "name": "stdout",
     "output_type": "stream",
     "text": [
      "['between', 'used', 'that', 'based', 'linear', 'This', 'value', 'regression']\n"
     ]
    }
   ],
   "source": [
    "liste_mots_communs = list(set_mots_1 & set_mots_2) # le résultat final doit etre une liste, donc nous convertissons le set en list\n",
    "\n",
    "\n",
    "résultat = [mot for mot in liste_mots_communs if len(mot) > 3] # on filtre les mots en commun de plus de 3 lettres.\n",
    "\n",
    "\n",
    "print(résultat)"
   ]
  },
  {
   "cell_type": "markdown",
   "metadata": {},
   "source": [
    "## Conclusion\n",
    "\n",
    "Cette section vous a permis de maîtriser :\n",
    "- La **création** et les **propriétés** des ensembles (unicité, non ordonnés).\n",
    "- La **manipulation** avec `add`, `remove`, `discard`, `pop`.\n",
    "- Les **opérations** comme l’union, l’intersection, la différence.\n",
    "- L’**itération** sur les éléments.\n",
    "\n",
    "Les ensembles sont idéaux pour éliminer les doublons ou analyser des relations entre collections. Expérimentez avec les exemples pour approfondir vos compétences !"
   ]
  }
 ],
 "metadata": {
  "kernelspec": {
   "display_name": "3.13.3",
   "language": "python",
   "name": "python3"
  },
  "language_info": {
   "codemirror_mode": {
    "name": "ipython",
    "version": 3
   },
   "file_extension": ".py",
   "mimetype": "text/x-python",
   "name": "python",
   "nbconvert_exporter": "python",
   "pygments_lexer": "ipython3",
   "version": "3.13.3"
  }
 },
 "nbformat": 4,
 "nbformat_minor": 2
}
