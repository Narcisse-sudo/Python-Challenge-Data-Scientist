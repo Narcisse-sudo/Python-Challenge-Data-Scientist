{
 "cells": [
  {
   "cell_type": "markdown",
   "metadata": {},
   "source": [
    "# Fonctions en Python\n",
    "\n",
    "Dans cette section, nous allons explorer les **fonctions**, un concept fondamental en programmation qui permet de structurer et réutiliser du code. Nous couvrirons la définition, l’appel, le passage d’arguments (positionnels, optionnels, `*args`, `**kwargs`) et le retour de valeurs, avec des explications détaillées, des exemples pratiques, des tests et des erreurs intentionnelles pour illustrer les concepts.\n",
    "\n",
    "## Qu’est-ce qu’une Fonction ?\n",
    "Une fonction est un bloc de code nommé qui exécute une tâche spécifique. Elle peut :\n",
    "- Prendre des **arguments** (entrées).\n",
    "- Effectuer des opérations.\n",
    "- Retourner une **valeur** (sortie).\n",
    "\n",
    "En Python, les fonctions sont définies avec le mot-clé `def`. Commençons par les bases !"
   ]
  },
  {
   "cell_type": "markdown",
   "metadata": {},
   "source": [
    "## Définition et Appel d’une Fonction\n",
    "\n",
    "### Définition\n",
    "Une fonction est définie avec :\n",
    "- `def` suivi du nom de la fonction.\n",
    "- Des parenthèses `()` contenant les paramètres (optionnels).\n",
    "- Un bloc de code indenté.\n",
    "\n",
    "### Appel\n",
    "On appelle une fonction en utilisant son nom suivi de parenthèses, avec ou sans arguments.\n",
    "\n",
    "### Exemple Simple\n",
    "Créons une fonction qui dit bonjour."
   ]
  },
  {
   "cell_type": "code",
   "execution_count": 1,
   "metadata": {},
   "outputs": [],
   "source": [
    "# Définition d’une fonction simple\n",
    "def dire_bonjour():\n",
    "    print(\"Bonjour tout le monde !\")"
   ]
  },
  {
   "cell_type": "code",
   "execution_count": 2,
   "metadata": {},
   "outputs": [
    {
     "name": "stdout",
     "output_type": "stream",
     "text": [
      "Bonjour tout le monde !\n",
      "Bonjour tout le monde !\n",
      "Bonjour tout le monde !\n",
      "Bonjour tout le monde !\n",
      "Bonjour tout le monde !\n"
     ]
    }
   ],
   "source": [
    "# Appel de la fonction\n",
    "dire_bonjour()\n",
    "dire_bonjour()\n",
    "dire_bonjour()\n",
    "dire_bonjour()\n",
    "dire_bonjour()"
   ]
  },
  {
   "cell_type": "code",
   "execution_count": 3,
   "metadata": {},
   "outputs": [
    {
     "name": "stdout",
     "output_type": "stream",
     "text": [
      "Bonjour tout le monde !\n",
      "Bonjour tout le monde !\n",
      "Bonjour à tous !\n",
      "Bonjour à tous !\n",
      "Bonjour à tous !\n"
     ]
    }
   ],
   "source": [
    "# sans fonction :\n",
    "print(\"Bonjour tout le monde !\")\n",
    "print(\"Bonjour tout le monde !\")\n",
    "print(\"Bonjour à tous !\")\n",
    "print(\"Bonjour à tous !\")\n",
    "print(\"Bonjour à tous !\")"
   ]
  },
  {
   "cell_type": "markdown",
   "metadata": {},
   "source": [
    "## Passage d’Arguments\n",
    "\n",
    "Les fonctions peuvent recevoir des **arguments** pour travailler avec des données spécifiques. Les arguments sont passés dans les parenthèses lors de l’appel.\n",
    "\n",
    "### Arguments Positionnels\n",
    "Les arguments positionnels sont passés dans l’ordre où ils sont définis."
   ]
  },
  {
   "cell_type": "code",
   "execution_count": 4,
   "metadata": {},
   "outputs": [],
   "source": [
    "# Définition d’une fonction simple\n",
    "def dire_bonjour(prenom, ville, age=20):\n",
    "    print(f\"Bonjour {prenom}\")\n",
    "    print(f\"Tu as {age} ans\")\n",
    "    print(f\"Tu vis a {ville}\")"
   ]
  },
  {
   "cell_type": "code",
   "execution_count": 5,
   "metadata": {},
   "outputs": [
    {
     "name": "stdout",
     "output_type": "stream",
     "text": [
      "Bonjour Guillaume\n",
      "Tu as 20 ans\n",
      "Tu vis a Londres\n"
     ]
    }
   ],
   "source": [
    "dire_bonjour(ville=\"Londres\", prenom=\"Guillaume\")"
   ]
  },
  {
   "cell_type": "markdown",
   "metadata": {},
   "source": [
    "## Retour de Valeur\n",
    "\n",
    "Une fonction peut renvoyer une valeur avec le mot-clé `return`. Sans `return`, elle renvoie implicitement `None`.\n",
    "\n",
    "### Exemple avec Retour\n",
    "Calculons une somme."
   ]
  },
  {
   "cell_type": "code",
   "execution_count": 6,
   "metadata": {},
   "outputs": [],
   "source": [
    "# Fonction qui retourne une valeur\n",
    "def addition(a, b):\n",
    "    resultat = a + b\n",
    "    return resultat"
   ]
  },
  {
   "cell_type": "code",
   "execution_count": 7,
   "metadata": {},
   "outputs": [
    {
     "data": {
      "text/plain": [
       "7"
      ]
     },
     "execution_count": 7,
     "metadata": {},
     "output_type": "execute_result"
    }
   ],
   "source": [
    "addition(3, 4)"
   ]
  },
  {
   "cell_type": "code",
   "execution_count": 8,
   "metadata": {},
   "outputs": [],
   "source": [
    "somme = addition(3, 4) # il est pertinent de capturer le résultat dans une variable !"
   ]
  },
  {
   "cell_type": "code",
   "execution_count": 9,
   "metadata": {},
   "outputs": [
    {
     "data": {
      "text/plain": [
       "7"
      ]
     },
     "execution_count": 9,
     "metadata": {},
     "output_type": "execute_result"
    }
   ],
   "source": [
    "somme"
   ]
  },
  {
   "cell_type": "code",
   "execution_count": 10,
   "metadata": {},
   "outputs": [],
   "source": [
    "# Fonction qui retourne plusieurs valeurs\n",
    "def addition_et_produit(a, b):\n",
    "    somme = a + b\n",
    "    produit = a * b\n",
    "    return (somme, produit)"
   ]
  },
  {
   "cell_type": "code",
   "execution_count": 11,
   "metadata": {},
   "outputs": [
    {
     "data": {
      "text/plain": [
       "(7, 12)"
      ]
     },
     "execution_count": 11,
     "metadata": {},
     "output_type": "execute_result"
    }
   ],
   "source": [
    "addition_et_produit(3, 4)"
   ]
  },
  {
   "cell_type": "markdown",
   "metadata": {},
   "source": [
    "## Arguments Optionnels\n",
    "\n",
    "Les arguments peuvent avoir des **valeurs par défaut**, rendant leur passage facultatif. Ces arguments doivent être placés après les arguments positionnels obligatoires.\n",
    "\n",
    "### Exemple\n",
    "Une fonction avec un message personnalisable par défaut."
   ]
  },
  {
   "cell_type": "code",
   "execution_count": 12,
   "metadata": {},
   "outputs": [],
   "source": [
    "# Fonction avec argument optionnel\n",
    "def bienvenue(nom, message=\"Bienvenue\"):\n",
    "    print(f\"{message}, {nom} !\")"
   ]
  },
  {
   "cell_type": "code",
   "execution_count": 13,
   "metadata": {},
   "outputs": [
    {
     "name": "stdout",
     "output_type": "stream",
     "text": [
      "Bienvenue, Alice !\n"
     ]
    }
   ],
   "source": [
    "bienvenue(\"Alice\")         "
   ]
  },
  {
   "cell_type": "code",
   "execution_count": 14,
   "metadata": {},
   "outputs": [
    {
     "name": "stdout",
     "output_type": "stream",
     "text": [
      "Salut, Bob !\n"
     ]
    }
   ],
   "source": [
    "bienvenue(\"Bob\", \"Salut\")   "
   ]
  },
  {
   "cell_type": "code",
   "execution_count": 15,
   "metadata": {},
   "outputs": [
    {
     "ename": "TypeError",
     "evalue": "bienvenue() missing 1 required positional argument: 'nom'",
     "output_type": "error",
     "traceback": [
      "\u001b[31m---------------------------------------------------------------------------\u001b[39m",
      "\u001b[31mTypeError\u001b[39m                                 Traceback (most recent call last)",
      "\u001b[36mCell\u001b[39m\u001b[36m \u001b[39m\u001b[32mIn[15]\u001b[39m\u001b[32m, line 2\u001b[39m\n\u001b[32m      1\u001b[39m \u001b[38;5;66;03m# Erreur si argument obligatoire manquant\u001b[39;00m\n\u001b[32m----> \u001b[39m\u001b[32m2\u001b[39m \u001b[43mbienvenue\u001b[49m\u001b[43m(\u001b[49m\u001b[43m)\u001b[49m  \n",
      "\u001b[31mTypeError\u001b[39m: bienvenue() missing 1 required positional argument: 'nom'"
     ]
    }
   ],
   "source": [
    "# Erreur si argument obligatoire manquant\n",
    "bienvenue()  "
   ]
  },
  {
   "cell_type": "markdown",
   "metadata": {},
   "source": [
    "## Arguments Nommés\n",
    "\n",
    "On peut spécifier les arguments par leur nom lors de l’appel, ce qui permet de les passer dans n’importe quel ordre."
   ]
  },
  {
   "cell_type": "code",
   "execution_count": null,
   "metadata": {},
   "outputs": [],
   "source": [
    "# Fonction avec plusieurs arguments\n",
    "def presenter(nom, age, ville):\n",
    "    print(f\"{nom} a {age} ans et vit à {ville}.\")"
   ]
  },
  {
   "cell_type": "code",
   "execution_count": null,
   "metadata": {},
   "outputs": [
    {
     "name": "stdout",
     "output_type": "stream",
     "text": [
      "Alice a 25 ans et vit à Paris.\n"
     ]
    }
   ],
   "source": [
    "# Appel classique (positionnel)\n",
    "presenter(\"Alice\", 25, \"Paris\")  "
   ]
  },
  {
   "cell_type": "code",
   "execution_count": null,
   "metadata": {},
   "outputs": [
    {
     "name": "stdout",
     "output_type": "stream",
     "text": [
      "Bob a 30 ans et vit à Lyon.\n"
     ]
    }
   ],
   "source": [
    "# Appel avec arguments nommés\n",
    "presenter(age=30, nom=\"Bob\", ville=\"Lyon\")  "
   ]
  },
  {
   "cell_type": "code",
   "execution_count": null,
   "metadata": {},
   "outputs": [
    {
     "name": "stdout",
     "output_type": "stream",
     "text": [
      "Charlie a 28 ans et vit à Berlin.\n"
     ]
    }
   ],
   "source": [
    "# Mixte : positionnels + nommés (positionnels d’abord)\n",
    "presenter(\"Charlie\", ville=\"Berlin\", age=28)  "
   ]
  },
  {
   "cell_type": "markdown",
   "metadata": {},
   "source": [
    "## Arguments Variables avec `*args`\n",
    "\n",
    "L’opérateur `*args` permet de passer un nombre variable d’arguments positionnels. Ils sont reçus comme un **tuple** dans la fonction.\n",
    "\n",
    "### Exemple\n",
    "Additionnons un nombre quelconque de valeurs."
   ]
  },
  {
   "cell_type": "code",
   "execution_count": null,
   "metadata": {},
   "outputs": [],
   "source": [
    "# Fonction avec *args\n",
    "def somme_tout(*args):\n",
    "    total = sum(args)  # sum() additionne les éléments du tuple\n",
    "    print(\"Arguments reçus :\", args)\n",
    "    return total"
   ]
  },
  {
   "cell_type": "code",
   "execution_count": null,
   "metadata": {},
   "outputs": [
    {
     "name": "stdout",
     "output_type": "stream",
     "text": [
      "Arguments reçus : (1, 2, 3, 5, -10)\n",
      "Somme de 1, 2, 3 : 1\n"
     ]
    }
   ],
   "source": [
    "# Appels avec différents nombres d’arguments\n",
    "print(\"Somme de 1, 2, 3 :\", somme_tout(1, 2, 3, 5, -10))   "
   ]
  },
  {
   "cell_type": "code",
   "execution_count": null,
   "metadata": {},
   "outputs": [
    {
     "name": "stdout",
     "output_type": "stream",
     "text": [
      "Arguments reçus : (4, 5)\n",
      "Somme de 4, 5 : 9\n"
     ]
    }
   ],
   "source": [
    "print(\"Somme de 4, 5 :\", somme_tout(4, 5))    "
   ]
  },
  {
   "cell_type": "code",
   "execution_count": null,
   "metadata": {},
   "outputs": [
    {
     "name": "stdout",
     "output_type": "stream",
     "text": [
      "Arguments reçus : (10,)\n",
      "Somme de 10 : 10\n"
     ]
    }
   ],
   "source": [
    "print(\"Somme de 10 :\", somme_tout(10))"
   ]
  },
  {
   "cell_type": "code",
   "execution_count": null,
   "metadata": {},
   "outputs": [
    {
     "name": "stdout",
     "output_type": "stream",
     "text": [
      "Arguments reçus : ()\n",
      "Somme sans arguments : 0\n"
     ]
    }
   ],
   "source": [
    "print(\"Somme sans arguments :\", somme_tout())  "
   ]
  },
  {
   "cell_type": "code",
   "execution_count": null,
   "metadata": {},
   "outputs": [],
   "source": [
    "# Combinaison avec argument fixe\n",
    "def description(nom, *hobbies):\n",
    "    print(f\"{nom} aime : {', '.join(hobbies)}\")"
   ]
  },
  {
   "cell_type": "code",
   "execution_count": null,
   "metadata": {},
   "outputs": [
    {
     "name": "stdout",
     "output_type": "stream",
     "text": [
      "Alice aime : lire, coder, voyager\n"
     ]
    }
   ],
   "source": [
    "description(\"Alice\", \"lire\", \"coder\", \"voyager\")  "
   ]
  },
  {
   "cell_type": "markdown",
   "metadata": {},
   "source": [
    "## Arguments Variables avec `**kwargs`\n",
    "\n",
    "L’opérateur `**kwargs` permet de passer un nombre variable d’arguments nommés. Ils sont reçus comme un **dictionnaire** dans la fonction.\n",
    "\n",
    "### Exemple\n",
    "Créons un profil avec des attributs variables."
   ]
  },
  {
   "cell_type": "code",
   "execution_count": null,
   "metadata": {},
   "outputs": [],
   "source": [
    "# Fonction avec **kwargs\n",
    "def creer_profil(nom, **kwargs):\n",
    "    print(f\"Profil de {nom} :\")\n",
    "    for cle, valeur in kwargs.items():\n",
    "        print(f\"{cle} : {valeur}\")"
   ]
  },
  {
   "cell_type": "code",
   "execution_count": null,
   "metadata": {},
   "outputs": [
    {
     "name": "stdout",
     "output_type": "stream",
     "text": [
      "Profil de Alice :\n",
      "age : 25\n",
      "ville : Paris\n"
     ]
    }
   ],
   "source": [
    "# Appels avec différents arguments nommés\n",
    "creer_profil(\"Alice\", age=25, ville=\"Paris\")"
   ]
  },
  {
   "cell_type": "code",
   "execution_count": null,
   "metadata": {},
   "outputs": [
    {
     "name": "stdout",
     "output_type": "stream",
     "text": [
      "Profil de Bob :\n",
      "profession : ingénieur\n",
      "hobby : jeux vidéo\n",
      "age : 35\n",
      "ville : Toulouse\n"
     ]
    }
   ],
   "source": [
    "creer_profil(\"Bob\", profession=\"ingénieur\", hobby=\"jeux vidéo\", age=35, ville=\"Toulouse\")"
   ]
  },
  {
   "cell_type": "markdown",
   "metadata": {},
   "source": [
    "## Combinaison de Tout\n",
    "\n",
    "On peut combiner arguments positionnels, optionnels, `*args` et `**kwargs`.\n",
    "\n",
    "Attention ! Il faut alors respecter un certain ordre :\n",
    "1. Arguments positionnels.\n",
    "2. Arguments optionnels (avec défaut).\n",
    "3. `*args`.\n",
    "4. `**kwargs`."
   ]
  },
  {
   "cell_type": "code",
   "execution_count": null,
   "metadata": {},
   "outputs": [],
   "source": [
    "# Fonction combinant tout\n",
    "def fonction_complete(prenom, nom, age=18, *hobbies, **details):\n",
    "    print(f\"Prénom : {prenom}\")\n",
    "    print(f\"Nom : {nom}\")\n",
    "    print(f\"Âge : {age}\")\n",
    "    if hobbies:\n",
    "        print(f\"Hobbies : {', '.join(hobbies)}\")\n",
    "    if details:\n",
    "        print(\"Détails supplémentaires :\")\n",
    "        for cle, valeur in details.items():\n",
    "            print(f\"  {cle} : {valeur}\")\n",
    "\n"
   ]
  },
  {
   "cell_type": "code",
   "execution_count": null,
   "metadata": {},
   "outputs": [
    {
     "name": "stdout",
     "output_type": "stream",
     "text": [
      "Prénom : Alice\n",
      "Nom : Pascal\n",
      "Âge : 18\n"
     ]
    }
   ],
   "source": [
    "fonction_complete(prenom=\"Alice\", nom=\"Pascal\")  # Minimum requis"
   ]
  },
  {
   "cell_type": "code",
   "execution_count": null,
   "metadata": {},
   "outputs": [
    {
     "name": "stdout",
     "output_type": "stream",
     "text": [
      "Prénom : Bob\n",
      "Nom : Johnson\n",
      "Âge : 30\n",
      "Détails supplémentaires :\n",
      "  hobbies : ('coder', 'lire')\n",
      "  ville : Lyon\n",
      "  job : développeur\n"
     ]
    }
   ],
   "source": [
    "fonction_complete(prenom=\"Bob\", nom=\"Johnson\", age=30, hobbies=(\"coder\", \"lire\"), ville=\"Lyon\", job=\"développeur\")"
   ]
  },
  {
   "cell_type": "markdown",
   "metadata": {},
   "source": [
    "## Exercice\n",
    "\n",
    "Vous travaillez sur une application de santé qui aide les gens à mieux comprendre leur indice de masse corporelle (BMI).\n",
    "\n",
    "On te fournit un dictionnaire contenant les informations de 10 personnes. les informations de chaque personnes sont elles-meme placées dans un autre dictionnaire contenant : \n",
    "\n",
    "- l'age (en années),\n",
    "- le poids (en kilogrammes),\n",
    "- la taille (en mètres).\n",
    "\n",
    "\n",
    "1. Créez une fonction `calculer_bmi(profil)` qui calcule le BMI d'une personne selon la formule :\n",
    "\n",
    "$$BMI = \\frac{poids}{taille}$$\n",
    "\n",
    "\n",
    "2. Créez une fonction `classer_bmi(bmi)`qui renvoie une des catégories suivantes :\n",
    "- `sous-poids` si BMI < 18\n",
    "- `normal` si BMI entre 18 et 25\n",
    "- `sur-poids` si BMI > 25\n",
    "\n",
    "\n",
    "3. Utiliser ces fonctions pour calculer le BMI et la catégorie de chaque individu, en replacant le résultat dans le dictionnaire.\n",
    "​\n"
   ]
  },
  {
   "cell_type": "code",
   "execution_count": 18,
   "metadata": {},
   "outputs": [
    {
     "name": "stdout",
     "output_type": "stream",
     "text": [
      "Alice : {'age': 22, 'poids': 55, 'taille': 1.65}\n",
      "Benoit : {'age': 34, 'poids': 82, 'taille': 1.75}\n",
      "Chloé : {'age': 28, 'poids': 48, 'taille': 1.6}\n",
      "David : {'age': 19, 'poids': 70, 'taille': 1.78}\n",
      "Emma : {'age': 25, 'poids': 90, 'taille': 1.68}\n",
      "Félix : {'age': 30, 'poids': 62, 'taille': 1.7}\n",
      "Gaëlle : {'age': 41, 'poids': 50, 'taille': 1.6}\n",
      "Hugo : {'age': 37, 'poids': 95, 'taille': 1.8}\n",
      "Inès : {'age': 23, 'poids': 58, 'taille': 1.66}\n",
      "Jules : {'age': 45, 'poids': 77, 'taille': 1.74}\n"
     ]
    }
   ],
   "source": [
    "personnes = {\n",
    "    \"Alice\": {\"age\": 22, \"poids\": 55, \"taille\": 1.65},\n",
    "    \"Benoit\": {\"age\": 34, \"poids\": 82, \"taille\": 1.75},\n",
    "    \"Chloé\": {\"age\": 28, \"poids\": 48, \"taille\": 1.60},\n",
    "    \"David\": {\"age\": 19, \"poids\": 70, \"taille\": 1.78},\n",
    "    \"Emma\": {\"age\": 25, \"poids\": 90, \"taille\": 1.68},\n",
    "    \"Félix\": {\"age\": 30, \"poids\": 62, \"taille\": 1.70},\n",
    "    \"Gaëlle\": {\"age\": 41, \"poids\": 50, \"taille\": 1.60},\n",
    "    \"Hugo\": {\"age\": 37, \"poids\": 95, \"taille\": 1.80},\n",
    "    \"Inès\": {\"age\": 23, \"poids\": 58, \"taille\": 1.66},\n",
    "    \"Jules\": {\"age\": 45, \"poids\": 77, \"taille\": 1.74}\n",
    "}\n",
    "\n",
    "for key, value in personnes.items():\n",
    "    print(f\"{key} : {value}\")"
   ]
  },
  {
   "cell_type": "code",
   "execution_count": null,
   "metadata": {},
   "outputs": [
    {
     "name": "stdout",
     "output_type": "stream",
     "text": [
      "{'Alice': {'age': 22, 'poids': 55, 'taille': 1.65, 'catégorie': 'normal'}, 'Benoit': {'age': 34, 'poids': 82, 'taille': 1.75, 'catégorie': 'sur-poids'}, 'Chloé': {'age': 28, 'poids': 48, 'taille': 1.6, 'catégorie': 'normal'}, 'David': {'age': 19, 'poids': 70, 'taille': 1.78, 'catégorie': 'normal'}, 'Emma': {'age': 25, 'poids': 90, 'taille': 1.68, 'catégorie': 'sur-poids'}, 'Félix': {'age': 30, 'poids': 62, 'taille': 1.7, 'catégorie': 'normal'}, 'Gaëlle': {'age': 41, 'poids': 50, 'taille': 1.6, 'catégorie': 'normal'}, 'Hugo': {'age': 37, 'poids': 95, 'taille': 1.8, 'catégorie': 'sur-poids'}, 'Inès': {'age': 23, 'poids': 58, 'taille': 1.66, 'catégorie': 'normal'}, 'Jules': {'age': 45, 'poids': 77, 'taille': 1.74, 'catégorie': 'sur-poids'}}\n"
     ]
    }
   ],
   "source": [
    "def calcule_bmi(profil):\n",
    "        return profil[\"poids\"] / profil[\"taille\"]**2\n",
    "    \n",
    "def classe_bmi(bmi):\n",
    "    match bmi:\n",
    "        case _ if bmi<18:\n",
    "            return \"sous-poids\"\n",
    "        case _ if bmi>=18 and bmi<=25:\n",
    "            return \"normal\"   \n",
    "        case _ if bmi >25:\n",
    "            return \"sur-poids\"  \n",
    "        case _ :\n",
    "            print(\"Impossible BMI\")\n",
    "\n",
    "for nom, infos in personnes.items():\n",
    "    bmi = calcule_bmi(infos)\n",
    "    classe = classe_bmi(bmi)\n",
    "    personnes[nom][\"catégorie\"] = classe\n"
   ]
  },
  {
   "cell_type": "markdown",
   "metadata": {},
   "source": [
    "## Correction"
   ]
  },
  {
   "cell_type": "code",
   "execution_count": null,
   "metadata": {},
   "outputs": [],
   "source": [
    "# Fonction pour calculer le BMI et l'ajouter au profil\n",
    "def calculer_bmi(profil):\n",
    "    poids = profil[\"poids\"]\n",
    "    taille = profil[\"taille\"]\n",
    "    bmi = poids / (taille ** 2)\n",
    "    profil[\"bmi\"] = round(bmi, 1)\n",
    "\n",
    "\n",
    "def classer_bmi(bmi):\n",
    "    if bmi < 18.5:\n",
    "        return \"Sous-poids\"\n",
    "    elif bmi < 25:\n",
    "        return \"Normal\"\n",
    "    else:\n",
    "        return \"Surpoids\""
   ]
  },
  {
   "cell_type": "code",
   "execution_count": null,
   "metadata": {},
   "outputs": [],
   "source": [
    "# Traitement de toutes les personnes\n",
    "for prenom, profil in personnes.items():\n",
    "    calculer_bmi(profil)\n",
    "    profil[\"categorie\"] = classer_bmi(profil[\"bmi\"])"
   ]
  },
  {
   "cell_type": "code",
   "execution_count": null,
   "metadata": {},
   "outputs": [
    {
     "name": "stdout",
     "output_type": "stream",
     "text": [
      "Alice (22 ans) - BMI : 20.2 - Catégorie : Normal\n",
      "Benoit (34 ans) - BMI : 26.8 - Catégorie : Surpoids\n",
      "Chloé (28 ans) - BMI : 18.7 - Catégorie : Normal\n",
      "David (19 ans) - BMI : 22.1 - Catégorie : Normal\n",
      "Emma (25 ans) - BMI : 31.9 - Catégorie : Surpoids\n",
      "Félix (30 ans) - BMI : 21.5 - Catégorie : Normal\n",
      "Gaëlle (41 ans) - BMI : 19.5 - Catégorie : Normal\n",
      "Hugo (37 ans) - BMI : 29.3 - Catégorie : Surpoids\n",
      "Inès (23 ans) - BMI : 21.0 - Catégorie : Normal\n",
      "Jules (45 ans) - BMI : 25.4 - Catégorie : Surpoids\n"
     ]
    }
   ],
   "source": [
    "# Affichage des résultats\n",
    "for prenom, profil in personnes.items():\n",
    "    print(f\"{prenom} ({profil['age']} ans) - BMI : {profil['bmi']} - Catégorie : {profil['categorie']}\")"
   ]
  },
  {
   "cell_type": "markdown",
   "metadata": {},
   "source": [
    "## Conclusion\n",
    "\n",
    "Cette section vous a permis de maîtriser :\n",
    "- La **définition** et l’**appel** de fonctions.\n",
    "- Le **passage d’arguments** (positionnels, optionnels, `*args`, `**kwargs`).\n",
    "- Le **retour de valeurs** pour réutiliser les résultats.\n",
    "- La gestion des erreurs liées aux arguments.\n",
    "\n",
    "Vous êtes maintenant prêt à créer des fonctions personnalisées pour structurer vos programmes. Expérimentez avec les exemples pour approfondir vos compétences !"
   ]
  },
  {
   "cell_type": "markdown",
   "metadata": {},
   "source": []
  }
 ],
 "metadata": {
  "kernelspec": {
   "display_name": "3.13.3",
   "language": "python",
   "name": "python3"
  },
  "language_info": {
   "codemirror_mode": {
    "name": "ipython",
    "version": 3
   },
   "file_extension": ".py",
   "mimetype": "text/x-python",
   "name": "python",
   "nbconvert_exporter": "python",
   "pygments_lexer": "ipython3",
   "version": "3.13.3"
  }
 },
 "nbformat": 4,
 "nbformat_minor": 2
}
