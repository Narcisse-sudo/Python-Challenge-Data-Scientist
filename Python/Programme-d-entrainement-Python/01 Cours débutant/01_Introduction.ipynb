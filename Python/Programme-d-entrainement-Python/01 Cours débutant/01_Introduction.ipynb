{
 "cells": [
  {
   "cell_type": "markdown",
   "metadata": {},
   "source": [
    "# Introduction à Python\n",
    "\n",
    "Bienvenue dans ce cours sur Python ! Dans cette première section, nous allons explorer les bases de ce langage de programmation incontournable, ses forces, son écosystème, et son rôle clé dans des domaines comme la Data Science. Que vous soyez débutant ou que vous souhaitiez approfondir vos connaissances, ce notebook est conçu pour vous guider pas à pas avec des explications détaillées, des exemples pratiques et des tests concrets.\n",
    "\n",
    "## Pourquoi Python ?\n",
    "Python est un langage de programmation **interprété**, **de haut niveau** et **à usage général**, créé à la fin des années 1980 par **Guido van Rossum**. Sa première version officielle, Python 0.9.0, est sortie en **février 1991**. Depuis, il n’a cessé d’évoluer pour devenir l’un des langages les plus populaires au monde.\n",
    "\n",
    "### Forces de Python\n",
    "- **Lisibilité** : La syntaxe claire et concise de Python en fait un langage idéal pour les débutants comme pour les experts.\n",
    "- **Polyvalence** : Utilisé dans le développement web, l’automatisation, la science des données, l’intelligence artificielle, et bien plus encore.\n",
    "- **Communauté active** : Une vaste communauté mondiale contribue à son développement et à une riche documentation.\n",
    "- **Écosystème riche** : Des milliers de bibliothèques (ou \"modules\") comme NumPy, Pandas ou Matplotlib étendent ses capacités.\n",
    "\n",
    "### Python et la Data Science\n",
    "Python est devenu le langage de référence en **Data Science** grâce à :\n",
    "- Sa facilité d’apprentissage, qui permet aux scientifiques de se concentrer sur les données plutôt que sur la syntaxe.\n",
    "- Des bibliothèques puissantes comme **NumPy** (calcul numérique), **Pandas** (manipulation de données) et **Matplotlib** (visualisation).\n",
    "- Son intégration avec des outils d’apprentissage automatique comme **scikit-learn** et **TensorFlow**.\n",
    "\n",
    "Dans cette introduction, nous allons également découvrir le site officiel de Python, explorer son histoire et partager quelques anecdotes amusantes."
   ]
  },
  {
   "cell_type": "code",
   "execution_count": 1,
   "metadata": {},
   "outputs": [
    {
     "name": "stdout",
     "output_type": "stream",
     "text": [
      "Hello, world! Bienvenue dans l'univers de Python pour la Data Science!\n"
     ]
    }
   ],
   "source": [
    "# Ce code permet d'afficher un simple message de bienvenue dans la console.\n",
    "\n",
    "print(\"Hello, world! Bienvenue dans l'univers de Python pour la Data Science!\")"
   ]
  },
  {
   "cell_type": "markdown",
   "metadata": {},
   "source": [
    "## Découverte du site python.org\n",
    "\n",
    "Le site officiel de Python, [python.org](https://www.python.org/), est la ressource centrale pour tout ce qui concerne ce langage. Voici ce que vous y trouverez :\n",
    "\n",
    "### 1. Versions de python\n",
    "- En février 2025, la version stable est **Python 3.13**, sortie récemment selon les actualités du site. Cette version apporte des améliorations en termes de performances et de nouvelles fonctionnalités.\n",
    "\n",
    "### 2. Documentation\n",
    "- La [documentation officielle](https://docs.python.org/3/) est une mine d’or : tutoriels, références sur les modules standards, et guides pour débutants.\n",
    "- Conseil : Consultez le tutoriel \"Getting Started\" pour une prise en main rapide.\n",
    "\n",
    "### 3. Actualités\n",
    "- La section [News](https://www.python.org/blogs/) annonce les mises à jour, comme la sortie de Python 3.13 en février 2025, avec des optimisations et des corrections de bugs.\n"
   ]
  },
  {
   "cell_type": "code",
   "execution_count": 2,
   "metadata": {},
   "outputs": [
    {
     "name": "stdout",
     "output_type": "stream",
     "text": [
      "Version de Python utilisée : 3.11.0 | packaged by conda-forge | (main, Jan 14 2023, 12:26:40) [Clang 14.0.6 ]\n"
     ]
    }
   ],
   "source": [
    "import sys\n",
    "\n",
    "# Cellule pour vérifier la version de Python installée\n",
    "print(\"Version de Python utilisée :\", sys.version)"
   ]
  },
  {
   "cell_type": "code",
   "execution_count": 3,
   "metadata": {},
   "outputs": [
    {
     "name": "stdout",
     "output_type": "stream",
     "text": [
      "The Zen of Python, by Tim Peters\n",
      "\n",
      "Beautiful is better than ugly.\n",
      "Explicit is better than implicit.\n",
      "Simple is better than complex.\n",
      "Complex is better than complicated.\n",
      "Flat is better than nested.\n",
      "Sparse is better than dense.\n",
      "Readability counts.\n",
      "Special cases aren't special enough to break the rules.\n",
      "Although practicality beats purity.\n",
      "Errors should never pass silently.\n",
      "Unless explicitly silenced.\n",
      "In the face of ambiguity, refuse the temptation to guess.\n",
      "There should be one-- and preferably only one --obvious way to do it.\n",
      "Although that way may not be obvious at first unless you're Dutch.\n",
      "Now is better than never.\n",
      "Although never is often better than *right* now.\n",
      "If the implementation is hard to explain, it's a bad idea.\n",
      "If the implementation is easy to explain, it may be a good idea.\n",
      "Namespaces are one honking great idea -- let's do more of those!\n"
     ]
    }
   ],
   "source": [
    "# Découvrons le \"Zen de Python\" – une liste de principes philosophiques\n",
    "# Exécutez cette cellule pour voir le poème de Tim Peters\n",
    "\n",
    "import this"
   ]
  },
  {
   "cell_type": "markdown",
   "metadata": {},
   "source": [
    "### 4. Les types de fichiers python"
   ]
  },
  {
   "cell_type": "markdown",
   "metadata": {},
   "source": [
    "Le fichier que vous êtes en train de lire est un **notebook Jupyter** avec l'extension `.ipynb`. Il contient du texte, des images, du code Python et des résultats. Il y a deux types de cellules dans un notebook Jupyter :\n",
    "- **Markdown** : Contient du texte, des liens, des images, des vidéos, etc. (comme celle-ci).\n",
    "- **Code** : Contient du code (par exemple Python)."
   ]
  },
  {
   "cell_type": "code",
   "execution_count": 1,
   "metadata": {},
   "outputs": [
    {
     "name": "stdout",
     "output_type": "stream",
     "text": [
      "Hello World!\n"
     ]
    }
   ],
   "source": [
    "print(\"Hello World!\")"
   ]
  },
  {
   "cell_type": "markdown",
   "metadata": {},
   "source": [
    "Cette cellule ci-dessus, est une cellule python qui a été executée. Vous pouvez voir le résultat de l'exécution de cette cellule juste en dessous de celle-ci."
   ]
  },
  {
   "cell_type": "markdown",
   "metadata": {},
   "source": [
    "Mais on peut aussi exécuter du code python dans un fichier `.py` en utilisant un éditeur de texte comme Visual Studio Code, PyCharm, Sublime Text, etc. Dans ce cas là, pour executer le code, il faut ouvrir un terminal et taper la commande:\n",
    "\n",
    "- `python mon_script.py` : pour lancer le script avec la commande python\n",
    "- `python3 mon_script.py` : pour utiliser explicitement Python 3, car sur certains systèmes, python peut pointer vers Python 2\n",
    "\n",
    "Si vous utilisez **Conda**, il faudra activer l'environnement avant de lancer le script. Pour cela, il suffit de taper la commande `conda activate mon_environnement` dans le terminal.\n",
    "\n",
    "```bash\n",
    "conda activate mon_env\n",
    "python3 mon_script.py\n",
    "```\n",
    "\n",
    "Ou bien vous pouvez directement utiliser la commande suivante pour ne pas avoir à activer explicitement l’environnement:\n",
    "\n",
    "```bash\n",
    "conda run -n mon_env python3 mon_script.py\n",
    "```\n",
    "\n",
    "Si vous utilisez **Poetry/pyenv** il faudra simplement utiliser:\n",
    "\n",
    "```bash\n",
    "poetry run python3 mon_script.py\n",
    "```"
   ]
  },
  {
   "cell_type": "markdown",
   "metadata": {},
   "source": [
    "Ces commandes vont executer tout le fichier `mon_script.py` ligne par ligne dans le terminal. À savoir qu'il existe des fonctions python pour interagir avec le terminal durant l'éxécution du script. Vous connaissez déjà la fonction `print()` qui permet d'afficher des informations dans le terminal. Mais on peut aussi demander à l'utilisateur de saisir des informations avec la fonction `input()`. Par exemple : \n",
    "\n",
    "```python\n",
    "nom = input(\"Quel est votre nom ? \")\n",
    "print(\"Bonjour\", nom)\n",
    "```\n",
    "\n",
    "Ce bout de code, s'il est lancé avec la commande `python mon_script.py`, va demander à l'utilisateur de saisir son nom, puis afficher \"Bonjour\" suivi du nom saisi. (le code poursuivra son éxécution après que l'utilisateur ait saisi son nom)"
   ]
  },
  {
   "cell_type": "markdown",
   "metadata": {},
   "source": [
    "<img src=\"images/SCR-20250311-kmvj.png\" width=\"800\"/>"
   ]
  },
  {
   "cell_type": "markdown",
   "metadata": {},
   "source": []
  }
 ],
 "metadata": {
  "kernelspec": {
   "display_name": "fast_env",
   "language": "python",
   "name": "python3"
  },
  "language_info": {
   "codemirror_mode": {
    "name": "ipython",
    "version": 3
   },
   "file_extension": ".py",
   "mimetype": "text/x-python",
   "name": "python",
   "nbconvert_exporter": "python",
   "pygments_lexer": "ipython3",
   "version": "3.11.0"
  }
 },
 "nbformat": 4,
 "nbformat_minor": 2
}
