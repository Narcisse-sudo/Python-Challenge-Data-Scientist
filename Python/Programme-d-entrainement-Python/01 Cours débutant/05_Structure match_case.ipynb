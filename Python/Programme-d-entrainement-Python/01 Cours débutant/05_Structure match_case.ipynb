{
 "cells": [
  {
   "cell_type": "markdown",
   "metadata": {},
   "source": [
    "# La Structure « match-case » en Python\n",
    "\n",
    "Dans cette section, nous allons explorer la structure **match-case**, introduite en Python 3.10 (PEP 634). Cette fonctionnalité offre une alternative élégante aux structures conditionnelles comme `if-elif-else` pour certains cas, avec des explications détaillées, des exemples pratiques, des tests et des erreurs intentionnelles pour illustrer ses usages.\n",
    "\n",
    "## Qu’est-ce que `match-case` ?\n",
    "La structure `match-case` est une forme de **correspondance structurelle** (pattern matching). Elle permet de comparer une valeur à plusieurs motifs (patterns) et d’exécuter le code correspondant au motif qui \"matche\". Elle est particulièrement utile pour gérer des cas multiples de manière concise et lisible.\n",
    "\n",
    "## Syntaxe de Base\n",
    "```python\n",
    "match valeur:\n",
    "    case motif1:\n",
    "        # Code pour motif1\n",
    "    case motif2:\n",
    "        # Code pour motif2\n",
    "    case _:\n",
    "        # Cas par défaut (wildcard)\n",
    "```\n"
   ]
  },
  {
   "cell_type": "markdown",
   "metadata": {},
   "source": [
    "## Exemple d'utilisation "
   ]
  },
  {
   "cell_type": "code",
   "execution_count": null,
   "metadata": {},
   "outputs": [
    {
     "name": "stdout",
     "output_type": "stream",
     "text": [
      "Début de semaine !\n"
     ]
    }
   ],
   "source": [
    "# Définir une variable\n",
    "jour = \"lundi\"\n",
    "\n",
    "# Structure match-case\n",
    "match jour:\n",
    "    case \"lundi\":\n",
    "        print(\"Début de semaine !\")\n",
    "    case \"mardi\":\n",
    "        print(\"Meeting Clients\")\n",
    "    case \"mercredi\":\n",
    "        print(\"Session Code\")\n",
    "    case \"jeudi\":\n",
    "        print(\"Workshop Projet\")\n",
    "    case \"vendredi\":\n",
    "        print(\"Fin de semaine !\")\n",
    "    case \"samedi\" | \"dimanche\":  # | signifie \"ou\"\n",
    "        print(\"C’est le week-end !\")\n",
    "    case _:  # Cas par défaut (comme un else)\n",
    "        print(\"Ceci n'est pas un jour !\")"
   ]
  },
  {
   "cell_type": "markdown",
   "metadata": {},
   "source": [
    "## Mais pourquoi ne pas utiliser `if-elif-else` ?\n",
    "\n",
    "La structure `match-case` améliore la **Lisibilité** en réduisant les répétitions, ce qui rend le code plus clair pour des cas multiples."
   ]
  },
  {
   "cell_type": "markdown",
   "metadata": {},
   "source": [
    "### exemple"
   ]
  },
  {
   "cell_type": "code",
   "execution_count": null,
   "metadata": {},
   "outputs": [
    {
     "name": "stdout",
     "output_type": "stream",
     "text": [
      "Non trouvé\n"
     ]
    }
   ],
   "source": [
    "code = 404\n",
    "\n",
    "if code == 200:\n",
    "    print(\"OK\")\n",
    "elif code == 404:\n",
    "    print(\"Non trouvé\")\n",
    "elif code == 500:\n",
    "    print(\"Erreur serveur\")\n",
    "else:\n",
    "    print(\"Code inconnu\")"
   ]
  },
  {
   "cell_type": "code",
   "execution_count": 38,
   "metadata": {},
   "outputs": [
    {
     "name": "stdout",
     "output_type": "stream",
     "text": [
      "Non trouvé\n"
     ]
    }
   ],
   "source": [
    "# Avec match-case\n",
    "code = 404\n",
    "match code:\n",
    "    case 200:\n",
    "        print(\"OK\")\n",
    "    case 404:\n",
    "        print(\"Non trouvé\")\n",
    "    case 500:\n",
    "        print(\"Erreur serveur\")\n",
    "    case _:\n",
    "        print(\"Code inconnu\")"
   ]
  },
  {
   "cell_type": "markdown",
   "metadata": {},
   "source": [
    "### autre exemple"
   ]
  },
  {
   "cell_type": "code",
   "execution_count": 4,
   "metadata": {},
   "outputs": [
    {
     "name": "stdout",
     "output_type": "stream",
     "text": [
      "Redémarrage...\n"
     ]
    }
   ],
   "source": [
    "commande = \"redémarrer\"\n",
    "\n",
    "if commande == \"démarrer\" or commande == \"start\":\n",
    "    print(\"Démarrage en cours...\")\n",
    "elif commande == \"arrêter\" or commande == \"stop\":\n",
    "    print(\"Arrêt du système.\")\n",
    "elif commande == \"redémarrer\" or commande == \"restart\":\n",
    "    print(\"Redémarrage...\")\n",
    "else:\n",
    "    print(\"Commande inconnue.\")"
   ]
  },
  {
   "cell_type": "code",
   "execution_count": 5,
   "metadata": {},
   "outputs": [
    {
     "name": "stdout",
     "output_type": "stream",
     "text": [
      "Redémarrage...\n"
     ]
    }
   ],
   "source": [
    "commande = \"redémarrer\"\n",
    "\n",
    "match commande:\n",
    "    case \"démarrer\" | \"start\":\n",
    "        print(\"Démarrage en cours...\")\n",
    "    case \"arrêter\" | \"stop\":\n",
    "        print(\"Arrêt du système.\")\n",
    "    case \"redémarrer\" | \"restart\":\n",
    "        print(\"Redémarrage...\")\n",
    "    case _:\n",
    "        print(\"Commande inconnue.\")"
   ]
  },
  {
   "cell_type": "markdown",
   "metadata": {},
   "source": [
    "### `Match-Case` Correspondance avec Motifs"
   ]
  },
  {
   "cell_type": "markdown",
   "metadata": {},
   "source": [
    "`match-case` va au-delà des comparaisons simples : il peut matcher des structures comme des listes, des tuples ou des dictionnaires."
   ]
  },
  {
   "cell_type": "code",
   "execution_count": null,
   "metadata": {},
   "outputs": [
    {
     "name": "stdout",
     "output_type": "stream",
     "text": [
      "Commande : 2 pizza(s).\n"
     ]
    }
   ],
   "source": [
    "# Définir une commande (liste)\n",
    "commande = [\"pizza\", 2]\n",
    "\n",
    "# Match avec une liste\n",
    "match commande:\n",
    "    case [\"pizza\", quantite]:\n",
    "        print(f\"Commande : {quantite} pizza(s).\")\n",
    "    case [\"boisson\", quantite]:\n",
    "        print(f\"Commande : {quantite} boisson(s).\")\n",
    "    case _:\n",
    "        print(\"Commande non reconnue.\")"
   ]
  },
  {
   "cell_type": "code",
   "execution_count": 40,
   "metadata": {},
   "outputs": [
    {
     "name": "stdout",
     "output_type": "stream",
     "text": [
      "Point à (3, 4)\n"
     ]
    }
   ],
   "source": [
    "point = (3, 4)\n",
    "\n",
    "match point:\n",
    "    case (0, 0):\n",
    "        print(\"Origine\")\n",
    "    case (x, 0):\n",
    "        print(f\"Sur l’axe X à {x}\")\n",
    "    case (0, y):\n",
    "        print(f\"Sur l’axe Y à {y}\")\n",
    "    case (x, y):\n",
    "        print(f\"Point à ({x}, {y})\")\n",
    "    case _:\n",
    "        print(\"Format inconnu\")"
   ]
  },
  {
   "cell_type": "markdown",
   "metadata": {},
   "source": [
    "## Exercices \n",
    "\n",
    "Créez un système de réponse automatique pour un service client qui analyse les messages des clients et génère des réponses appropriées en fonction du contenu du message.\n",
    "\n",
    "Le message est une string, issue d'un algorithme d'IA qui a su capturer la voix du client, et la transformer en texte.\n",
    "\n",
    "Ensuite, votre code doit automatiquement redirigier le client en fonction de ce qu'il a pu dire.\n",
    "\n",
    "\n",
    "- Si le mot `renseignement` est prononcé -> afficher `vous avez demandé un renseignement`\n",
    "- Si le mot `abonnement` est prononcé -> afficher `Vous avez demandé un abonement`\n",
    "- Si le mot `remboursement` ou le mot `résiliation `est prononcé -> afficher `vous avez demandé un remboursement`\n",
    "- Dans tout autre cas, afficher `nous n'avons pas pu saisir votre demande`"
   ]
  },
  {
   "cell_type": "code",
   "execution_count": 25,
   "metadata": {},
   "outputs": [
    {
     "data": {
      "text/plain": [
       "['je',\n",
       " 'voudrais',\n",
       " 'un',\n",
       " 'renseignement',\n",
       " 'a',\n",
       " 'propos',\n",
       " 'de',\n",
       " 'votre',\n",
       " 'offre',\n",
       " 'téléphonique']"
      ]
     },
     "execution_count": 25,
     "metadata": {},
     "output_type": "execute_result"
    }
   ],
   "source": [
    "message = \"Je voudrais un renseignement a propos de votre offre téléphonique\"\n",
    "\n",
    "message_lower = message.lower()\n",
    "mots = message.lower().split()\n",
    "\n",
    "mots"
   ]
  },
  {
   "cell_type": "code",
   "execution_count": null,
   "metadata": {},
   "outputs": [],
   "source": [
    "\"\"\"\n",
    "Votre réponse ici\n",
    "\"\"\""
   ]
  },
  {
   "cell_type": "markdown",
   "metadata": {},
   "source": [
    "## Correction"
   ]
  },
  {
   "cell_type": "code",
   "execution_count": 2,
   "metadata": {},
   "outputs": [
    {
     "name": "stdout",
     "output_type": "stream",
     "text": [
      "Vous avez demandé un remboursement\n"
     ]
    }
   ],
   "source": [
    "message = \"Je voudrais résilier\"\n",
    "\n",
    "message_lower = message.lower()\n",
    "mots = message.lower().split()\n",
    "\n",
    "match mots:\n",
    "    # Rechercher des mots clés spécifiques dans le message\n",
    "    case _ if \"renseigne\" in message_lower:\n",
    "        print(\"Vous avez demandé un renseignement\")\n",
    "\n",
    "    case _ if \"abonn\" in message_lower:\n",
    "        print(\"Vous avez demandé un abonnement\")\n",
    "    \n",
    "    case _ if \"rembour\" in message_lower or \"résil\" in message_lower:\n",
    "        print(\"Vous avez demandé un remboursement\")\n",
    "    \n",
    "    # Cas par défaut\n",
    "    case _:\n",
    "        print(\"Nous n'avons pas pu saisir votre demande\")"
   ]
  },
  {
   "cell_type": "code",
   "execution_count": null,
   "metadata": {},
   "outputs": [
    {
     "data": {
      "text/plain": [
       "False"
      ]
     },
     "execution_count": 6,
     "metadata": {},
     "output_type": "execute_result"
    }
   ],
   "source": []
  },
  {
   "cell_type": "markdown",
   "metadata": {},
   "source": [
    "## Conclusion\n",
    "\n",
    "### Quand utiliser match-case vs if-elif-else ?\n",
    "\n",
    "Utilisez `match-case` quand :\n",
    "\n",
    "- Vous travaillez avec des structures de données complexes\n",
    "- Vous avez plusieurs conditions basées sur la même variable\n",
    "- Le code doit être clair et autodocumenté\n",
    "- Vous avez besoin d'extraire des valeurs des structures\n",
    "\n",
    "Gardez `if-elif-else` pour :\n",
    "\n",
    "- La compatibilité avec des versions de Python antérieures à 3.10\n",
    "- Des conditions simples ou non liées à la même variable\n",
    "- Des expressions conditionnelles complexes qui ne correspondent pas à des motifs"
   ]
  },
  {
   "cell_type": "markdown",
   "metadata": {},
   "source": []
  }
 ],
 "metadata": {
  "kernelspec": {
   "display_name": "3.13.3",
   "language": "python",
   "name": "python3"
  },
  "language_info": {
   "codemirror_mode": {
    "name": "ipython",
    "version": 3
   },
   "file_extension": ".py",
   "mimetype": "text/x-python",
   "name": "python",
   "nbconvert_exporter": "python",
   "pygments_lexer": "ipython3",
   "version": "3.13.3"
  }
 },
 "nbformat": 4,
 "nbformat_minor": 2
}
