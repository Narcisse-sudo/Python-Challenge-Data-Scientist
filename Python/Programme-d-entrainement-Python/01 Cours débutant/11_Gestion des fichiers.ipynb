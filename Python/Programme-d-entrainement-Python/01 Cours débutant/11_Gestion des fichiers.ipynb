{
 "cells": [
  {
   "cell_type": "markdown",
   "metadata": {},
   "source": [
    "# Gestion des Fichiers en Python : Ouverture, Lecture et Écriture avec `open` et `with`\n",
    "\n",
    "La gestion des fichiers est une compétence essentielle en Data Science pour manipuler, lire et écrire des données efficacement. Python fournit plusieurs méthodes intégrées permettant facilement :\n",
    "\n",
    "- d'ouvrir et fermer des fichiers,\n",
    "- de lire et écrire des données,\n",
    "- de gérer les erreurs potentielles.\n",
    "\n",
    "\n",
    "La manipulation des fichiers est cruciale pour sauvegarder des données, lire des configurations ou traiter des logs. Python offre une API simple et robuste via la fonction intégrée `open()` et le gestionnaire de contexte `with`."
   ]
  },
  {
   "cell_type": "markdown",
   "metadata": {},
   "source": [
    "## Ouvrir un fichier avec `open()`\n",
    "\n",
    "En Python, un fichier peut être ouvert avec la fonction `open()` a travers différents modes :\n",
    "\n",
    "| Mode | Description                           |\n",
    "|------|---------------------------------------|\n",
    "| `r`  | Lecture uniquement                    |\n",
    "| `w`  | Écriture (crée ou écrase le fichier)  |\n",
    "| `a`  | Ajoute du contenu à la fin du fichier |\n",
    "| `b`  | Mode binaire (par ex. `\"rb\"`, `\"wb\"`) |"
   ]
  },
  {
   "cell_type": "code",
   "execution_count": 68,
   "metadata": {},
   "outputs": [
    {
     "name": "stdout",
     "output_type": "stream",
     "text": [
      "Bonjour\n",
      "Bienvenue dans la formation ML-PRO !\n"
     ]
    }
   ],
   "source": [
    "# Ouverture du fichier en mode lecture\n",
    "fichier = open(\"data/exemple.txt\", \"r\", encoding=\"utf-8\")\n",
    "\n",
    "# Lecture du contenu\n",
    "contenu = fichier.read()\n",
    "print(contenu)\n",
    "\n",
    "# Fermeture du fichier\n",
    "fichier.close()"
   ]
  },
  {
   "cell_type": "markdown",
   "metadata": {},
   "source": [
    "## Utilisation recommandée avec `with`\n",
    "\n",
    "L'instruction `with` permet une gestion automatique de la fermeture du fichier, même en cas d'erreur."
   ]
  },
  {
   "cell_type": "code",
   "execution_count": 69,
   "metadata": {},
   "outputs": [
    {
     "name": "stdout",
     "output_type": "stream",
     "text": [
      "Bonjour\n",
      "Bienvenue dans la formation ML-PRO !\n"
     ]
    }
   ],
   "source": [
    "# Lecture automatique avec gestion d'erreur\n",
    "with open(\"data/exemple.txt\", \"r\", encoding=\"utf-8\") as fichier:\n",
    "    contenu = fichier.read()\n",
    "    print(contenu)"
   ]
  },
  {
   "cell_type": "markdown",
   "metadata": {},
   "source": [
    "## Écrire dans un fichier\n",
    "\n",
    "Pour écrire dans un fichier, utilisez les modes `\"w\"` (écraser) ou `\"a\"` (ajouter à la fin)."
   ]
  },
  {
   "cell_type": "code",
   "execution_count": 70,
   "metadata": {},
   "outputs": [],
   "source": [
    "# Écriture simple\n",
    "with open(\"data/nouveau_fichier.txt\", \"a\", encoding=\"utf-8\") as fichier:\n",
    "    fichier.write(\"n'oubliez pas de prendre des notes !\")"
   ]
  },
  {
   "cell_type": "markdown",
   "metadata": {},
   "source": [
    "## Lire un fichier ligne par ligne\n",
    "\n",
    "Utile notamment en Data Science lorsque le fichier est volumineux."
   ]
  },
  {
   "cell_type": "code",
   "execution_count": 71,
   "metadata": {},
   "outputs": [
    {
     "name": "stdout",
     "output_type": "stream",
     "text": [
      "Ligne : Bienvenue dans la formation ML-PRO !\n",
      "Ligne : J'espere que vous apprenez bien ! :)\n",
      "Ligne : n'oubliez pas de prendre des notes !n'oubliez pas de prendre des notes !\n"
     ]
    }
   ],
   "source": [
    "# Lire ligne par ligne\n",
    "with open(\"data/nouveau_fichier.txt\", \"r\", encoding=\"utf-8\") as fichier:\n",
    "    for ligne in fichier:\n",
    "        print(\"Ligne :\", ligne.strip())  # strip() retire les espaces et retours à la ligne"
   ]
  },
  {
   "cell_type": "markdown",
   "metadata": {},
   "source": [
    "## Méthodes courantes utiles :\n",
    "\n",
    "- `.read()` : Lire tout le fichier.\n",
    "- `.readlines()` : Lit les lignes et les retourne sous forme de liste.\n",
    "- `.write()` : Écrire une chaîne dans le fichier.\n",
    "- `.writelines()` : Écrire une liste de chaînes."
   ]
  },
  {
   "cell_type": "code",
   "execution_count": 72,
   "metadata": {},
   "outputs": [],
   "source": [
    "# Écriture avec writelines()\n",
    "lignes = [\"première ligne\\n\", \"deuxième ligne\\n\", \"troisième ligne\\n\"]\n",
    "\n",
    "with open(\"data/lignes.txt\", \"w\", encoding=\"utf-8\") as fichier:\n",
    "    fichier.writelines(lignes)"
   ]
  },
  {
   "cell_type": "code",
   "execution_count": 73,
   "metadata": {},
   "outputs": [
    {
     "name": "stdout",
     "output_type": "stream",
     "text": [
      "Contenu sous forme de liste : première ligne\n",
      "deuxième ligne\n",
      "troisième ligne\n",
      "\n"
     ]
    }
   ],
   "source": [
    "# Lecture avec readlines()\n",
    "with open(\"data/lignes.txt\", \"r\", encoding=\"utf-8\") as fichier:\n",
    "    contenu = fichier.read()\n",
    "    print(\"Contenu sous forme de liste :\", contenu)"
   ]
  },
  {
   "cell_type": "markdown",
   "metadata": {},
   "source": [
    "## Exercices\n",
    "\n",
    "1. ouvrez le fichier `data/exercice.txt` en mode lecture et placer ses types de messages dans un dictionnaire dont les clefs correspondent a chaque type:\n",
    "   - INFO\n",
    "   - WARNING\n",
    "   - ERROR\n",
    "   - DEBUG\n",
    "   - CRITICAL\n",
    "\n",
    "2. chaque clé du dictionnaire est associée a une liste des différentes lignes qui contiennent ce message.\n",
    "\n",
    "3. Enregistrez dans un autre fichier `data/résumé_logs.txt` le nombre de chaque type de logs rencontré, en les calculant a partir du dictionnaire (voir le fichier concerné pour vérifier la réponse attendue)"
   ]
  },
  {
   "cell_type": "markdown",
   "metadata": {},
   "source": [
    "## Correction"
   ]
  },
  {
   "cell_type": "code",
   "execution_count": 77,
   "metadata": {},
   "outputs": [],
   "source": [
    "logs_par_type = {\n",
    "    \"INFO\": [],\n",
    "    \"WARNING\": [],\n",
    "    \"ERROR\": [],\n",
    "    \"DEBUG\": [],\n",
    "    \"CRITICAL\": []\n",
    "}\n",
    "\n",
    "\n",
    "with open(\"data/exercice.txt\", \"r\") as file:\n",
    "    for line in file:\n",
    "        match line:\n",
    "            case _ if \"INFO\" in line:\n",
    "                logs_par_type[\"INFO\"].append(line)\n",
    "            case _ if \"WARNING\" in line:\n",
    "                logs_par_type[\"WARNING\"].append(line)\n",
    "            case _ if \"ERROR\" in line:\n",
    "                logs_par_type[\"ERROR\"].append(line)\n",
    "            case _ if \"DEBUG\" in line:\n",
    "                logs_par_type[\"DEBUG\"].append(line)\n",
    "            case _ if \"CRITICAL\" in line:\n",
    "                logs_par_type[\"CRITICAL\"].append(line)\n",
    "            case _:\n",
    "                continue"
   ]
  },
  {
   "cell_type": "code",
   "execution_count": null,
   "metadata": {},
   "outputs": [
    {
     "name": "stdout",
     "output_type": "stream",
     "text": [
      "INFO: 4\n",
      "WARNING: 2\n",
      "ERROR: 2\n",
      "DEBUG: 1\n",
      "CRITICAL: 1\n"
     ]
    }
   ],
   "source": [
    "for log_type, log_details in logs_par_type.items():\n",
    "    print(f\"{log_type}: {len(log_details)}\")"
   ]
  },
  {
   "cell_type": "code",
   "execution_count": 79,
   "metadata": {},
   "outputs": [],
   "source": [
    "with open(\"data/résumé_logs.txt\", \"w\") as fichier:\n",
    "    for log_type, log_details in logs_par_type.items():\n",
    "        ligne = f\"{log_type}: {len(log_details)}\\n\"\n",
    "        fichier.write(ligne)"
   ]
  }
 ],
 "metadata": {
  "kernelspec": {
   "display_name": "3.13.3",
   "language": "python",
   "name": "python3"
  },
  "language_info": {
   "codemirror_mode": {
    "name": "ipython",
    "version": 3
   },
   "file_extension": ".py",
   "mimetype": "text/x-python",
   "name": "python",
   "nbconvert_exporter": "python",
   "pygments_lexer": "ipython3",
   "version": "3.13.3"
  }
 },
 "nbformat": 4,
 "nbformat_minor": 2
}
