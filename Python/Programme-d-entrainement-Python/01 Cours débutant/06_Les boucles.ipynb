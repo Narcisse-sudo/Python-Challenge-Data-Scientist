{
 "cells": [
  {
   "cell_type": "markdown",
   "metadata": {},
   "source": [
    "# Boucles en Python : while et for\n",
    "\n",
    "Dans cette section, nous allons explorer les **boucles** en Python, qui permettent de répéter des actions. Nous couvrirons la boucle **while** (avec `break` et `continue`) et la boucle **for** (itération sur séquences, avec `break` et `continue`), avec des explications détaillées, des exemples pratiques, des tests et des erreurs intentionnelles pour illustrer les concepts.\n",
    "\n",
    "## Qu’est-ce qu’une Boucle ?\n",
    "Une boucle exécute un bloc de code plusieurs fois, soit jusqu’à ce qu’une condition soit fausse (`while`), soit pour chaque élément d’une séquence (`for`).\n",
    "\n",
    "C'est ce qui permet typiquement de faire les choses suivantes :\n",
    "- Aroser une plante tant que le niveau d'humidité de la terre n'est pas satisfait (boucle While)\n",
    "- Envoyer un email automatique pour tous les clients d'une entreprise (boucle for)"
   ]
  },
  {
   "cell_type": "markdown",
   "metadata": {},
   "source": [
    "## Boucle `while`\n",
    "\n",
    "La boucle `while` répète un bloc de code tant qu’une condition est `True`.\n",
    "\n",
    "### Syntaxe\n",
    "```python\n",
    "while condition:\n",
    "    # Code à répéter\n",
    "```"
   ]
  },
  {
   "cell_type": "code",
   "execution_count": null,
   "metadata": {},
   "outputs": [],
   "source": [
    "# Initialiser une variable\n",
    "compteur = 1\n",
    "\n",
    "# Boucle while\n",
    "while compteur <= 8:\n",
    "    print(f\"Compteur : {compteur}\")\n",
    "    compteur += 1  # Incrémentation essentielle !"
   ]
  },
  {
   "cell_type": "markdown",
   "metadata": {},
   "source": [
    "## Utilisation de `break` dans `while`\n",
    "\n",
    "Le mot-clé `break` interrompt la boucle immédiatement, même si la condition est encore `True`.\n",
    "\n",
    "### Exemple\n",
    "Arrêtons la boucle si un seuil est atteint."
   ]
  },
  {
   "cell_type": "code",
   "execution_count": null,
   "metadata": {},
   "outputs": [],
   "source": [
    "# Initialiser une variable\n",
    "nombre = 0\n",
    "\n",
    "# Boucle avec break\n",
    "while nombre < 10:\n",
    "    print(f\"Nombre : {nombre}\")\n",
    "    if nombre == 5:\n",
    "        print(\"Seuil atteint, arrêt !\")\n",
    "        break  # Sort de la boucle\n",
    "    nombre += 1"
   ]
  },
  {
   "cell_type": "markdown",
   "metadata": {},
   "source": [
    "#### Exemple d'application"
   ]
  },
  {
   "cell_type": "code",
   "execution_count": null,
   "metadata": {},
   "outputs": [],
   "source": [
    "while True :\n",
    "    print()\n",
    "    print(\"1 - Acheter\")\n",
    "    print(\"2 - Vendre\")\n",
    "    print(\"3 - Quitter\")\n",
    "    answer = int(input(\"Votre Selection\"))\n",
    "    print()\n",
    "    match answer:\n",
    "        case 1:\n",
    "            print(\"Achat Réussi\")\n",
    "        case 2:\n",
    "            print(\"Vente Réussie\")\n",
    "        case 3:\n",
    "            print(\"Au Revoir\")\n",
    "            break\n",
    "        case _:\n",
    "            print(\"votre demande n'a pas été comprise\")\n"
   ]
  },
  {
   "cell_type": "markdown",
   "metadata": {},
   "source": [
    "## Utilisation de `continue` dans `while`\n",
    "\n",
    "Le mot-clé `continue` passe à l’itération suivante, en ignorant le reste du code dans cette itération.\n",
    "\n",
    "### Exemple\n",
    "Sautons les nombres pairs."
   ]
  },
  {
   "cell_type": "code",
   "execution_count": null,
   "metadata": {},
   "outputs": [],
   "source": [
    "# Initialiser une variable\n",
    "nombre = 0\n",
    "\n",
    "# Boucle avec continue\n",
    "while nombre < 6:\n",
    "    nombre += 1\n",
    "    if nombre % 2 == 0:  # Pair\n",
    "        continue  # Passe au suivant sans afficher\n",
    "    print(f\"Nombre impair : {nombre}\")"
   ]
  },
  {
   "cell_type": "markdown",
   "metadata": {},
   "source": [
    "## Boucle `for`\n",
    "\n",
    "La boucle `for` itère sur une séquence (liste, tuple, chaîne, etc.) ou un itérable comme `range()`.\n",
    "\n",
    "### Syntaxe\n",
    "```python\n",
    "for element in sequence:\n",
    "    # Code à répéter pour chaque element\n",
    "```"
   ]
  },
  {
   "cell_type": "code",
   "execution_count": null,
   "metadata": {},
   "outputs": [],
   "source": [
    "# Définir une liste\n",
    "fruits = [\"pomme\", \"banane\", \"orange\"]\n",
    "\n",
    "# Boucle for\n",
    "for fruit in fruits:\n",
    "    print(f\"Fruit : {fruit}\")"
   ]
  },
  {
   "cell_type": "markdown",
   "metadata": {},
   "source": [
    "## Itération avec `range()`\n",
    "\n",
    "`range(debut, fin, pas)` génère une séquence de nombres pour itérer.\n",
    "\n",
    "### Exemple\n",
    "Comptons de 0 à 4."
   ]
  },
  {
   "cell_type": "code",
   "execution_count": null,
   "metadata": {},
   "outputs": [],
   "source": [
    "# Boucle for avec range\n",
    "for i in range(2, 10, 2):  # De 0 à 4\n",
    "    print(f\"Index : {i}\")"
   ]
  },
  {
   "cell_type": "markdown",
   "metadata": {},
   "source": [
    "## Utilisation de `break` dans `for`\n",
    "\n",
    "`break` stoppe la boucle `for` avant la fin de l’itération.\n",
    "\n",
    "### Exemple\n",
    "Arrêtons la boucle si on trouve un élément spécifique."
   ]
  },
  {
   "cell_type": "code",
   "execution_count": null,
   "metadata": {},
   "outputs": [],
   "source": [
    "# Définir une liste\n",
    "nombres = [1, 3, 5, 7, 4, 9]\n",
    "\n",
    "# Boucle avec break\n",
    "for nombre in nombres:\n",
    "    if nombre % 2 == 0:  # Premier nombre pair\n",
    "        print(f\"Premier nombre pair trouvé : {nombre}, arrêt.\")\n",
    "        break\n",
    "    print(f\"Nombre impair : {nombre}\")\n"
   ]
  },
  {
   "cell_type": "markdown",
   "metadata": {},
   "source": [
    "## Utilisation de `continue` dans `for`\n",
    "\n",
    "`continue` saute une itération et passe à la suivante.\n",
    "\n",
    "### Exemple\n",
    "Ignorons les voyelles dans une chaîne."
   ]
  },
  {
   "cell_type": "code",
   "execution_count": null,
   "metadata": {},
   "outputs": [],
   "source": [
    "# Définir une chaîne\n",
    "mot = \"python\"\n",
    "\n",
    "# Boucle avec continue\n",
    "for lettre in mot:\n",
    "    if lettre in \"aeiouy\":  # Voyelles\n",
    "        continue\n",
    "    print(f\"Consonne : {lettre}\")\n"
   ]
  },
  {
   "cell_type": "markdown",
   "metadata": {},
   "source": [
    "## Exercice\n",
    "\n",
    "La suite de Syracuse (aussi appelée suite de Collatz ou conjecture de Syracuse) est une suite définie pour un entier naturel positif n comme suit :\n",
    "\n",
    "- Si n est pair, le terme suivant est `n // 2`.\n",
    "- Si n est impair, le terme suivant est `3n + 1`.\n",
    "\n",
    "La suite se termine lorsque n devient égal à 1.\n",
    "\n",
    "Écrire un code permettant de calculer cette suite"
   ]
  },
  {
   "cell_type": "code",
   "execution_count": null,
   "metadata": {},
   "outputs": [],
   "source": [
    "\"\"\"\n",
    "Votre réponse ici\n",
    "\"\"\""
   ]
  },
  {
   "cell_type": "markdown",
   "metadata": {},
   "source": [
    "## Correction"
   ]
  },
  {
   "cell_type": "code",
   "execution_count": null,
   "metadata": {},
   "outputs": [],
   "source": [
    "n = 60\n",
    "\n",
    "while n != 1:\n",
    "    if n % 2 == 0:\n",
    "        n = n // 2\n",
    "    else:\n",
    "        n = 3 * n + 1\n",
    "    print(n)"
   ]
  },
  {
   "cell_type": "markdown",
   "metadata": {},
   "source": [
    "## Conclusion\n",
    "\n",
    "Cette section vous a permis de maîtriser :\n",
    "- La boucle **`while`** pour répéter tant qu’une condition est vraie, avec `break` (arrêt) et `continue` (saut).\n",
    "- La boucle **`for`** pour itérer sur des séquences, avec `break` et `continue`.\n",
    "- La gestion des erreurs comme les boucles infinies.\n",
    "- Des cas pratiques comme la recherche et le filtrage.\n",
    "\n",
    "Vous êtes maintenant prêt à utiliser les boucles pour automatiser des tâches répétitives. Expérimentez avec les exemples pour approfondir vos compétences !"
   ]
  }
 ],
 "metadata": {
  "kernelspec": {
   "display_name": "Python 3",
   "language": "python",
   "name": "python3"
  },
  "language_info": {
   "codemirror_mode": {
    "name": "ipython",
    "version": 3
   },
   "file_extension": ".py",
   "mimetype": "text/x-python",
   "name": "python",
   "nbconvert_exporter": "python",
   "pygments_lexer": "ipython3",
   "version": "3.12.9"
  }
 },
 "nbformat": 4,
 "nbformat_minor": 2
}
