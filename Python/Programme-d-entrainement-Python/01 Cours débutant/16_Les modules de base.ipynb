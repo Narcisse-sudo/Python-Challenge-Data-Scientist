{
 "cells": [
  {
   "cell_type": "markdown",
   "metadata": {},
   "source": [
    "# Modules Python : math, datetime, os, glob, String, random, csv, JSON\n",
    "\n",
    "Dans cette section, nous allons voir quelques modules de la bibliothèque standard Python : **math**, **datetime**, **os**, **glob**, **string**, **random**, **csv** et **JSON**. Ces modules offrent des fonctionnalités puissantes pour les calculs mathématiques, la gestion du temps, les interactions avec le système d’exploitation, les informations système, ou encore la gestion des fichiers csv.\n",
    "\n",
    "## Qu’est-ce qu’un Module ?\n",
    "Un **module** est un fichier Python contenant des fonctions, classes ou variables prédéfinies que vous pouvez importer pour enrichir vos programmes.\n",
    "\n",
    "Commençons par le module `math` !\n",
    "\n",
    "---"
   ]
  },
  {
   "cell_type": "markdown",
   "metadata": {},
   "source": [
    "## Module `math`\n",
    "\n",
    "https://docs.python.org/3/library/math.html\n",
    "\n",
    "\n",
    "Le module `math` de Python fournit un ensemble complet de fonctions et de constantes mathématiques. Il est particulièrement utile dans les calculs, meme si dans la pratique, nous utiliserons plus souvent `numpy` en Data Science"
   ]
  },
  {
   "cell_type": "code",
   "execution_count": 2,
   "metadata": {},
   "outputs": [
    {
     "name": "stdout",
     "output_type": "stream",
     "text": [
      "['__doc__', '__file__', '__loader__', '__name__', '__package__', '__spec__', 'acos', 'acosh', 'asin', 'asinh', 'atan', 'atan2', 'atanh', 'cbrt', 'ceil', 'comb', 'copysign', 'cos', 'cosh', 'degrees', 'dist', 'e', 'erf', 'erfc', 'exp', 'exp2', 'expm1', 'fabs', 'factorial', 'floor', 'fma', 'fmod', 'frexp', 'fsum', 'gamma', 'gcd', 'hypot', 'inf', 'isclose', 'isfinite', 'isinf', 'isnan', 'isqrt', 'lcm', 'ldexp', 'lgamma', 'log', 'log10', 'log1p', 'log2', 'modf', 'nan', 'nextafter', 'perm', 'pi', 'pow', 'prod', 'radians', 'remainder', 'sin', 'sinh', 'sqrt', 'sumprod', 'tan', 'tanh', 'tau', 'trunc', 'ulp']\n"
     ]
    }
   ],
   "source": [
    "# Importer le module math\n",
    "import math\n",
    "\n",
    "# Vérifier les fonctions et variables disponibles\n",
    "print(dir(math))"
   ]
  },
  {
   "cell_type": "markdown",
   "metadata": {},
   "source": [
    "## Constantes mathématiques utiles\n",
    "\n",
    "Le module math offre plusieurs constantes très pratiques :\n",
    "\n",
    "- $\\pi$ : Rapport entre la circonférence et le diamètre d'un cercle (~3.14159)\n",
    "- $e$ : Base du logarithme naturel (~2.71828)\n",
    "- `tau` : Représente $2\\pi$\n",
    "- `inf` : Représentation mathématique de l'infini\n",
    "- `nan` : Valeur représentant \"Not a Number\" (non défini numériquement)"
   ]
  },
  {
   "cell_type": "code",
   "execution_count": 3,
   "metadata": {},
   "outputs": [
    {
     "name": "stdout",
     "output_type": "stream",
     "text": [
      "Valeur de pi : 3.141592653589793\n",
      "Valeur de e : 2.718281828459045\n",
      "Valeur de tau (2pi) : 6.283185307179586\n",
      "Infini : inf\n",
      "Valeur NaN (Not a Number) : nan\n"
     ]
    }
   ],
   "source": [
    "# Constantes mathématiques\n",
    "print(\"Valeur de pi :\", math.pi)\n",
    "print(\"Valeur de e :\", math.e)\n",
    "print(\"Valeur de tau (2pi) :\", math.tau)\n",
    "print(\"Infini :\", math.inf)\n",
    "print(\"Valeur NaN (Not a Number) :\", math.nan)"
   ]
  },
  {
   "cell_type": "markdown",
   "metadata": {},
   "source": [
    "## Fonctions mathématiques courantes\n",
    "\n",
    "Voici quelques fonctions très souvent utilisées dans les calculs scientifiques :\n",
    "\n",
    "- `sqrt(x)` : racine carrée de x\n",
    "- `log(x, base)` : logarithme de x en base spécifiée (base naturelle par défaut)\n",
    "- `exp(x)` : exponentielle de x\n",
    "- Fonctions trigonométriques : `sin(x)`, `cos(x)`, `tan(x)`\n",
    "- Arrondi : `ceil(x)` (arrondi supérieur), `floor(x)` (arrondi inférieur)\n",
    "- Factorielle : `factorial(x)`"
   ]
  },
  {
   "cell_type": "code",
   "execution_count": 4,
   "metadata": {},
   "outputs": [
    {
     "name": "stdout",
     "output_type": "stream",
     "text": [
      "Racine carrée de 16 : 4.0\n",
      "Logarithme naturel de e : 1.0\n",
      "Logarithme base 10 de 1000 : 3.0\n",
      "Logarithme base 2 de 1024 : 10.0\n",
      "Exponentielle de 3 : 20.085536923187668\n",
      "Sinus de pi/4 : 0.7071067811865475\n",
      "Cosinus de pi/4 : 0.7071067811865476\n",
      "Tangente de pi/4 : 0.9999999999999999\n",
      "Arrondi supérieur de 4.3 : 5\n",
      "Arrondi inférieur de 4.7 : 4\n",
      "Factorielle de 5 : 120\n"
     ]
    }
   ],
   "source": [
    "# Racine carrée\n",
    "print(\"Racine carrée de 16 :\", math.sqrt(16))\n",
    "\n",
    "# Logarithmes\n",
    "print(\"Logarithme naturel de e :\", math.log(math.e))\n",
    "print(\"Logarithme base 10 de 1000 :\", math.log10(1000))\n",
    "print(\"Logarithme base 2 de 1024 :\", math.log2(1024))\n",
    "\n",
    "# Exponentielle\n",
    "print(\"Exponentielle de 3 :\", math.exp(3))\n",
    "\n",
    "# Fonctions trigonométriques\n",
    "angle = math.pi / 4\n",
    "print(\"Sinus de pi/4 :\", math.sin(angle))\n",
    "print(\"Cosinus de pi/4 :\", math.cos(angle))\n",
    "print(\"Tangente de pi/4 :\", math.tan(angle))\n",
    "\n",
    "# Arrondis\n",
    "print(\"Arrondi supérieur de 4.3 :\", math.ceil(4.3))\n",
    "print(\"Arrondi inférieur de 4.7 :\", math.floor(4.7))\n",
    "\n",
    "# Factorielle\n",
    "print(\"Factorielle de 5 :\", math.factorial(5))"
   ]
  },
  {
   "cell_type": "markdown",
   "metadata": {},
   "source": [
    "## Exercice\n",
    "\n",
    "Calculer l'hypoténuse d'un triangle rectangle dont les côtés sont 6 et 8."
   ]
  },
  {
   "cell_type": "code",
   "execution_count": 5,
   "metadata": {},
   "outputs": [
    {
     "data": {
      "text/plain": [
       "'\\nVotre réponse ici\\n'"
      ]
     },
     "execution_count": 5,
     "metadata": {},
     "output_type": "execute_result"
    }
   ],
   "source": [
    "\"\"\"\n",
    "Votre réponse ici\n",
    "\"\"\""
   ]
  },
  {
   "cell_type": "code",
   "execution_count": 6,
   "metadata": {},
   "outputs": [
    {
     "name": "stdout",
     "output_type": "stream",
     "text": [
      "Hypoténuse du triangle rectangle (6,8): 10.0\n"
     ]
    }
   ],
   "source": [
    "hypotenuse = math.hypot(6, 8)\n",
    "print(\"Hypoténuse du triangle rectangle (6,8):\", hypotenuse)"
   ]
  },
  {
   "cell_type": "markdown",
   "metadata": {},
   "source": [
    "---\n",
    "\n",
    "## Module `datetime`\n",
    "\n",
    "Le module `datetime` est essentiel en Python pour manipuler des dates et des heures.  \n",
    "Très utile en Data Science, ce module permet de travailler avec les séries temporelles, les analyses temporelles de données, et bien plus encore.\n",
    "\n",
    "\n",
    "https://docs.python.org/3/library/datetime.html\n"
   ]
  },
  {
   "cell_type": "code",
   "execution_count": 7,
   "metadata": {},
   "outputs": [],
   "source": [
    "import datetime"
   ]
  },
  {
   "cell_type": "markdown",
   "metadata": {},
   "source": [
    "## Classes principales de datetime\n",
    "\n",
    "- `date` : Représente une date (année, mois, jour)\n",
    "- `time` : Représente une heure (heure, minute, seconde, microseconde)\n",
    "- `datetime` : Combine date et heure\n",
    "- `timedelta` : Représente une durée ou un intervalle de temps"
   ]
  },
  {
   "cell_type": "code",
   "execution_count": 8,
   "metadata": {},
   "outputs": [
    {
     "name": "stdout",
     "output_type": "stream",
     "text": [
      "<class 'datetime.date'>\n",
      "Date spécifique : 2025-01-01\n"
     ]
    }
   ],
   "source": [
    "# Création d'une date spécifique\n",
    "specific_date = datetime.date(2025, 1, 1)\n",
    "\n",
    "print(type(specific_date))\n",
    "\n",
    "print(\"Date spécifique :\", specific_date)"
   ]
  },
  {
   "cell_type": "code",
   "execution_count": 9,
   "metadata": {},
   "outputs": [
    {
     "name": "stdout",
     "output_type": "stream",
     "text": [
      "<class 'datetime.time'>\n",
      "Heure spécifique : 14:30:00\n"
     ]
    }
   ],
   "source": [
    "# Création d'une heure spécifique\n",
    "specific_time = datetime.time(14, 30, 0)\n",
    "\n",
    "print(type(specific_time))\n",
    "\n",
    "\n",
    "print(\"Heure spécifique :\", specific_time)"
   ]
  },
  {
   "cell_type": "code",
   "execution_count": 10,
   "metadata": {},
   "outputs": [
    {
     "name": "stdout",
     "output_type": "stream",
     "text": [
      "<class 'datetime.datetime'>\n",
      "Date et heure spécifique : 2025-05-17 10:15:30\n"
     ]
    }
   ],
   "source": [
    "# Création d'une date-heure spécifique\n",
    "specific_datetime = datetime.datetime(2025, 5, 17, 10, 15, 30)\n",
    "\n",
    "print(type(specific_datetime))\n",
    "\n",
    "print(\"Date et heure spécifique :\", specific_datetime)"
   ]
  },
  {
   "cell_type": "markdown",
   "metadata": {},
   "source": [
    "## Afficher L'heure et la date actuelle"
   ]
  },
  {
   "cell_type": "code",
   "execution_count": null,
   "metadata": {},
   "outputs": [
    {
     "name": "stdout",
     "output_type": "stream",
     "text": [
      "Date actuelle : 2025-06-17\n",
      "Heure actuelle : 2025-06-17\n"
     ]
    }
   ],
   "source": [
    "# Utilisation de time\n",
    "current_time = datetime.datetime.now().time()\n",
    "today = datetime.date.today()\n",
    "\n",
    "print(\"Date actuelle :\", today)\n",
    "print(\"Heure actuelle :\", current_time)"
   ]
  },
  {
   "cell_type": "code",
   "execution_count": 12,
   "metadata": {},
   "outputs": [
    {
     "name": "stdout",
     "output_type": "stream",
     "text": [
      "Date et heure actuelles : 2025-06-17 00:36:21.340234\n"
     ]
    }
   ],
   "source": [
    "# ou plus simplement...\n",
    "now = datetime.datetime.now()\n",
    "print(\"Date et heure actuelles :\", now)"
   ]
  },
  {
   "cell_type": "markdown",
   "metadata": {},
   "source": [
    "## Manipulation des objets datetime\n",
    "\n",
    "Vous pouvez combiner et manipuler les objets date et heure avec la classe `datetime`. Cela est très utile pour gérer des données temporelles complètes."
   ]
  },
  {
   "cell_type": "code",
   "execution_count": 13,
   "metadata": {},
   "outputs": [
    {
     "name": "stdout",
     "output_type": "stream",
     "text": [
      "Date et heure spécifique : 2025-05-17 10:15:30\n"
     ]
    }
   ],
   "source": [
    "# Création d'une date-heure spécifique\n",
    "specific_datetime = datetime.datetime(2025, 5, 17, 10, 15, 30)\n",
    "print(\"Date et heure spécifique :\", specific_datetime)"
   ]
  },
  {
   "cell_type": "code",
   "execution_count": 14,
   "metadata": {},
   "outputs": [
    {
     "name": "stdout",
     "output_type": "stream",
     "text": [
      "Année : 2025\n",
      "Mois : 5\n",
      "Jour : 17\n",
      "Heure : 10\n",
      "Minute : 15\n"
     ]
    }
   ],
   "source": [
    "# Extraction d'informations\n",
    "print(\"Année :\", specific_datetime.year)\n",
    "print(\"Mois :\", specific_datetime.month)\n",
    "print(\"Jour :\", specific_datetime.day)\n",
    "print(\"Heure :\", specific_datetime.hour)\n",
    "print(\"Minute :\", specific_datetime.minute)"
   ]
  },
  {
   "cell_type": "markdown",
   "metadata": {},
   "source": [
    "## Calculer la durée entre 2 dates avec `timedelta`\n",
    "\n",
    "La classe `timedelta` est utilisée pour représenter la différence entre deux dates ou heures."
   ]
  },
  {
   "cell_type": "code",
   "execution_count": 15,
   "metadata": {},
   "outputs": [],
   "source": [
    "date_start = datetime.datetime(2024, 1, 1, 12, 30, 15)\n",
    "date_end = datetime.datetime(2024, 12, 31, 23, 59, 59)"
   ]
  },
  {
   "cell_type": "code",
   "execution_count": 16,
   "metadata": {},
   "outputs": [
    {
     "name": "stdout",
     "output_type": "stream",
     "text": [
      "<class 'datetime.timedelta'>\n",
      "Durée entre les deux dates : 365 days, 11:29:44\n",
      "Nombre de jours : 365\n"
     ]
    }
   ],
   "source": [
    "delta = date_end - date_start\n",
    "print(type(delta))\n",
    "print(\"Durée entre les deux dates :\", delta)\n",
    "print(\"Nombre de jours :\", delta.days)"
   ]
  },
  {
   "cell_type": "code",
   "execution_count": 17,
   "metadata": {},
   "outputs": [
    {
     "name": "stdout",
     "output_type": "stream",
     "text": [
      "Date 90 jours après le 1er janvier 2024 : 2024-04-14 12:30:15\n"
     ]
    }
   ],
   "source": [
    "# Ajouter un timedelta à une date\n",
    "future_date = date_start + datetime.timedelta(days=90, weeks=2)\n",
    "print(\"Date 90 jours après le 1er janvier 2024 :\", future_date)"
   ]
  },
  {
   "cell_type": "markdown",
   "metadata": {},
   "source": [
    "## Formater et analyser les dates\n",
    "\n",
    "Les fonctions `strftime()` et `strptime()` permettent de convertir entre objets datetime et chaînes de caractères."
   ]
  },
  {
   "cell_type": "code",
   "execution_count": 18,
   "metadata": {},
   "outputs": [
    {
     "name": "stdout",
     "output_type": "stream",
     "text": [
      "2025-06-17 00:36:21.340234\n"
     ]
    }
   ],
   "source": [
    "print(now)"
   ]
  },
  {
   "cell_type": "code",
   "execution_count": 19,
   "metadata": {},
   "outputs": [
    {
     "name": "stdout",
     "output_type": "stream",
     "text": [
      "Date formatée : 2025-06-17 00:36:21\n",
      "<class 'str'>\n"
     ]
    }
   ],
   "source": [
    "# Convertir datetime en chaîne formatée\n",
    "formatted_date = now.strftime(\"%Y-%m-%d %H:%M:%S\")\n",
    "print(\"Date formatée :\", formatted_date)\n",
    "\n",
    "print(type(formatted_date))"
   ]
  },
  {
   "cell_type": "code",
   "execution_count": 20,
   "metadata": {},
   "outputs": [
    {
     "name": "stdout",
     "output_type": "stream",
     "text": [
      "Date analysée depuis une chaîne : 2024-12-25 09:30:00\n"
     ]
    }
   ],
   "source": [
    "# Analyser une chaîne en objet datetime\n",
    "date_str = \"2024-12-25 09:30:00\"\n",
    "parsed_date = datetime.datetime.strptime(date_str, \"%Y-%m-%d %H:%M:%S\")\n",
    "print(\"Date analysée depuis une chaîne :\", parsed_date)"
   ]
  },
  {
   "cell_type": "markdown",
   "metadata": {},
   "source": [
    "## Cas pratique Data Science : analyse temporelle\n",
    "\n",
    "Par exemple, imaginons que vous analysiez les fréquences de visites d'un site web.  \n",
    "Voici comment calculer le temps écoulé entre deux visites."
   ]
  },
  {
   "cell_type": "code",
   "execution_count": 21,
   "metadata": {},
   "outputs": [
    {
     "name": "stdout",
     "output_type": "stream",
     "text": [
      "Temps entre deux visites : 5 days, 6:15:00\n",
      "Temps écoulé en heures : 126.25 heures\n"
     ]
    }
   ],
   "source": [
    "# Dates des deux visites\n",
    "visit1 = datetime.datetime(2024, 3, 10, 8, 30)\n",
    "visit2 = datetime.datetime(2024, 3, 15, 14, 45)\n",
    "\n",
    "# Temps écoulé entre deux visites\n",
    "interval = visit2 - visit1\n",
    "print(\"Temps entre deux visites :\", interval)\n",
    "\n",
    "# Conversion en heures totales\n",
    "hours = interval.total_seconds() / 3600\n",
    "print(f\"Temps écoulé en heures : {hours:.2f} heures\")"
   ]
  },
  {
   "cell_type": "markdown",
   "metadata": {},
   "source": [
    "## Exercices\n",
    "\n",
    "1. Calculez votre âge exact en jours depuis votre naissance.\n",
    "2. On vous fournit 2 listes de dates, mais elles ne sont pas formattées de la meme maniere...\n",
    "modifier leur format et déterminer le nombre de jours qui séparent chaque `date1` de sa jummelle la `date2`"
   ]
  },
  {
   "cell_type": "code",
   "execution_count": 22,
   "metadata": {},
   "outputs": [],
   "source": [
    "\"\"\"\n",
    "Votre réponse ici\n",
    "\"\"\"\n",
    "\n",
    "liste1 = [\"15/08/2025\", \"20/08/2023\", \"08/02/2017\", \"23/04/2009\"] # Jour / Mois / Année\n",
    "liste2 = [\"2025-03-18\", \"2022-04-23\", \"2019-06-12\", \"2008-01-10\"] # Année - Mois - Jour"
   ]
  },
  {
   "cell_type": "code",
   "execution_count": 23,
   "metadata": {},
   "outputs": [
    {
     "name": "stdout",
     "output_type": "stream",
     "text": [
      "Votre âge exact en jours est : 11768\n"
     ]
    }
   ],
   "source": [
    "# Exercice 1 : Âge exact en jours\n",
    "birth_date = datetime.datetime(1993, 3, 29)\n",
    "today = datetime.datetime.now()\n",
    "age_days = (today - birth_date).days\n",
    "print(\"Votre âge exact en jours est :\", age_days)"
   ]
  },
  {
   "cell_type": "code",
   "execution_count": 24,
   "metadata": {},
   "outputs": [
    {
     "name": "stdout",
     "output_type": "stream",
     "text": [
      "-150\n",
      "-484\n",
      "854\n",
      "-469\n"
     ]
    }
   ],
   "source": [
    "# Exercice 2 : Dates de 2 listes\n",
    "liste1 = [\"15/08/2025\", \"20/08/2023\", \"08/02/2017\", \"23/04/2009\"] # Jour / Mois / Année\n",
    "liste2 = [\"2025-03-18\", \"2022-04-23\", \"2019-06-12\", \"2008-01-10\"] # Année - Mois - Jour\n",
    "\n",
    "for date1, date2 in zip(liste1, liste2):\n",
    "    date1 = datetime.datetime.strptime(date1, \"%d/%m/%Y\")\n",
    "    date2 = datetime.datetime.strptime(date2, \"%Y-%m-%d\")\n",
    "    print((date2 - date1).days)"
   ]
  },
  {
   "cell_type": "markdown",
   "metadata": {},
   "source": [
    "---\n",
    "\n",
    "## Module `os`\n",
    "\n",
    "Le module `os` permet d'interagir facilement avec le système d'exploitation (Operating System). Il est très souvent utilisé dans des projets afin de gérer vos fichiers, vos répertoires, vos variables d'environnement, et d'automatiser certaines tâches.\n",
    "\n",
    "https://docs.python.org/3/library/os.html\n"
   ]
  },
  {
   "cell_type": "code",
   "execution_count": 25,
   "metadata": {},
   "outputs": [],
   "source": [
    "import os"
   ]
  },
  {
   "cell_type": "markdown",
   "metadata": {},
   "source": [
    "## Fonctions courantes du module os\n",
    "\n",
    "- `os.getcwd()` : Retourne le répertoire courant.\n",
    "- `os.chdir(path)` : Change le répertoire courant.\n",
    "- `os.listdir(path)` : Liste les fichiers et dossiers d'un répertoire.\n",
    "- `os.mkdir(path)` / `os.makedirs(path)` : Crée un ou plusieurs répertoires.\n",
    "- `os.remove(path)` : Supprime un fichier.\n",
    "- `os.rmdir(path)` / `os.removedirs(path)` : Supprime un ou plusieurs répertoires."
   ]
  },
  {
   "cell_type": "code",
   "execution_count": 26,
   "metadata": {},
   "outputs": [
    {
     "name": "stdout",
     "output_type": "stream",
     "text": [
      "Répertoire courant : /home/narcisse/Formation/Formation_ML_Guillaume/Programme-d-entrainement-Python/01 Cours débutant\n"
     ]
    }
   ],
   "source": [
    "# Afficher le répertoire courant\n",
    "current_dir = os.getcwd()\n",
    "print(\"Répertoire courant :\", current_dir)"
   ]
  },
  {
   "cell_type": "code",
   "execution_count": 27,
   "metadata": {},
   "outputs": [
    {
     "data": {
      "text/plain": [
       "['fichiers_projet',\n",
       " '04_Les conditions.ipynb',\n",
       " '01_Introduction.ipynb',\n",
       " '05_Structure match_case.ipynb',\n",
       " '12_Les fonctions.ipynb',\n",
       " '10_Les dictionnaires.ipynb',\n",
       " '15_PEP8.ipynb',\n",
       " '07_Les listes.ipynb',\n",
       " 'images',\n",
       " '09_Les ensembles.ipynb',\n",
       " '14_Structurer son code.ipynb',\n",
       " '11_Gestion des fichiers.ipynb',\n",
       " '13_Docstrings.ipynb',\n",
       " 'data',\n",
       " '17_Projet énoncé.ipynb',\n",
       " '06_Les boucles.ipynb',\n",
       " '03_Operations et expressions.ipynb',\n",
       " '02_Variables et types de donnees.ipynb',\n",
       " '16_Les modules de base.ipynb',\n",
       " '08_Les tuples.ipynb']"
      ]
     },
     "execution_count": 27,
     "metadata": {},
     "output_type": "execute_result"
    }
   ],
   "source": [
    "# Lister les fichiers du répertoire courant\n",
    "os.listdir(current_dir)"
   ]
  },
  {
   "cell_type": "code",
   "execution_count": 28,
   "metadata": {},
   "outputs": [
    {
     "name": "stdout",
     "output_type": "stream",
     "text": [
      "Répertoire 'test_directory' créé : True\n"
     ]
    }
   ],
   "source": [
    "# Créer un nouveau répertoire (exemple)\n",
    "new_dir = \"test_directory\"\n",
    "os.makedirs(new_dir, exist_ok=True)\n",
    "print(f\"Répertoire '{new_dir}' créé :\", os.path.exists(new_dir))"
   ]
  },
  {
   "cell_type": "code",
   "execution_count": 29,
   "metadata": {},
   "outputs": [
    {
     "name": "stdout",
     "output_type": "stream",
     "text": [
      "Répertoire 'test_directory' supprimé : True\n"
     ]
    }
   ],
   "source": [
    "# Supprimer le répertoire créé\n",
    "os.rmdir(new_dir)\n",
    "print(f\"Répertoire '{new_dir}' supprimé :\", not os.path.exists(new_dir))"
   ]
  },
  {
   "cell_type": "markdown",
   "metadata": {},
   "source": [
    "## Manipulation des chemins avec `os.path`\n",
    "\n",
    "- `os.path.join()` : Crée des chemins compatibles avec l'OS.\n",
    "- `os.path.exists()` : Vérifie l’existence d’un chemin.\n",
    "- `os.path.isfile()` : Vérifie si un chemin est un fichier.\n",
    "- `os.path.isdir()` : Vérifie si un chemin est un dossier.\n",
    "- `os.path.basename()` / `os.path.dirname()` : Obtenir le nom du fichier ou du dossier parent."
   ]
  },
  {
   "cell_type": "code",
   "execution_count": 30,
   "metadata": {},
   "outputs": [
    {
     "name": "stdout",
     "output_type": "stream",
     "text": [
      "Chemin complet construit : /home/narcisse/Formation/Formation_ML_Guillaume/Programme-d-entrainement-Python/01 Cours débutant/data/fichier.txt\n"
     ]
    }
   ],
   "source": [
    "# Construire un chemin compatible\n",
    "file_path = os.path.join(current_dir, \"data\", \"fichier.txt\")\n",
    "print(\"Chemin complet construit :\", file_path)"
   ]
  },
  {
   "cell_type": "code",
   "execution_count": 31,
   "metadata": {},
   "outputs": [
    {
     "name": "stdout",
     "output_type": "stream",
     "text": [
      "Le fichier existe-t-il ? False\n"
     ]
    }
   ],
   "source": [
    "# Vérifier l’existence\n",
    "print(\"Le fichier existe-t-il ?\", os.path.exists(file_path))"
   ]
  },
  {
   "cell_type": "code",
   "execution_count": 32,
   "metadata": {},
   "outputs": [
    {
     "name": "stdout",
     "output_type": "stream",
     "text": [
      "Est-ce un fichier ? False\n",
      "Est-ce un dossier ? True\n"
     ]
    }
   ],
   "source": [
    "# Vérifier le type (fichier/dossier)\n",
    "print(\"Est-ce un fichier ?\", os.path.isfile(file_path))\n",
    "print(\"Est-ce un dossier ?\", os.path.isdir(current_dir))"
   ]
  },
  {
   "cell_type": "code",
   "execution_count": 33,
   "metadata": {},
   "outputs": [
    {
     "data": {
      "text/plain": [
       "'/home/narcisse/Formation/Formation_ML_Guillaume/Programme-d-entrainement-Python/01 Cours débutant/data/fichier.txt'"
      ]
     },
     "execution_count": 33,
     "metadata": {},
     "output_type": "execute_result"
    }
   ],
   "source": [
    "file_path"
   ]
  },
  {
   "cell_type": "code",
   "execution_count": 34,
   "metadata": {},
   "outputs": [
    {
     "name": "stdout",
     "output_type": "stream",
     "text": [
      "Nom du fichier : fichier.txt\n",
      "Dossier parent : /home/narcisse/Formation/Formation_ML_Guillaume/Programme-d-entrainement-Python/01 Cours débutant/data\n"
     ]
    }
   ],
   "source": [
    "# Obtenir le nom du fichier et dossier parent\n",
    "print(\"Nom du fichier :\", os.path.basename(file_path))\n",
    "print(\"Dossier parent :\", os.path.dirname(file_path))"
   ]
  },
  {
   "cell_type": "markdown",
   "metadata": {},
   "source": [
    "## Variables d'environnement\n",
    "\n",
    "Le module `os` permet également de manipuler les variables d'environnement du système."
   ]
  },
  {
   "cell_type": "code",
   "execution_count": 35,
   "metadata": {},
   "outputs": [
    {
     "name": "stdout",
     "output_type": "stream",
     "text": [
      "Répertoire HOME : /home/narcisse\n"
     ]
    }
   ],
   "source": [
    "# Accéder aux variables d'environnement\n",
    "home_dir = os.environ.get(\"HOME\")\n",
    "print(\"Répertoire HOME :\", home_dir)"
   ]
  },
  {
   "cell_type": "code",
   "execution_count": 36,
   "metadata": {},
   "outputs": [
    {
     "name": "stdout",
     "output_type": "stream",
     "text": [
      "Variable MY_VAR : DataScience\n"
     ]
    }
   ],
   "source": [
    "# Définir une nouvelle variable d'environnement temporaire\n",
    "os.environ[\"MY_VAR\"] = \"DataScience\"\n",
    "print(\"Variable MY_VAR :\", os.environ.get(\"MY_VAR\"))"
   ]
  },
  {
   "cell_type": "markdown",
   "metadata": {},
   "source": [
    "## Exécuter des commandes système\n",
    "\n",
    "La fonction `os.system()` permet d'exécuter des commandes directement depuis Python."
   ]
  },
  {
   "cell_type": "code",
   "execution_count": 37,
   "metadata": {},
   "outputs": [
    {
     "name": "stdout",
     "output_type": "stream",
     "text": [
      "total 328\n",
      "drwxrwxrwx 5 narcisse narcisse  4096 Jun 17 00:36 .\n",
      "drwxrwxrwx 7 narcisse narcisse  4096 Jun 15 16:43 ..\n",
      "-rwxrwxrwx 1 narcisse narcisse  9703 Jun 15 16:43 01_Introduction.ipynb\n",
      "-rwxrwxrwx 1 narcisse narcisse 13629 Jun 15 16:43 02_Variables et types de donnees.ipynb\n",
      "-rwxrwxrwx 1 narcisse narcisse 12944 Jun 15 16:43 03_Operations et expressions.ipynb\n",
      "-rwxrwxrwx 1 narcisse narcisse  9343 Jun 15 16:43 04_Les conditions.ipynb\n",
      "-rwxrwxrwx 1 narcisse narcisse 11247 Jun 15 17:41 05_Structure match_case.ipynb\n",
      "-rwxrwxrwx 1 narcisse narcisse  8785 Jun 15 16:43 06_Les boucles.ipynb\n",
      "-rwxrwxrwx 1 narcisse narcisse 20145 Jun 16 10:27 07_Les listes.ipynb\n",
      "-rwxrwxrwx 1 narcisse narcisse  7324 Jun 15 16:43 08_Les tuples.ipynb\n",
      "-rwxrwxrwx 1 narcisse narcisse 18078 Jun 16 11:26 09_Les ensembles.ipynb\n",
      "-rwxrwxrwx 1 narcisse narcisse 17301 Jun 16 13:22 10_Les dictionnaires.ipynb\n",
      "-rwxrwxrwx 1 narcisse narcisse  8454 Jun 16 15:09 11_Gestion des fichiers.ipynb\n",
      "-rwxrwxrwx 1 narcisse narcisse 23463 Jun 16 22:15 12_Les fonctions.ipynb\n",
      "-rwxrwxrwx 1 narcisse narcisse 17000 Jun 15 16:43 13_Docstrings.ipynb\n",
      "-rwxrwxrwx 1 narcisse narcisse 14613 Jun 16 23:21 14_Structurer son code.ipynb\n",
      "-rwxrwxrwx 1 narcisse narcisse 13334 Jun 15 16:43 15_PEP8.ipynb\n",
      "-rwxrwxrwx 1 narcisse narcisse 56887 Jun 17 00:36 16_Les modules de base.ipynb\n",
      "-rwxrwxrwx 1 narcisse narcisse 13401 Jun 15 16:43 17_Projet énoncé.ipynb\n",
      "drwxrwxrwx 3 narcisse narcisse  4096 Jun 15 16:43 data\n",
      "drwxrwxrwx 2 narcisse narcisse  4096 Jun 15 16:43 fichiers_projet\n",
      "drwxrwxrwx 2 narcisse narcisse  4096 Jun 15 16:43 images\n"
     ]
    },
    {
     "data": {
      "text/plain": [
       "0"
      ]
     },
     "execution_count": 37,
     "metadata": {},
     "output_type": "execute_result"
    }
   ],
   "source": [
    "# Afficher le contenu du répertoire avec une commande système (selon OS)\n",
    "os.system(\"ls -la\")  # Linux/Mac\n",
    "# os.system(\"dir\") # Windows "
   ]
  },
  {
   "cell_type": "markdown",
   "metadata": {},
   "source": [
    "## Exercice\n",
    "\n",
    "Créer une variable constante PATH=\"dossier\", vérifier si ce dossier est bien présent. Sinon, le créer et le remplir de 3 fichiers txt avec des valeurs par défaut. Puis utiliser join pour ouvrir chaque fichier et mettre son contenu dans un dictionnaire avec comme clef le nom de chaque fichier"
   ]
  },
  {
   "cell_type": "code",
   "execution_count": 38,
   "metadata": {},
   "outputs": [
    {
     "data": {
      "text/plain": [
       "'\\nVotre réponse ici\\n'"
      ]
     },
     "execution_count": 38,
     "metadata": {},
     "output_type": "execute_result"
    }
   ],
   "source": [
    "\"\"\"\n",
    "Votre réponse ici\n",
    "\"\"\""
   ]
  },
  {
   "cell_type": "code",
   "execution_count": 39,
   "metadata": {},
   "outputs": [
    {
     "name": "stdout",
     "output_type": "stream",
     "text": [
      "{'fichier_1': 'Contenu du fichier 1', 'fichier_2': 'Voici le fichier numéro 2', 'fichier_3': 'Ceci est le troisième fichier'}\n"
     ]
    }
   ],
   "source": [
    "import os\n",
    "\n",
    "# 1. Définir une constante PATH\n",
    "PATH = \"mon_dossier_txt\"\n",
    "\n",
    "# 2. Vérifier si le dossier existe, sinon le créer\n",
    "if not os.path.exists(PATH):\n",
    "    os.makedirs(PATH)\n",
    "\n",
    "    # 3. Créer 3 fichiers TXT avec des valeurs par défaut\n",
    "    contenus_defaut = [\n",
    "        \"Contenu du fichier 1\",\n",
    "        \"Voici le fichier numéro 2\",\n",
    "        \"Ceci est le troisième fichier\"\n",
    "    ]\n",
    "\n",
    "    for i, contenu in enumerate(contenus_defaut, 1):\n",
    "        nom_fichier = f\"fichier_{i}.txt\"\n",
    "        chemin_fichier = os.path.join(PATH, nom_fichier)\n",
    "        with open(chemin_fichier, 'w', encoding='utf-8') as f:\n",
    "            f.write(contenu)\n",
    "\n",
    "# 4. Charger chaque fichier TXT dans un dictionnaire\n",
    "dictionnaire_fichiers = {}\n",
    "\n",
    "for nom_fichier in os.listdir(PATH):\n",
    "    if nom_fichier.endswith(\".txt\"):\n",
    "        chemin_fichier = os.path.join(PATH, nom_fichier)\n",
    "        with open(chemin_fichier, 'r', encoding='utf-8') as f:\n",
    "            contenu = f.read()\n",
    "        # Stocker dans le dictionnaire avec le nom du fichier sans l'extension\n",
    "        clef = os.path.splitext(nom_fichier)[0]\n",
    "        dictionnaire_fichiers[clef] = contenu\n",
    "\n",
    "# Afficher le dictionnaire final\n",
    "print(dictionnaire_fichiers)"
   ]
  },
  {
   "cell_type": "markdown",
   "metadata": {},
   "source": [
    "---\n",
    "\n",
    "## Module `glob`\n",
    "\n"
   ]
  },
  {
   "cell_type": "markdown",
   "metadata": {},
   "source": [
    "Le module `glob` permet de rechercher et récupérer facilement des fichiers à partir de modèles (« patterns »). Il est particulièrement utile en Data Science pour gérer des ensembles de fichiers, tels que des fichiers CSV, images, ou textes.\n",
    "\n",
    "On l'utilise parfois en complément du module `os`\n",
    "\n",
    "https://docs.python.org/3/library/glob.html"
   ]
  },
  {
   "cell_type": "code",
   "execution_count": 40,
   "metadata": {},
   "outputs": [],
   "source": [
    "import glob"
   ]
  },
  {
   "cell_type": "markdown",
   "metadata": {},
   "source": [
    "## Principales fonctions du module glob\n",
    "\n",
    "- `glob.glob(pattern)` : Retourne une liste de fichiers correspondant au modèle donné.\n",
    "- `glob.iglob(pattern)` : Retourne un itérateur permettant d'économiser la mémoire sur de gros ensembles de fichiers."
   ]
  },
  {
   "cell_type": "code",
   "execution_count": 41,
   "metadata": {},
   "outputs": [
    {
     "data": {
      "text/plain": [
       "['04_Les conditions.ipynb',\n",
       " '01_Introduction.ipynb',\n",
       " '05_Structure match_case.ipynb',\n",
       " '12_Les fonctions.ipynb',\n",
       " '10_Les dictionnaires.ipynb',\n",
       " '15_PEP8.ipynb',\n",
       " '07_Les listes.ipynb',\n",
       " '09_Les ensembles.ipynb',\n",
       " '14_Structurer son code.ipynb',\n",
       " '11_Gestion des fichiers.ipynb',\n",
       " '13_Docstrings.ipynb',\n",
       " '17_Projet énoncé.ipynb',\n",
       " '06_Les boucles.ipynb',\n",
       " '03_Operations et expressions.ipynb',\n",
       " '02_Variables et types de donnees.ipynb',\n",
       " '16_Les modules de base.ipynb',\n",
       " '08_Les tuples.ipynb']"
      ]
     },
     "execution_count": 41,
     "metadata": {},
     "output_type": "execute_result"
    }
   ],
   "source": [
    "# Afficher tous les notebooks dans le répertoire courant\n",
    "python_files = glob.glob(\"*.ipynb\")\n",
    "python_files"
   ]
  },
  {
   "cell_type": "code",
   "execution_count": 42,
   "metadata": {},
   "outputs": [
    {
     "data": {
      "text/plain": [
       "['data/iris_filtered.csv',\n",
       " 'data/iris_setosa.csv',\n",
       " 'data/personnes_dict.csv',\n",
       " 'data/personnes.csv',\n",
       " 'data/iris.csv',\n",
       " 'data/data.csv']"
      ]
     },
     "execution_count": 42,
     "metadata": {},
     "output_type": "execute_result"
    }
   ],
   "source": [
    "# Afficher tous les fichiers CSV dans un sous-dossier \"data\"\n",
    "csv_files = glob.glob(\"data/*.csv\")\n",
    "csv_files"
   ]
  },
  {
   "cell_type": "markdown",
   "metadata": {},
   "source": [
    "## Wildcards couramment utilisées avec glob\n",
    "\n",
    "- `*` : correspond à tout nombre de caractères (y compris zéro).\n",
    "- `?` : correspond exactement à un caractère unique.\n",
    "- `[seq]` : correspond à tout caractère présent dans la séquence donnée.\n",
    "- `[!seq]` : correspond à tout caractère qui n'est pas dans la séquence donnée."
   ]
  },
  {
   "cell_type": "code",
   "execution_count": 43,
   "metadata": {},
   "outputs": [
    {
     "data": {
      "text/plain": [
       "['data/iris_filtered.csv', 'data/iris_setosa.csv', 'data/iris.csv']"
      ]
     },
     "execution_count": 43,
     "metadata": {},
     "output_type": "execute_result"
    }
   ],
   "source": [
    "# Tous les fichiers commençant par \"data_\" et se terminant par \".csv\"\n",
    "pattern_files = glob.glob(\"data/iris*.csv\")\n",
    "pattern_files"
   ]
  },
  {
   "cell_type": "code",
   "execution_count": 44,
   "metadata": {},
   "outputs": [
    {
     "data": {
      "text/plain": [
       "['15_PEP8.ipynb']"
      ]
     },
     "execution_count": 44,
     "metadata": {},
     "output_type": "execute_result"
    }
   ],
   "source": [
    "# Les fichiers .ipynb qui contiennent PEP suivit d'un caractere ?\n",
    "pattern_files = glob.glob(\"*PEP?.ipynb\")\n",
    "pattern_files"
   ]
  },
  {
   "cell_type": "code",
   "execution_count": 45,
   "metadata": {},
   "outputs": [
    {
     "data": {
      "text/plain": [
       "['images/black_formatter.png', 'images/SCR-20250311-kmvj.png']"
      ]
     },
     "execution_count": 45,
     "metadata": {},
     "output_type": "execute_result"
    }
   ],
   "source": [
    "# Tous les fichiers avec une extension commençant par \"jp\" (jpg, jpeg)\n",
    "images_files = glob.glob(\"images/*.[jp][pn]g\")\n",
    "images_files"
   ]
  },
  {
   "cell_type": "markdown",
   "metadata": {},
   "source": [
    "## Recherche récursive dans les sous-dossiers\n",
    "\n",
    "En Data Science, il est souvent utile d’effectuer des recherches de fichiers dans des dossiers et sous-dossiers de façon récursive."
   ]
  },
  {
   "cell_type": "code",
   "execution_count": 46,
   "metadata": {},
   "outputs": [
    {
     "data": {
      "text/plain": [
       "['fichiers_projet/individus_complets.csv',\n",
       " 'data/iris_filtered.csv',\n",
       " 'data/iris_setosa.csv',\n",
       " 'data/personnes_dict.csv',\n",
       " 'data/personnes.csv',\n",
       " 'data/iris.csv',\n",
       " 'data/data.csv']"
      ]
     },
     "execution_count": 46,
     "metadata": {},
     "output_type": "execute_result"
    }
   ],
   "source": [
    "# Recherche récursive de tous les fichiers \".csv\"\n",
    "recursive_csv_files = glob.glob(\"**/*.csv\", recursive=True)\n",
    "recursive_csv_files"
   ]
  },
  {
   "cell_type": "markdown",
   "metadata": {},
   "source": [
    "## Utilisation de `iglob()` pour économiser la mémoire\n",
    "\n",
    "La fonction `glob.iglob()` retourne un itérateur, utile pour travailler avec de très nombreux fichiers."
   ]
  },
  {
   "cell_type": "code",
   "execution_count": 47,
   "metadata": {},
   "outputs": [
    {
     "name": "stdout",
     "output_type": "stream",
     "text": [
      "Traitement du fichier : data/iris_filtered.csv\n",
      "Traitement du fichier : data/iris_setosa.csv\n",
      "Traitement du fichier : data/personnes_dict.csv\n",
      "Traitement du fichier : data/personnes.csv\n",
      "Traitement du fichier : data/iris.csv\n",
      "Traitement du fichier : data/data.csv\n"
     ]
    }
   ],
   "source": [
    "# Utiliser iglob pour itérer sur des fichiers CSV sans tout charger en mémoire\n",
    "for csv_file in glob.iglob(\"data/*.csv\"):\n",
    "    print(\"Traitement du fichier :\", csv_file)"
   ]
  },
  {
   "cell_type": "markdown",
   "metadata": {},
   "source": [
    "## Exercice Tres courrant en Data Science\n",
    "\n",
    "Nous avons placé plusieurs fichiers txt dans le dossier `data/exercice_glob`.\n",
    "Votre tache est de créer un dictionnaire python dont les clefs correspondent aux noms de tous ces fichiers, et les valeurs, a des listes qui contiennent le contenu de chaque ligne de chaque fichier"
   ]
  },
  {
   "cell_type": "code",
   "execution_count": 48,
   "metadata": {},
   "outputs": [
    {
     "data": {
      "text/plain": [
       "'\\nVotre réponse ici\\n'"
      ]
     },
     "execution_count": 48,
     "metadata": {},
     "output_type": "execute_result"
    }
   ],
   "source": [
    "\"\"\"\n",
    "Votre réponse ici\n",
    "\"\"\""
   ]
  },
  {
   "cell_type": "code",
   "execution_count": 49,
   "metadata": {},
   "outputs": [
    {
     "name": "stdout",
     "output_type": "stream",
     "text": [
      "liste_travail.txt ['préparer le meeting', 'corriger les bugs', 'former le stagiere', 'coder le nouveau projet']\n",
      "liste_course.txt ['tomates', 'oignons', 'carottes', 'oeufs', 'pain', 'farine', 'sucre']\n",
      "liste_valise.txt ['passeport', 'livre', 'creme solaire', 'brosse a dent', 'dentifrice', 'ordinateur portable']\n"
     ]
    }
   ],
   "source": [
    "import glob\n",
    "import os\n",
    "\n",
    "# Spécifie le chemin du dossier contenant les fichiers .txt\n",
    "dossier = 'data/exercice_glob'\n",
    "\n",
    "# Dictionnaire pour stocker les données\n",
    "contenu_fichiers = {}\n",
    "\n",
    "# Cherche tous les fichiers .txt dans le dossier\n",
    "for fichier_path in glob.glob(os.path.join(dossier, '*.txt')):\n",
    "    nom_fichier = os.path.basename(fichier_path)\n",
    "    with open(fichier_path, 'r', encoding='utf-8') as f:\n",
    "        lignes = f.readlines()\n",
    "        contenu_fichiers[nom_fichier] = [ligne.strip() for ligne in lignes]\n",
    "\n",
    "\n",
    "for keys, values in contenu_fichiers.items():\n",
    "    print(keys, values)"
   ]
  },
  {
   "cell_type": "markdown",
   "metadata": {},
   "source": [
    "---\n",
    "\n",
    "## Module `string`\n",
    "\n",
    "Le module `string` fournit des constantes utiles et des méthodes pratiques pour la manipulation de chaînes de caractères.  \n",
    "En Data Science, ce module aide notamment à préparer et nettoyer des données textuelles pour l'analyse.\n",
    "\n",
    "https://docs.python.org/3/library/string.html"
   ]
  },
  {
   "cell_type": "code",
   "execution_count": 50,
   "metadata": {},
   "outputs": [],
   "source": [
    "import string"
   ]
  },
  {
   "cell_type": "markdown",
   "metadata": {},
   "source": [
    "## Constantes utiles\n",
    "\n",
    "Le module `string` contient plusieurs constantes prédéfinies :\n",
    "\n",
    "- `ascii_letters` : toutes les lettres (minuscules et majuscules)\n",
    "- `ascii_lowercase` : lettres minuscules\n",
    "- `ascii_uppercase` : lettres majuscules\n",
    "- `digits` : chiffres de 0 à 9\n",
    "- `punctuation` : signes de ponctuation\n",
    "- `whitespace` : espaces blancs (espace, tabulation, saut de ligne, etc.)"
   ]
  },
  {
   "cell_type": "code",
   "execution_count": 51,
   "metadata": {},
   "outputs": [
    {
     "name": "stdout",
     "output_type": "stream",
     "text": [
      "Lettres ASCII : abcdefghijklmnopqrstuvwxyzABCDEFGHIJKLMNOPQRSTUVWXYZ\n",
      "Minuscules : abcdefghijklmnopqrstuvwxyz\n",
      "Majuscules : ABCDEFGHIJKLMNOPQRSTUVWXYZ\n",
      "Chiffres : 0123456789\n",
      "Ponctuation : !\"#$%&'()*+,-./:;<=>?@[\\]^_`{|}~\n",
      "Espaces blancs : ' \\t\\n\\r\\x0b\\x0c'\n"
     ]
    }
   ],
   "source": [
    "print(\"Lettres ASCII :\", string.ascii_letters)\n",
    "print(\"Minuscules :\", string.ascii_lowercase)\n",
    "print(\"Majuscules :\", string.ascii_uppercase)\n",
    "print(\"Chiffres :\", string.digits)\n",
    "print(\"Ponctuation :\", string.punctuation)\n",
    "print(\"Espaces blancs :\", repr(string.whitespace))"
   ]
  },
  {
   "cell_type": "markdown",
   "metadata": {},
   "source": [
    "## Templates (modèles de chaînes)\n",
    "\n",
    "La classe `Template` permet de substituer facilement des valeurs dans une chaîne prédéfinie, ce qui est utile pour générer des textes standardisés ou dynamiques."
   ]
  },
  {
   "cell_type": "code",
   "execution_count": 52,
   "metadata": {},
   "outputs": [],
   "source": [
    "from string import Template\n",
    "\n",
    "# Création d'un modèle de chaîne\n",
    "template_str = Template(\"Bonjour $nom, bienvenue dans le cours de $cours !\")"
   ]
  },
  {
   "cell_type": "code",
   "execution_count": 53,
   "metadata": {},
   "outputs": [
    {
     "name": "stdout",
     "output_type": "stream",
     "text": [
      "Bonjour Tom, bienvenue dans le cours de Data Science !\n"
     ]
    }
   ],
   "source": [
    "# Remplacer les valeurs dans le modèle\n",
    "texte_final = template_str.substitute(nom=\"Tom\", cours=\"Data Science\")\n",
    "print(texte_final)"
   ]
  },
  {
   "cell_type": "markdown",
   "metadata": {},
   "source": [
    "## Autres manipulations courantes avec les chaînes en Data Science"
   ]
  },
  {
   "cell_type": "code",
   "execution_count": 54,
   "metadata": {},
   "outputs": [],
   "source": [
    "message = \"Python is a versatile, high-level programming language known for its readability and ease of use. It's used in a wide range of applications, including web development, data science, machine learning, and software development. Python's syntax is similar to English, making it a popular choice for beginners and experienced programmers alike. \""
   ]
  },
  {
   "cell_type": "code",
   "execution_count": 55,
   "metadata": {},
   "outputs": [
    {
     "data": {
      "text/plain": [
       "\"python is a versatile, high-level programming language known for its readability and ease of use. it's used in a wide range of applications, including web development, data science, machine learning, and software development. python's syntax is similar to english, making it a popular choice for beginners and experienced programmers alike. \""
      ]
     },
     "execution_count": 55,
     "metadata": {},
     "output_type": "execute_result"
    }
   ],
   "source": [
    "message.lower()"
   ]
  },
  {
   "cell_type": "code",
   "execution_count": 56,
   "metadata": {},
   "outputs": [
    {
     "data": {
      "text/plain": [
       "\"PYTHON IS A VERSATILE, HIGH-LEVEL PROGRAMMING LANGUAGE KNOWN FOR ITS READABILITY AND EASE OF USE. IT'S USED IN A WIDE RANGE OF APPLICATIONS, INCLUDING WEB DEVELOPMENT, DATA SCIENCE, MACHINE LEARNING, AND SOFTWARE DEVELOPMENT. PYTHON'S SYNTAX IS SIMILAR TO ENGLISH, MAKING IT A POPULAR CHOICE FOR BEGINNERS AND EXPERIENCED PROGRAMMERS ALIKE. \""
      ]
     },
     "execution_count": 56,
     "metadata": {},
     "output_type": "execute_result"
    }
   ],
   "source": [
    "message.upper()"
   ]
  },
  {
   "cell_type": "code",
   "execution_count": 57,
   "metadata": {},
   "outputs": [
    {
     "name": "stdout",
     "output_type": "stream",
     "text": [
      "il y a le mot python\n"
     ]
    }
   ],
   "source": [
    "if \"python\" in message.lower():\n",
    "    print(\"il y a le mot python\")\n",
    "else:\n",
    "    print(\"il n'y a pas le mot python\")"
   ]
  },
  {
   "cell_type": "code",
   "execution_count": 58,
   "metadata": {},
   "outputs": [
    {
     "data": {
      "text/plain": [
       "\"Python is a versatile, high-level programming language known for its readability and ease of use. It's used in a wide range of applications, including web development, data science, machine learning, and software development. Python's syntax is similar to English, making it a popular choice for beginners and experienced programmers alike. \""
      ]
     },
     "execution_count": 58,
     "metadata": {},
     "output_type": "execute_result"
    }
   ],
   "source": [
    "message"
   ]
  },
  {
   "cell_type": "code",
   "execution_count": 59,
   "metadata": {},
   "outputs": [
    {
     "data": {
      "text/plain": [
       "7"
      ]
     },
     "execution_count": 59,
     "metadata": {},
     "output_type": "execute_result"
    }
   ],
   "source": [
    "message.find(\"is\")"
   ]
  },
  {
   "cell_type": "code",
   "execution_count": 60,
   "metadata": {},
   "outputs": [
    {
     "data": {
      "text/plain": [
       "0"
      ]
     },
     "execution_count": 60,
     "metadata": {},
     "output_type": "execute_result"
    }
   ],
   "source": [
    "message.count(\"python\")"
   ]
  },
  {
   "cell_type": "code",
   "execution_count": 61,
   "metadata": {},
   "outputs": [
    {
     "name": "stdout",
     "output_type": "stream",
     "text": [
      "124\n"
     ]
    }
   ],
   "source": [
    "txt = \"124\"\n",
    "if txt.isdigit():\n",
    "    print(int(txt))\n",
    "else :\n",
    "    print(\"conversion impossible\")"
   ]
  },
  {
   "cell_type": "code",
   "execution_count": 62,
   "metadata": {},
   "outputs": [
    {
     "data": {
      "text/plain": [
       "False"
      ]
     },
     "execution_count": 62,
     "metadata": {},
     "output_type": "execute_result"
    }
   ],
   "source": [
    "message.isdigit()"
   ]
  },
  {
   "cell_type": "code",
   "execution_count": 63,
   "metadata": {},
   "outputs": [
    {
     "data": {
      "text/plain": [
       "'Tomates-Pommes-Oignons'"
      ]
     },
     "execution_count": 63,
     "metadata": {},
     "output_type": "execute_result"
    }
   ],
   "source": [
    "\"-\".join([\"Tomates\", \"Pommes\", \"Oignons\"])"
   ]
  },
  {
   "cell_type": "code",
   "execution_count": 64,
   "metadata": {},
   "outputs": [
    {
     "data": {
      "text/plain": [
       "('Python is a versatile',\n",
       " ',',\n",
       " \" high-level programming language known for its readability and ease of use. It's used in a wide range of applications, including web development, data science, machine learning, and software development. Python's syntax is similar to English, making it a popular choice for beginners and experienced programmers alike. \")"
      ]
     },
     "execution_count": 64,
     "metadata": {},
     "output_type": "execute_result"
    }
   ],
   "source": [
    "message.partition(\",\")"
   ]
  },
  {
   "cell_type": "code",
   "execution_count": 65,
   "metadata": {},
   "outputs": [
    {
     "data": {
      "text/plain": [
       "(\"Python is a versatile, high-level programming language known for its readability and ease of use. It's used in a wide range of applications, including web development, data science, machine learning, and software development. Python's syntax is similar to English\",\n",
       " ',',\n",
       " ' making it a popular choice for beginners and experienced programmers alike. ')"
      ]
     },
     "execution_count": 65,
     "metadata": {},
     "output_type": "execute_result"
    }
   ],
   "source": [
    "message.rpartition(\",\")"
   ]
  },
  {
   "cell_type": "code",
   "execution_count": 66,
   "metadata": {},
   "outputs": [
    {
     "name": "stdout",
     "output_type": "stream",
     "text": [
      "I like apples\n"
     ]
    }
   ],
   "source": [
    "txt = \"I like bananas\"\n",
    "\n",
    "x = txt.replace(\"bananas\", \"apples\")\n",
    "\n",
    "print(x)"
   ]
  },
  {
   "cell_type": "code",
   "execution_count": 67,
   "metadata": {},
   "outputs": [
    {
     "data": {
      "text/plain": [
       "['Python is a versatile, high-level programming language known for its readability and ease of use',\n",
       " \" It's used in a wide range of applications, including web development, data science, machine learning, and software development\",\n",
       " \" Python's syntax is similar to English, making it a popular choice for beginners and experienced programmers alike\",\n",
       " ' ']"
      ]
     },
     "execution_count": 67,
     "metadata": {},
     "output_type": "execute_result"
    }
   ],
   "source": [
    "message.split(\".\")"
   ]
  },
  {
   "cell_type": "markdown",
   "metadata": {},
   "source": [
    "## Exercice : Corriger le bug dans le programe ci-dessous.\n",
    "\n",
    "Exemple d'utilisation des Templates pour automatiser la création d'un message personnalisé après une analyse."
   ]
  },
  {
   "cell_type": "code",
   "execution_count": 68,
   "metadata": {},
   "outputs": [
    {
     "ename": "KeyError",
     "evalue": "'date'",
     "output_type": "error",
     "traceback": [
      "\u001b[31m---------------------------------------------------------------------------\u001b[39m",
      "\u001b[31mKeyError\u001b[39m                                  Traceback (most recent call last)",
      "\u001b[36mCell\u001b[39m\u001b[36m \u001b[39m\u001b[32mIn[68]\u001b[39m\u001b[32m, line 11\u001b[39m\n\u001b[32m      1\u001b[39m rapport_template = Template(\u001b[33m\"\"\"\u001b[39m\n\u001b[32m      2\u001b[39m \u001b[33mRapport d\u001b[39m\u001b[33m'\u001b[39m\u001b[33manalyse :\u001b[39m\n\u001b[32m      3\u001b[39m \n\u001b[32m   (...)\u001b[39m\u001b[32m      8\u001b[39m \u001b[33mMerci pour votre confiance.\u001b[39m\n\u001b[32m      9\u001b[39m \u001b[33m\"\"\"\u001b[39m)\n\u001b[32m---> \u001b[39m\u001b[32m11\u001b[39m rapport = \u001b[43mrapport_template\u001b[49m\u001b[43m.\u001b[49m\u001b[43msubstitute\u001b[49m\u001b[43m(\u001b[49m\n\u001b[32m     12\u001b[39m \u001b[43m    \u001b[49m\u001b[43mprojet\u001b[49m\u001b[43m=\u001b[49m\u001b[33;43m\"\u001b[39;49m\u001b[33;43mPrédiction des ventes\u001b[39;49m\u001b[33;43m\"\u001b[39;49m\u001b[43m,\u001b[49m\n\u001b[32m     13\u001b[39m \u001b[43m    \u001b[49m\u001b[43mresultats\u001b[49m\u001b[43m=\u001b[49m\u001b[33;43m\"\u001b[39;49m\u001b[33;43mPrécision du modèle : 92\u001b[39;49m\u001b[33;43m%\u001b[39;49m\u001b[33;43m\"\u001b[39;49m\n\u001b[32m     14\u001b[39m \u001b[43m)\u001b[49m\n\u001b[32m     16\u001b[39m \u001b[38;5;28mprint\u001b[39m(rapport)\n",
      "\u001b[36mFile \u001b[39m\u001b[32m~/.pyenv/versions/3.13.3/lib/python3.13/string.py:121\u001b[39m, in \u001b[36mTemplate.substitute\u001b[39m\u001b[34m(self, mapping, **kws)\u001b[39m\n\u001b[32m    118\u001b[39m         \u001b[38;5;28mself\u001b[39m._invalid(mo)\n\u001b[32m    119\u001b[39m     \u001b[38;5;28;01mraise\u001b[39;00m \u001b[38;5;167;01mValueError\u001b[39;00m(\u001b[33m'\u001b[39m\u001b[33mUnrecognized named group in pattern\u001b[39m\u001b[33m'\u001b[39m,\n\u001b[32m    120\u001b[39m                      \u001b[38;5;28mself\u001b[39m.pattern)\n\u001b[32m--> \u001b[39m\u001b[32m121\u001b[39m \u001b[38;5;28;01mreturn\u001b[39;00m \u001b[38;5;28;43mself\u001b[39;49m\u001b[43m.\u001b[49m\u001b[43mpattern\u001b[49m\u001b[43m.\u001b[49m\u001b[43msub\u001b[49m\u001b[43m(\u001b[49m\u001b[43mconvert\u001b[49m\u001b[43m,\u001b[49m\u001b[43m \u001b[49m\u001b[38;5;28;43mself\u001b[39;49m\u001b[43m.\u001b[49m\u001b[43mtemplate\u001b[49m\u001b[43m)\u001b[49m\n",
      "\u001b[36mFile \u001b[39m\u001b[32m~/.pyenv/versions/3.13.3/lib/python3.13/string.py:114\u001b[39m, in \u001b[36mTemplate.substitute.<locals>.convert\u001b[39m\u001b[34m(mo)\u001b[39m\n\u001b[32m    112\u001b[39m named = mo.group(\u001b[33m'\u001b[39m\u001b[33mnamed\u001b[39m\u001b[33m'\u001b[39m) \u001b[38;5;129;01mor\u001b[39;00m mo.group(\u001b[33m'\u001b[39m\u001b[33mbraced\u001b[39m\u001b[33m'\u001b[39m)\n\u001b[32m    113\u001b[39m \u001b[38;5;28;01mif\u001b[39;00m named \u001b[38;5;129;01mis\u001b[39;00m \u001b[38;5;129;01mnot\u001b[39;00m \u001b[38;5;28;01mNone\u001b[39;00m:\n\u001b[32m--> \u001b[39m\u001b[32m114\u001b[39m     \u001b[38;5;28;01mreturn\u001b[39;00m \u001b[38;5;28mstr\u001b[39m(\u001b[43mmapping\u001b[49m\u001b[43m[\u001b[49m\u001b[43mnamed\u001b[49m\u001b[43m]\u001b[49m)\n\u001b[32m    115\u001b[39m \u001b[38;5;28;01mif\u001b[39;00m mo.group(\u001b[33m'\u001b[39m\u001b[33mescaped\u001b[39m\u001b[33m'\u001b[39m) \u001b[38;5;129;01mis\u001b[39;00m \u001b[38;5;129;01mnot\u001b[39;00m \u001b[38;5;28;01mNone\u001b[39;00m:\n\u001b[32m    116\u001b[39m     \u001b[38;5;28;01mreturn\u001b[39;00m \u001b[38;5;28mself\u001b[39m.delimiter\n",
      "\u001b[31mKeyError\u001b[39m: 'date'"
     ]
    }
   ],
   "source": [
    "rapport_template = Template(\"\"\"\n",
    "Rapport d'analyse :\n",
    "\n",
    "- Projet : $projet\n",
    "- Date : $date\n",
    "- Résultats obtenus : $resultats\n",
    "\n",
    "Merci pour votre confiance.\n",
    "\"\"\")\n",
    "\n",
    "rapport = rapport_template.substitute(\n",
    "    projet=\"Prédiction des ventes\",\n",
    "    resultats=\"Précision du modèle : 92%\"\n",
    ")\n",
    "\n",
    "print(rapport)"
   ]
  },
  {
   "cell_type": "code",
   "execution_count": null,
   "metadata": {},
   "outputs": [],
   "source": [
    "### Solution :\n",
    "\n",
    "rapport_template = Template(\"\"\"\n",
    "Rapport d'analyse :\n",
    "\n",
    "- Projet : $projet\n",
    "- Date : $date\n",
    "- Résultats obtenus : $resultats\n",
    "\n",
    "Merci pour votre confiance.\n",
    "\"\"\")\n",
    "\n",
    "rapport = rapport_template.substitute(\n",
    "    projet=\"Prédiction des ventes\",\n",
    "    resultats=\"Précision du modèle : 92%\",\n",
    "    date=datetime.date.today()\n",
    ")\n",
    "\n",
    "print(rapport)"
   ]
  },
  {
   "cell_type": "markdown",
   "metadata": {},
   "source": [
    "---\n",
    "\n",
    "## Module `random`\n",
    "\n",
    "\n",
    "Le module `random` permet de générer des nombres aléatoires ou d'échantillonner aléatoirement des éléments. Il est fréquemment utilisé en Data Science pour :\n",
    "\n",
    "- Générer des jeux de données simulés\n",
    "- Échantillonner aléatoirement des données\n",
    "- Initialiser des modèles de Machine Learning\n",
    "\n",
    "\n",
    "https://docs.python.org/3/library/random.html"
   ]
  },
  {
   "cell_type": "code",
   "execution_count": null,
   "metadata": {},
   "outputs": [],
   "source": [
    "import random"
   ]
  },
  {
   "cell_type": "markdown",
   "metadata": {},
   "source": [
    "## Génération de nombres aléatoires simples\n",
    "\n",
    "Principales fonctions :\n",
    "\n",
    "- `random.random()` : Génère un nombre flottant entre 0 et 1.\n",
    "- `random.randint(a, b)` : Génère un entier entre a et b (inclus).\n",
    "- `random.uniform(a, b)` : Génère un flottant entre a et b."
   ]
  },
  {
   "cell_type": "code",
   "execution_count": null,
   "metadata": {},
   "outputs": [],
   "source": [
    "# Nombre aléatoire entre 0 et 1\n",
    "print(\"Nombre aléatoire (0-1) :\", random.random())"
   ]
  },
  {
   "cell_type": "code",
   "execution_count": null,
   "metadata": {},
   "outputs": [],
   "source": [
    "# Nombre entier entre 10 et 20\n",
    "print(\"Nombre entier entre 10 et 20 :\", random.randint(10, 20))"
   ]
  },
  {
   "cell_type": "code",
   "execution_count": null,
   "metadata": {},
   "outputs": [],
   "source": [
    "# Nombre flottant entre 5.5 et 9.5\n",
    "print(\"Nombre flottant entre 5.5 et 9.5 :\", random.uniform(5.5, 9.5))"
   ]
  },
  {
   "cell_type": "markdown",
   "metadata": {},
   "source": [
    "## Sélection aléatoire dans des séquences\n",
    "\n",
    "Fonctions utiles pour sélectionner des éléments aléatoirement :\n",
    "\n",
    "- `random.choice(seq)` : Retourne un élément au hasard d'une séquence.\n",
    "- `random.choices(seq, k=n)` : Choisit plusieurs éléments avec remise.\n",
    "- `random.sample(seq, k=n)` : Échantillonne plusieurs éléments sans remise."
   ]
  },
  {
   "cell_type": "code",
   "execution_count": null,
   "metadata": {},
   "outputs": [],
   "source": [
    "data = ['pomme', 'banane', 'poire', 'orange', 'kiwi', 'melon']"
   ]
  },
  {
   "cell_type": "code",
   "execution_count": null,
   "metadata": {},
   "outputs": [],
   "source": [
    "# Choisir un élément aléatoirement\n",
    "print(\"Un fruit choisi au hasard :\", random.choice(data))"
   ]
  },
  {
   "cell_type": "code",
   "execution_count": null,
   "metadata": {},
   "outputs": [],
   "source": [
    "# Choisir plusieurs éléments avec remise\n",
    "choix_avec_remise = random.choices(data, k=3)\n",
    "print(\"Choix avec remise :\", choix_avec_remise)"
   ]
  },
  {
   "cell_type": "code",
   "execution_count": null,
   "metadata": {},
   "outputs": [],
   "source": [
    "# Échantillonnage sans remise\n",
    "sample = random.sample(data, k=3)\n",
    "print(\"Échantillon sans remise :\", sample)"
   ]
  },
  {
   "cell_type": "markdown",
   "metadata": {},
   "source": [
    "## Mélange aléatoire de données\n",
    "\n",
    "La fonction `random.shuffle()` permet de mélanger les éléments d'une liste sur place."
   ]
  },
  {
   "cell_type": "code",
   "execution_count": null,
   "metadata": {},
   "outputs": [],
   "source": [
    "data = ['pomme', 'banane', 'poire', 'orange', 'kiwi', 'melon']"
   ]
  },
  {
   "cell_type": "code",
   "execution_count": null,
   "metadata": {},
   "outputs": [],
   "source": [
    "# Mélanger la liste originale\n",
    "random.shuffle(data)\n",
    "print(\"Données mélangées :\", data)"
   ]
  },
  {
   "cell_type": "markdown",
   "metadata": {},
   "source": [
    "## Reproductibilité avec random.seed()\n",
    "\n",
    "En Data Science, il est essentiel d'obtenir des résultats reproductibles. La fonction `random.seed()` permet d'initialiser le générateur aléatoire pour obtenir des résultats identiques à chaque exécution."
   ]
  },
  {
   "cell_type": "code",
   "execution_count": null,
   "metadata": {},
   "outputs": [],
   "source": [
    "# Fixer une graine aléatoire pour la reproductibilité\n",
    "random.seed(42)\n",
    "\n",
    "# Nombre aléatoire entre 0 et 1\n",
    "print(\"Nombre aléatoire (0-1) :\", random.random())\n"
   ]
  },
  {
   "cell_type": "markdown",
   "metadata": {},
   "source": [
    "## Exercice : génération de données simulées\n",
    "\n",
    "En Data Science, il est fréquent de simuler des jeux de données pour tester des modèles ou des hypothèses.\n",
    "\n",
    "Ici, nous voulons simuler 100 individus avec :\n",
    "\n",
    "- un âge (compris entre 20 et 60 ans),\n",
    "- une taille (entre 160.0 cm et 200.0 cm, avec une décimale),\n",
    "- un salaire mensuel (selon une distribution normale de moyenne 2500 € et d’écart type 1000 €).\n",
    "\n",
    "Stocker ces données sous forme d’un dictionnaire contenant trois clés : 'age', 'taille' et 'salaire', chacune associée à une liste de 100 valeurs.\n",
    "\n",
    "Afficher un aperçu des 5 premières lignes de ce dataset"
   ]
  },
  {
   "cell_type": "code",
   "execution_count": null,
   "metadata": {},
   "outputs": [],
   "source": [
    "\"\"\"\n",
    "Votre réponse ici\n",
    "\"\"\""
   ]
  },
  {
   "cell_type": "code",
   "execution_count": null,
   "metadata": {},
   "outputs": [],
   "source": [
    "# Génération d'un dataset simulé\n",
    "random.seed(0)\n",
    "\n",
    "data_simulees = {\n",
    "    'age': [random.randint(20, 60) for _ in range(100)],\n",
    "    'taille': [round(random.uniform(160, 200), 1) for _ in range(100)],\n",
    "    'salaire': [round(random.gauss(2500, 1000)) for _ in range(100)]\n",
    "}\n",
    "\n",
    "\n",
    "print(\"Aperçu des données simulées : (5 premières lignes)\")\n",
    "for i in range(5):\n",
    "    print(f\"Âge : {data_simulees['age'][i]} | taille : {data_simulees['taille'][i]}, | salaire : {data_simulees['salaire'][i]},\")"
   ]
  },
  {
   "cell_type": "markdown",
   "metadata": {},
   "source": [
    "---\n",
    "\n",
    "## Module `csv`\n",
    "\n",
    "Le module `csv` permet la lecture et l'écriture simplifiée des fichiers CSV (Comma-Separated Values). Ce format est omniprésent en Data Science pour :\n",
    "\n",
    "- Charger facilement des jeux de données\n",
    "- Exporter des résultats d’analyse vers des fichiers exploitables\n",
    "- Échanger des données entre applications ou plateformes\n",
    "\n",
    "https://docs.python.org/3/library/csv.html"
   ]
  },
  {
   "cell_type": "code",
   "execution_count": null,
   "metadata": {},
   "outputs": [],
   "source": [
    "import csv"
   ]
  },
  {
   "cell_type": "markdown",
   "metadata": {},
   "source": [
    "## Lecture d'un fichier CSV\n",
    "\n",
    "La fonction `csv.reader()` lit un fichier CSV ligne par ligne en retournant chaque ligne sous forme de liste."
   ]
  },
  {
   "cell_type": "code",
   "execution_count": null,
   "metadata": {},
   "outputs": [],
   "source": [
    "# Ouverture et lecture d'un fichier CSV existant\n",
    "with open(\"data/iris.csv\", mode=\"r\", encoding=\"utf-8\") as fichier:\n",
    "    lecteur_csv = csv.reader(fichier)\n",
    "    for ligne in lecteur_csv:\n",
    "        print(ligne)"
   ]
  },
  {
   "cell_type": "markdown",
   "metadata": {},
   "source": [
    "## Utilisation de DictReader\n",
    "\n",
    "La classe `csv.DictReader` permet de lire un CSV directement sous forme de dictionnaires, simplifiant l'accès aux données par leur nom de colonne."
   ]
  },
  {
   "cell_type": "code",
   "execution_count": null,
   "metadata": {},
   "outputs": [],
   "source": [
    "# Lire avec DictReader\n",
    "with open(\"data/iris.csv\", mode=\"r\", encoding=\"utf-8\") as fichier:\n",
    "    lecteur = csv.DictReader(fichier)\n",
    "    for ligne in lecteur:\n",
    "        print(ligne['variety'], ligne['sepal.length'])"
   ]
  },
  {
   "cell_type": "markdown",
   "metadata": {},
   "source": [
    "## Écriture de fichiers CSV avec csv.writer\n",
    "\n",
    "La classe `csv.writer` permet d'écrire facilement des données dans un fichier CSV."
   ]
  },
  {
   "cell_type": "code",
   "execution_count": null,
   "metadata": {},
   "outputs": [],
   "source": [
    "# Écrire des données dans un fichier CSV\n",
    "donnees = [\n",
    "    [\"prenom\", \"nom\", \"age\"],\n",
    "    [\"Pierre\", \"Dupont\", 29],\n",
    "    [\"Jack\", \"Durand\", 34, \"Paris\"]\n",
    "]\n",
    "\n",
    "with open(\"data/personnes.csv\", mode=\"w\", encoding=\"utf-8\", newline='') as fichier:\n",
    "    writer = csv.writer(fichier)\n",
    "    writer.writerows(donnees)"
   ]
  },
  {
   "cell_type": "markdown",
   "metadata": {},
   "source": [
    "## Écriture avec DictWriter\n",
    "\n",
    "Permet une écriture plus explicite en utilisant des dictionnaires."
   ]
  },
  {
   "cell_type": "code",
   "execution_count": null,
   "metadata": {},
   "outputs": [],
   "source": [
    "donnees_dict = [\n",
    "    {\"prenom\": \"Pierre\", \"nom\": \"Dupont\", \"age\": 29},\n",
    "    {\"prenom\": \"Jack\", \"nom\": \"Durand\", \"age\": 34}\n",
    "]\n",
    "\n",
    "with open(\"data/personnes_dict.csv\", mode=\"w\", encoding=\"utf-8\") as fichier:\n",
    "    champs = [\"prenom\", \"nom\", \"age\"]\n",
    "    writer = csv.DictWriter(fichier, fieldnames=donnees_dict[0].keys())\n",
    "    writer.writeheader()\n",
    "    writer.writerows(donnees_dict)"
   ]
  },
  {
   "cell_type": "markdown",
   "metadata": {},
   "source": [
    "## Exercice\n",
    "\n",
    "Enregistrez le dictionnaire de l'exercice précédent en fichier CSV."
   ]
  },
  {
   "cell_type": "code",
   "execution_count": null,
   "metadata": {},
   "outputs": [],
   "source": [
    "random.seed(0)\n",
    "\n",
    "data_simulees = {\n",
    "    'age': [random.randint(20, 60) for _ in range(100)],\n",
    "    'taille': [round(random.uniform(160, 200), 1) for _ in range(100)],\n",
    "    'salaire': [round(random.gauss(2500, 1000)) for _ in range(100)]\n",
    "}"
   ]
  },
  {
   "cell_type": "code",
   "execution_count": null,
   "metadata": {},
   "outputs": [],
   "source": [
    "\"\"\"\n",
    "Votre réponse ici\n",
    "\"\"\""
   ]
  },
  {
   "cell_type": "code",
   "execution_count": null,
   "metadata": {},
   "outputs": [],
   "source": [
    "with open('donnees_simulees.csv', mode='w', newline='') as fichier_csv:\n",
    "    writer = csv.writer(fichier_csv)\n",
    "    \n",
    "    # Écriture de l'en-tête\n",
    "    writer.writerow(['age', 'taille', 'salaire'])\n",
    "    \n",
    "    # Écriture des données\n",
    "    for i in range(100):\n",
    "        writer.writerow([data_simulees['age'][i], data_simulees['taille'][i], data_simulees['salaire'][i]])"
   ]
  },
  {
   "cell_type": "markdown",
   "metadata": {},
   "source": [
    "---\n",
    "\n",
    "## Module `JSON`\n",
    "\n",
    "### Qu’est-ce que JSON ?\n",
    "JSON est un format léger et universel pour échanger des données structurées, souvent utilisé dans les API web, les fichiers de configuration ou le stockage de données. Le module `json` convertit les structures Python (dictionnaires, listes, etc.) en JSON et vice-versa.\n",
    "\n",
    "https://docs.python.org/3/library/json.html\n"
   ]
  },
  {
   "cell_type": "code",
   "execution_count": null,
   "metadata": {},
   "outputs": [],
   "source": [
    "import json"
   ]
  },
  {
   "cell_type": "markdown",
   "metadata": {},
   "source": [
    "## Sérialisation et Désérialisation\n",
    "\n",
    "### Définitions\n",
    "- **Sérialisation** : Convertir un objet Python en une chaîne JSON (encodage).\n",
    "- **Désérialisation** : Convertir une chaîne JSON en un objet Python (décodage).\n",
    "\n",
    "### Fonctions Principales\n",
    "- **`json.dumps(obj)`** : Sérialise un objet en chaîne JSON.\n",
    "- **`json.loads(str)`** : Désérialise une chaîne JSON en objet Python.\n",
    "- **`json.dump(obj, file)`** : Sérialise un objet dans un fichier.\n",
    "- **`json.load(file)`** : Désérialise un fichier JSON en objet.\n",
    "\n",
    "### Exemple Simple\n",
    "Convertissons un dictionnaire."
   ]
  },
  {
   "cell_type": "code",
   "execution_count": null,
   "metadata": {},
   "outputs": [],
   "source": [
    "# Données Python\n",
    "personne = {\n",
    "    \"nom\": \"Alice\",\n",
    "    \"âge\": 25,\n",
    "    \"ville\": \"Paris\"\n",
    "}"
   ]
  },
  {
   "cell_type": "code",
   "execution_count": null,
   "metadata": {},
   "outputs": [
    {
     "name": "stdout",
     "output_type": "stream",
     "text": [
      "JSON sérialisé : {\"nom\": \"Alice\", \"\\u00e2ge\": 25, \"ville\": \"Paris\"}\n"
     ]
    }
   ],
   "source": [
    "# Sérialisation en chaîne JSON\n",
    "json_str = json.dumps(personne)\n",
    "print(\"JSON sérialisé :\", json_str)"
   ]
  },
  {
   "cell_type": "code",
   "execution_count": null,
   "metadata": {},
   "outputs": [
    {
     "name": "stdout",
     "output_type": "stream",
     "text": [
      "Objet Python désérialisé : {'nom': 'Alice', 'âge': 25, 'ville': 'Paris'}\n"
     ]
    }
   ],
   "source": [
    "# Désérialisation en objet Python\n",
    "personne_retour = json.loads(json_str)\n",
    "print(\"Objet Python désérialisé :\", personne_retour)"
   ]
  },
  {
   "cell_type": "markdown",
   "metadata": {},
   "source": [
    "- **`dumps`** : Transforme le dictionnaire en une chaîne JSON sans indentation par défaut.\n",
    "- **`loads`** : Reconstruit le dictionnaire à partir de la chaîne JSON.\n",
    "- **Types pris en charge** : Dictionnaires, listes, chaînes, nombres, booléens, `None` (converti en `null`).\n",
    "\n",
    "Ajoutons des options pour améliorer la lisibilité !"
   ]
  },
  {
   "cell_type": "markdown",
   "metadata": {},
   "source": [
    "## Sérialisation avec Options\n",
    "\n",
    "Options Utiles:\n",
    "- **`indent`** : Ajoute une indentation pour une meilleure lisibilité.\n",
    "- **`sort_keys`** : Trie les clés des dictionnaires.\n",
    "- **`ensure_ascii`** : Gère les caractères non-ASCII (par défaut `True`).\n",
    "\n"
   ]
  },
  {
   "cell_type": "code",
   "execution_count": null,
   "metadata": {},
   "outputs": [],
   "source": [
    "# Données complexes\n",
    "donnees = {\n",
    "    \"utilisateur\": \"Clément\",\n",
    "    \"scores\": [95, 87, 92],\n",
    "    \"actif\": True,\n",
    "    \"note\": None,\n",
    "    \"spécial\": \"éléphant\"\n",
    "}"
   ]
  },
  {
   "cell_type": "code",
   "execution_count": null,
   "metadata": {},
   "outputs": [
    {
     "name": "stdout",
     "output_type": "stream",
     "text": [
      "JSON formaté : {\"utilisateur\": \"Cl\\u00e9ment\", \"scores\": [95, 87, 92], \"actif\": true, \"note\": null, \"sp\\u00e9cial\": \"\\u00e9l\\u00e9phant\"}\n"
     ]
    }
   ],
   "source": [
    "# Sérialisation avec options\n",
    "json_str = json.dumps(donnees)\n",
    "print(\"JSON formaté :\", json_str)"
   ]
  },
  {
   "cell_type": "code",
   "execution_count": null,
   "metadata": {},
   "outputs": [
    {
     "name": "stdout",
     "output_type": "stream",
     "text": [
      "JSON formaté : {\n",
      "  \"actif\": true,\n",
      "  \"note\": null,\n",
      "  \"scores\": [\n",
      "    95,\n",
      "    87,\n",
      "    92\n",
      "  ],\n",
      "  \"spécial\": \"éléphant\",\n",
      "  \"utilisateur\": \"Clément\"\n",
      "}\n"
     ]
    }
   ],
   "source": [
    "# Sérialisation avec options\n",
    "json_str = json.dumps(donnees, indent=2, sort_keys=True, ensure_ascii=False)\n",
    "print(\"JSON formaté :\", json_str)"
   ]
  },
  {
   "cell_type": "markdown",
   "metadata": {},
   "source": [
    "# Une situation Réelle"
   ]
  },
  {
   "cell_type": "code",
   "execution_count": null,
   "metadata": {},
   "outputs": [],
   "source": [
    "with open(\"data/exercice_json.json\", \"r\", encoding=\"utf-8\") as fichier:\n",
    "    données = json.load(fichier)"
   ]
  },
  {
   "cell_type": "code",
   "execution_count": null,
   "metadata": {},
   "outputs": [
    {
     "data": {
      "text/plain": [
       "dict_keys(['organisation', 'dernière_mise_à_jour', 'projets'])"
      ]
     },
     "execution_count": 238,
     "metadata": {},
     "output_type": "execute_result"
    }
   ],
   "source": [
    "données.keys()"
   ]
  },
  {
   "cell_type": "code",
   "execution_count": null,
   "metadata": {},
   "outputs": [],
   "source": [
    "from pprint import pprint"
   ]
  },
  {
   "cell_type": "code",
   "execution_count": null,
   "metadata": {},
   "outputs": [
    {
     "name": "stdout",
     "output_type": "stream",
     "text": [
      "{'dernière_mise_à_jour': '2025-05-10',\n",
      " 'organisation': 'InnovTech Solutions',\n",
      " 'projets': [{'date_début': '2024-03-01',\n",
      "              'date_fin': None,\n",
      "              'description': \"Développement d'une IA pour diagnostiquer les \"\n",
      "                             'maladies rares.',\n",
      "              'id': 101,\n",
      "              'membres': [{'nom': 'Alice Dupont', 'rôle': 'Chef de projet'},\n",
      "                          {'nom': 'Karim Bellarbi', 'rôle': 'Développeur IA'}],\n",
      "              'nom': 'IA Santé',\n",
      "              'statut': 'en cours',\n",
      "              'technologies': ['Python', 'TensorFlow', 'FastAPI']},\n",
      "             {'date_début': '2023-09-15',\n",
      "              'date_fin': '2024-06-30',\n",
      "              'description': 'Plateforme en ligne pour la formation continue '\n",
      "                             'des enseignants.',\n",
      "              'id': 102,\n",
      "              'membres': [{'nom': 'Léa Martin', 'rôle': 'Designer UX'},\n",
      "                          {'nom': 'Paul Nguyen',\n",
      "                           'rôle': 'Développeur Frontend'}],\n",
      "              'nom': 'Plateforme Éducation',\n",
      "              'statut': 'terminé',\n",
      "              'technologies': ['React', 'Node.js', 'MongoDB']}]}\n"
     ]
    }
   ],
   "source": [
    "pprint(données)"
   ]
  },
  {
   "cell_type": "code",
   "execution_count": null,
   "metadata": {},
   "outputs": [
    {
     "name": "stdout",
     "output_type": "stream",
     "text": [
      "Organisation: InnovTech Solutions\n",
      "Dernière mise à jour: 2025-05-10\n",
      "\n",
      "Liste des projets:\n",
      "\n",
      "📌 IA Santé (en cours)\n",
      "  Description: Développement d'une IA pour diagnostiquer les maladies rares.\n",
      "  Dates: 2024-03-01 → en cours\n",
      "  Équipe:\n",
      "    - Alice Dupont (Chef de projet)\n",
      "    - Karim Bellarbi (Développeur IA)\n",
      "  Technologies utilisées: Python, TensorFlow, FastAPI\n",
      "\n",
      "📌 Plateforme Éducation (terminé)\n",
      "  Description: Plateforme en ligne pour la formation continue des enseignants.\n",
      "  Dates: 2023-09-15 → 2024-06-30\n",
      "  Équipe:\n",
      "    - Léa Martin (Designer UX)\n",
      "    - Paul Nguyen (Développeur Frontend)\n",
      "  Technologies utilisées: React, Node.js, MongoDB\n",
      "\n"
     ]
    }
   ],
   "source": [
    "# Afficher de manière lisible\n",
    "print(\"Organisation:\", données[\"organisation\"])\n",
    "print(\"Dernière mise à jour:\", données[\"dernière_mise_à_jour\"])\n",
    "print(\"\\nListe des projets:\\n\")\n",
    "\n",
    "for projet in données[\"projets\"]:\n",
    "    print(f\"📌 {projet['nom']} ({projet['statut']})\")\n",
    "    print(f\"  Description: {projet['description']}\")\n",
    "    print(f\"  Dates: {projet['date_début']} → {projet['date_fin'] or 'en cours'}\")\n",
    "    print(\"  Équipe:\")\n",
    "    for membre in projet[\"membres\"]:\n",
    "        print(f\"    - {membre['nom']} ({membre['rôle']})\")\n",
    "    print(\"  Technologies utilisées:\", \", \".join(projet[\"technologies\"]))\n",
    "    print()"
   ]
  },
  {
   "cell_type": "markdown",
   "metadata": {},
   "source": [
    "## Exercice\n",
    "Modifier le job de Léa Martin (Designer UX) par \"Backend Developpeur\""
   ]
  },
  {
   "cell_type": "code",
   "execution_count": null,
   "metadata": {},
   "outputs": [],
   "source": [
    "\"\"\"votre solution ici\"\"\""
   ]
  },
  {
   "cell_type": "code",
   "execution_count": null,
   "metadata": {},
   "outputs": [],
   "source": [
    "with open(\"data/exercice_json.json\", \"r\", encoding=\"utf-8\") as f:\n",
    "    data = json.load(f)\n",
    "\n",
    "# Modifier le rôle de Léa Martin\n",
    "for projet in data.get(\"projets\", []):\n",
    "    for membre in projet.get(\"membres\", []):\n",
    "        if membre[\"nom\"] == \"Léa Martin\":\n",
    "            print(f\"Ancien rôle de Léa Martin : {membre['rôle']}\")\n",
    "            membre[\"rôle\"] = \"Développeur BackEnd\"\n",
    "            print(\"Nouveau rôle attribué.\")\n",
    "\n",
    "# Sauvegarder les modifications\n",
    "with open(\"réponse.json\", \"w\", encoding=\"utf-8\") as f:\n",
    "    json.dump(data, f, indent=4, ensure_ascii=False)\n",
    "\n",
    "print(\"Le fichier JSON a été mis à jour.\")"
   ]
  },
  {
   "cell_type": "markdown",
   "metadata": {},
   "source": [
    "## Conclusion\n",
    "\n",
    "Cette section vous a permis de maîtriser :\n",
    "- **`math`** : Calculs mathématiques (racine, trigonométrie).\n",
    "- **`datetime`** : Gestion des dates et heures.\n",
    "- **`os`** : Interaction avec le système de fichiers.\n",
    "- **`glob`** : Recherche de fichiers par motif.\n",
    "- **`string`** : Manipulation de chaînes de caractères.\n",
    "- **`random`** : Génération de nombres aléatoires.\n",
    "- **`csv`** : Lecture et écriture de fichiers CSV.\n",
    "- **`json`** : Encodage et décodage de données JSON.\n"
   ]
  },
  {
   "cell_type": "markdown",
   "metadata": {},
   "source": []
  }
 ],
 "metadata": {
  "kernelspec": {
   "display_name": "3.13.3",
   "language": "python",
   "name": "python3"
  },
  "language_info": {
   "codemirror_mode": {
    "name": "ipython",
    "version": 3
   },
   "file_extension": ".py",
   "mimetype": "text/x-python",
   "name": "python",
   "nbconvert_exporter": "python",
   "pygments_lexer": "ipython3",
   "version": "3.13.3"
  }
 },
 "nbformat": 4,
 "nbformat_minor": 2
}
