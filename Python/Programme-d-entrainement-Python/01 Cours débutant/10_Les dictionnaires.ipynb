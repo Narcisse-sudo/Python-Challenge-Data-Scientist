{
 "cells": [
  {
   "cell_type": "markdown",
   "metadata": {},
   "source": [
    "# Dictionnaires en Python\n",
    "\n",
    "Dans cette section, nous allons explorer les **dictionnaires**, une structure de données clé-valeur en Python qui permet de stocker des associations. Nous couvrirons la manipulation des clés et valeurs, ainsi que les itérations, avec des explications détaillées, des exemples pratiques, des tests et des erreurs intentionnelles pour illustrer les concepts.\n",
    "\n",
    "## Qu’est-ce qu’un Dictionnaire ?\n",
    "Un **dictionnaire** est une collection non ordonnée (avant Python 3.7) et mutable de paires **clé-valeur**, entourée d’accolades `{}`. Depuis Python 3.7, l’ordre d’insertion est préservé. Les clés doivent être uniques et immuables (ex. : chaînes, nombres, tuples), tandis que les valeurs peuvent être de n’importe quel type.\n",
    "\n",
    "## Pourquoi Utiliser les Dictionnaires ?\n",
    "\n",
    "Les dictionnaires (`dict`) sont une structure clé-valeur puissante en Python. Voici leurs principaux cas d’usage et avantages par rapport à d’autres structures :\n",
    "\n",
    "### Cas d’Usage\n",
    "- **Stockage associatif** : Associer des données à des identifiants uniques (ex. : noms → âges, IDs → objets).\n",
    "- **Recherche rapide** : Accès en temps constant O(1) grâce au hachage des clés.\n",
    "- **Configuration** : Stocker des paramètres ou métadonnées (ex. : fichiers JSON).\n",
    "\n",
    "### Par Rapport à d’Autres Structures\n",
    "- **Vs Listes** : Les listes sont ordonnées mais lentes pour les recherches (O(n)), tandis que les dictionnaires offrent une recherche rapide sans ordre garanti avant Python 3.7.\n",
    "- **Vs Sets** : Les sets stockent des éléments uniques sans valeurs associées, alors que les dictionnaires permettent de lier des données à chaque clé.\n",
    "- **Vs Tuples** : Les tuples sont immuables et ordonnés, mais ne permettent pas une recherche par clé ; les dictionnaires sont mutables et optimisés pour l’accès associatif.\n",
    "\n",
    "### Exemple Pratique\n",
    "Un dictionnaire est idéal pour représenter un annuaire téléphonique, où chaque nom (clé) est lié à un numéro (valeur), contrairement à une liste qui nécessiterait une boucle pour chercher.\n",
    "\n",
    "Commençons par les bases !"
   ]
  },
  {
   "cell_type": "markdown",
   "metadata": {},
   "source": [
    "## Création de Dictionnaires\n",
    "\n",
    "Les dictionnaires sont créés avec des accolades `{}` ou la fonction `dict()`. Ils peuvent être vides ou contenir des paires clé-valeur.\n",
    "\n",
    "### Syntaxe\n",
    "```python\n",
    "mon_dict = {cle1: valeur1, cle2: valeur2}\n",
    "# ou\n",
    "mon_dict = dict([(cle1, valeur1), (cle2, valeur2)])\n",
    "```"
   ]
  },
  {
   "cell_type": "code",
   "execution_count": 5,
   "metadata": {},
   "outputs": [
    {
     "name": "stdout",
     "output_type": "stream",
     "text": [
      "Personne : {'nom': 'Alice', 'age': [25, 15, 79], 'ville': 'Paris'}\n"
     ]
    }
   ],
   "source": [
    "# Dictionnaire avec éléments\n",
    "personne = {\"nom\": \"Alice\",\n",
    "            \"age\": [25, 15, 79],\n",
    "            \"ville\": \"Paris\"}\n",
    "print(\"Personne :\", personne)"
   ]
  },
  {
   "cell_type": "code",
   "execution_count": 6,
   "metadata": {},
   "outputs": [
    {
     "name": "stdout",
     "output_type": "stream",
     "text": [
      "Personne2 : {'nom': 'Bob', 'âge': 30, 'ville': 'Lyon'}\n"
     ]
    }
   ],
   "source": [
    "# Avec dict()\n",
    "personne2 = dict(nom=\"Bob\", âge=30, ville=\"Lyon\")\n",
    "print(\"Personne2 :\", personne2)"
   ]
  },
  {
   "cell_type": "code",
   "execution_count": 7,
   "metadata": {},
   "outputs": [
    {
     "name": "stdout",
     "output_type": "stream",
     "text": [
      "Personne3 : {'nom': 'Charlie', 'âge': 28}\n"
     ]
    }
   ],
   "source": [
    "# Avec une liste de tuples\n",
    "personne3 = dict([(\"nom\", \"Charlie\"), (\"âge\", 28)])\n",
    "print(\"Personne3 :\", personne3)"
   ]
  },
  {
   "cell_type": "code",
   "execution_count": 11,
   "metadata": {},
   "outputs": [
    {
     "name": "stdout",
     "output_type": "stream",
     "text": [
      "Dictionnaire vide : {}\n"
     ]
    }
   ],
   "source": [
    "# Dictionnaire vide\n",
    "dict_vide = {}\n",
    "print(\"Dictionnaire vide :\", dict_vide)"
   ]
  },
  {
   "cell_type": "markdown",
   "metadata": {},
   "source": [
    "## Manipulation des Clés et Valeurs\n",
    "\n",
    "Les dictionnaires permettent d’accéder, ajouter, modifier ou supprimer des paires clé-valeur.\n",
    "\n",
    "### Syntaxe\n",
    "- `dict[clé]` : Accède ou modifie une valeur.\n",
    "- `dict[clé] = valeur` : Ajoute ou met à jour.\n",
    "- `del dict[clé]` ou `dict.pop(clé)` : Supprime une paire.\n",
    "\n",
    "### Exemple\n",
    "Modifions un dictionnaire."
   ]
  },
  {
   "cell_type": "code",
   "execution_count": 4,
   "metadata": {},
   "outputs": [
    {
     "data": {
      "text/plain": [
       "{'nom': 'Emma', 'note': 15}"
      ]
     },
     "execution_count": 4,
     "metadata": {},
     "output_type": "execute_result"
    }
   ],
   "source": [
    "etudiant = {\"nom\": \"Emma\", \"note\": 15}\n",
    "\n",
    "etudiant"
   ]
  },
  {
   "cell_type": "code",
   "execution_count": 14,
   "metadata": {},
   "outputs": [
    {
     "name": "stdout",
     "output_type": "stream",
     "text": [
      "Nom : Emma\n",
      "Note : 15\n"
     ]
    }
   ],
   "source": [
    "# Accéder à une valeur\n",
    "print(\"Nom :\", etudiant[\"nom\"])\n",
    "print(\"Note :\", etudiant[\"note\"])"
   ]
  },
  {
   "cell_type": "code",
   "execution_count": 17,
   "metadata": {},
   "outputs": [
    {
     "name": "stdout",
     "output_type": "stream",
     "text": [
      "Nouvelle note : {'nom': 'Emma', 'note': 17}\n"
     ]
    }
   ],
   "source": [
    "# Modifier une valeur\n",
    "etudiant[\"note\"] = 17\n",
    "print(\"Nouvelle note :\", etudiant)"
   ]
  },
  {
   "cell_type": "code",
   "execution_count": 18,
   "metadata": {},
   "outputs": [
    {
     "name": "stdout",
     "output_type": "stream",
     "text": [
      "Après ajout : {'nom': 'Emma', 'note': 17, 'âge': 20}\n"
     ]
    }
   ],
   "source": [
    "# Ajouter une paire\n",
    "etudiant[\"âge\"] = 20\n",
    "print(\"Après ajout :\", etudiant) "
   ]
  },
  {
   "cell_type": "code",
   "execution_count": 19,
   "metadata": {},
   "outputs": [
    {
     "ename": "KeyError",
     "evalue": "'ville'",
     "output_type": "error",
     "traceback": [
      "\u001b[31m---------------------------------------------------------------------------\u001b[39m",
      "\u001b[31mKeyError\u001b[39m                                  Traceback (most recent call last)",
      "\u001b[36mCell\u001b[39m\u001b[36m \u001b[39m\u001b[32mIn[19]\u001b[39m\u001b[32m, line 2\u001b[39m\n\u001b[32m      1\u001b[39m \u001b[38;5;66;03m# Erreur si clé inexistante\u001b[39;00m\n\u001b[32m----> \u001b[39m\u001b[32m2\u001b[39m \u001b[38;5;28mprint\u001b[39m(\u001b[43metudiant\u001b[49m\u001b[43m[\u001b[49m\u001b[33;43m\"\u001b[39;49m\u001b[33;43mville\u001b[39;49m\u001b[33;43m\"\u001b[39;49m\u001b[43m]\u001b[49m)  \u001b[38;5;66;03m# Erreur : KeyError: 'ville'\u001b[39;00m\n\u001b[32m      3\u001b[39m \u001b[38;5;66;03m# Pourquoi ? La clé \"ville\" n’existe pas.\u001b[39;00m\n",
      "\u001b[31mKeyError\u001b[39m: 'ville'"
     ]
    }
   ],
   "source": [
    "# Erreur si clé inexistante\n",
    "print(etudiant[\"ville\"])  # Erreur : KeyError: 'ville'\n",
    "# Pourquoi ? La clé \"ville\" n’existe pas."
   ]
  },
  {
   "cell_type": "code",
   "execution_count": 20,
   "metadata": {},
   "outputs": [
    {
     "name": "stdout",
     "output_type": "stream",
     "text": [
      "Ville : Non spécifiée\n"
     ]
    }
   ],
   "source": [
    "# Solution : Utiliser get()\n",
    "print(\"Ville :\", etudiant.get(\"ville\", \"Non spécifiée\"))"
   ]
  },
  {
   "cell_type": "markdown",
   "metadata": {},
   "source": [
    "## Itérations sur un Dictionnaire\n",
    "\n",
    "On peut itérer sur les clés, les valeurs ou les paires clé-valeur avec des boucles.\n",
    "\n",
    "### Méthodes Utiles\n",
    "- `keys()` : Retourne les clés.\n",
    "- `values()` : Retourne les valeurs.\n",
    "- `items()` : Retourne les paires (clé, valeur).\n",
    "\n",
    "### Exemple\n",
    "Parcourons un dictionnaire."
   ]
  },
  {
   "cell_type": "code",
   "execution_count": 21,
   "metadata": {},
   "outputs": [],
   "source": [
    "inventaire = {\"pommes\": 10, \"bananes\": 5, \"oranges\": 8}"
   ]
  },
  {
   "cell_type": "code",
   "execution_count": 22,
   "metadata": {},
   "outputs": [
    {
     "name": "stdout",
     "output_type": "stream",
     "text": [
      "Produit : pommes\n",
      "Produit : bananes\n",
      "Produit : oranges\n"
     ]
    }
   ],
   "source": [
    "# Itérer sur les clés (par défaut)\n",
    "for produit in inventaire:\n",
    "    print(f\"Produit : {produit}\")"
   ]
  },
  {
   "cell_type": "code",
   "execution_count": 23,
   "metadata": {},
   "outputs": [
    {
     "name": "stdout",
     "output_type": "stream",
     "text": [
      "Clé : pommes\n",
      "Clé : bananes\n",
      "Clé : oranges\n"
     ]
    }
   ],
   "source": [
    "# Avec keys()\n",
    "for cle in inventaire.keys():\n",
    "    print(f\"Clé : {cle}\")\n",
    "# Même sortie que ci-dessus"
   ]
  },
  {
   "cell_type": "code",
   "execution_count": 27,
   "metadata": {},
   "outputs": [
    {
     "name": "stdout",
     "output_type": "stream",
     "text": [
      "Quantité : 10\n",
      "Quantité : 5\n",
      "Quantité : 8\n"
     ]
    }
   ],
   "source": [
    "# Itérer sur les valeurs\n",
    "for quantite in inventaire.values():\n",
    "    print(f\"Quantité : {quantite}\")"
   ]
  },
  {
   "cell_type": "code",
   "execution_count": 28,
   "metadata": {},
   "outputs": [
    {
     "name": "stdout",
     "output_type": "stream",
     "text": [
      "pommes : 10\n",
      "bananes : 5\n",
      "oranges : 8\n"
     ]
    }
   ],
   "source": [
    "# Itérer sur les paires clé-valeur\n",
    "for produit, quantite in inventaire.items():\n",
    "    print(f\"{produit} : {quantite}\")"
   ]
  },
  {
   "cell_type": "markdown",
   "metadata": {},
   "source": [
    "## Méthodes Supplémentaires\n",
    "\n",
    "- `update()` : Ajoute ou met à jour plusieurs paires.\n",
    "- `clear()` : Vide le dictionnaire.\n",
    "- `len()` : Retourne le nombre de paires.\n",
    "\n",
    "### Exemple\n",
    "Testons ces méthodes."
   ]
  },
  {
   "cell_type": "code",
   "execution_count": 7,
   "metadata": {},
   "outputs": [],
   "source": [
    "profil = {\"nom\": \"Paul\"}"
   ]
  },
  {
   "cell_type": "code",
   "execution_count": 8,
   "metadata": {},
   "outputs": [
    {
     "name": "stdout",
     "output_type": "stream",
     "text": [
      "Après update : {'nom': 'Paul', 'âge': 22, 'ville': 'Nice'}\n"
     ]
    }
   ],
   "source": [
    "# Ajouter avec update\n",
    "profil.update({\"âge\": 22, \"ville\": \"Nice\"})\n",
    "print(\"Après update :\", profil) "
   ]
  },
  {
   "cell_type": "code",
   "execution_count": 9,
   "metadata": {},
   "outputs": [
    {
     "name": "stdout",
     "output_type": "stream",
     "text": [
      "Après mise à jour : {'nom': 'Pauline', 'âge': 22, 'ville': 'Nice'}\n"
     ]
    }
   ],
   "source": [
    "# Mettre à jour une clé existante\n",
    "profil.update({\"nom\": \"Pauline\"})\n",
    "print(\"Après mise à jour :\", profil) "
   ]
  },
  {
   "cell_type": "code",
   "execution_count": null,
   "metadata": {},
   "outputs": [
    {
     "name": "stdout",
     "output_type": "stream",
     "text": [
      "Après clear : {}\n"
     ]
    }
   ],
   "source": [
    "# Vider le dictionnaire\n",
    "profil.clear()\n",
    "print(\"Après clear :\", profil)"
   ]
  },
  {
   "cell_type": "code",
   "execution_count": 33,
   "metadata": {},
   "outputs": [
    {
     "name": "stdout",
     "output_type": "stream",
     "text": [
      "Nombre d’articles : 2\n"
     ]
    }
   ],
   "source": [
    "# Longueur\n",
    "stock = {\"chaise\": 4, \"table\": 2}\n",
    "print(\"Nombre d’articles :\", len(stock))"
   ]
  },
  {
   "cell_type": "code",
   "execution_count": 26,
   "metadata": {},
   "outputs": [
    {
     "data": {
      "text/plain": [
       "0"
      ]
     },
     "execution_count": 26,
     "metadata": {},
     "output_type": "execute_result"
    }
   ],
   "source": [
    "tuples = (2,)\n",
    "tuples.index(2)"
   ]
  },
  {
   "cell_type": "markdown",
   "metadata": {},
   "source": [
    "## Dict Compréhensions\n",
    "\n",
    "Les dict comprehensions permettent de créer des dictionnaires de manière concise.\n",
    "\n",
    "### Syntaxe\n",
    "```python\n",
    "mon_dict = {clé: valeur for clé, valeur in iterable}\n",
    "```\n",
    "\n",
    "### Exemple"
   ]
  },
  {
   "cell_type": "code",
   "execution_count": null,
   "metadata": {},
   "outputs": [
    {
     "name": "stdout",
     "output_type": "stream",
     "text": [
      "1 1\n",
      "2 4\n",
      "3 9\n",
      "4 16\n",
      "5 25\n",
      "6 36\n",
      "7 49\n",
      "8 64\n",
      "9 81\n",
      "10 100\n"
     ]
    }
   ],
   "source": [
    "carres = {i: i ** 2 for i in range(1, 11)}\n",
    "\n",
    "\n",
    "\n",
    "for key, values in carres.items():\n",
    "    print(key, values)"
   ]
  },
  {
   "cell_type": "code",
   "execution_count": 37,
   "metadata": {},
   "outputs": [
    {
     "name": "stdout",
     "output_type": "stream",
     "text": [
      "Longueurs : {'chat': 4, 'chien': 5, 'cheval': 6, 'canard': 6}\n"
     ]
    }
   ],
   "source": [
    "mots = [\"chat\", \"chien\", \"cheval\", \"canard\"]\n",
    "# Créer un dictionnaire avec les mots et leur longueur\n",
    "longueurs = {mot: len(mot) for mot in mots}\n",
    "print(\"Longueurs :\", longueurs)"
   ]
  },
  {
   "cell_type": "code",
   "execution_count": 38,
   "metadata": {},
   "outputs": [
    {
     "name": "stdout",
     "output_type": "stream",
     "text": [
      "chat 4\n",
      "chien 5\n",
      "cheval 6\n",
      "canard 6\n"
     ]
    }
   ],
   "source": [
    "for key, values in longueurs.items():\n",
    "    print(key, values)"
   ]
  },
  {
   "cell_type": "markdown",
   "metadata": {},
   "source": [
    "## Exercices \n",
    "\n",
    "Créez un dictionnaire associant à chaque étudiant 1 liste de 3 notes :\n",
    "\n",
    "- `\"Alice\": [15, 14, 19]`\n",
    "- `\"Bob\": [12, 11, 20]`\n",
    "- `\"Charlie\": [17, 10, 12]`\n",
    "\n",
    "- Ajoutez un étudiant `\"David\"` avec 3 nouvelles notes.\n",
    "- Parcourez le dictionnaire et affichez la premiere note de chaque étudiant"
   ]
  },
  {
   "cell_type": "code",
   "execution_count": null,
   "metadata": {},
   "outputs": [],
   "source": [
    "\"\"\"\n",
    "Votre réponse ici\n",
    "\"\"\""
   ]
  },
  {
   "cell_type": "markdown",
   "metadata": {},
   "source": [
    "## Correction"
   ]
  },
  {
   "cell_type": "code",
   "execution_count": null,
   "metadata": {},
   "outputs": [
    {
     "name": "stdout",
     "output_type": "stream",
     "text": [
      "Note de Charlie : 17\n",
      "Parcours complet :\n",
      "Alice : 15\n",
      "Bob : 12\n",
      "Charlie : 17\n",
      "David : 14\n"
     ]
    }
   ],
   "source": [
    "# Création du dictionnaire initial\n",
    "notes_etudiants = {\n",
    "    \"Alice\": [15, 14, 19],\n",
    "    \"Bob\": [12, 11, 20],\n",
    "    \"Charlie\": [17, 10, 12]\n",
    "}\n",
    "\n",
    "# Ajout de l'étudiant David avec 3 notes\n",
    "notes_etudiants[\"David\"] = [13, 16, 18]\n",
    "\n",
    "# Parcours du dictionnaire et affichage de la première note de chaque étudiant\n",
    "for nom, notes in notes_etudiants.items():\n",
    "    print(f\"{nom} - Première note : {notes[0]}\")"
   ]
  },
  {
   "cell_type": "markdown",
   "metadata": {},
   "source": [
    "## Conclusion\n",
    "\n",
    "Cette section vous a permis de maîtriser :\n",
    "- La **création** de dictionnaires avec `{}` ou `dict()`.\n",
    "- La **manipulation** des clés et valeurs (accès, ajout, modification, suppression).\n",
    "- Les **itérations** sur les clés, valeurs ou paires avec `keys()`, `values()`, `items()`.\n",
    "- Les méthodes comme `update`, `pop`, `clear` et la gestion des erreurs.\n",
    "\n",
    "Vous êtes maintenant prêt à utiliser les dictionnaires pour organiser des données associatives. Expérimentez avec les exemples pour approfondir vos compétences !"
   ]
  }
 ],
 "metadata": {
  "kernelspec": {
   "display_name": "3.13.3",
   "language": "python",
   "name": "python3"
  },
  "language_info": {
   "codemirror_mode": {
    "name": "ipython",
    "version": 3
   },
   "file_extension": ".py",
   "mimetype": "text/x-python",
   "name": "python",
   "nbconvert_exporter": "python",
   "pygments_lexer": "ipython3",
   "version": "3.13.3"
  }
 },
 "nbformat": 4,
 "nbformat_minor": 2
}
