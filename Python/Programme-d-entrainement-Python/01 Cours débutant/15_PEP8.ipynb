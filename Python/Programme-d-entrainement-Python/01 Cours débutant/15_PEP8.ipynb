{
 "cells": [
  {
   "cell_type": "markdown",
   "metadata": {},
   "source": [
    "# PEP 8 : Conventions de Style en Python\n",
    "\n",
    "Dans cette section, nous allons explorer **PEP 8**, le guide de style officiel pour le code Python. Nous couvrirons ses principales conventions, fournirons des exemples concrets de code conforme et non conforme, et expliquerons comment utiliser des outils de vérification comme **Black Formatter** dans **VSCode** pour garantir la conformité.\n",
    "\n",
    "## Qu’est-ce que PEP 8 ?\n",
    "**PEP 8** (Python Enhancement Proposal 8) est un ensemble de recommandations pour améliorer la lisibilité et la cohérence du code Python. Publié en 2001 par Guido van Rossum, Barry Warsaw et Nick Coghlan, il est largement adopté dans la communauté Python.\n",
    "\n",
    "\n",
    "Le lien vers le Guide : https://peps.python.org/pep-0008/\n"
   ]
  },
  {
   "cell_type": "markdown",
   "metadata": {},
   "source": [
    "Comment passer de ceci : "
   ]
  },
  {
   "cell_type": "code",
   "execution_count": null,
   "metadata": {},
   "outputs": [],
   "source": [
    "import sys,os \n",
    "def calculateSum(a,b): \n",
    "    result=a+b\n",
    "    if result>10:print(\"Grand\")\n",
    "    else:\n",
    "        print(\"Petit\")\n",
    "    long_variable_name_which_is_too_long_to_fit_in_79_characters_and_breaks_pep8=\"valeur\"\n",
    "    return result\n",
    "calculateSum(5,3)"
   ]
  },
  {
   "cell_type": "markdown",
   "metadata": {},
   "source": [
    "A cela :"
   ]
  },
  {
   "cell_type": "code",
   "execution_count": null,
   "metadata": {},
   "outputs": [],
   "source": [
    "import sys\n",
    "import os\n",
    "\n",
    "\n",
    "def calculate_sum(a, b):\n",
    "    \"\"\"Calcule la somme de deux nombres.\"\"\"\n",
    "    result = a + b\n",
    "    if result > 10:\n",
    "        print(\"Grand\")\n",
    "    else:\n",
    "        print(\"Petit\")\n",
    "    long_variable_name = \"valeur sur plusieurs lignes si nécessaire avec des parenthèses implicites\"\n",
    "    return result\n",
    "\n",
    "\n",
    "calculate_sum(5, 3)"
   ]
  },
  {
   "cell_type": "markdown",
   "metadata": {},
   "source": [
    "## Pourquoi ?\n",
    "- **Uniformité** : Assurer un code cohérent dans une équipe ou une communauté.\n",
    "- **Lisibilité** : Faciliter la compréhension pour les autres développeurs (ou vous-même plus tard).\n",
    "- **Maintenance** : Simplifier la relecture et les modifications grâce à des conventions claires.\n",
    "\n",
    "\n",
    "Commençons par les bases des conventions !"
   ]
  },
  {
   "cell_type": "markdown",
   "metadata": {},
   "source": [
    "## Conventions Clés de PEP 8\n",
    "\n",
    "Voici les règles principales de PEP 8, avec des exemples concrets pour chaque.\n",
    "\n",
    "### 1. Indentation\n",
    "- Utilisez **4 espaces** par niveau d’indentation (pas de tabulations)."
   ]
  },
  {
   "cell_type": "code",
   "execution_count": null,
   "metadata": {},
   "outputs": [],
   "source": [
    "# Correct\n",
    "def ma_fonction(x):\n",
    "    return x\n",
    "\n",
    "\n",
    "# Incorrect\n",
    "def ma_fonction(x):\n",
    " return x "
   ]
  },
  {
   "cell_type": "markdown",
   "metadata": {},
   "source": [
    "\n",
    "### 2. Longueur des Lignes\n",
    "- Maximum **79 caractères** par ligne (72 pour les docstrings/commentaires)."
   ]
  },
  {
   "cell_type": "code",
   "execution_count": null,
   "metadata": {},
   "outputs": [],
   "source": [
    "from sklearn.linear_model import SGDRegressor\n",
    "\n",
    "# Correct\n",
    "model = SGDRegressor(\n",
    "    loss='squared_error', \n",
    "    penalty='l2',\n",
    "    alpha=0.0001,\n",
    "    l1_ratio=0.15,\n",
    "    fit_intercept=True,\n",
    "    max_iter=1000\n",
    ")\n",
    "\n",
    "# Incorrect\n",
    "model = SGDRegressor(loss='squared_error', penalty='l2', alpha=0.0001, l1_ratio=0.15, fit_intercept=True, max_iter=1000, tol=0.001, shuffle=True, verbose=0, epsilon=0.1, random_state=None, learning_rate='invscaling', eta0=0.01, power_t=0.25, early_stopping=False, validation_fraction=0.1, n_iter_no_change=5, warm_start=False, average=False)"
   ]
  },
  {
   "cell_type": "markdown",
   "metadata": {},
   "source": [
    "### 3. Espaces\n",
    "- Autour des opérateurs (`=`, `+`, etc.) : 1 espace.\n",
    "- Pas d’espace avant une virgule, mais un espace après.\n",
    "- Pas d’espaces à l’intérieur des parenthèses/brackets."
   ]
  },
  {
   "cell_type": "code",
   "execution_count": null,
   "metadata": {},
   "outputs": [],
   "source": [
    "# Correct\n",
    "x = 1 + 3\n",
    "\n",
    "# Incorrect\n",
    "x=1+3"
   ]
  },
  {
   "cell_type": "code",
   "execution_count": null,
   "metadata": {},
   "outputs": [],
   "source": [
    "# Correct\n",
    "model = SGDRegressor(loss='squared_error', penalty='l2')\n",
    "\n",
    "# Correct\n",
    "model = SGDRegressor(loss='squared_error' , penalty='l2')"
   ]
  },
  {
   "cell_type": "markdown",
   "metadata": {},
   "source": [
    "### 4. Nommage\n",
    "- Fonctions et variables : `minuscules_avec_underscores`.\n",
    "- Classes : `CamelCase`.\n",
    "- Constantes : `MAJUSCULES_AVEC_UNDERSCORES`.\n",
    "- In Enligsh please ! :)"
   ]
  },
  {
   "cell_type": "code",
   "execution_count": null,
   "metadata": {},
   "outputs": [],
   "source": [
    "# Correct\n",
    "def ma_fonction(x):\n",
    "    return x\n",
    "\n",
    "# Incorrect\n",
    "def maFonction(x):\n",
    " return x "
   ]
  },
  {
   "cell_type": "code",
   "execution_count": null,
   "metadata": {},
   "outputs": [],
   "source": [
    "# Correct\n",
    "class MaClasse:\n",
    "    pass\n",
    "\n",
    "# Incorrect\n",
    "class ma_classe:\n",
    "    pass"
   ]
  },
  {
   "cell_type": "code",
   "execution_count": null,
   "metadata": {},
   "outputs": [],
   "source": [
    "# Correct\n",
    "VITESSE_DE_LA_LUMIERE = 3e8\n",
    "\n",
    "# Incorrect\n",
    "vitesse_de_la_lumiere = 3e8"
   ]
  },
  {
   "cell_type": "markdown",
   "metadata": {},
   "source": [
    "### 5. Imports\n",
    "- Un import par ligne.\n",
    "- Ordre : bibliothèque standard, tierce partie, locaux."
   ]
  },
  {
   "cell_type": "code",
   "execution_count": null,
   "metadata": {},
   "outputs": [],
   "source": [
    "# Correct\n",
    "import numpy as np\n",
    "import math\n",
    "import pandas as pd\n",
    "import matplotlib.pyplot as plt\n",
    "\n",
    "\n",
    "# Incorrect\n",
    "import numpy, pandas"
   ]
  },
  {
   "cell_type": "markdown",
   "metadata": {},
   "source": [
    "### 6. Commentaires\n",
    "- Clairs, concis, et alignés avec le code. Éviter l'évidence. Privilégier la compréhension *systeme*\n",
    "- In English please :)"
   ]
  },
  {
   "cell_type": "code",
   "execution_count": null,
   "metadata": {},
   "outputs": [],
   "source": [
    "# Correct\n",
    "x = x + 1 # Compensate for the image border\n",
    "\n",
    "\n",
    "# Incorrect\n",
    "x = x + 1 # augmente x de 1."
   ]
  },
  {
   "cell_type": "markdown",
   "metadata": {},
   "source": [
    "# Revoyons le code du début"
   ]
  },
  {
   "cell_type": "code",
   "execution_count": null,
   "metadata": {},
   "outputs": [],
   "source": [
    "# Code non conforme à PEP 8\n",
    "import sys,os # Plusieurs imports sur une ligne\n",
    "def calculateSum(a,b): # Mauvais nom (camelCase au lieu de snake_case)\n",
    "    result=a+b# Pas d’espaces autour des opérateurs\n",
    "    if result>10:print(\"Grand\") # Indentation inconsistante et ligne trop compacte\n",
    "    else:\n",
    "        print(\"Petit\")\n",
    "    long_variable_name_which_is_too_long_to_fit_in_79_characters_and_breaks_pep8=\"valeur\" # Ligne > 79 caractères\n",
    "    return result\n",
    "\n",
    "calculateSum(5,3) # Pas d’espace après la virgule"
   ]
  },
  {
   "cell_type": "markdown",
   "metadata": {},
   "source": [
    "Le code ci-dessus viole plusieurs règles PEP 8 :\n",
    "- **Imports multiples** : `import sys, os` sur une ligne.\n",
    "- **Nommage** : `calculateSum` devrait être `calculate_sum`.\n",
    "- **Espaces** : Pas d’espaces autour de `=` et `+`, ni après la virgule dans `5,3`.\n",
    "- **Indentation** : Mélange d’espaces et absence d’indentation claire dans le `if`.\n",
    "- **Longueur** : Variable `long_variable_name_...` dépasse 79 caractères.\n",
    "\n",
    "Corrigeons-le !"
   ]
  },
  {
   "cell_type": "code",
   "execution_count": null,
   "metadata": {},
   "outputs": [],
   "source": [
    "# Code conforme à PEP 8\n",
    "import sys\n",
    "import os\n",
    "\n",
    "\n",
    "def calculate_sum(a, b):\n",
    "    \"\"\"Calcule la somme de deux nombres.\"\"\"\n",
    "    result = a + b\n",
    "    if result > 10:\n",
    "        print(\"Grand\")\n",
    "    else:\n",
    "        print(\"Petit\")\n",
    "    long_variable_name = \"valeur sur plusieurs lignes si nécessaire avec des parenthèses implicites\"\n",
    "    return result\n",
    "\n",
    "\n",
    "# Appel avec espaces corrects\n",
    "calculate_sum(5, 3)"
   ]
  },
  {
   "cell_type": "markdown",
   "metadata": {},
   "source": [
    "Ici, nous avons un code qui respecte les conventions PEP 8:\n",
    "\n",
    "- **Imports** : Un par ligne (`sys` et `os` séparés).\n",
    "- **Nommage** : `calculate_sum` utilise des underscores et minuscules.\n",
    "- **Espaces** : Autour de `=`, `+`, et après la virgule dans `(5, 3)`.\n",
    "- **Indentation** : 4 espaces cohérents.\n",
    "- **Longueur** : Variable longue gérée avec une longueur raisonnable (ici, < 79 caractères).\n",
    "- **Docstring** : Ajoutée pour documenter la fonction."
   ]
  },
  {
   "cell_type": "markdown",
   "metadata": {},
   "source": [
    "# Un autre exemple (avec les Classes)"
   ]
  },
  {
   "cell_type": "code",
   "execution_count": null,
   "metadata": {},
   "outputs": [],
   "source": [
    "# Exemple complexe non conforme\n",
    "class myClass: # Mauvais nom (pas de CamelCase)\n",
    "    def __init__(self,name,age):self.name=name;self.age=age # Trop compact\n",
    "    \n",
    "    def displayInfo(self): # Mauvais nom et ligne trop longue\n",
    "        print(\"Nom:\"+self.name+\", Âge:\"+str(self.age)+\", Statut:actif\")\n",
    "        \n",
    "MY_CONSTANT=42 # Pas d’espace autour de =\n",
    "for i in range(10):print(i) # Pas d’indentation claire"
   ]
  },
  {
   "cell_type": "code",
   "execution_count": null,
   "metadata": {},
   "outputs": [],
   "source": [
    "# Exemple complexe conforme à PEP 8\n",
    "class MyClass:\n",
    "    \"\"\"Classe pour gérer les informations d’une personne.\"\"\"\n",
    "    \n",
    "    def __init__(self, name, age):\n",
    "        self.name = name\n",
    "        self.age = age\n",
    "\n",
    "    def display_info(self):\n",
    "        \"\"\"Affiche les informations de la personne.\"\"\"\n",
    "        print(f\"Nom : {self.name}, Âge : {self.age}, Statut : actif\")\n",
    "\n",
    "\n",
    "MY_CONSTANT = 42\n",
    "\n",
    "for i in range(10):\n",
    "    print(i)"
   ]
  },
  {
   "cell_type": "markdown",
   "metadata": {},
   "source": [
    "## Outils de Vérification : Black Formatter dans VSCode\n",
    "\n",
    "Pour appliquer automatiquement PEP 8, des outils comme **Black Formatter** sont très utiles. Voici comment l’utiliser dans **VSCode**.\n",
    "\n",
    "### Installation\n",
    "Installez l’extension Python dans VSCode (par Microsoft).\n",
    "\n",
    "### Configuration dans VSCode\n",
    "1. Ouvrez les paramètres.\n",
    "2. Recherchez \"Python Formatting Provider\" et sélectionnez `black`.\n",
    "\n",
    "(Voir `images/black_formatter.png`)\n",
    "\n",
    "1. Activez le formatage à la sauvegarde :\n",
    "   - Cherchez \"Format on Save\" et cochez la case.\n",
    "2. (Optionnel) Ajoutez un fichier `.vscode/settings.json` :\n",
    "```json\n",
    "{\n",
    "    \"python.formatting.provider\": \"black\",\n",
    "    \"editor.formatOnSave\": true,\n",
    "    \"black-formatter.args\": [\"--line-length\", \"79\"]\n",
    "}\n",
    "```"
   ]
  },
  {
   "cell_type": "markdown",
   "metadata": {},
   "source": [
    "## Avantages et Limites de Black\n",
    "\n",
    "### Avantages\n",
    "- **Automatisation** : Applique PEP 8 sans effort.\n",
    "- **Cohérence** : Uniformise le style dans une équipe.\n",
    "- **Gain de temps** : Évite les corrections manuelles.\n",
    "\n",
    "### Limites\n",
    "- **Moins de contrôle** : Black impose ses choix (ex. : guillemets simples).\n",
    "- **Longueur des lignes** : Par défaut 88 caractères, configurable à 79 via `--line-length`.\n"
   ]
  },
  {
   "cell_type": "markdown",
   "metadata": {},
   "source": []
  }
 ],
 "metadata": {
  "kernelspec": {
   "display_name": "Python 3",
   "language": "python",
   "name": "python3"
  },
  "language_info": {
   "codemirror_mode": {
    "name": "ipython",
    "version": 3
   },
   "file_extension": ".py",
   "mimetype": "text/x-python",
   "name": "python",
   "nbconvert_exporter": "python",
   "pygments_lexer": "ipython3",
   "version": "3.12.9"
  }
 },
 "nbformat": 4,
 "nbformat_minor": 2
}
