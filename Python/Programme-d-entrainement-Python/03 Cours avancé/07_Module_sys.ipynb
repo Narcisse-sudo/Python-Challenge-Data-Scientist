{
 "cells": [
  {
   "cell_type": "markdown",
   "metadata": {},
   "source": [
    "# Le module sys\n",
    "\n"
   ]
  },
  {
   "cell_type": "markdown",
   "metadata": {},
   "source": [
    "\n",
    "\n",
    "## Module `sys`\n",
    "\n",
    "Le module `sys` donne accès à des variables et fonctions liées à l’interpréteur Python.\n",
    "\n",
    "### Importation\n",
    "```python\n",
    "import sys\n",
    "```\n",
    "\n",
    "### Fonctions Courantes\n",
    "\n",
    "- `sys.version` : Version de Python.\n",
    "- `sys.argv` : Arguments de la ligne de commande.\n",
    "- `sys.exit()` : Quitte le programme.\n",
    "- `sys.path` : Chemins de recherche des modules.\n",
    "\n",
    "### Exemple\n",
    "\n",
    "Obtenons des informations système."
   ]
  },
  {
   "cell_type": "code",
   "execution_count": 1,
   "metadata": {},
   "outputs": [],
   "source": [
    "import sys\n"
   ]
  },
  {
   "cell_type": "code",
   "execution_count": 2,
   "metadata": {},
   "outputs": [
    {
     "name": "stdout",
     "output_type": "stream",
     "text": [
      "Version de Python : 3.11.0 | packaged by conda-forge | (main, Jan 14 2023, 12:26:40) [Clang 14.0.6 ]\n"
     ]
    }
   ],
   "source": [
    "\n",
    "# Version de Python\n",
    "print(\"Version de Python :\", sys.version)\n"
   ]
  },
  {
   "cell_type": "code",
   "execution_count": 3,
   "metadata": {},
   "outputs": [
    {
     "name": "stdout",
     "output_type": "stream",
     "text": [
      "Chemins de recherche : ['/opt/anaconda3/envs/fast_env/lib/python311.zip', '/opt/anaconda3/envs/fast_env/lib/python3.11', '/opt/anaconda3/envs/fast_env/lib/python3.11/lib-dynload', '', '/opt/anaconda3/envs/fast_env/lib/python3.11/site-packages', '/opt/anaconda3/envs/fast_env/lib/python3.11/site-packages/setuptools/_vendor']\n"
     ]
    }
   ],
   "source": [
    "\n",
    "# Chemins des modules\n",
    "print(\"Chemins de recherche :\", sys.path) \n"
   ]
  },
  {
   "cell_type": "code",
   "execution_count": 4,
   "metadata": {},
   "outputs": [
    {
     "name": "stdout",
     "output_type": "stream",
     "text": [
      "Arguments : ['script.py', 'arg1', 'arg2']\n"
     ]
    }
   ],
   "source": [
    "\n",
    "# Arguments (simulés ici, car pas en ligne de commande)\n",
    "sys.argv = [\"script.py\", \"arg1\", \"arg2\"]  # Simulation\n",
    "print(\"Arguments :\", sys.argv)  \n"
   ]
  },
  {
   "cell_type": "code",
   "execution_count": 5,
   "metadata": {},
   "outputs": [],
   "source": [
    "\n",
    "# Quitter (commenté pour éviter arrêt)\n",
    "# sys.exit(0)  # 0 = succès, autre = erreur"
   ]
  }
 ],
 "metadata": {
  "kernelspec": {
   "display_name": "fast_env",
   "language": "python",
   "name": "python3"
  },
  "language_info": {
   "codemirror_mode": {
    "name": "ipython",
    "version": 3
   },
   "file_extension": ".py",
   "mimetype": "text/x-python",
   "name": "python",
   "nbconvert_exporter": "python",
   "pygments_lexer": "ipython3",
   "version": "3.11.0"
  }
 },
 "nbformat": 4,
 "nbformat_minor": 2
}
