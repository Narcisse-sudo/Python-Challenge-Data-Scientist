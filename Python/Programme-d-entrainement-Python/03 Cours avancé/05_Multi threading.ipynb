{
 "cells": [
  {
   "cell_type": "markdown",
   "metadata": {},
   "source": [
    "# Multi-threading en Python\n",
    "\n",
    "Dans cette section, nous allons explorer le **multi-threading** en Python, une technique pour exécuter plusieurs tâches concurremment dans un seul processus en utilisant des threads. Nous couvrirons les bases du module **`threading`**, la gestion des threads, la synchronisation, et les limites liées au *Global Interpreter Lock* (GIL).\n",
    "\n",
    "## Qu’est-ce que le Multi-threading ?\n",
    "Le multi-threading permet à un programme d’exécuter plusieurs fils d’exécution (*threads*) en parallèle, partageant le même espace mémoire. C’est particulièrement utile pour les tâches liées aux entrées/sorties (I/O-bound), mais limité pour les tâches CPU-intensives en Python à cause du GIL.\n",
    "\n",
    "Commençons par les bases !"
   ]
  },
  {
   "cell_type": "markdown",
   "metadata": {},
   "source": [
    "## Concepts de Base avec `threading`\n",
    "\n",
    "### Importation\n",
    "```python\n",
    "import threading\n",
    "```\n",
    "\n",
    "### Fonctionnalités Clés\n",
    "\n",
    "- `Thread` : Crée un nouveau thread.\n",
    "- `start()` : Lance l’exécution du thread.\n",
    "- `join()` : Attend la fin d’un thread.\n",
    "\n",
    "### Exemple Simple\n",
    "\n",
    "Lançons deux threads pour afficher des messages."
   ]
  },
  {
   "cell_type": "code",
   "execution_count": null,
   "metadata": {},
   "outputs": [],
   "source": [
    "import threading\n",
    "import time\n",
    "\n",
    "def afficher_message(message: str, delai: float):\n",
    "    \"\"\"Affiche un message après un délai.\"\"\"\n",
    "    time.sleep(delai)  # Simule une tâche I/O\n",
    "    print(f\"Message : {message}\")\n"
   ]
  },
  {
   "cell_type": "code",
   "execution_count": 6,
   "metadata": {},
   "outputs": [
    {
     "name": "stdout",
     "output_type": "stream",
     "text": [
      "Message : Bonjour\n",
      "Message : Salut\n",
      "Tous les threads sont terminés\n"
     ]
    }
   ],
   "source": [
    "\n",
    "# Création des threads\n",
    "t1 = threading.Thread(target=afficher_message, args=(\"Bonjour\", 1))\n",
    "t2 = threading.Thread(target=afficher_message, args=(\"Salut\", 2))\n",
    "\n",
    "# Lancement des threads\n",
    "t1.start()\n",
    "t2.start()\n",
    "\n",
    "# Attente de la fin (optionnel)\n",
    "t1.join()\n",
    "t2.join()\n",
    "\n",
    "print(\"Tous les threads sont terminés\")"
   ]
  },
  {
   "cell_type": "markdown",
   "metadata": {},
   "source": [
    "\n",
    "## Analyse de l’Exemple\n",
    "\n",
    "- **`Thread`** : Crée un thread avec une fonction cible (`afficher_message`) et ses arguments.\n",
    "- **`start()`** : Démarre les threads, qui s’exécutent concurremment.\n",
    "- **`join()`** : Assure que le programme principal attend la fin des threads.\n",
    "- **Concurrence** : Les messages s’affichent après des délais différents, montrant l’exécution parallèle.\n",
    "\n",
    "Passons à la synchronisation !"
   ]
  },
  {
   "cell_type": "markdown",
   "metadata": {},
   "source": [
    "## Synchronisation avec `Lock`\n",
    "\n",
    "Les threads partagent la mémoire, ce qui peut causer des conflits (race conditions). Utilisez un **`Lock`** pour synchroniser l’accès aux ressources.\n",
    "\n",
    "### Syntaxe\n",
    "```python\n",
    "verrou = threading.Lock()\n",
    "verrou.acquire()  # Verrouille\n",
    "verrou.release()  # Déverrouille\n",
    "```\n",
    "\n",
    "### Exemple\n",
    "\n",
    "Mettons à jour un compteur partagé."
   ]
  },
  {
   "cell_type": "code",
   "execution_count": null,
   "metadata": {},
   "outputs": [
    {
     "name": "stdout",
     "output_type": "stream",
     "text": [
      "Valeur finale du compteur : 200000\n"
     ]
    }
   ],
   "source": [
    "import threading\n",
    "\n",
    "compteur = 0\n",
    "verrou = threading.Lock()\n",
    "\n",
    "def incrementer(nb_fois: int):\n",
    "    \"\"\"Incrémente un compteur partagé.\"\"\"\n",
    "    global compteur\n",
    "    for _ in range(nb_fois):\n",
    "        with verrou:  # Utilisation de with pour acquire/release\n",
    "            compteur += 1\n"
   ]
  },
  {
   "cell_type": "code",
   "execution_count": null,
   "metadata": {},
   "outputs": [],
   "source": [
    "\n",
    "# Création des threads\n",
    "t1 = threading.Thread(target=incrementer, args=(100000,))\n",
    "t2 = threading.Thread(target=incrementer, args=(100000,))\n",
    "\n",
    "# Lancement et attente\n",
    "t1.start()\n",
    "t2.start()\n",
    "t1.join()\n",
    "t2.join()\n",
    "\n",
    "print(f\"Valeur finale du compteur : {compteur}\")"
   ]
  },
  {
   "cell_type": "markdown",
   "metadata": {},
   "source": [
    "## Analyse avec `Lock`\n",
    "\n",
    "- **Sans verrou** : Les threads pourraient écraser les mises à jour, donnant un résultat imprévisible (< 200000).\n",
    "- **Avec verrou** : Le `Lock` garantit qu’un seul thread modifie `compteur` à la fois.\n",
    "- **`with`** : Simplifie l’acquisition et la libération du verrou.\n",
    "\n",
    "Attention au GIL pour les tâches CPU !"
   ]
  },
  {
   "cell_type": "markdown",
   "metadata": {},
   "source": [
    "## Le GIL et ses Limites\n",
    "\n",
    "### Qu’est-ce que le GIL ?\n",
    "Le *Global Interpreter Lock* (GIL) est un verrou dans CPython qui limite l’exécution à un seul thread Python à la fois pour les tâches CPU. Cela rend le multi-threading inefficace pour les calculs intensifs.\n",
    "\n",
    "### Quand utiliser le Multi-threading ?\n",
    "- **I/O-bound** : Requêtes réseau, lecture/écriture de fichiers (le GIL ne bloque pas les I/O).\n",
    "- **Pas pour CPU-bound** : Préférez `multiprocessing` pour les calculs parallèles."
   ]
  },
  {
   "cell_type": "markdown",
   "metadata": {},
   "source": [
    "## Exemple Avancé : File d’Attente avec `Queue`\n",
    "\n",
    "Utilisons **`queue.Queue`** pour coordonner les threads dans une file de tâches.\n",
    "\n",
    "### Exemple\n",
    "Traitons des tâches depuis une file."
   ]
  },
  {
   "cell_type": "code",
   "execution_count": 7,
   "metadata": {},
   "outputs": [],
   "source": [
    "import threading\n",
    "import queue\n",
    "import time\n",
    "\n",
    "def travailleur(file: queue.Queue):\n",
    "    \"\"\"Travaille sur les tâches de la file.\"\"\"\n",
    "    while True:\n",
    "        try:\n",
    "            # Récupérer une tâche avec timeout\n",
    "            tache = file.get(timeout=1)\n",
    "            print(f\"Thread {threading.current_thread().name} traite : {tache}\")\n",
    "            time.sleep(0.5)  # Simule le traitement\n",
    "            file.task_done()\n",
    "        except queue.Empty:\n",
    "            print(f\"Thread {threading.current_thread().name} : File vide, arrêt\")\n",
    "            break"
   ]
  },
  {
   "cell_type": "code",
   "execution_count": 8,
   "metadata": {},
   "outputs": [
    {
     "name": "stdout",
     "output_type": "stream",
     "text": [
      "Thread Worker-0 traite : Tâche 1\n",
      "Thread Worker-1 traite : Tâche 2\n",
      "Thread Worker-2 traite : Tâche 3\n",
      "Thread Worker-0 traite : Tâche 4\n",
      "Thread Worker-1 : File vide, arrêtThread Worker-2 : File vide, arrêt\n",
      "\n",
      "Thread Worker-0 : File vide, arrêt\n",
      "Toutes les tâches sont terminées\n"
     ]
    }
   ],
   "source": [
    "# Création de la file et des threads\n",
    "file_taches = queue.Queue()\n",
    "threads = [\n",
    "    threading.Thread(target=travailleur, args=(file_taches,), name=f\"Worker-{i}\")\n",
    "    for i in range(3)\n",
    "]\n",
    "\n",
    "# Ajout de tâches\n",
    "taches = [\"Tâche 1\", \"Tâche 2\", \"Tâche 3\", \"Tâche 4\"]\n",
    "for t in taches:\n",
    "    file_taches.put(t)\n",
    "\n",
    "# Lancement des threads\n",
    "for t in threads:\n",
    "    t.start()\n",
    "\n",
    "# Attente de la fin des tâches\n",
    "file_taches.join()\n",
    "\n",
    "# Arrêt des threads (automatique via timeout)\n",
    "for t in threads:\n",
    "    t.join()\n",
    "\n",
    "print(\"Toutes les tâches sont terminées\")"
   ]
  },
  {
   "cell_type": "markdown",
   "metadata": {},
   "source": [
    "## Conclusion\n",
    "\n",
    "Cette section vous a permis de maîtriser :\n",
    "- Les **bases du multi-threading** avec `threading.Thread`, `start()`, et `join()`.\n",
    "- La **synchronisation** avec `Lock` pour éviter les conflits.\n",
    "- L’utilisation de **`Queue`** pour coordonner les tâches entre threads.\n",
    "- Les **limites du GIL**, rendant le multi-threading idéal pour les tâches I/O-bound.\n",
    "\n",
    "Le multi-threading est puissant pour les opérations concurrentes comme les appels réseau ou les fichiers, mais pour les calculs intensifs, envisagez `multiprocessing`. Expérimentez avec ces exemples pour optimiser vos applications concurrentes !"
   ]
  }
 ],
 "metadata": {
  "kernelspec": {
   "display_name": "fast_env",
   "language": "python",
   "name": "python3"
  },
  "language_info": {
   "codemirror_mode": {
    "name": "ipython",
    "version": 3
   },
   "file_extension": ".py",
   "mimetype": "text/x-python",
   "name": "python",
   "nbconvert_exporter": "python",
   "pygments_lexer": "ipython3",
   "version": "3.11.0"
  }
 },
 "nbformat": 4,
 "nbformat_minor": 2
}
