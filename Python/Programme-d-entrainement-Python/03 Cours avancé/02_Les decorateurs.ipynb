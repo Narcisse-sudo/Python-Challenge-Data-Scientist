{
 "cells": [
  {
   "cell_type": "markdown",
   "metadata": {},
   "source": [
    "# Décorateurs en Python : Fonctions d’Ordre Supérieur et Plus\n",
    "\n",
    "Dans cette section, nous allons explorer les **décorateurs**, une fonctionnalité puissante de Python basée sur les **fonctions d’ordre supérieur**. Nous aborderons leur création, leur utilisation pour modifier ou étendre le comportement des fonctions.\n",
    "\n",
    "## Qu’est-ce qu’un Décorateur ?\n",
    "Un décorateur est une fonction qui prend une autre fonction en entrée, ajoute ou modifie son comportement, et renvoie une nouvelle fonction. C’est une application directe des **fonctions d’ordre supérieur**, où les fonctions sont traitées comme des objets manipulables.\n",
    "\n",
    "Commençons par les bases !"
   ]
  },
  {
   "cell_type": "markdown",
   "metadata": {},
   "source": [
    "## Fonctions d’Ordre Supérieur\n",
    "\n",
    "Une **fonction d’ordre supérieur** est une fonction qui :\n",
    "- Prend une ou plusieurs fonctions comme arguments.\n",
    "- Ou renvoie une fonction comme résultat.\n",
    "\n",
    "### Exemple Simple\n",
    "Illustrons ce concept avant de passer aux décorateurs."
   ]
  },
  {
   "cell_type": "code",
   "execution_count": 2,
   "metadata": {},
   "outputs": [],
   "source": [
    "def appliquer_operation(fonction, valeur: int) -> int:\n",
    "    \"\"\"Applique une fonction donnée à une valeur.\"\"\"\n",
    "    return fonction(valeur)"
   ]
  },
  {
   "cell_type": "code",
   "execution_count": 3,
   "metadata": {},
   "outputs": [],
   "source": [
    "\n",
    "def doubler(x: int) -> int:\n",
    "    return x * 2\n",
    "\n",
    "\n",
    "def tripler(x: int) -> int:\n",
    "    return x * 3\n"
   ]
  },
  {
   "cell_type": "code",
   "execution_count": 4,
   "metadata": {},
   "outputs": [
    {
     "name": "stdout",
     "output_type": "stream",
     "text": [
      "10\n"
     ]
    }
   ],
   "source": [
    "print(appliquer_operation(doubler, 5)) \n"
   ]
  },
  {
   "cell_type": "code",
   "execution_count": 5,
   "metadata": {},
   "outputs": [
    {
     "name": "stdout",
     "output_type": "stream",
     "text": [
      "15\n"
     ]
    }
   ],
   "source": [
    "print(appliquer_operation(tripler, 5))  "
   ]
  },
  {
   "cell_type": "markdown",
   "metadata": {},
   "source": [
    "\n",
    "- **`appliquer_operation`** : Prend une fonction (`doubler` ou `tripler`) comme argument et l’applique à `valeur`.\n",
    "- **Flexibilité** : Une seule fonction peut utiliser différentes logiques.\n",
    "\n",
    "Ceci est la base des décorateurs. Passons à leur création !"
   ]
  },
  {
   "cell_type": "markdown",
   "metadata": {},
   "source": [
    "## Création d’un Décorateur\n",
    "\n",
    "Un décorateur est une fonction qui enveloppe une autre fonction pour ajouter un comportement avant, après ou autour de son exécution.\n",
    "\n",
    "### Syntaxe\n",
    "```python\n",
    "def decorateur(fonction):\n",
    "    def enveloppe(*args, **kwargs):\n",
    "        # Avant\n",
    "        resultat = fonction(*args, **kwargs)\n",
    "        # Après\n",
    "        return resultat\n",
    "    return enveloppe\n",
    "\n",
    "@decorateur\n",
    "def ma_fonction():\n",
    "    pass\n",
    "```\n",
    "\n",
    "### Exemple Simple\n",
    "\n",
    "Ajoutons un message avant et après une fonction."
   ]
  },
  {
   "cell_type": "code",
   "execution_count": 6,
   "metadata": {},
   "outputs": [],
   "source": [
    "def log_execution(fonction):\n",
    "    \"\"\"Affiche un message avant et après l’exécution de la fonction.\"\"\"\n",
    "    def enveloppe():\n",
    "        print(f\"Début de {fonction.__name__}\")\n",
    "        fonction()\n",
    "        print(f\"Fin de {fonction.__name__}\")\n",
    "    return enveloppe\n",
    "\n"
   ]
  },
  {
   "cell_type": "code",
   "execution_count": 7,
   "metadata": {},
   "outputs": [],
   "source": [
    "\n",
    "@log_execution\n",
    "def dire_bonjour():\n",
    "    \"\"\"Dit bonjour.\"\"\"\n",
    "    print(\"Bonjour !\")\n"
   ]
  },
  {
   "cell_type": "code",
   "execution_count": 8,
   "metadata": {},
   "outputs": [
    {
     "name": "stdout",
     "output_type": "stream",
     "text": [
      "Début de dire_bonjour\n",
      "Bonjour !\n",
      "Fin de dire_bonjour\n"
     ]
    }
   ],
   "source": [
    "dire_bonjour()"
   ]
  },
  {
   "cell_type": "markdown",
   "metadata": {},
   "source": [
    "## Décorateurs avec Arguments\n",
    "\n",
    "Pour gérer des fonctions avec paramètres, utilisez `*args` et `**kwargs`.\n",
    "\n",
    "### Exemple\n",
    "Mesurons le temps d’exécution d’une fonction."
   ]
  },
  {
   "cell_type": "code",
   "execution_count": 9,
   "metadata": {},
   "outputs": [],
   "source": [
    "import time\n",
    "\n",
    "\n",
    "def mesurer_temps(fonction):\n",
    "    \"\"\"Mesure le temps d’exécution d’une fonction.\"\"\"\n",
    "    def enveloppe(*args, **kwargs):\n",
    "        debut = time.time()\n",
    "        resultat = fonction(*args, **kwargs)\n",
    "        fin = time.time()\n",
    "        print(f\"{fonction.__name__} a pris {fin - debut:.4f} secondes\")\n",
    "        return resultat\n",
    "    return enveloppe\n",
    "\n",
    "\n",
    "@mesurer_temps\n",
    "def calculer_somme(n: int) -> int:\n",
    "    \"\"\"Calcule la somme des nombres jusqu’à n.\"\"\"\n",
    "    return sum(range(n))\n",
    "\n"
   ]
  },
  {
   "cell_type": "code",
   "execution_count": 10,
   "metadata": {},
   "outputs": [
    {
     "name": "stdout",
     "output_type": "stream",
     "text": [
      "calculer_somme a pris 0.0089 secondes\n",
      "499999500000\n"
     ]
    }
   ],
   "source": [
    "print(calculer_somme(1000000))"
   ]
  },
  {
   "cell_type": "markdown",
   "metadata": {},
   "source": [
    "## Décorateurs avec Paramètres\n",
    "\n",
    "Pour passer des paramètres au décorateur lui-même, ajoutez une couche de fonction supplémentaire.\n",
    "\n",
    "### Syntaxe\n",
    "```python\n",
    "def decorateur_parametrable(param):\n",
    "    def decorateur(fonction):\n",
    "        def enveloppe(*args, **kwargs):\n",
    "            # Utilise param\n",
    "            return fonction(*args, **kwargs)\n",
    "        return enveloppe\n",
    "    return decorateur\n",
    "```\n",
    "\n",
    "### Exemple\n",
    "Créons un décorateur pour répéter une fonction."
   ]
  },
  {
   "cell_type": "code",
   "execution_count": 11,
   "metadata": {},
   "outputs": [],
   "source": [
    "def repeter(nb_fois: int):\n",
    "    \"\"\"Répète l’exécution d’une fonction un nombre donné de fois.\"\"\"\n",
    "    def decorateur(fonction):\n",
    "        def enveloppe(*args, **kwargs):\n",
    "            for _ in range(nb_fois):\n",
    "                fonction(*args, **kwargs)\n",
    "        return enveloppe\n",
    "    return decorateur\n",
    "\n",
    "\n",
    "@repeter(3)\n",
    "def saluer(nom: str):\n",
    "    \"\"\"Salue une personne.\"\"\"\n",
    "    print(f\"Salut, {nom} !\")\n"
   ]
  },
  {
   "cell_type": "code",
   "execution_count": 12,
   "metadata": {},
   "outputs": [
    {
     "name": "stdout",
     "output_type": "stream",
     "text": [
      "Salut, Alice !\n",
      "Salut, Alice !\n",
      "Salut, Alice !\n"
     ]
    }
   ],
   "source": [
    "saluer(\"Alice\")"
   ]
  },
  {
   "cell_type": "markdown",
   "metadata": {},
   "source": [
    "## Préserver les Métadonnées avec `wraps`\n",
    "\n",
    "Les décorateurs remplacent la fonction originale par `enveloppe`, perdant ses métadonnées (nom, docstring). Utilisez `functools.wraps` pour les conserver.\n",
    "\n",
    "### Exemple\n",
    "Comparons sans et avec `wraps`."
   ]
  },
  {
   "cell_type": "code",
   "execution_count": 13,
   "metadata": {},
   "outputs": [],
   "source": [
    "from functools import wraps\n",
    "\n",
    "\n",
    "def sans_wraps(fonction):\n",
    "    def enveloppe():\n",
    "        return fonction()\n",
    "    return enveloppe\n",
    "\n",
    "\n",
    "def avec_wraps(fonction):\n",
    "    @wraps(fonction)\n",
    "    def enveloppe():\n",
    "        return fonction()\n",
    "    return enveloppe\n",
    "\n"
   ]
  },
  {
   "cell_type": "code",
   "execution_count": 14,
   "metadata": {},
   "outputs": [],
   "source": [
    "\n",
    "@sans_wraps\n",
    "def test1():\n",
    "    \"\"\"Fonction test 1.\"\"\"\n",
    "    print(\"Test 1\")\n",
    "\n",
    "\n",
    "@avec_wraps\n",
    "def test2():\n",
    "    \"\"\"Fonction test 2.\"\"\"\n",
    "    print(\"Test 2\")\n"
   ]
  },
  {
   "cell_type": "code",
   "execution_count": 15,
   "metadata": {},
   "outputs": [
    {
     "name": "stdout",
     "output_type": "stream",
     "text": [
      "enveloppe None\n"
     ]
    }
   ],
   "source": [
    "print(test1.__name__, test1.__doc__)  \n"
   ]
  },
  {
   "cell_type": "code",
   "execution_count": 16,
   "metadata": {},
   "outputs": [
    {
     "name": "stdout",
     "output_type": "stream",
     "text": [
      "test2 Fonction test 2.\n"
     ]
    }
   ],
   "source": [
    "print(test2.__name__, test2.__doc__)  "
   ]
  },
  {
   "cell_type": "markdown",
   "metadata": {},
   "source": [
    "## Cas d’Usage Courants\n",
    "\n",
    "### 1. Journalisation\n",
    "Ajoute des logs à une fonction.\n",
    "\n",
    "### 2. Validation\n",
    "Vérifie les arguments avant exécution.\n",
    "\n",
    "### Exemple de Journalisation"
   ]
  },
  {
   "cell_type": "code",
   "execution_count": 17,
   "metadata": {},
   "outputs": [],
   "source": [
    "import logging\n",
    "from functools import wraps\n",
    "\n",
    "logging.basicConfig(level=logging.INFO)\n",
    "\n",
    "\n",
    "def journaliser(fonction):\n",
    "    \"\"\"Ajoute des logs avant et après l’exécution.\"\"\"\n",
    "    @wraps(fonction)\n",
    "    def enveloppe(*args, **kwargs):\n",
    "        logging.info(f\"Appel de {fonction.__name__} avec {args}, {kwargs}\")\n",
    "        resultat = fonction(*args, **kwargs)\n",
    "        logging.info(f\"{fonction.__name__} a retourné {resultat}\")\n",
    "        return resultat\n",
    "    return enveloppe\n",
    "\n",
    "\n",
    "@journaliser\n",
    "def multiplier(a: int, b: int) -> int:\n",
    "    \"\"\"Multiplie deux nombres.\"\"\"\n",
    "    return a * b\n"
   ]
  },
  {
   "cell_type": "code",
   "execution_count": 18,
   "metadata": {},
   "outputs": [
    {
     "name": "stderr",
     "output_type": "stream",
     "text": [
      "INFO:root:Appel de multiplier avec (3, 4), {}\n",
      "INFO:root:multiplier a retourné 12\n"
     ]
    },
    {
     "name": "stdout",
     "output_type": "stream",
     "text": [
      "12\n"
     ]
    }
   ],
   "source": [
    "\n",
    "print(multiplier(3, 4))"
   ]
  },
  {
   "cell_type": "markdown",
   "metadata": {},
   "source": [
    "### Exemple de Validation\n",
    "Vérifions que les arguments sont positifs."
   ]
  },
  {
   "cell_type": "code",
   "execution_count": 19,
   "metadata": {},
   "outputs": [],
   "source": [
    "from functools import wraps\n",
    "\n",
    "\n",
    "def positifs(fonction):\n",
    "    \"\"\"Vérifie que tous les arguments numériques sont positifs.\"\"\"\n",
    "    @wraps(fonction)\n",
    "    def enveloppe(*args, **kwargs):\n",
    "        for arg in args:\n",
    "            if isinstance(arg, (int, float)) and arg < 0:\n",
    "                raise ValueError(f\"Argument négatif détecté : {arg}\")\n",
    "        for valeur in kwargs.values():\n",
    "            if isinstance(valeur, (int, float)) and valeur < 0:\n",
    "                raise ValueError(f\"Argument négatif détecté : {valeur}\")\n",
    "        return fonction(*args, **kwargs)\n",
    "    return enveloppe\n",
    "\n",
    "\n",
    "@positifs\n",
    "def additionner(a: int, b: int) -> int:\n",
    "    \"\"\"Additionne deux nombres.\"\"\"\n",
    "    return a + b\n"
   ]
  },
  {
   "cell_type": "code",
   "execution_count": 20,
   "metadata": {},
   "outputs": [
    {
     "name": "stdout",
     "output_type": "stream",
     "text": [
      "5\n"
     ]
    }
   ],
   "source": [
    "\n",
    "print(additionner(2, 3)) \n"
   ]
  },
  {
   "cell_type": "code",
   "execution_count": 21,
   "metadata": {},
   "outputs": [
    {
     "name": "stdout",
     "output_type": "stream",
     "text": [
      "Erreur : Argument négatif détecté : -1\n"
     ]
    }
   ],
   "source": [
    "\n",
    "try:\n",
    "    additionner(-1, 2)\n",
    "except ValueError as e:\n",
    "    print(f\"Erreur : {e}\") "
   ]
  },
  {
   "cell_type": "markdown",
   "metadata": {},
   "source": [
    "## Exemple Avancé : Cache Mémoïsé\n",
    "\n",
    "Créons un décorateur qui met en cache les résultats d’une fonction (mémoïsation)."
   ]
  },
  {
   "cell_type": "code",
   "execution_count": 22,
   "metadata": {},
   "outputs": [],
   "source": [
    "from functools import wraps\n",
    "\n",
    "\n",
    "def memoize(fonction):\n",
    "    \"\"\"Met en cache les résultats d’une fonction pour éviter les recalculs.\"\"\"\n",
    "    cache = {}\n",
    "    \n",
    "    @wraps(fonction)\n",
    "    def enveloppe(*args):\n",
    "        if args not in cache:\n",
    "            cache[args] = fonction(*args)\n",
    "            print(f\"Calcul pour {args}, mis en cache\")\n",
    "        else:\n",
    "            print(f\"Utilisation du cache pour {args}\")\n",
    "        return cache[args]\n",
    "    return enveloppe\n",
    "\n",
    "\n",
    "@memoize\n",
    "def fibonacci(n: int) -> int:\n",
    "    \"\"\"Calcule le n-ième nombre de Fibonacci.\"\"\"\n",
    "    if n < 2:\n",
    "        return n\n",
    "    return fibonacci(n - 1) + fibonacci(n - 2)\n"
   ]
  },
  {
   "cell_type": "code",
   "execution_count": 23,
   "metadata": {},
   "outputs": [
    {
     "name": "stdout",
     "output_type": "stream",
     "text": [
      "Calcul pour (1,), mis en cache\n",
      "Calcul pour (0,), mis en cache\n",
      "Calcul pour (2,), mis en cache\n",
      "Utilisation du cache pour (1,)\n",
      "Calcul pour (3,), mis en cache\n",
      "Utilisation du cache pour (2,)\n",
      "Calcul pour (4,), mis en cache\n",
      "Utilisation du cache pour (3,)\n",
      "Calcul pour (5,), mis en cache\n",
      "5\n"
     ]
    }
   ],
   "source": [
    "\n",
    "print(fibonacci(5))\n"
   ]
  },
  {
   "cell_type": "code",
   "execution_count": 24,
   "metadata": {},
   "outputs": [
    {
     "name": "stdout",
     "output_type": "stream",
     "text": [
      "Utilisation du cache pour (5,)\n",
      "5\n"
     ]
    }
   ],
   "source": [
    "print(fibonacci(5))"
   ]
  },
  {
   "cell_type": "markdown",
   "metadata": {},
   "source": [
    "## Conclusion\n",
    "\n",
    "Cette section vous a permis de maîtriser :\n",
    "- Les **fonctions d’ordre supérieur** comme base des décorateurs.\n",
    "- La **création et utilisation de décorateurs** pour ajouter des comportements (logs, validation, temps).\n",
    "- Des **cas d’usage courants** comme la mémoïsation et la journalisation.\n",
    "\n",
    "Les décorateurs sont un outil élégant pour étendre vos fonctions sans les modifier directement. Expérimentez avec ces exemples pour créer vos propres décorateurs adaptés à vos besoins !"
   ]
  }
 ],
 "metadata": {
  "kernelspec": {
   "display_name": "fast_env",
   "language": "python",
   "name": "python3"
  },
  "language_info": {
   "codemirror_mode": {
    "name": "ipython",
    "version": 3
   },
   "file_extension": ".py",
   "mimetype": "text/x-python",
   "name": "python",
   "nbconvert_exporter": "python",
   "pygments_lexer": "ipython3",
   "version": "3.11.0"
  }
 },
 "nbformat": 4,
 "nbformat_minor": 2
}
