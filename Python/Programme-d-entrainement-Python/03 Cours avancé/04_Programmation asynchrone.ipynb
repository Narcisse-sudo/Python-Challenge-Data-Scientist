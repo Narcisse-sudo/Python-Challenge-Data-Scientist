{
 "cells": [
  {
   "cell_type": "markdown",
   "metadata": {},
   "source": [
    "# Programmation Asynchrone en Python : async, await, asyncio et Coroutines\n",
    "\n",
    "Dans cette section, nous allons explorer les **concepts de base de la programmation asynchrone** en Python avec les mots-clés **`async`** et **`await`**, présenter le module **`asyncio`** pour gérer des tâches concurrentes, et comparer les **générateurs** aux **coroutines** en soulignant leurs différences et complémentarités. \n",
    "\n",
    "## Qu’est-ce que la Programmation Asynchrone ?\n",
    "La programmation asynchrone permet d’exécuter des tâches de manière **non bloquante**, idéal pour les opérations d’entrée/sortie (I/O) comme les appels réseau ou la lecture de fichiers, sans bloquer l’exécution du programme principal.\n",
    "\n",
    "Commençons par `async` et `await` !"
   ]
  },
  {
   "cell_type": "markdown",
   "metadata": {},
   "source": [
    "## Concepts de Base avec `async` et `await`\n",
    "\n",
    "### Définitions\n",
    "- **`async def`** : Définit une fonction asynchrone (coroutine), qui peut contenir des suspensions.\n",
    "- **`await`** : Met en pause l’exécution d’une coroutine jusqu’à ce qu’une tâche asynchrone soit terminée.\n",
    "\n",
    "### Syntaxe\n",
    "```python\n",
    "async def ma_coroutine():\n",
    "    await une_tache()\n",
    "```\n",
    "\n",
    "### Exemple Simple\n",
    "\n",
    "Simulons une tâche asynchrone avec un délai."
   ]
  },
  {
   "cell_type": "code",
   "execution_count": 17,
   "metadata": {},
   "outputs": [],
   "source": [
    "import random\n",
    "import asyncio\n",
    "\n",
    "async def fetch_and_analyze(source: str, delay: float):\n",
    "    \"\"\"\n",
    "    génère un jeu de données aléatoires, calcule leur moyenne et affiche le résultat.\n",
    "    \"\"\"\n",
    "    print(f\"[{source}] Récupération des données...\")\n",
    "    await asyncio.sleep(delay)\n",
    "    data = [random.uniform(0, 100) for _ in range(5)]\n",
    "    avg = sum(data) / len(data)\n",
    "    print(f\"[{source}] Moyenne calculée: {avg:.2f}\")\n",
    "    return avg\n",
    "\n",
    "async def main():\n",
    "    \"\"\"\n",
    "    Lance le traitement asynchrone pour plusieurs sources de données \n",
    "    et calcule la moyenne globale des moyennes obtenues.\n",
    "    \"\"\"\n",
    "    sources = {\"Source 1\": 1.0, \"Source 2\": 1.5}\n",
    "    results = await asyncio.gather(*[fetch_and_analyze(src, delay) for src, delay in sources.items()])\n",
    "    global_avg = sum(results) / len(results)\n",
    "    print(f\"Moyenne globale: {global_avg:.2f}\")"
   ]
  },
  {
   "cell_type": "code",
   "execution_count": 18,
   "metadata": {},
   "outputs": [
    {
     "name": "stdout",
     "output_type": "stream",
     "text": [
      "[Source 1] Récupération des données...\n",
      "[Source 2] Récupération des données...\n",
      "[Source 1] Moyenne calculée: 49.39\n",
      "[Source 2] Moyenne calculée: 40.78\n",
      "Moyenne globale: 45.08\n"
     ]
    }
   ],
   "source": [
    "\n",
    "# Lancer dans un environnement asynchrone\n",
    "await main()  # Utilisez ceci dans un kernel compatible (sinon, voir ci-dessous)\n",
    "\n",
    "# Alternative pour script ou environnement non asynchrone :\n",
    "# asyncio.run(main())"
   ]
  },
  {
   "cell_type": "markdown",
   "metadata": {},
   "source": [
    "## Analyse de l’Exemple\n",
    "\n",
    "- **`async def dire_bonjour`** : Définit une coroutine.\n",
    "- **`await asyncio.sleep(1)`** : Suspend l’exécution pendant 1 seconde sans bloquer le thread principal.\n",
    "- **Exécution** : Dans Jupyter, `await main()` fonctionne avec un kernel asynchrone ; sinon, utilisez `asyncio.run(main())` dans un script.\n",
    "\n",
    "Passons au module `asyncio` pour gérer plusieurs tâches !"
   ]
  },
  {
   "cell_type": "markdown",
   "metadata": {},
   "source": [
    "## Présentation du Module `asyncio`\n",
    "\n",
    "Le module **`asyncio`** fournit une boucle d’événements (*event loop*) pour exécuter des coroutines de manière concurrente.\n",
    "\n",
    "### Fonctionnalités\n",
    "- **`asyncio.run()`** : Exécute une coroutine principale.\n",
    "- **`asyncio.gather()`** : Exécute plusieurs coroutines en parallèle.\n",
    "- **`asyncio.sleep()`** : Simule une attente asynchrone.\n",
    "\n",
    "### Exemple\n",
    "Exécutons plusieurs tâches simultanément."
   ]
  },
  {
   "cell_type": "code",
   "execution_count": 5,
   "metadata": {},
   "outputs": [],
   "source": [
    "import asyncio\n",
    "\n",
    "\n",
    "async def tache(nom: str, delai: float):\n",
    "    \"\"\"Simule une tâche asynchrone avec un délai.\"\"\"\n",
    "    print(f\"Début de {nom}\")\n",
    "    await asyncio.sleep(delai)\n",
    "    print(f\"Fin de {nom}\")\n",
    "    return f\"Résultat de {nom}\"\n",
    "\n",
    "\n",
    "async def main():\n",
    "    \"\"\"Exécute plusieurs tâches concurremment.\"\"\"\n",
    "    resultats = await asyncio.gather(\n",
    "        tache(\"Tâche 1\", 2),\n",
    "        tache(\"Tâche 2\", 1),\n",
    "        tache(\"Tâche 3\", 1.5)\n",
    "    )\n",
    "    print(\"Résultats :\", resultats)\n",
    "\n"
   ]
  },
  {
   "cell_type": "code",
   "execution_count": 6,
   "metadata": {},
   "outputs": [
    {
     "name": "stdout",
     "output_type": "stream",
     "text": [
      "Début de Tâche 1\n",
      "Début de Tâche 2\n",
      "Début de Tâche 3\n",
      "Fin de Tâche 2\n",
      "Fin de Tâche 3\n",
      "Fin de Tâche 1\n",
      "Résultats : ['Résultat de Tâche 1', 'Résultat de Tâche 2', 'Résultat de Tâche 3']\n"
     ]
    }
   ],
   "source": [
    "# Exécution\n",
    "await main()  # Dans Jupyter avec kernel asynchrone\n",
    "# Sinon : asyncio.run(main())"
   ]
  },
  {
   "cell_type": "markdown",
   "metadata": {},
   "source": [
    "## Analyse avec `asyncio`\n",
    "\n",
    "- **`asyncio.gather`** : Lance les trois tâches en parallèle ; elles se terminent selon leurs délais.\n",
    "- **Concurrence** : Les tâches s’exécutent simultanément dans une seule boucle d’événements, pas en parallèle comme avec des threads.\n",
    "- **Non bloquant** : Le programme reste réactif pendant les attentes.\n",
    "\n",
    "Comparons maintenant générateurs et coroutines !"
   ]
  },
  {
   "cell_type": "markdown",
   "metadata": {},
   "source": [
    "## Différences et Complémentarités entre Générateurs et Coroutines\n",
    "\n",
    "### Générateurs\n",
    "- Utilisent `yield` pour produire des valeurs à la demande.\n",
    "- Itérables, adaptés aux séquences ou flux de données.\n",
    "- Pas conçus pour la concurrence asynchrone.\n",
    "\n",
    "### Coroutines\n",
    "- Utilisent `async` et `await` pour gérer des tâches asynchrones.\n",
    "- Exécutées dans une boucle d’événements via `asyncio`.\n",
    "- Conçues pour les I/O non bloquantes.\n",
    "\n",
    "### Complémentarités\n",
    "- Les générateurs produisent des données ; les coroutines les consomment ou les traitent de manière asynchrone.\n",
    "\n",
    "### Exemple Comparatif\n",
    "Générons des données avec un générateur et traitons-les avec une coroutine."
   ]
  },
  {
   "cell_type": "code",
   "execution_count": 7,
   "metadata": {},
   "outputs": [],
   "source": [
    "import asyncio\n",
    "\n",
    "\n",
    "# Générateur\n",
    "def generer_nombres(maximum: int):\n",
    "    \"\"\"Génère des nombres jusqu’à maximum.\"\"\"\n",
    "    for i in range(maximum):\n",
    "        yield i\n",
    "\n",
    "\n",
    "# Coroutine\n",
    "async def traiter_nombre(nombre: int):\n",
    "    \"\"\"Traite un nombre avec un délai asynchrone.\"\"\"\n",
    "    await asyncio.sleep(0.5)  # Simule une tâche I/O\n",
    "    print(f\"Traité : {nombre}\")\n",
    "\n",
    "\n",
    "async def main():\n",
    "    \"\"\"Combine générateur et coroutine.\"\"\"\n",
    "    gen = generer_nombres(3)\n",
    "    taches = [traiter_nombre(nombre) for nombre in gen]\n",
    "    await asyncio.gather(*taches)\n"
   ]
  },
  {
   "cell_type": "code",
   "execution_count": 8,
   "metadata": {},
   "outputs": [
    {
     "name": "stdout",
     "output_type": "stream",
     "text": [
      "Traité : 0\n",
      "Traité : 1\n",
      "Traité : 2\n"
     ]
    }
   ],
   "source": [
    "# Exécution\n",
    "await main()  # Dans Jupyter avec kernel asynchrone\n",
    "# Sinon : asyncio.run(main())"
   ]
  },
  {
   "cell_type": "markdown",
   "metadata": {},
   "source": [
    "## Analyse de la Comparaison\n",
    "\n",
    "- **Générateur** : `generer_nombres` produit 0, 1, 2 à la demande.\n",
    "- **Coroutine** : `traiter_nombre` traite chaque valeur avec un délai asynchrone.\n",
    "- **Complémentarité** : Le générateur fournit les données, la coroutine les consomme concurremment.\n",
    "\n",
    "Passons à un cas pratique avec des flux !"
   ]
  },
  {
   "cell_type": "markdown",
   "metadata": {},
   "source": [
    "## Gestion de Flux Volumineux ou Infinis\n",
    "\n",
    "Les coroutines excellent pour traiter des flux de données asynchrones (ex. : appels réseau, lectures de fichiers).\n",
    "\n",
    "### Exemple : Simulation de Flux Réseau"
   ]
  },
  {
   "cell_type": "code",
   "execution_count": 15,
   "metadata": {},
   "outputs": [],
   "source": [
    "import asyncio\n",
    "\n",
    "async def simuler_reception(nom: str, intervalle: float, iterations: int):\n",
    "    \"\"\"Simule la réception de données réseau pour un nombre d'itérations limité.\"\"\"\n",
    "    for _ in range(iterations):\n",
    "        print(f\"{nom} reçoit des données\")\n",
    "        await asyncio.sleep(intervalle)\n",
    "\n",
    "async def main():\n",
    "    \"\"\"Gère plusieurs flux concurrents avec un nombre d'itérations limité.\"\"\"\n",
    "    await asyncio.gather(\n",
    "        simuler_reception(\"Client 1\", 1, iterations=4),\n",
    "        simuler_reception(\"Client 2\", 1.5, iterations=3)\n",
    "    )\n",
    "\n",
    "# Exécution limitée avec timeout\n",
    "async def main_limited():\n",
    "    await asyncio.wait_for(main(), timeout=10)"
   ]
  },
  {
   "cell_type": "code",
   "execution_count": 16,
   "metadata": {},
   "outputs": [
    {
     "name": "stdout",
     "output_type": "stream",
     "text": [
      "Client 1 reçoit des données\n",
      "Client 2 reçoit des données\n",
      "Client 1 reçoit des données\n",
      "Client 2 reçoit des données\n",
      "Client 1 reçoit des données\n",
      "Client 2 reçoit des données\n",
      "Client 1 reçoit des données\n"
     ]
    }
   ],
   "source": [
    "\n",
    "await main_limited()  # Dans Jupyter\n",
    "# Sinon : asyncio.run(main_limited())"
   ]
  },
  {
   "cell_type": "markdown",
   "metadata": {},
   "source": [
    "On reçoit l'erreur `TimeoutError` à un moment donnée, car "
   ]
  },
  {
   "cell_type": "markdown",
   "metadata": {},
   "source": [
    "## Exemple Avancé : Pipeline Asynchrone\n",
    "\n",
    "Combinons générateurs et coroutines pour un pipeline de traitement."
   ]
  },
  {
   "cell_type": "code",
   "execution_count": 11,
   "metadata": {},
   "outputs": [],
   "source": [
    "import asyncio\n",
    "\n",
    "\n",
    "def generer_donnees():\n",
    "    \"\"\"Génère des données simulées.\"\"\"\n",
    "    for i in range(5):\n",
    "        yield i\n",
    "\n",
    "\n",
    "async def transformer(donnee: int):\n",
    "    \"\"\"Transforme une donnée avec un délai.\"\"\"\n",
    "    await asyncio.sleep(0.3)\n",
    "    return donnee * 2\n",
    "\n",
    "\n",
    "async def consommer(donnee: int):\n",
    "    \"\"\"Consomme une donnée transformée.\"\"\"\n",
    "    await asyncio.sleep(0.2)\n",
    "    print(f\"Consommé : {donnee}\")\n",
    "\n",
    "\n",
    "async def main():\n",
    "    \"\"\"Pipeline asynchrone.\"\"\"\n",
    "    gen = generer_donnees()\n",
    "    transformees = [transformer(d) for d in gen]\n",
    "    resultats = await asyncio.gather(*transformees)\n",
    "    await asyncio.gather(*(consommer(r) for r in resultats))\n"
   ]
  },
  {
   "cell_type": "code",
   "execution_count": 12,
   "metadata": {},
   "outputs": [
    {
     "name": "stdout",
     "output_type": "stream",
     "text": [
      "Consommé : 0\n",
      "Consommé : 2\n",
      "Consommé : 4\n",
      "Consommé : 6\n",
      "Consommé : 8\n"
     ]
    }
   ],
   "source": [
    "# Exécution\n",
    "await main()  # Dans Jupyter\n",
    "# Sinon : asyncio.run(main())"
   ]
  },
  {
   "cell_type": "markdown",
   "metadata": {},
   "source": [
    "## Conclusion\n",
    "\n",
    "Cette section vous a permis de maîtriser :\n",
    "- Les **concepts de base** avec `async` et `await` pour la programmation asynchrone.\n",
    "- Le module **`asyncio`** pour gérer des tâches concurrentes efficacement.\n",
    "- Les **différences et complémentarités** entre générateurs (production paresseuse) et coroutines (traitement asynchrone).\n",
    "\n",
    "La programmation asynchrone est idéale pour les tâches I/O-bound. Expérimentez avec `asyncio` pour optimiser vos flux de données !"
   ]
  }
 ],
 "metadata": {
  "kernelspec": {
   "display_name": "fast_env",
   "language": "python",
   "name": "python3"
  },
  "language_info": {
   "codemirror_mode": {
    "name": "ipython",
    "version": 3
   },
   "file_extension": ".py",
   "mimetype": "text/x-python",
   "name": "python",
   "nbconvert_exporter": "python",
   "pygments_lexer": "ipython3",
   "version": "3.11.0"
  }
 },
 "nbformat": 4,
 "nbformat_minor": 2
}
