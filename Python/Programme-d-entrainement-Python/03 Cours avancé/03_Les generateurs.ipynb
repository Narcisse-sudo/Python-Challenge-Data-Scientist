{
 "cells": [
  {
   "cell_type": "markdown",
   "metadata": {},
   "source": [
    "# Générateurs en Python : `yield`, Itérateurs et Flux de Données\n",
    "\n",
    "Dans cette section, nous allons explorer les **générateurs**, une fonctionnalité puissante de Python utilisant le mot-clé **`yield`**. Nous comparerons les générateurs aux **itérateurs classiques** et examinerons leur utilisation pour gérer des **flux de données volumineux ou infinis**.\n",
    "\n",
    "## Qu’est-ce qu’un Générateur ?\n",
    "Un générateur est une fonction spéciale qui produit une séquence de valeurs à la demande (lazy evaluation), au lieu de tout calculer et stocker en mémoire d’un coup. Il repose sur le mot-clé `yield` pour renvoyer les valeurs une par une.\n",
    "\n",
    "Commençons par les bases !"
   ]
  },
  {
   "cell_type": "markdown",
   "metadata": {},
   "source": [
    "## Le Mot-Clé `yield`\n",
    "\n",
    "Le mot-clé **`yield`** permet à une fonction de renvoyer une valeur et de \"mettre en pause\" son exécution, reprenant là où elle s’est arrêtée lors de l’appel suivant.\n",
    "\n",
    "### Syntaxe\n",
    "```python\n",
    "def generateur():\n",
    "    yield valeur\n",
    "```\n",
    "\n",
    "### Exemple Simple\n",
    "\n",
    "Créons un générateur qui produit des nombres."
   ]
  },
  {
   "cell_type": "code",
   "execution_count": 15,
   "metadata": {},
   "outputs": [],
   "source": [
    "def nombres_pairs(maximum: int):\n",
    "    \"\"\"Génère les nombres pairs jusqu’à maximum.\"\"\"\n",
    "    n = 0\n",
    "    while n < maximum:\n",
    "        yield n\n",
    "        n += 2\n"
   ]
  },
  {
   "cell_type": "code",
   "execution_count": 16,
   "metadata": {},
   "outputs": [],
   "source": [
    "# Utilisation\n",
    "gen = nombres_pairs(6)\n"
   ]
  },
  {
   "cell_type": "code",
   "execution_count": 17,
   "metadata": {},
   "outputs": [
    {
     "name": "stdout",
     "output_type": "stream",
     "text": [
      "0\n"
     ]
    }
   ],
   "source": [
    "\n",
    "print(next(gen))"
   ]
  },
  {
   "cell_type": "code",
   "execution_count": 18,
   "metadata": {},
   "outputs": [
    {
     "name": "stdout",
     "output_type": "stream",
     "text": [
      "2\n"
     ]
    }
   ],
   "source": [
    "  \n",
    "print(next(gen))"
   ]
  },
  {
   "cell_type": "code",
   "execution_count": 19,
   "metadata": {},
   "outputs": [
    {
     "name": "stdout",
     "output_type": "stream",
     "text": [
      "4\n"
     ]
    }
   ],
   "source": [
    " \n",
    "print(next(gen))\n"
   ]
  },
  {
   "cell_type": "code",
   "execution_count": 20,
   "metadata": {},
   "outputs": [
    {
     "ename": "StopIteration",
     "evalue": "",
     "output_type": "error",
     "traceback": [
      "\u001b[0;31m---------------------------------------------------------------------------\u001b[0m",
      "\u001b[0;31mStopIteration\u001b[0m                             Traceback (most recent call last)",
      "Cell \u001b[0;32mIn[20], line 1\u001b[0m\n\u001b[0;32m----> 1\u001b[0m \u001b[38;5;28mprint\u001b[39m(\u001b[38;5;28;43mnext\u001b[39;49m\u001b[43m(\u001b[49m\u001b[43mgen\u001b[49m\u001b[43m)\u001b[49m)  \u001b[38;5;66;03m# Nous sommes au bout de la séquence\u001b[39;00m\n",
      "\u001b[0;31mStopIteration\u001b[0m: "
     ]
    }
   ],
   "source": [
    "print(next(gen))  # Nous sommes au bout de la séquence"
   ]
  },
  {
   "cell_type": "markdown",
   "metadata": {},
   "source": [
    "## Analyse du Générateur\n",
    "\n",
    "- **`yield`** : Produit une valeur (0, 2, 4) à chaque appel de `next()` et suspend l’exécution.\n",
    "- **État** : Le générateur conserve son état interne (ici, `n`) entre les appels.\n",
    "- **`StopIteration`** : Levée automatiquement quand il n’y a plus de valeurs.\n",
    "\n",
    "Comparons avec un itérateur classique !"
   ]
  },
  {
   "cell_type": "markdown",
   "metadata": {},
   "source": [
    "## Comparaison entre Itérateur Classique et Générateur\n",
    "\n",
    "### Itérateur Classique\n",
    "- Implémenté avec une classe utilisant `__iter__` et `__next__`.\n",
    "- Plus verbeux, nécessite une gestion manuelle de l’état.\n",
    "\n",
    "### Générateur\n",
    "- Utilise `yield` pour simplifier la logique.\n",
    "- Génère les valeurs à la volée, plus léger en mémoire.\n",
    "\n",
    "### Exemple\n",
    "Comparons les deux approches pour générer des nombres."
   ]
  },
  {
   "cell_type": "code",
   "execution_count": 21,
   "metadata": {},
   "outputs": [],
   "source": [
    "# Itérateur classique\n",
    "class IterateurPairs:\n",
    "    \"\"\"Itérateur classique pour les nombres pairs.\"\"\"\n",
    "    def __init__(self, maximum: int):\n",
    "        self.maximum = maximum\n",
    "        self.courant = 0\n",
    "    \n",
    "    def __iter__(self):\n",
    "        return self\n",
    "    \n",
    "    def __next__(self):\n",
    "        if self.courant >= self.maximum:\n",
    "            raise StopIteration\n",
    "        valeur = self.courant\n",
    "        self.courant += 2\n",
    "        return valeur\n"
   ]
  },
  {
   "cell_type": "code",
   "execution_count": 22,
   "metadata": {},
   "outputs": [],
   "source": [
    "\n",
    "# Générateur\n",
    "def generateur_pairs(maximum: int):\n",
    "    \"\"\"Générateur pour les nombres pairs.\"\"\"\n",
    "    n = 0\n",
    "    while n < maximum:\n",
    "        yield n\n",
    "        n += 2\n"
   ]
  },
  {
   "cell_type": "code",
   "execution_count": 23,
   "metadata": {},
   "outputs": [
    {
     "name": "stdout",
     "output_type": "stream",
     "text": [
      "Itérateur classique :\n",
      "0\n",
      "2\n",
      "4\n"
     ]
    }
   ],
   "source": [
    "print(\"Itérateur classique :\")\n",
    "iter_classique = IterateurPairs(6)\n",
    "for nombre in iter_classique:\n",
    "    print(nombre)  \n"
   ]
  },
  {
   "cell_type": "code",
   "execution_count": 24,
   "metadata": {},
   "outputs": [
    {
     "name": "stdout",
     "output_type": "stream",
     "text": [
      "Générateur :\n",
      "0\n",
      "2\n",
      "4\n"
     ]
    }
   ],
   "source": [
    "\n",
    "print(\"Générateur :\")\n",
    "gen = generateur_pairs(6)\n",
    "for nombre in gen:\n",
    "    print(nombre) "
   ]
  },
  {
   "cell_type": "markdown",
   "metadata": {},
   "source": [
    "## Analyse de la Comparaison\n",
    "\n",
    "- **Itérateur Classique** : Nécessite une classe complète avec gestion explicite de l’état (`courant`) et de la fin (`StopIteration`).\n",
    "- **Générateur** : Plus concis, `yield` gère automatiquement l’état et la fin.\n",
    "- **Efficacité** : Les générateurs sont plus légers et adaptés aux itérations simples.\n",
    "\n",
    "Passons à la gestion des flux volumineux !"
   ]
  },
  {
   "cell_type": "markdown",
   "metadata": {},
   "source": [
    "## Gestion de Flux Volumineux ou Infinis\n",
    "\n",
    "Les générateurs brillent dans les cas où :\n",
    "- Les données sont **trop volumineuses** pour être stockées en mémoire.\n",
    "- Les données sont **infinies** (ex. : séquences mathématiques).\n",
    "\n",
    "### Exemple : Flux Volumineux\n",
    "Lisons un grand fichier ligne par ligne."
   ]
  },
  {
   "cell_type": "code",
   "execution_count": 25,
   "metadata": {},
   "outputs": [],
   "source": [
    "def lire_fichier(chemin: str):\n",
    "    \"\"\"Lit un fichier ligne par ligne avec un générateur.\"\"\"\n",
    "    with open(chemin, \"r\") as fichier:\n",
    "        for ligne in fichier:\n",
    "            yield ligne.strip()\n"
   ]
  },
  {
   "cell_type": "code",
   "execution_count": 26,
   "metadata": {},
   "outputs": [],
   "source": [
    "\n",
    "# Simulation (sans fichier réel)\n",
    "def simuler_fichier():\n",
    "    \"\"\"Simule la lecture d’un fichier volumineux.\"\"\"\n",
    "    lignes = [\"Ligne 1\", \"Ligne 2\", \"Ligne 3\"]\n",
    "    for ligne in lignes:\n",
    "        yield ligne\n"
   ]
  },
  {
   "cell_type": "code",
   "execution_count": 27,
   "metadata": {},
   "outputs": [
    {
     "name": "stdout",
     "output_type": "stream",
     "text": [
      "Ligne 1\n",
      "Ligne 2\n",
      "Ligne 3\n"
     ]
    }
   ],
   "source": [
    "gen = simuler_fichier()\n",
    "for ligne in gen:\n",
    "    print(ligne) "
   ]
  },
  {
   "cell_type": "markdown",
   "metadata": {},
   "source": [
    "### Exemple : Flux Infini\n",
    "Générons une suite infinie de nombres de Fibonacci."
   ]
  },
  {
   "cell_type": "code",
   "execution_count": 28,
   "metadata": {},
   "outputs": [],
   "source": [
    "def fibonacci():\n",
    "    \"\"\"Génère une suite infinie de nombres de Fibonacci.\"\"\"\n",
    "    a, b = 0, 1\n",
    "    while True:\n",
    "        yield a\n",
    "        a, b = b, a + b\n"
   ]
  },
  {
   "cell_type": "code",
   "execution_count": 29,
   "metadata": {},
   "outputs": [
    {
     "name": "stdout",
     "output_type": "stream",
     "text": [
      "0 1 1 2 3 5 8 13 21 34 "
     ]
    }
   ],
   "source": [
    "# Test (limité à 10 premiers)\n",
    "gen = fibonacci()\n",
    "for _ in range(10):\n",
    "    print(next(gen), end=\" \") "
   ]
  },
  {
   "cell_type": "markdown",
   "metadata": {},
   "source": [
    "## Avantages pour les Flux\n",
    "\n",
    "- **Mémoire** : Les générateurs consomment peu de mémoire car ils produisent une valeur à la fois.\n",
    "- **Flexibilité** : Peuvent être combinés avec des boucles ou des outils comme `itertools`.\n"
   ]
  },
  {
   "cell_type": "markdown",
   "metadata": {},
   "source": [
    "## Exemple Avancé : Traitement de Données\n",
    "\n",
    "Combinons des générateurs pour traiter un flux de données volumineux ou infini.\n",
    "\n",
    "### Exemple\n",
    "Filtrons les nombres pairs d’une suite infinie."
   ]
  },
  {
   "cell_type": "code",
   "execution_count": 30,
   "metadata": {},
   "outputs": [],
   "source": [
    "def nombres_infinis():\n",
    "    \"\"\"Génère une suite infinie de nombres.\"\"\"\n",
    "    n = 0\n",
    "    while True:\n",
    "        yield n\n",
    "        n += 1\n",
    "\n",
    "\n",
    "def filtrer_pairs(generateur):\n",
    "    \"\"\"Filtre les nombres pairs d’un générateur.\"\"\"\n",
    "    for nombre in generateur:\n",
    "        if nombre % 2 == 0:\n",
    "            yield nombre\n"
   ]
  },
  {
   "cell_type": "code",
   "execution_count": 31,
   "metadata": {},
   "outputs": [
    {
     "name": "stdout",
     "output_type": "stream",
     "text": [
      "0 2 4 6 8 "
     ]
    }
   ],
   "source": [
    "# Test (limité à 5 nombres pairs)\n",
    "gen = nombres_infinis()\n",
    "pairs = filtrer_pairs(gen)\n",
    "for _ in range(5):\n",
    "    print(next(pairs), end=\" \") "
   ]
  },
  {
   "cell_type": "markdown",
   "metadata": {},
   "source": [
    "## Comparaison de Performance\n",
    "\n",
    "Illustrons l’efficacité mémoire des générateurs par rapport à une liste.\n",
    "\n",
    "### Exemple\n",
    "Générons un million de nombres."
   ]
  },
  {
   "cell_type": "code",
   "execution_count": 32,
   "metadata": {},
   "outputs": [],
   "source": [
    "import sys\n",
    "\n",
    "\n",
    "# Avec une liste\n",
    "def liste_million():\n",
    "    return [i for i in range(1000000)]\n",
    "\n",
    "\n",
    "# Avec un générateur\n",
    "def generateur_million():\n",
    "    for i in range(1000000):\n",
    "        yield i\n"
   ]
  },
  {
   "cell_type": "code",
   "execution_count": 33,
   "metadata": {},
   "outputs": [],
   "source": [
    "liste = liste_million()\n",
    "gen = generateur_million()\n"
   ]
  },
  {
   "cell_type": "code",
   "execution_count": 34,
   "metadata": {},
   "outputs": [
    {
     "name": "stdout",
     "output_type": "stream",
     "text": [
      "Taille de la liste : 8448728\n"
     ]
    }
   ],
   "source": [
    "\n",
    "print(\"Taille de la liste :\", sys.getsizeof(liste))\n"
   ]
  },
  {
   "cell_type": "code",
   "execution_count": 35,
   "metadata": {},
   "outputs": [
    {
     "name": "stdout",
     "output_type": "stream",
     "text": [
      "Taille du générateur : 200\n"
     ]
    }
   ],
   "source": [
    "print(\"Taille du générateur :\", sys.getsizeof(gen))\n"
   ]
  },
  {
   "cell_type": "code",
   "execution_count": 36,
   "metadata": {},
   "outputs": [
    {
     "name": "stdout",
     "output_type": "stream",
     "text": [
      "0 1 2 3 4 "
     ]
    }
   ],
   "source": [
    "# Utilisation partielle\n",
    "for i in range(5):\n",
    "    print(next(gen), end=\" \") "
   ]
  },
  {
   "cell_type": "markdown",
   "metadata": {},
   "source": [
    "## Conclusion\n",
    "\n",
    "Cette section vous a permis de maîtriser :\n",
    "- Le mot-clé **`yield`** pour créer des générateurs simples et efficaces.\n",
    "- La **comparaison entre itérateurs classiques et générateurs**, avec les avantages de concision et de mémoire.\n",
    "- L’utilisation pour les **flux volumineux ou infinis**, idéale pour les données massives ou continues.\n",
    "\n",
    "Les générateurs sont un outil clé pour optimiser vos programmes Python. Expérimentez avec ces exemples pour gérer vos propres flux de données !"
   ]
  }
 ],
 "metadata": {
  "kernelspec": {
   "display_name": "fast_env",
   "language": "python",
   "name": "python3"
  },
  "language_info": {
   "codemirror_mode": {
    "name": "ipython",
    "version": 3
   },
   "file_extension": ".py",
   "mimetype": "text/x-python",
   "name": "python",
   "nbconvert_exporter": "python",
   "pygments_lexer": "ipython3",
   "version": "3.11.0"
  }
 },
 "nbformat": 4,
 "nbformat_minor": 2
}
