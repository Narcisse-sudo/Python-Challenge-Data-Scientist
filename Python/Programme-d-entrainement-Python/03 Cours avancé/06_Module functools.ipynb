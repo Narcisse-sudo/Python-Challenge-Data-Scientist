{
 "cells": [
  {
   "cell_type": "markdown",
   "metadata": {},
   "source": [
    "# Module `functools` en Python : `lru_cache`, `partial`, `cmp_to_key`\n",
    "\n",
    "Dans cette section, nous allons explorer le module **`functools`**, une bibliothèque standard Python qui fournit des outils pour travailler avec des fonctions et des objets appelables. Nous nous concentrerons sur **`lru_cache`** pour la mise en cache, **`partial`** pour la spécialisation de fonctions, et **`cmp_to_key`** pour transformer des comparaisons.\n",
    "\n",
    "## Qu’est-ce que `functools` ?\n",
    "Le module `functools` offre des fonctions d’ordre supérieur qui améliorent la manipulation des fonctions, rendant le code plus efficace et flexible. Les trois outils que nous aborderons sont particulièrement utiles pour optimiser, personnaliser et adapter les comportements fonctionnels.\n",
    "\n",
    "Commençons par `lru_cache` !"
   ]
  },
  {
   "cell_type": "markdown",
   "metadata": {},
   "source": [
    "## Utilisation de `lru_cache`\n",
    "\n",
    "La décorateur **`lru_cache`** (*Least Recently Used Cache*) met en cache les résultats d’une fonction pour éviter de recalculer les mêmes appels, améliorant les performances des fonctions récursives ou coûteuses.\n",
    "\n",
    "### Importation\n",
    "```python\n",
    "from functools import lru_cache\n",
    "```\n",
    "\n",
    "### Fonctionnalités\n",
    "\n",
    "- Mémorisation : Stocke les résultats en fonction des arguments.\n",
    "- Paramètres :\n",
    "    - maxsize : Taille maximale du cache (par défaut 128).\n",
    "    - typed : Si True, distingue les types (ex. : 3 et 3.0).\n",
    "\n",
    "### Exemple Simple\n",
    "\n",
    "Optimisons une fonction récursive de Fibonacci."
   ]
  },
  {
   "cell_type": "code",
   "execution_count": 19,
   "metadata": {},
   "outputs": [],
   "source": [
    "from functools import lru_cache\n",
    "import time\n",
    "\n",
    "@lru_cache(maxsize=128)\n",
    "def fibonacci(n: int) -> int:\n",
    "    \"\"\"Calcule le n-ième nombre de Fibonacci avec cache.\"\"\"\n",
    "    if n < 2:\n",
    "        return n\n",
    "    return fibonacci(n - 1) + fibonacci(n - 2)\n"
   ]
  },
  {
   "cell_type": "code",
   "execution_count": 20,
   "metadata": {},
   "outputs": [
    {
     "name": "stdout",
     "output_type": "stream",
     "text": [
      "9227465\n",
      "Temps avec cache : 0.0001s\n"
     ]
    }
   ],
   "source": [
    "\n",
    "# Test de performance\n",
    "start = time.time()\n",
    "print(fibonacci(35))  # Sortie : 9227465\n",
    "print(f\"Temps avec cache : {time.time() - start:.4f}s\")  # Sortie : ~0.000Xs\n"
   ]
  },
  {
   "cell_type": "code",
   "execution_count": 21,
   "metadata": {},
   "outputs": [],
   "source": [
    "\n",
    "# Sans cache pour comparaison\n",
    "def fibonacci_sans_cache(n: int) -> int:\n",
    "    if n < 2:\n",
    "        return n\n",
    "    return fibonacci_sans_cache(n - 1) + fibonacci_sans_cache(n - 2)\n"
   ]
  },
  {
   "cell_type": "code",
   "execution_count": 22,
   "metadata": {},
   "outputs": [
    {
     "name": "stdout",
     "output_type": "stream",
     "text": [
      "9227465\n",
      "Temps sans cache : 1.1427s\n"
     ]
    }
   ],
   "source": [
    "\n",
    "start = time.time()\n",
    "print(fibonacci_sans_cache(35))  # Sortie : 9227465\n",
    "print(f\"Temps sans cache : {time.time() - start:.4f}s\")  # Sortie : ~3-5s (selon machine)"
   ]
  },
  {
   "cell_type": "markdown",
   "metadata": {},
   "source": [
    "## Analyse de `lru_cache`\n",
    "\n",
    "- **Avec `lru_cache`** : Les résultats sont mis en cache, rendant les appels répétés instantanés après le premier calcul.\n",
    "- **Sans cache** : Chaque appel recalcule tout, explosant en complexité (O(2^n) pour Fibonacci).\n",
    "- **Cas d’usage** : Idéal pour les fonctions récursives coûteuses ou les appels fréquents avec les mêmes arguments (ex. : appels API, calculs mathématiques).\n",
    "\n",
    "Passons à `partial` !"
   ]
  },
  {
   "cell_type": "markdown",
   "metadata": {},
   "source": [
    "## Utilisation de `partial`\n",
    "\n",
    "La fonction **`partial`** crée une nouvelle version d’une fonction avec certains arguments pré-remplis, simplifiant son appel ultérieur.\n",
    "\n",
    "### Importation\n",
    "```python\n",
    "from functools import partial\n",
    "```\n",
    "\n",
    "### Fonctionnalités\n",
    "\n",
    "- Fixe des arguments : Réduit le nombre de paramètres à fournir.\n",
    "- Réutilisabilité : Crée des fonctions spécialisées à partir de génériques.\n",
    "\n",
    "### Exemple Simple\n",
    "\n",
    "Spécialisons une fonction de multiplication."
   ]
  },
  {
   "cell_type": "code",
   "execution_count": 23,
   "metadata": {},
   "outputs": [],
   "source": [
    "from functools import partial\n",
    "\n",
    "def multiplier(x: int, y: int) -> int:\n",
    "    \"\"\"Multiplie deux nombres.\"\"\"\n",
    "    return x * y\n"
   ]
  },
  {
   "cell_type": "code",
   "execution_count": 24,
   "metadata": {},
   "outputs": [],
   "source": [
    "\n",
    "# Création d’une version spécialisée\n",
    "doubler = partial(multiplier, 2)\n"
   ]
  },
  {
   "cell_type": "code",
   "execution_count": 25,
   "metadata": {},
   "outputs": [
    {
     "name": "stdout",
     "output_type": "stream",
     "text": [
      "10\n"
     ]
    }
   ],
   "source": [
    "print(doubler(5))  \n"
   ]
  },
  {
   "cell_type": "code",
   "execution_count": 26,
   "metadata": {},
   "outputs": [
    {
     "name": "stdout",
     "output_type": "stream",
     "text": [
      "20\n"
     ]
    }
   ],
   "source": [
    "print(doubler(10))\n"
   ]
  },
  {
   "cell_type": "code",
   "execution_count": 27,
   "metadata": {},
   "outputs": [
    {
     "name": "stdout",
     "output_type": "stream",
     "text": [
      "12\n"
     ]
    }
   ],
   "source": [
    "# Avec plusieurs arguments\n",
    "multiplier_par = partial(multiplier, y=3)\n",
    "print(multiplier_par(4)) "
   ]
  },
  {
   "cell_type": "markdown",
   "metadata": {},
   "source": [
    "## Analyse de `partial`\n",
    "\n",
    "- **`doubler`** : Une nouvelle fonction où `x` est fixé à 2, ne nécessitant qu’un seul argument.\n",
    "- **Flexibilité** : Permet de personnaliser une fonction sans la redéfinir.\n",
    "- **Cas d’usage** : Utile pour adapter des fonctions à des contextes spécifiques (ex. : callbacks avec arguments prédéfinis, configuration de paramètres par défaut).\n",
    "\n",
    "Passons à `cmp_to_key` !"
   ]
  },
  {
   "cell_type": "markdown",
   "metadata": {},
   "source": [
    "## Utilisation de `cmp_to_key`\n",
    "\n",
    "La fonction **`cmp_to_key`** convertit une fonction de comparaison (style Python 2) en une clé de tri compatible avec `sorted()` ou `list.sort()`, qui utilisent des clés de tri depuis Python 3.\n",
    "\n",
    "### Importation\n",
    "```python\n",
    "from functools import cmp_to_key\n",
    "```\n",
    "\n",
    "### Fonctionnalités\n",
    "\n",
    "- Comparaison personnalisée : Transforme une fonction cmp(a, b) (retournant -1, 0, 1) en une clé de tri.\n",
    "- Compatibilité : Remplace l’ancien paramètre cmp supprimé en Python 3.\n",
    "\n",
    "### Exemple Simple\n",
    "\n",
    "Trions une liste par longueur de chaînes."
   ]
  },
  {
   "cell_type": "code",
   "execution_count": 28,
   "metadata": {},
   "outputs": [],
   "source": [
    "from functools import cmp_to_key\n",
    "\n",
    "def comparer_longueur(a: str, b: str) -> int:\n",
    "    \"\"\"Compare la longueur de deux chaînes : -1 si a < b, 0 si égal, 1 si a > b.\"\"\"\n",
    "    return -1 if len(a) < len(b) else (1 if len(a) > len(b) else 0)\n"
   ]
  },
  {
   "cell_type": "code",
   "execution_count": 29,
   "metadata": {},
   "outputs": [],
   "source": [
    "\n",
    "# Liste à trier\n",
    "chaines = [\"chat\", \"chien\", \"éléphant\", \"rat\"]\n"
   ]
  },
  {
   "cell_type": "code",
   "execution_count": null,
   "metadata": {},
   "outputs": [
    {
     "name": "stdout",
     "output_type": "stream",
     "text": [
      "Tri par longueur : ['rat', 'chat', 'chien', 'éléphant']\n"
     ]
    }
   ],
   "source": [
    "\n",
    "# Tri avec cmp_to_key\n",
    "trie = sorted(chaines, key=cmp_to_key(comparer_longueur))\n",
    "print(\"Tri par longueur :\", trie)\n"
   ]
  },
  {
   "cell_type": "code",
   "execution_count": null,
   "metadata": {},
   "outputs": [
    {
     "name": "stdout",
     "output_type": "stream",
     "text": [
      "Tri avec key=len : ['rat', 'chat', 'chien', 'éléphant']\n"
     ]
    }
   ],
   "source": [
    "# Comparaison avec une clé directe\n",
    "trie_key = sorted(chaines, key=len)\n",
    "print(\"Tri avec key=len :\", trie_key)"
   ]
  },
  {
   "cell_type": "markdown",
   "metadata": {},
   "source": [
    "## Analyse de `cmp_to_key`\n",
    "\n",
    "- **`comparer_longueur`** : Une fonction de comparaison explicite, utile pour des logiques complexes.\n",
    "- **Vs `key`** : `key=len` est plus simple ici, mais `cmp_to_key` permet des comparaisons personnalisées impossibles avec une clé seule (ex. : ordre multi-critères).\n",
    "- **Cas d’usage** : Idéal pour porter du code Python 2 ou pour des tris nécessitant une logique de comparaison explicite.\n",
    "\n",
    "Voyons un exemple avancé combinant ces outils !"
   ]
  },
  {
   "cell_type": "markdown",
   "metadata": {},
   "source": [
    "## Exemple Avancé : Traitement de Données\n",
    "\n",
    "Combinons `lru_cache`, `partial`, et `cmp_to_key` pour traiter une liste de données.\n",
    "\n",
    "### Exemple\n",
    "Calculons des distances, spécialisons une fonction, et trions par ordre personnalisé."
   ]
  },
  {
   "cell_type": "code",
   "execution_count": 32,
   "metadata": {},
   "outputs": [],
   "source": [
    "from functools import lru_cache, partial, cmp_to_key\n",
    "import math\n",
    "\n",
    "# Fonction avec cache pour calculer une distance\n",
    "@lru_cache(maxsize=32)\n",
    "def distance(x1: int, y1: int, x2: int, y2: int) -> float:\n",
    "    \"\"\"Calcule la distance euclidienne entre deux points.\"\"\"\n",
    "    return math.sqrt((x2 - x1) ** 2 + (y2 - y1) ** 2)\n"
   ]
  },
  {
   "cell_type": "code",
   "execution_count": 33,
   "metadata": {},
   "outputs": [],
   "source": [
    "\n",
    "# Spécialisation avec partial (origine fixée à (0,0))\n",
    "distance_origine = partial(distance, 0, 0)\n",
    "\n",
    "# Liste de points (x, y)\n",
    "points = [(1, 1), (2, 2), (0, 1), (3, 0)]\n"
   ]
  },
  {
   "cell_type": "code",
   "execution_count": 34,
   "metadata": {},
   "outputs": [
    {
     "name": "stdout",
     "output_type": "stream",
     "text": [
      "Distances : [(1, 1, 1.4142135623730951), (2, 2, 2.8284271247461903), (0, 1, 1.0), (3, 0, 3.0)]\n"
     ]
    }
   ],
   "source": [
    "\n",
    "# Calcul des distances\n",
    "distances = [(x, y, distance_origine(x, y)) for x, y in points]\n",
    "print(\"Distances :\", distances)\n"
   ]
  },
  {
   "cell_type": "code",
   "execution_count": 35,
   "metadata": {},
   "outputs": [],
   "source": [
    "\n",
    "# Tri par distance décroissante avec cmp_to_key\n",
    "def comparer_distance(a: tuple, b: tuple) -> int:\n",
    "    \"\"\"Compare les distances (index 2) dans l’ordre décroissant.\"\"\"\n",
    "    return 1 if a[2] < b[2] else (-1 if a[2] > b[2] else 0)\n"
   ]
  },
  {
   "cell_type": "code",
   "execution_count": 36,
   "metadata": {},
   "outputs": [
    {
     "name": "stdout",
     "output_type": "stream",
     "text": [
      "Points triés par distance décroissante : [(3, 0, 3.0), (2, 2, 2.8284271247461903), (1, 1, 1.4142135623730951), (0, 1, 1.0)]\n"
     ]
    }
   ],
   "source": [
    "\n",
    "points_tries = sorted(distances, key=cmp_to_key(comparer_distance))\n",
    "print(\"Points triés par distance décroissante :\", points_tries)"
   ]
  },
  {
   "cell_type": "markdown",
   "metadata": {},
   "source": [
    "## Conclusion\n",
    "\n",
    "Cette section vous a permis de maîtriser :\n",
    "- **`lru_cache`** : Optimisation des performances par mise en cache, idéal pour les récursions coûteuses.\n",
    "- **`partial`** : Spécialisation des fonctions pour simplifier leur réutilisation.\n",
    "- **`cmp_to_key`** : Adaptation des comparaisons complexes pour le tri.\n",
    "\n",
    "Le module `functools` enrichit vos outils pour manipuler les fonctions de manière efficace et élégante. Expérimentez avec ces outils pour optimiser et personnaliser vos programmes Python !"
   ]
  }
 ],
 "metadata": {
  "kernelspec": {
   "display_name": "fast_env",
   "language": "python",
   "name": "python3"
  },
  "language_info": {
   "codemirror_mode": {
    "name": "ipython",
    "version": 3
   },
   "file_extension": ".py",
   "mimetype": "text/x-python",
   "name": "python",
   "nbconvert_exporter": "python",
   "pygments_lexer": "ipython3",
   "version": "3.11.0"
  }
 },
 "nbformat": 4,
 "nbformat_minor": 2
}
