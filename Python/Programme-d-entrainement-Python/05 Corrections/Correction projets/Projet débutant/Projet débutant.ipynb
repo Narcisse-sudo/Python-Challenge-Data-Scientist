{
 "cells": [
  {
   "cell_type": "markdown",
   "metadata": {},
   "source": [
    "# CORRÉCTION : Projet d'analyse et manipulation d'un fichier JSON d'individus\n",
    "\n",
    "Ce notebook contient toutes les tâches corrigées demandées pour le projet de fin de cours. Chaque tâche est implémentée dans une cellule distincte, avec des explications et des fonctions bien documentées.\n",
    "\n",
    "Nous allons utiliser les modules suivants : `math`, `datetime`, `os`, `glob`, `string`, `random`, `csv`, `json`.\n",
    "\n",
    "---\n",
    "\n",
    "## Importation des modules nécessaires\n",
    "\n",
    "Commençons par importer tous les modules nécessaires pour le projet."
   ]
  },
  {
   "cell_type": "code",
   "execution_count": 1,
   "metadata": {},
   "outputs": [],
   "source": [
    "# Importation des modules\n",
    "import json\n",
    "import csv\n",
    "import os\n",
    "import glob\n",
    "import random\n",
    "import string\n",
    "import math\n",
    "from datetime import datetime, timedelta"
   ]
  },
  {
   "cell_type": "markdown",
   "metadata": {},
   "source": [
    "---\n",
    "\n",
    "## Tâche 1 : Chargement des données\n",
    "\n",
    "Nous allons créer une fonction qui charge le fichier `individus.json` et retourne les données sous forme de liste de dictionnaires. Nous vérifierons également que le fichier existe."
   ]
  },
  {
   "cell_type": "code",
   "execution_count": null,
   "metadata": {},
   "outputs": [
    {
     "name": "stdout",
     "output_type": "stream",
     "text": [
      "Données chargées avec succès. Nombre d'individus : 50\n"
     ]
    }
   ],
   "source": [
    "# Chargement des données\n",
    "\n",
    "def load_json(filename):\n",
    "    \"\"\"\n",
    "    Charge un fichier JSON et retourne son contenu.\n",
    "\n",
    "    Args:\n",
    "        filename (str): Nom du fichier JSON.\n",
    "\n",
    "    Returns:\n",
    "        list ou dict: Contenu du fichier JSON, ou None si le fichier n'existe pas.\n",
    "    \"\"\"\n",
    "    if not os.path.isfile(filename):\n",
    "        print(f\"Erreur : le fichier '{filename}' n'existe pas.\")\n",
    "        return None\n",
    "    with open(filename, \"r\", encoding=\"utf-8\") as file:\n",
    "        data = json.load(file)\n",
    "    return data\n",
    "\n",
    "\n",
    "# Charger les données initiales\n",
    "individus = load_json(\"fichiers_projet/individus.json\")\n",
    "if individus is not None:\n",
    "    print(f\"Données chargées avec succès. Nombre d'individus : {len(individus)}\")"
   ]
  },
  {
   "cell_type": "markdown",
   "metadata": {},
   "source": [
    "Création d'une fonction qui enregistre un fichier en json."
   ]
  },
  {
   "cell_type": "code",
   "execution_count": 7,
   "metadata": {},
   "outputs": [],
   "source": [
    "def save_to_json(data, filename):\n",
    "    \"\"\"\n",
    "    Sauvegarde une structure de données dans un fichier JSON.\n",
    "\n",
    "    Args:\n",
    "        data: Données à sauvegarder (list, dict, etc.).\n",
    "        filename (str): Nom du fichier JSON.\n",
    "    \"\"\"\n",
    "    with open(filename, \"w\", encoding=\"utf-8\") as file:\n",
    "        json.dump(data, file, ensure_ascii=False, indent=4)"
   ]
  },
  {
   "cell_type": "markdown",
   "metadata": {},
   "source": [
    "---\n",
    "\n",
    "## Tâche 2 : Ajout du champ \"taille\"\n",
    "\n",
    "Nous allons ajouter un champ `taille` (en mètres) à chaque individu, généré aléatoirement entre 1.50 et 2.00. Les données mises à jour seront sauvegardées dans un nouveau fichier JSON."
   ]
  },
  {
   "cell_type": "code",
   "execution_count": null,
   "metadata": {},
   "outputs": [
    {
     "name": "stdout",
     "output_type": "stream",
     "text": [
      "Champ 'taille' ajouté et sauvegardé dans 'individus_with_taille.json'.\n"
     ]
    }
   ],
   "source": [
    "# Ajout du champ \"taille\"\n",
    "\n",
    "def add_taille(individus):\n",
    "    \"\"\"\n",
    "    Ajoute un champ 'taille' à chaque individu avec une valeur aléatoire.\n",
    "\n",
    "    Args:\n",
    "        individus (list): Liste de dictionnaires représentant les individus.\n",
    "\n",
    "    Returns:\n",
    "        list: Liste mise à jour avec le champ 'taille'.\n",
    "    \"\"\"\n",
    "    for individu in individus:\n",
    "        individu[\"taille\"] = round(random.uniform(1.50, 2.00), 2)\n",
    "    return individus\n",
    "\n",
    "\n",
    "# Ajouter le champ taille et sauvegarder\n",
    "individus_with_taille = add_taille(individus)\n",
    "save_to_json(individus_with_taille, \"fichiers_projet/individus_with_taille.json\")\n",
    "print(\"Champ 'taille' ajouté et sauvegardé dans 'individus_with_taille.json'.\")"
   ]
  },
  {
   "cell_type": "markdown",
   "metadata": {},
   "source": [
    "---\n",
    "\n",
    "## Tâche 3 : Ajout du champ \"IMC\"\n",
    "\n",
    "Nous allons calculer l'IMC pour chaque individu à l'aide de la formule : IMC = poids / (taille * taille). Le résultat sera arrondi à 2 décimales et ajouté comme champ `imc`. Les données mises à jour seront sauvegardées dans un nouveau fichier JSON."
   ]
  },
  {
   "cell_type": "code",
   "execution_count": 10,
   "metadata": {},
   "outputs": [
    {
     "name": "stdout",
     "output_type": "stream",
     "text": [
      "Champ 'imc' ajouté et sauvegardé dans 'individus_with_imc.json'.\n"
     ]
    }
   ],
   "source": [
    "# Ajout du champ \"IMC\"\n",
    "\n",
    "def calculate_imc(poids, taille):\n",
    "    \"\"\"\n",
    "    Calcule l'IMC à partir du poids et de la taille.\n",
    "\n",
    "    Args:\n",
    "        poids (float): Poids en kilogrammes.\n",
    "        taille (float): Taille en mètres.\n",
    "\n",
    "    Returns:\n",
    "        float: IMC arrondi à 2 décimales.\n",
    "    \"\"\"\n",
    "    return round(poids / (taille * taille), 2)\n",
    "\n",
    "\n",
    "def add_imc(individus):\n",
    "    \"\"\"\n",
    "    Ajoute un champ 'imc' à chaque individu.\n",
    "\n",
    "    Args:\n",
    "        individus (list): Liste de dictionnaires représentant les individus.\n",
    "\n",
    "    Returns:\n",
    "        list: Liste mise à jour avec le champ 'imc'.\n",
    "    \"\"\"\n",
    "    for individu in individus:\n",
    "        individu[\"imc\"] = calculate_imc(individu[\"poids\"], individu[\"taille\"])\n",
    "    return individus\n",
    "\n",
    "\n",
    "# Ajouter le champ IMC et sauvegarder\n",
    "individus_with_imc = add_imc(individus_with_taille)\n",
    "save_to_json(individus_with_imc, \"fichiers_projet/individus_with_imc.json\")\n",
    "print(\"Champ 'imc' ajouté et sauvegardé dans 'individus_with_imc.json'.\")"
   ]
  },
  {
   "cell_type": "markdown",
   "metadata": {},
   "source": [
    "---\n",
    "\n",
    "## Tâche 4 : Ajout du champ \"pays de naissance\"\n",
    "\n",
    "Nous allons créer un dictionnaire associant chaque ville de naissance à un pays, puis ajouter un champ `pays_naissance` à chaque individu. Si une ville n'est pas dans le dictionnaire, le pays sera \"Inconnu\". Les données mises à jour seront sauvegardées dans un nouveau fichier JSON."
   ]
  },
  {
   "cell_type": "code",
   "execution_count": 11,
   "metadata": {},
   "outputs": [
    {
     "name": "stdout",
     "output_type": "stream",
     "text": [
      "Champ 'pays_naissance' ajouté et sauvegardé dans 'individus_with_pays.json'.\n"
     ]
    }
   ],
   "source": [
    "# Ajout du champ \"pays de naissance\"\n",
    "\n",
    "def add_pays_naissance(individus):\n",
    "    \"\"\"\n",
    "    Ajoute un champ 'pays_naissance' à chaque individu en fonction de la ville de naissance.\n",
    "\n",
    "    Args:\n",
    "        individus (list): Liste de dictionnaires représentant les individus.\n",
    "\n",
    "    Returns:\n",
    "        list: Liste mise à jour avec le champ 'pays_naissance'.\n",
    "    \"\"\"\n",
    "    # Dictionnaire ville -> pays\n",
    "    ville_pays = {\n",
    "        \"Paris\": \"France\",\n",
    "        \"Lisbonne\": \"Portugal\",\n",
    "        \"Berlin\": \"Allemagne\",\n",
    "        \"Tokyo\": \"Japon\",\n",
    "        \"Sydney\": \"Australie\",\n",
    "        \"New York\": \"États-Unis\",\n",
    "        \"Moscou\": \"Russie\",\n",
    "        \"Rio\": \"Brésil\",\n",
    "        \"Londres\": \"Royaume-Uni\"\n",
    "    }\n",
    "\n",
    "    for individu in individus:\n",
    "        ville = individu[\"ville_naissance\"]\n",
    "        individu[\"pays_naissance\"] = ville_pays.get(ville, \"Inconnu\")\n",
    "    return individus\n",
    "\n",
    "\n",
    "# Ajouter le champ pays_naissance et sauvegarder\n",
    "individus_with_pays = add_pays_naissance(individus_with_imc)\n",
    "save_to_json(individus_with_pays, \"fichiers_projet/individus_with_pays.json\")\n",
    "print(\"Champ 'pays_naissance' ajouté et sauvegardé dans 'individus_with_pays.json'.\")"
   ]
  },
  {
   "cell_type": "markdown",
   "metadata": {},
   "source": [
    "---\n",
    "\n",
    "## Tâche 5 : Analyse des âges\n",
    "\n",
    "Nous allons calculer et afficher des statistiques sur les âges (moyen, minimum, maximum, nombre de personnes de plus de 50 ans). Les résultats seront sauvegardés dans un fichier JSON."
   ]
  },
  {
   "cell_type": "code",
   "execution_count": null,
   "metadata": {},
   "outputs": [
    {
     "name": "stdout",
     "output_type": "stream",
     "text": [
      "Statistiques sur les âges :\n",
      "- Age moyen : 50.02\n",
      "- Age minimum : 18\n",
      "- Age maximum : 80\n",
      "- Nb plus 50 ans : 28\n",
      "Statistiques sauvegardées dans 'stats_ages.json'.\n"
     ]
    }
   ],
   "source": [
    "# Analyse des âges\n",
    "\n",
    "def analyze_ages(individus):\n",
    "    \"\"\"\n",
    "    Calcule des statistiques sur les âges des individus.\n",
    "\n",
    "    Args:\n",
    "        individus (list): Liste de dictionnaires représentant les individus.\n",
    "\n",
    "    Returns:\n",
    "        dict: Dictionnaire contenant les statistiques sur les âges.\n",
    "    \"\"\"\n",
    "    ages = [individu[\"age\"] for individu in individus]\n",
    "    age_moyen = round(sum(ages) / len(ages), 2)\n",
    "    age_min = min(ages)\n",
    "    age_max = max(ages)\n",
    "    nb_plus_50 = len([age for age in ages if age > 50])\n",
    "\n",
    "    stats = {\n",
    "        \"age_moyen\": age_moyen,\n",
    "        \"age_minimum\": age_min,\n",
    "        \"age_maximum\": age_max,\n",
    "        \"nb_plus_50_ans\": nb_plus_50\n",
    "    }\n",
    "    return stats\n",
    "\n",
    "\n",
    "# Analyser les âges et afficher les résultats\n",
    "stats_ages = analyze_ages(individus_with_pays)\n",
    "print(\"Statistiques sur les âges :\")\n",
    "for key, value in stats_ages.items():\n",
    "    print(f\"- {key.replace('_', ' ').capitalize()} : {value}\")\n",
    "\n",
    "# Sauvegarder les statistiques\n",
    "save_to_json(stats_ages, \"fichiers_projet/stats_ages.json\")\n",
    "print(\"Statistiques sauvegardées dans 'stats_ages.json'.\")"
   ]
  },
  {
   "cell_type": "markdown",
   "metadata": {},
   "source": [
    "---\n",
    "\n",
    "## Tâche 6 : Analyse des IMC\n",
    "\n",
    "Nous allons identifier et afficher le nombre d'individus dans différentes catégories d'IMC (maigreur, poids normal, surpoids). Les résultats seront sauvegardés dans un fichier JSON."
   ]
  },
  {
   "cell_type": "code",
   "execution_count": null,
   "metadata": {},
   "outputs": [
    {
     "name": "stdout",
     "output_type": "stream",
     "text": [
      "Statistiques sur les IMC :\n",
      "- Nb maigreur : 9\n",
      "- Nb poids normal : 10\n",
      "- Nb surpoids : 31\n",
      "Statistiques sauvegardées dans 'stats_imc.json'.\n"
     ]
    }
   ],
   "source": [
    "# Analyse des IMC\n",
    "\n",
    "def analyze_imc(individus):\n",
    "    \"\"\"\n",
    "    Calcule des statistiques sur les IMC des individus.\n",
    "\n",
    "    Args:\n",
    "        individus (list): Liste de dictionnaires représentant les individus.\n",
    "\n",
    "    Returns:\n",
    "        dict: Dictionnaire contenant les statistiques sur les IMC.\n",
    "    \"\"\"\n",
    "    imc_maigreur = len([individu for individu in individus if individu[\"imc\"] < 18.5])\n",
    "    imc_normal = len([individu for individu in individus if 18.5 <= individu[\"imc\"] <= 25])\n",
    "    imc_surpoids = len([individu for individu in individus if individu[\"imc\"] > 25])\n",
    "\n",
    "    stats = {\n",
    "        \"nb_maigreur\": imc_maigreur,\n",
    "        \"nb_poids_normal\": imc_normal,\n",
    "        \"nb_surpoids\": imc_surpoids\n",
    "    }\n",
    "    return stats\n",
    "\n",
    "\n",
    "# Analyser les IMC et afficher les résultats\n",
    "stats_imc = analyze_imc(individus_with_pays)\n",
    "print(\"Statistiques sur les IMC :\")\n",
    "for key, value in stats_imc.items():\n",
    "    print(f\"- {key.replace('_', ' ').capitalize()} : {value}\")\n",
    "\n",
    "# Sauvegarder les statistiques\n",
    "save_to_json(stats_imc, \"fichiers_projet/stats_imc.json\")\n",
    "print(\"Statistiques sauvegardées dans 'stats_imc.json'.\")"
   ]
  },
  {
   "cell_type": "markdown",
   "metadata": {},
   "source": [
    "---\n",
    "\n",
    "## Tâche 7 : Sélection aléatoire\n",
    "\n",
    "Nous allons sélectionner aléatoirement 3 individus ayant un IMC inférieur à 18.5, afficher leurs informations, et les sauvegarder dans un fichier JSON."
   ]
  },
  {
   "cell_type": "code",
   "execution_count": 16,
   "metadata": {},
   "outputs": [
    {
     "name": "stdout",
     "output_type": "stream",
     "text": [
      "Individus sélectionnés (IMC < 18.5) :\n",
      "1. Jean Durand - Âge : 36 - IMC : 16.72\n",
      "2. Luc Durand - Âge : 47 - IMC : 16.92\n",
      "3. Julie Girard - Âge : 46 - IMC : 13.86\n",
      "Individus sauvegardés dans 'individus_sous_poids.json'.\n"
     ]
    }
   ],
   "source": [
    "# Sélection aléatoire\n",
    "\n",
    "def select_random_sous_poids(individus, nb=3):\n",
    "    \"\"\"\n",
    "    Sélectionne aléatoirement un certain nombre d'individus ayant un IMC < 18.5.\n",
    "\n",
    "    Args:\n",
    "        individus (list): Liste de dictionnaires représentant les individus.\n",
    "        nb (int): Nombre d'individus à sélectionner (par défaut 3).\n",
    "\n",
    "    Returns:\n",
    "        list: Liste des individus sélectionnés.\n",
    "    \"\"\"\n",
    "    sous_poids = [individu for individu in individus if individu[\"imc\"] < 18.5]\n",
    "    if len(sous_poids) < nb:\n",
    "        print(f\"Attention : seulement {len(sous_poids)} individus avec IMC < 18.5 disponibles.\")\n",
    "        return sous_poids\n",
    "    return random.sample(sous_poids, nb)\n",
    "\n",
    "\n",
    "# Sélectionner et afficher les individus\n",
    "individus_sous_poids = select_random_sous_poids(individus_with_pays)\n",
    "print(\"Individus sélectionnés (IMC < 18.5) :\")\n",
    "for i, individu in enumerate(individus_sous_poids, 1):\n",
    "    print(f\"{i}. {individu['prenom']} {individu['nom']} - Âge : {individu['age']} - IMC : {individu['imc']}\")\n",
    "\n",
    "# Sauvegarder les individus sélectionnés\n",
    "save_to_json(individus_sous_poids, \"fichiers_projet/individus_sous_poids.json\")\n",
    "print(\"Individus sauvegardés dans 'individus_sous_poids.json'.\")"
   ]
  },
  {
   "cell_type": "markdown",
   "metadata": {},
   "source": [
    "---\n",
    "\n",
    "## Tâche 8 : Exportation en CSV\n",
    "\n",
    "Nous allons exporter les données complètes (avec tous les champs ajoutés) dans un fichier CSV."
   ]
  },
  {
   "cell_type": "code",
   "execution_count": 17,
   "metadata": {},
   "outputs": [
    {
     "name": "stdout",
     "output_type": "stream",
     "text": [
      "Données exportées dans 'individus_complets.csv'.\n"
     ]
    }
   ],
   "source": [
    "# Exportation en CSV\n",
    "\n",
    "def export_to_csv(individus, filename):\n",
    "    \"\"\"\n",
    "    Exporte les données des individus dans un fichier CSV.\n",
    "\n",
    "    Args:\n",
    "        individus (list): Liste de dictionnaires représentant les individus.\n",
    "        filename (str): Nom du fichier CSV.\n",
    "    \"\"\"\n",
    "    # Définir les en-têtes du CSV\n",
    "    headers = [\"nom\", \"prenom\", \"age\", \"poids\", \"taille\", \"imc\", \"ville_naissance\", \"pays_naissance\", \"date_naissance\"]\n",
    "\n",
    "    with open(filename, \"w\", encoding=\"utf-8\", newline=\"\") as file:\n",
    "        writer = csv.DictWriter(file, fieldnames=headers)\n",
    "        writer.writeheader()\n",
    "        writer.writerows(individus)\n",
    "\n",
    "\n",
    "# Exporter les données complètes\n",
    "export_to_csv(individus_with_pays, \"fichiers_projet/individus_complets.csv\")\n",
    "print(\"Données exportées dans 'individus_complets.csv'.\")"
   ]
  },
  {
   "cell_type": "markdown",
   "metadata": {},
   "source": [
    "---\n",
    "\n",
    "## Tâche 9 : Recherche par pays \n",
    "\n",
    "Nous allons rechercher automatiquement les individus pour une liste prédéfinie de pays (par exemple, \"France\", \"Portugal\", \"Inconnu\"). Les résultats seront affichés et sauvegardés dans des fichiers JSON nommés dynamiquement (ex. : `individus_par_pays_France.json`)."
   ]
  },
  {
   "cell_type": "code",
   "execution_count": 18,
   "metadata": {},
   "outputs": [
    {
     "name": "stdout",
     "output_type": "stream",
     "text": [
      "\n",
      "=== Recherche pour le pays : France ===\n",
      "Individus nés en France :\n",
      "1. Pierre Fournier - Ville : Paris\n",
      "2. Marie Martin - Ville : Paris\n",
      "3. Luc Fournier - Ville : Paris\n",
      "4. Jean Durand - Ville : Paris\n",
      "5. Claire Durand - Ville : Paris\n",
      "6. Sophie Durand - Ville : Paris\n",
      "Résultats sauvegardés dans 'fichiers_projet/individus_par_pays_France.json'.\n",
      "\n",
      "=== Recherche pour le pays : Portugal ===\n",
      "Individus nés en Portugal :\n",
      "1. Pierre Moreau - Ville : Lisbonne\n",
      "2. Jean Durand - Ville : Lisbonne\n",
      "3. Luc Durand - Ville : Lisbonne\n",
      "Résultats sauvegardés dans 'fichiers_projet/individus_par_pays_Portugal.json'.\n",
      "\n",
      "=== Recherche pour le pays : Inconnu ===\n",
      "Aucun individu trouvé pour le pays 'Inconnu'.\n"
     ]
    }
   ],
   "source": [
    "# Recherche par pays (sans input)\n",
    "\n",
    "def search_by_country(individus, pays_list):\n",
    "    \"\"\"\n",
    "    Recherche et affiche les individus nés dans une liste de pays donnée.\n",
    "\n",
    "    Args:\n",
    "        individus (list): Liste de dictionnaires représentant les individus.\n",
    "        pays_list (list): Liste des pays à rechercher.\n",
    "    \"\"\"\n",
    "    for pays in pays_list:\n",
    "        print(f\"\\n=== Recherche pour le pays : {pays} ===\")\n",
    "        resultats = [individu for individu in individus if individu[\"pays_naissance\"].lower() == pays.lower()]\n",
    "        if not resultats:\n",
    "            print(f\"Aucun individu trouvé pour le pays '{pays}'.\")\n",
    "        else:\n",
    "            print(f\"Individus nés en {pays} :\")\n",
    "            for i, individu in enumerate(resultats, 1):\n",
    "                print(f\"{i}. {individu['prenom']} {individu['nom']} - Ville : {individu['ville_naissance']}\")\n",
    "            # Sauvegarder les résultats dans un fichier nommé dynamiquement\n",
    "            filename = f\"fichiers_projet/individus_par_pays_{pays.replace(' ', '_')}.json\"\n",
    "            save_to_json(resultats, filename)\n",
    "            print(f\"Résultats sauvegardés dans '{filename}'.\")\n",
    "\n",
    "\n",
    "# Liste prédéfinie de pays à rechercher\n",
    "pays_a_rechercher = [\"France\", \"Portugal\", \"Inconnu\"]\n",
    "\n",
    "# Lancer la recherche\n",
    "search_by_country(individus_with_pays, pays_a_rechercher)"
   ]
  },
  {
   "cell_type": "markdown",
   "metadata": {},
   "source": [
    "---\n",
    "\n",
    "## Tâche 10 : Nettoyage des fichiers temporaires\n",
    "\n",
    "Nous allons supprimer automatiquement tous les fichiers JSON temporaires (sauf `individus.json`) sans demander de confirmation. Nous afficherons la liste des fichiers supprimés pour vérification."
   ]
  },
  {
   "cell_type": "code",
   "execution_count": 20,
   "metadata": {},
   "outputs": [
    {
     "name": "stdout",
     "output_type": "stream",
     "text": [
      "Fichiers JSON temporaires supprimés :\n",
      "- fichiers_projet/individus_sous_poids.json\n",
      "- fichiers_projet/individus_par_pays_France.json\n",
      "- fichiers_projet/individus_with_pays.json\n",
      "- fichiers_projet/individus_par_pays_Portugal.json\n",
      "- fichiers_projet/stats_imc.json\n",
      "- fichiers_projet/individus.json\n",
      "- fichiers_projet/individus_with_imc.json\n",
      "- fichiers_projet/stats_ages.json\n",
      "- fichiers_projet/individus_with_taille.json\n"
     ]
    }
   ],
   "source": [
    "# Nettoyage des fichiers temporaires\n",
    "\n",
    "def clean_temp_files():\n",
    "    \"\"\"\n",
    "    Supprime automatiquement tous les fichiers JSON temporaires sauf 'individus.json'.\n",
    "    \"\"\"\n",
    "    # Lister tous les fichiers JSON sauf individus.json\n",
    "    json_files = [f for f in glob.glob(\"fichiers_projet/*.json\") if f != \"individus.json\"]\n",
    "    if not json_files:\n",
    "        print(\"Aucun fichier temporaire à supprimer.\")\n",
    "        return\n",
    "\n",
    "    print(\"Fichiers JSON temporaires supprimés :\")\n",
    "    for f in json_files:\n",
    "        os.remove(f)\n",
    "        print(f\"- {f}\")\n",
    "\n",
    "\n",
    "# Lancer le nettoyage\n",
    "clean_temp_files()"
   ]
  },
  {
   "cell_type": "markdown",
   "metadata": {},
   "source": []
  }
 ],
 "metadata": {
  "kernelspec": {
   "display_name": "fast_env",
   "language": "python",
   "name": "python3"
  },
  "language_info": {
   "codemirror_mode": {
    "name": "ipython",
    "version": 3
   },
   "file_extension": ".py",
   "mimetype": "text/x-python",
   "name": "python",
   "nbconvert_exporter": "python",
   "pygments_lexer": "ipython3",
   "version": "3.11.0"
  }
 },
 "nbformat": 4,
 "nbformat_minor": 2
}
