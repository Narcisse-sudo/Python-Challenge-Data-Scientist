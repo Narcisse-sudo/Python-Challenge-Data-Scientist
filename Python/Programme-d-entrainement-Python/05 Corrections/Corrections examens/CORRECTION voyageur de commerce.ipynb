{
 "cells": [
  {
   "cell_type": "markdown",
   "metadata": {},
   "source": [
    "# Correction du voyageur de commerce"
   ]
  },
  {
   "cell_type": "markdown",
   "metadata": {},
   "source": [
    "Durée : 1 heure\n",
    "Langage : Python (version 3.x)\n",
    "\n",
    "Sujet de l’examen : Vous êtes chargé de résoudre un problème d’optimisation simplifié inspiré du Voyageur de Commerce (TSP). On vous fournit une liste de villes sous forme de nœuds avec leurs coordonnées (x,y), et vous devez :"
   ]
  },
  {
   "cell_type": "code",
   "execution_count": 33,
   "metadata": {},
   "outputs": [],
   "source": [
    "import math as m"
   ]
  },
  {
   "cell_type": "markdown",
   "metadata": {},
   "source": [
    "## 1. Charger et représenter les données "
   ]
  },
  {
   "cell_type": "markdown",
   "metadata": {},
   "source": [
    "On vous donne un fichier texte villes.txt contenant sur chaque ligne :\n",
    "\n",
    "```\n",
    "NomVille X Y\n",
    "```\n",
    "\n",
    "Par exemple :\n",
    "\n",
    "```\n",
    "Paris 48.8567 2.3522\n",
    "Bordeaux 44.84 -0.58\n",
    "Marseille 43.2964 5.37\n",
    "...\n",
    "```\n",
    "\n",
    "Tâches :\n",
    "-\tÉcrire une fonction charger_villes(chemin) qui prend en paramètre le chemin du fichier (ex : “villes.txt”) et retourne une liste de tuples (NomVille, X, Y).\n",
    "-\tAfficher la liste des villes chargées ainsi que leur nombre total."
   ]
  },
  {
   "cell_type": "code",
   "execution_count": 34,
   "metadata": {},
   "outputs": [
    {
     "name": "stdout",
     "output_type": "stream",
     "text": [
      "[('Paris', 48.8567, 2.3522), ('Bordeaux', 44.84, -0.58), ('Marseille', 43.2964, 5.37), ('Lyon', 45.76, 4.84), ('Toulouse', 43.6045, 1.444)]\n",
      "Il y a 627 villes dans le fichier.\n"
     ]
    }
   ],
   "source": [
    "# Ouverture du fichier villes.txt dans la fonction charger_villes(path)\n",
    "\n",
    "def charger_villes(path: str) -> list:\n",
    "    villes = []\n",
    "    with open(path, 'r') as f:\n",
    "        for ligne in f:\n",
    "            # On découpe la ligne en utilisant l'espace comme séparateur\n",
    "            elem = ligne.split(' ')\n",
    "            # x est le dernier élément de la liste\n",
    "            y = elem[-1]\n",
    "            # y est l'avant dernier élément de la liste\n",
    "            x = elem[-2]\n",
    "            # nom est le reste de la liste (il faut faire attention car certaines villes contiennent des espaces, comme \"Le Havre\")\n",
    "            nom = ' '.join(elem[:-2])\n",
    "            # On ajoute le tuple à la liste des villes\n",
    "            villes.append((nom, float(x), float(y)))\n",
    "    return villes\n",
    "\n",
    "\n",
    "# On affiche les 5 premières villes\n",
    "villes = charger_villes('villes.txt')\n",
    "print(villes[:5])\n",
    "# On affiche le nombre de villes\n",
    "print(f\"Il y a {len(villes)} villes dans le fichier.\")"
   ]
  },
  {
   "cell_type": "markdown",
   "metadata": {},
   "source": [
    "## 2. Calcul des distances"
   ]
  },
  {
   "cell_type": "markdown",
   "metadata": {},
   "source": [
    "Vous allez implémenter un calcul de distance Euclidienne entre deux villes.\n",
    "\n",
    "Tâches :\n",
    "- Écrire une fonction distance(villeA, villeB) qui, étant donné deux tuples (NomVille, X, Y), retourne la distance Euclidienne entre elles.\n",
    "- Tester votre fonction en affichant la distance entre au moins 2 paires de villes de votre liste."
   ]
  },
  {
   "cell_type": "code",
   "execution_count": 35,
   "metadata": {},
   "outputs": [
    {
     "name": "stdout",
     "output_type": "stream",
     "text": [
      "Distance euclidienne entre Paris et Bordeaux : 4.973095186098889\n",
      "Distance euclidienne entre Paris et Marseille : 6.326456585640969\n"
     ]
    }
   ],
   "source": [
    "# Fonction de distance eclidienne entre deux tuples représentant des villes\n",
    "\n",
    "def distance(ville1: tuple, ville2: tuple) -> float:\n",
    "    # Distance euclidienne :\n",
    "    # sqrt((x1 - x2)² + (y1 - y2)²)\n",
    "    return ((ville1[1] - ville2[1]) ** 2 + (ville1[2] - ville2[2]) ** 2) ** 0.5\n",
    "\n",
    "\n",
    "print(f\"Distance euclidienne entre {villes[0][0]} et {villes[1][0]} : {distance(villes[0], villes[1])}\")\n",
    "print(f\"Distance euclidienne entre {villes[0][0]} et {villes[2][0]} : {distance(villes[0], villes[2])}\")"
   ]
  },
  {
   "cell_type": "markdown",
   "metadata": {},
   "source": [
    "## 3. Heuristique simple pour le Voyageur de Commerce"
   ]
  },
  {
   "cell_type": "markdown",
   "metadata": {},
   "source": [
    "Le but ici n’est pas de résoudre parfaitement le TSP, mais de proposer une heuristique simple :\n",
    "Partir de la première ville de la liste, puis à chaque étape, aller à la ville la plus proche non encore visitée. Continuer jusqu’à avoir visité toutes les villes.\n",
    "\n",
    "Tâches :\n",
    "- Écrire une fonction itineraire_greedy(villes) qui, donnée la liste de villes, retourne une liste représentant l’ordre des visites de ces villes selon l’heuristique décrite (une liste de tuples ou de noms de villes).\n",
    "- Afficher l’ordre proposé par l’algorithme."
   ]
  },
  {
   "cell_type": "code",
   "execution_count": 36,
   "metadata": {},
   "outputs": [
    {
     "name": "stdout",
     "output_type": "stream",
     "text": [
      "[('Rennes', 48.1147, -1.6794), ('Dinan', 48.4564, -2.0489), ('Saint-Brieuc', 48.5136, -2.7653), ('Guingamp', 48.5633, -3.15), ('Lorient', 47.75, -3.36), ('Port-Louis', 47.7072, -3.3519), ('Auray', 47.6686, -2.9814), ('Vannes', 47.6559, -2.7603), ('Saint-Nazaire', 47.2736, -2.2139), ('Paimbœuf', 47.2833, -2.0333), ('\"La Montagne\"', 47.1833, -1.6833), ('Saint-Herblain', 47.2122, -1.6497), ('Rezé', 47.1917, -1.5694), ('Nantes', 47.2181, -1.5528), ('Saint-Sébastien-sur-Loire', 47.2081, -1.5014), ('Montaigu', 46.9736, -1.3086), ('\"Les Sables-d’Olonne\"', 46.4972, -1.7833), ('\"La Rochelle\"', 46.16, -1.15), ('Eysines', 44.8853, -0.65), ('Mérignac', 44.8386, -0.6436), ('Pessac', 44.8067, -0.6311), ('Gradignan', 44.7725, -0.6156), ('Talence', 44.8, -0.584), ('Villenave-d’Ornon', 44.7806, -0.5658), ('Bègles', 44.8086, -0.5478), ('Floirac', 44.8375, -0.5247), ('Cenon', 44.8578, -0.5317), ('Lormont', 44.8792, -0.5217), ('Carbon-Blanc', 44.8958, -0.5053), ('Bordeaux', 44.84, -0.58), ('\"Le Bouscat\"', 44.8651, -0.5996), ('Arcachon', 44.65, -1.17), ('Boucau', 43.5244, -1.4853), ('Bayonne', 43.49, -1.48), ('Anglet', 43.485, -1.5183), ('Biarritz', 43.48, -1.56), ('Hendaye', 43.36, -1.77), ('Billère', 43.3031, -0.3906), ('Pau', 43.3, -0.37), ('Tarbes', 43.23, 0.07), ('Agen', 44.2049, 0.6212), ('Sainte-Foy-la-Grande', 44.84, 0.22), ('Périgueux', 45.1929, 0.7217), ('Angoulême', 45.65, 0.16), ('Poitiers', 46.58, 0.34), ('Tours', 47.3936, 0.6892), ('\"Le Mans\"', 48.0077, 0.1984), ('Coulaines', 48.0267, 0.2042), ('Alençon', 48.4306, 0.0931), ('Lisieux', 49.15, 0.23), ('Harfleur', 49.5072, 0.1989), ('Rouelles', 49.5208, 0.1608), ('\"Le Havre\"', 49.49, 0.1), ('Sainte-Adresse', 49.51, 0.08), ('Hérouville-Saint-Clair', 49.2044, -0.3253), ('Caen', 49.1814, -0.3636), ('Bayeux', 49.2794, -0.7028), ('Avranches', 48.685, -1.3556), ('Fougères', 48.3525, -1.1986), ('Laval', 48.0733, -0.7689), ('Angers', 47.4736, -0.5542), ('Lucé', 48.4389, 1.4658), ('Luisant', 48.4325, 1.4772), ('Chartres', 48.456, 1.484), ('Magnanville', 48.9681, 1.6828), ('Mantes-la-Ville', 48.975, 1.7117), ('Mantes-la-Jolie', 48.9908, 1.7172), ('Limay', 48.9942, 1.7367), ('\"Les Mureaux\"', 48.9875, 1.9172), ('Verneuil-sur-Seine', 48.9806, 1.9747), ('Vernouillet', 48.9728, 1.9842), ('Chanteloup-les-Vignes', 48.9792, 2.0319), ('Andrésy', 48.9817, 2.0592), ('Achères', 48.9602, 2.0684), ('Carrières-sous-Poissy', 48.9486, 2.0394), ('Poissy', 48.9294, 2.0456), ('Mareil-Marly', 48.8825, 2.0775), ('Marly-le-Roi', 48.8675, 2.0947), ('\"Le Pecq\"', 48.8969, 2.1069), ('\"Le Port-Marly\"', 48.8967, 2.1106), ('\"Le Vésinet\"', 48.8923, 2.1331), ('Croissy-sur-Seine', 48.8783, 2.1433), ('Bougival', 48.8667, 2.1333), ('\"La Celle-Saint-Cloud\"', 48.8411, 2.1344), ('\"Le Chesnay\"', 48.8211, 2.1311), ('Versailles', 48.8053, 2.135), ('Viroflay', 48.8, 2.167), ('Chaville', 48.8086, 2.1886), ('Ville-d’Avray', 48.8261, 2.1933), ('Sèvres', 48.8239, 2.2117), ('Saint-Cloud', 48.84, 2.22), ('Boulogne-Billancourt', 48.8352, 2.2409), ('Meudon', 48.8123, 2.2382), ('Clamart', 48.8014, 2.2628), ('\"Le Plessis-Robinson\"', 48.7811, 2.2633), ('Châtenay-Malabry', 48.7653, 2.2781), ('Sceaux', 48.7786, 2.2906), ('Fontenay-aux-Roses', 48.7893, 2.2888), ('Châtillon', 48.8, 2.29), ('Malakoff', 48.8172, 2.2992), ('Vanves', 48.8208, 2.2897), ('Issy-les-Moulineaux', 48.8239, 2.27), ('Bagneux', 48.7983, 2.3137), ('Bourg-la-Reine', 48.7796, 2.3151), ('Cachan', 48.7919, 2.3319), ('L’Haÿ-les-Roses', 48.78, 2.3374), ('Chevilly-Larue', 48.7663, 2.3533), ('Villejuif', 48.7919, 2.3636), ('\"Le Kremlin-Bicêtre\"', 48.81, 2.3581), ('Gentilly', 48.8133, 2.3444), ('Arcueil', 48.8075, 2.3361), ('Montrouge', 48.8172, 2.3219), ('Paris', 48.8567, 2.3522), ('Bellevue', 48.871, 2.385), ('\"Le Pré-Saint-Gervais\"', 48.8833, 2.4), ('Pantin', 48.8966, 2.4017), ('\"Les Lilas\"', 48.88, 2.42), ('Bagnolet', 48.8692, 2.4181), ('Romainville', 48.884, 2.435), ('Noisy-le-Sec', 48.8894, 2.4503), ('Bobigny', 48.9106, 2.4397), ('Drancy', 48.93, 2.45), ('\"Le Blanc-Mesnil\"', 48.9387, 2.4614), ('Aulnay-sous-Bois', 48.9386, 2.4906), ('Bondy', 48.9022, 2.4828), ('\"Les Pavillons-sous-Bois\"', 48.9, 2.5), ('Villemomble', 48.8833, 2.5), ('Neuilly-Plaisance', 48.8619, 2.5064), ('\"Le Perreux-Sur-Marne\"', 48.8422, 2.5036), ('Bry-sur-Marne', 48.8411, 2.5222), ('Champigny-sur-Marne', 48.8172, 2.5156), ('Saint-Maur-des-Fossés', 48.7994, 2.4997), ('Bonneuil-sur-Marne', 48.7742, 2.4875), ('Limeil-Brévannes', 48.7464, 2.4883), ('Valenton', 48.745, 2.4672), ('Villeneuve-Saint-Georges', 48.7325, 2.4497), ('Crosne', 48.7164, 2.458), ('Montgeron', 48.7039, 2.4605), ('Yerres', 48.7171, 2.4881), ('Brunoy', 48.6979, 2.5044), ('Épinay-sous-Sénart', 48.6948, 2.5147), ('Boussy-Saint-Antoine', 48.6886, 2.5298), ('Mandres-les-Roses', 48.7022, 2.5444), ('Villecresnes', 48.7214, 2.5342), ('Boissy-Saint-Léger', 48.7511, 2.5106), ('Sucy-en-Brie', 48.7697, 2.5228), ('Ormesson-sur-Marne', 48.7858, 2.5383), ('Chennevières-sur-Marne', 48.7983, 2.5339), ('Villiers-sur-Marne', 48.8275, 2.5447), ('Noisy-le-Grand', 48.8478, 2.5528), ('Neuilly-sur-Marne', 48.8537, 2.549), ('Gournay-sur-Marne', 48.8606, 2.5772), ('Champs-Sur-Marne', 48.8529, 2.6027), ('Noisiel', 48.8547, 2.6289), ('Lognes', 48.836, 2.6278), ('Torcy', 48.8502, 2.6508), ('Vaires-sur-Marne', 48.8667, 2.65), ('Chelles', 48.8833, 2.6), ('Courtry', 48.9175, 2.6031), ('Villeparisis', 48.9503, 2.6025), ('Vaujours', 48.9333, 2.5667), ('Clichy-sous-Bois', 48.9102, 2.5532), ('Montfermeil', 48.9, 2.5667), ('Livry-Gargan', 48.9192, 2.5361), ('Sevran', 48.9333, 2.5333), ('Villepinte', 48.955, 2.541), ('\"Le Raincy\"', 48.9, 2.5167), ('Gagny', 48.8833, 2.5333), ('Rosny-sous-Bois', 48.8667, 2.4833), ('Fontenay-sous-Bois', 48.8517, 2.4772), ('Nogent-sur-Marne', 48.8375, 2.4833), ('Joinville-le-Pont', 48.8214, 2.4728), ('Saint-Maurice', 48.8156, 2.4592), ('Maisons-Alfort', 48.8058, 2.4378), ('Alfortville', 48.805, 2.4239), ('Charenton-le-Pont', 48.8265, 2.405), ('Saint-Mandé', 48.8422, 2.4186), ('Vincennes', 48.8478, 2.4392), ('Montreuil', 48.8611, 2.4436), ('Créteil', 48.7911, 2.4628), ('Choisy-le-Roi', 48.763, 2.409), ('Thiais', 48.765, 2.3923), ('Orly', 48.7439, 2.3928), ('Villeneuve-le-Roi', 48.7333, 2.4167), ('Ablon-sur-Seine', 48.7256, 2.4211), ('Vigneux-sur-Seine', 48.7001, 2.417), ('Draveil', 48.6852, 2.408), ('Athis-Mons', 48.7074, 2.3889), ('Juvisy-sur-Orge', 48.6889, 2.3783), ('Viry-Châtillon', 48.6713, 2.375), ('Grigny', 48.6562, 2.3849), ('Ris-Orangis', 48.6537, 2.4161), ('Courcouronnes', 48.6239, 2.4294), ('Évry', 48.6238, 2.4296), ('Bondoufle', 48.6145, 2.3807), ('Fleury-Mérogis', 48.63, 2.362), ('Sainte-Geneviève-des-Bois', 48.6369, 2.3403), ('Morsang-sur-Orge', 48.6618, 2.3461), ('Villemoisson-sur-Orge', 48.6618, 2.3298), ('Épinay-sur-Orge', 48.6726, 2.3239), ('Savigny-sur-Orge', 48.6797, 2.3457), ('Morangis', 48.7055, 2.3326), ('Chilly-Mazarin', 48.7025, 2.3125), ('Longjumeau', 48.6943, 2.2958), ('Villiers-sur-Orge', 48.6574, 2.3001), ('Saint-Michel-sur-Orge', 48.6303, 2.3025), ('Brétigny-sur-Orge', 48.6114, 2.3059), ('Leuville-sur-Orge', 48.6175, 2.2658), ('Montlhéry', 48.6392, 2.2722), ('\"La Ville-du-Bois\"', 48.6611, 2.2687), ('Palaiseau', 48.7145, 2.2457), ('Massy', 48.7309, 2.2713), ('Verrières-le-Buisson', 48.7464, 2.2674), ('Antony', 48.7539, 2.2975), ('Fresnes', 48.755, 2.3221), ('Ivry-sur-Seine', 48.8078, 2.3747), ('Vitry-sur-Seine', 48.7875, 2.3928), ('Aubervilliers', 48.9131, 2.3831), ('\"La Courneuve\"', 48.9322, 2.3967), ('Stains', 48.95, 2.3833), ('Pierrefitte-sur-Seine', 48.9656, 2.3614), ('Montmagny', 48.9744, 2.3467), ('Groslay', 48.9875, 2.3453), ('Saint-Brice-sous-Forêt', 48.9992, 2.3578), ('Sarcelles', 48.9956, 2.3808), ('Villiers-le-Bel', 49.0094, 2.3911), ('Arnouville-lès-Gonesse', 48.9878, 2.4175), ('Garges-lès-Gonesse', 48.9728, 2.4008), ('Dugny', 48.95, 2.4167), ('\"Le Bourget\"', 48.9353, 2.4256), ('Saint-Denis', 48.9356, 2.3539), ('L’Île-Saint-Denis', 48.9333, 2.3333), ('Villeneuve-la-Garenne', 48.9372, 2.3278), ('Saint-Ouen', 48.9123, 2.3342), ('Clichy', 48.9044, 2.3064), ('Carrières-sur-Seine', 48.9108, 2.2889), ('Levallois-Perret', 48.895, 2.2872), ('Neuilly-sur-Seine', 48.8881, 2.2686), ('Courbevoic', 48.8978, 2.2531), ('\"La Garenne-Colombes\"', 48.9056, 2.2445), ('Colombes', 48.9236, 2.2522), ('Bois-Colombes', 48.9175, 2.2683), ('Gennevilliers', 48.9333, 2.3), ('Épinay-sur-Seine', 48.9553, 2.3092), ('Enghien-les-Bains', 48.9697, 2.3081), ('Soisy-sous-Montmorency', 48.9886, 2.3006), ('Eaubonne', 48.9922, 2.2806), ('Ermont', 48.9922, 2.2603), ('Sannois', 48.9722, 2.2578), ('Argenteuil', 48.95, 2.25), ('Saint-Gratien', 48.9719, 2.2828), ('Montmorency', 48.9906, 2.3228), ('Deuil-la-Barre', 48.9767, 2.3272), ('Domont', 49.0283, 2.3275), ('Bouffémont', 49.0442, 2.3), ('Saint-Leu-la-Forêt', 49.0175, 2.2472), ('\"Le Plessis-Bouchard\"', 49.0033, 2.2375), ('Franconville', 48.9889, 2.2314), ('Cormeilles-en-Parisis', 48.9739, 2.2014), ('Montigny-lès-Cormeilles', 48.9944, 2.1958), ('Beauchamp', 49.0144, 2.1906), ('Taverny', 49.0264, 2.2275), ('\"La Frette-sur-Seine\"', 48.975, 2.1794), ('Sartrouville', 48.9372, 2.1644), ('Maisons-Laffitte', 48.9469, 2.1456), ('\"Le Mesnil-le-Roi\"', 48.9375, 2.1275), ('Montesson', 48.9085, 2.1496), ('Chatou', 48.8897, 2.1573), ('Rueil-Malmaison', 48.876, 2.181), ('Nanterre', 48.8988, 2.1969), ('Houilles', 48.9261, 2.1892), ('Bezons', 48.9261, 2.2178), ('Puteaux', 48.885, 2.2389), ('Suresnes', 48.87, 2.22), ('Garches', 48.8461, 2.1889), ('Vaucresson', 48.8392, 2.1578), ('Vélizy-Villacoublay', 48.7834, 2.1834), ('Igny', 48.7421, 2.2261), ('Orsay', 48.6993, 2.1875), ('Bures-sur-Yvette', 48.6969, 2.1639), ('Guyancourt', 48.7714, 2.0739), ('Voisins-le-Bretonneux', 48.7592, 2.0517), ('Montigny-le-Bretonneux', 48.7711, 2.0333), ('Bois-d’Arcy', 48.8, 2.03), ('Fontenay-le-Fleury', 48.8144, 2.0494), ('Saint-Cyr-l’École', 48.8008, 2.0633), ('Trappes', 48.7775, 2.0025), ('\"La Verrière\"', 48.7592, 1.9631), ('Maurepas', 48.76, 1.95), ('Élancourt', 48.7847, 1.9589), ('Plaisir', 48.8183, 1.9472), ('\"Les Clayes-sous-Bois\"', 48.8167, 1.9833), ('Neauphle-le-Château', 48.8153, 1.9031), ('Menucourt', 49.0278, 1.9819), ('Vauréal', 49.0353, 2.0328), ('Jouy-le-Moutier', 49.0117, 2.0397), ('Cergy', 49.0361, 2.0631), ('Éragny', 49.0181, 2.0922), ('Conflans-Sainte-Honorine', 48.9992, 2.0983), ('Saint-Ouen-l’Aumône', 49.0447, 2.1111), ('Pontoise', 49.0516, 2.1017), ('Persan', 49.1542, 2.2719), ('Beaumont-sur-Oise', 49.1431, 2.2872), ('Ézanville', 49.0286, 2.3617), ('Goussainville', 49.0325, 2.4747), ('Fosses', 49.0989, 2.5075), ('Creil', 49.2583, 2.4833), ('Nogent-sur-Oise', 49.2756, 2.4683), ('Liancourt', 49.3317, 2.4661), ('Clermont', 49.3797, 2.4133), ('Beauvais', 49.4303, 2.0952), ('Amiens', 49.892, 2.299), ('Longueau', 49.8708, 2.3569), ('Arras', 50.292, 2.78), ('Saint-Nicolas', 50.3031, 2.7781), ('Liévin', 50.4228, 2.7786), ('Éleu-dit-Leauwette', 50.4217, 2.8119), ('Lens', 50.4322, 2.8333), ('Loison-sous-Lens', 50.4389, 2.8533), ('Sallaumines', 50.4203, 2.8631), ('Noyelles-sous-Lens', 50.4311, 2.8736), ('Méricourt', 50.4031, 2.8667), ('Fouquières-lès-Lens', 50.4294, 2.9136), ('Montigny-en-Gohelle', 50.4286, 2.9308), ('Billy-Montigny', 50.4519, 2.9128), ('Pont-à-Vendin', 50.4744, 2.8894), ('Wingles', 50.4947, 2.8561), ('\"La Bassée\"', 50.5342, 2.8081), ('Grenay', 50.4528, 2.7439), ('Bully-les-Mines', 50.4425, 2.7253), ('Béthune', 50.5303, 2.6408), ('Auchel', 50.5086, 2.4744), ('Armentières', 50.6881, 2.8811), ('Pérenchies', 50.6686, 2.9731), ('Lomme', 50.6358, 3.0142), ('Lambersart', 50.65, 3.025), ('Saint-André', 50.6608, 3.045), ('\"La Madeleine\"', 50.6558, 3.071), ('Marquette-lès-Lille', 50.6764, 3.0667), ('Marcq-en-Baroeul', 50.6711, 3.0972), ('Wasquehal', 50.6694, 3.1308), ('Croix', 50.6781, 3.1508), ('Mouvaux', 50.7039, 3.1414), ('Tourcoing', 50.7239, 3.1612), ('Neuville-en-Ferrain', 50.7472, 3.1589), ('Halluin', 50.7836, 3.1256), ('Roubaix', 50.6901, 3.1817), ('Hem', 50.6558, 3.1886), ('Lys-lès-Lannoy', 50.6722, 3.2153), ('Toufflers', 50.6617, 3.2303), ('Leers', 50.6825, 3.2447), ('Wattrelos', 50.7, 3.217), ('Ascq', 50.6167, 3.1667), ('Flers-lez-Lille', 50.6333, 3.1333), ('Mons-en-Baroeul', 50.6369, 3.1103), ('Hellemmes-Lille', 50.6167, 3.1167), ('Ronchin', 50.6053, 3.0886), ('Fâches-Thumesnil', 50.5994, 3.0744), ('Lille', 50.6278, 3.0583), ('Wattignies', 50.5856, 3.0439), ('Loos', 50.6128, 3.0144), ('Haubourdin', 50.6097, 2.9878), ('Oignies', 50.47, 2.9944), ('Courcelles-les-Lens', 50.4186, 3.0189), ('Douai', 50.3714, 3.08), ('Waziers', 50.387, 3.113), ('Courchelettes', 50.34, 3.06), ('Aniche', 50.3306, 3.2519), ('Lourches', 50.315, 3.356), ('Denain', 50.3294, 3.3958), ('Anzin', 50.3722, 3.505), ('Beuvrages', 50.3867, 3.5064), ('Valenciennes', 50.3581, 3.5233), ('Marly', 50.349, 3.545), ('Bruay-sur-l’Escaut', 50.3989, 3.5403), ('Cambrai', 50.1767, 3.2356), ('Neuville-Saint-Rémy', 50.1883, 3.2231), ('Saint-Quentin', 49.8486, 3.2864), ('Soissons', 49.3817, 3.3236), ('Crégy-lès-Meaux', 48.9794, 2.8792), ('Meaux', 48.9603, 2.8883), ('Esbly', 48.9067, 2.8125), ('Magny-le-Hongre', 48.8631, 2.8133), ('Serris', 48.8456, 2.7878), ('Montévrain', 48.875, 2.7456), ('Thorigny-sur-Marne', 48.8788, 2.7075), ('Bussy-Saint-Georges', 48.8422, 2.6983), ('Roissy-en-Brie', 48.7906, 2.6519), ('\"Le Plessis-Trévise\"', 48.8111, 2.5717), ('Combs-la-Ville', 48.67, 2.56), ('Quincy-sous-Sénart', 48.6714, 2.5407), ('Saint-Germain-lès-Corbeil', 48.6205, 2.4879), ('Corbeil-Essonnes', 48.6139, 2.482), ('Saintry-sur-Seine', 48.5962, 2.4929), ('Savigny-le-Temple', 48.5841, 2.5832), ('Cesson', 48.5633, 2.6053), ('\"Le Mée-sur-Seine\"', 48.5333, 2.6289), ('Dammarie-lè-Lys', 48.5177, 2.6402), ('Melun', 48.5406, 2.66), ('Avon', 48.4097, 2.7161), ('Saint-Mammès', 48.3893, 2.808), ('Montereau-faut-Yonne', 48.3853, 2.9508), ('Montargis', 47.9978, 2.7333), ('Saint-Germain-lès-Arpajon', 48.5946, 2.2558), ('Arpajon', 48.5901, 2.2476), ('Égly', 48.5798, 2.2218), ('Saint-Jean-de-Braye', 47.9128, 1.9719), ('Fleury-les-Aubrais', 47.9312, 1.921), ('Orléans', 47.9025, 1.909), ('Saint-Jean-de-la-Ruelle', 47.9139, 1.8745), ('Châteauroux', 46.8103, 1.6911), ('Montluçon', 46.3408, 2.6033), ('Chamalières', 45.7744, 3.0678), ('Clermont-Ferrand', 45.7831, 3.0824), ('Beaumont', 45.7525, 3.0836), ('Vichy', 46.1278, 3.4267), ('Moulins', 46.5653, 3.3333), ('Nevers', 46.9933, 3.1572), ('Roanne', 46.0367, 4.0689), ('L’Arbresle', 45.8364, 4.6178), ('Craponne', 45.7453, 4.7233), ('Francheville', 45.7364, 4.7636), ('Tassin-la-Demi-Lune', 45.764, 4.78), ('Écully', 45.7753, 4.7783), ('Champagne-au-Mont-d’Or', 45.795, 4.791), ('Caluire-et-Cuire', 45.7953, 4.8472), ('Lyon', 45.76, 4.84), ('Villeurbanne', 45.7667, 4.8803), ('Vaulx-en-Velin', 45.7768, 4.9186), ('Bron', 45.7386, 4.9131), ('Vénissieux', 45.6969, 4.8858), ('Saint-Fons', 45.7086, 4.8533), ('Pierre-Bénite', 45.7036, 4.8242), ('Oullins', 45.7142, 4.8075), ('\"La Mulatière\"', 45.7281, 4.8122), ('Sainte-Foy-lès-Lyon', 45.7336, 4.8025), ('Saint-Genis-Laval', 45.6953, 4.7931), ('Grigny', 45.6092, 4.7906), ('Saint-Priest', 45.6964, 4.9439), ('Décines-Charpieu', 45.7694, 4.9594), ('Meyzieu', 45.7667, 5.0036), ('Rillieux-la-Pape', 45.8214, 4.8983), ('Sathonay-Camp', 45.8242, 4.8747), ('Fontaines-sur-Saône', 45.836, 4.845), ('Villefranche-sur-Saône', 45.9833, 4.7167), ('Rive-de-Gier', 45.5303, 4.6178), ('Terrenoire', 45.4343, 4.4377), ('Saint-Étienne', 45.4347, 4.3903), ('Saint-Priest-en-Jarez', 45.475, 4.3789), ('Firminy', 45.3889, 4.2878), ('Valence', 44.9333, 4.8917), ('Villefontaine', 45.6142, 5.1494), ('L’Isle-d’Abeau', 45.6233, 5.2305), ('Pont-de-Chéruy', 45.7514, 5.1736), ('\"La Tour-du-Pin\"', 45.565, 5.4444), ('Saint-Égrève', 45.2325, 5.6836), ('Fontaine', 45.1939, 5.6856), ('Grenoble', 45.1715, 5.7224), ('Échirolles', 45.1436, 5.7183), ('\"Le Pont-de-Claix\"', 45.1289, 5.6989), ('Eybens', 45.1494, 5.7508), ('Saint-Martin-d’Hères', 45.1672, 5.7653), ('Meylan', 45.2092, 5.78), ('Jacob-Bellecombette', 45.5582, 5.91), ('Cognin', 45.563, 5.9), ('Chambéry', 45.57, 5.9118), ('Bassens', 45.5756, 5.94), ('Barby', 45.5722, 5.9784), ('Aix-les-Bains', 45.6886, 5.915), ('Meythet', 45.9156, 6.0936), ('Cran-Gévrier', 45.9097, 6.1107), ('Annecy', 45.916, 6.133), ('Saint-Julien-en-Genevois', 46.1436, 6.0811), ('Saint-Genis-Pouilly', 46.2437, 6.025), ('Ferney-Voltaire', 46.2558, 6.1081), ('Gaillard', 46.1858, 6.2083), ('Ambilly', 46.194, 6.223), ('Annemasse', 46.1958, 6.2364), ('Ville-la-Grand', 46.2031, 6.2475), ('Thonon-les-Bains', 46.3627, 6.475), ('Évian-les-Bains', 46.3833, 6.5833), ('Cluses', 46.0611, 6.5794), ('Lons-le-Saunier', 46.6753, 5.5544), ('Bourg-en-Bresse', 46.2056, 5.2289), ('Chalon-sur-Saône', 46.7806, 4.8528), ('Chenôve', 47.2917, 5.0081), ('Dijon', 47.3167, 5.0167), ('Talant', 47.3372, 5.0064), ('Fontaine-lès-Dijon', 47.3433, 5.0206), ('Besançon', 47.24, 6.02), ('Vesoul', 47.6231, 6.1558), ('Montbéliard', 47.51, 6.8), ('Sochaux', 47.52, 6.83), ('Audincourt', 47.4836, 6.8403), ('Belfort', 47.64, 6.85), ('Pfastatt', 47.7697, 7.3025), ('Mulhouse', 47.75, 7.34), ('Riedisheim', 47.7489, 7.3675), ('Illzach', 47.7831, 7.3486), ('Kingersheim', 47.7922, 7.3386), ('Huningue', 47.5919, 7.5844), ('Ostwald', 48.5425, 7.7103), ('Lingolsheim', 48.56, 7.68), ('Oberhausbergen', 48.6072, 7.6861), ('Souffelweyersheim', 48.6356, 7.7417), ('Hœnheim', 48.625, 7.7553), ('Bischheim', 48.6144, 7.7528), ('Schiltigheim', 48.6078, 7.75), ('Strasbourg', 48.5833, 7.7458), ('Stiring-Wendel', 49.2, 6.93), ('Talange', 49.2372, 6.175), ('Hagondange', 49.255, 6.1686), ('Terville', 49.3453, 6.1347), ('Nilvange', 49.3428, 6.0508), ('Jœuf', 49.2306, 6.0097), ('Longeville-lès-Metz', 49.1153, 6.1361), ('\"Le Ban-Saint-Martin\"', 49.1225, 6.1511), ('Montigny-lès-Metz', 49.1006, 6.1539), ('Metz', 49.1203, 6.1778), ('Maxéville', 48.7122, 6.1639), ('Nancy', 48.6936, 6.1846), ('Saint-Max', 48.7017, 6.2072), ('Essey-lès-Nancy', 48.7067, 6.2231), ('Tomblaine', 48.6833, 6.2167), ('Jarville-la-Malgrange', 48.67, 6.2067), ('Heillecourt', 48.6531, 6.195), ('Vandœuvre-lès-Nancy', 48.6567, 6.1683), ('Villers-lès-Nancy', 48.6731, 6.1547), ('Neuves-Maisons', 48.6169, 6.1044), ('Villerupt', 49.4697, 5.9286), ('Longwy', 49.52, 5.7606), ('Charleville-Mézières', 49.7719, 4.7161), ('Reims', 49.2628, 4.0347), ('Tinqueux', 49.2509, 3.9918), ('Châlons-en-Champagne', 48.9575, 4.365), ('Vitry-le-François', 48.7256, 4.5853), ('Troyes', 48.2997, 4.0792), ('Saint-André-les-Vergers', 48.2806, 4.0547), ('\"Les Noës-près-Troyes\"', 48.3031, 4.0419), ('Avesnes-sur-Helpe', 50.1244, 3.9267), ('Maubeuge', 50.2775, 3.9734), ('Bergues', 50.9692, 2.435), ('Coudekerque-Branche', 51.0253, 2.3917), ('Dunkerque', 51.0383, 2.3775), ('Rosendaël', 51.0413, 2.4037), ('Cappelle-la-Grande', 50.999, 2.364), ('Petite-Synthe', 51.0194, 2.3467), ('Saint-Pol-sur-Mer', 51.0314, 2.3439), ('Fort-Mardyck', 51.031, 2.3061), ('Grand-Fort-Philippe', 50.99, 2.11), ('Calais', 50.9481, 1.8564), ('Boulogne-sur-Mer', 50.7264, 1.6147), ('Outreau', 50.7044, 1.5947), ('\"Le Portel\"', 50.7075, 1.5744), ('Neuville-lès-Dieppe', 49.9267, 1.1014), ('Dieppe', 49.925, 1.075), ('Maromme', 49.4825, 1.0428), ('Déville-lès-Rouen', 49.47, 1.05), ('Mont-Saint-Aignan', 49.463, 1.0883), ('Rouen', 49.4428, 1.0886), ('Bois-Guillaume', 49.4614, 1.1092), ('Bihorel', 49.4553, 1.1169), ('Bonsecours', 49.43, 1.13), ('\"Le Mesnil-Esnard\"', 49.4117, 1.1428), ('Darnétal', 49.4453, 1.1519), ('Sotteville-lès-Rouen', 49.4092, 1.09), ('Saint-Étienne-du-Rouvray', 49.3786, 1.105), ('\"Le Grand-Quevilly\"', 49.4072, 1.0531), ('\"Le Petit-Quevilly\"', 49.4311, 1.0539), ('Saint-Aubin-lès-Elbeuf', 49.2991, 1.0127), ('Caudebec-lès-Elbeuf', 49.2817, 1.0222), ('Évreux', 49.02, 1.15), ('Yvetot', 49.62, 0.75), ('Cherbourg', 49.63, -1.62), ('Octeville', 49.6269, -1.6431), ('\"Le Relecq-Kerhuon\"', 48.4092, -4.3956), ('Brest', 48.39, -4.49), ('Limoges', 45.8353, 1.2625), ('Rodez', 44.3506, 2.575), ('Saint-Jean', 43.6664, 1.5058), ('L’Union', 43.6575, 1.4853), ('Aucamville', 43.6697, 1.4311), ('Saint-Alban', 43.6928, 1.4156), ('Beauzelle', 43.6664, 1.3783), ('Blagnac', 43.6364, 1.3906), ('Colomiers', 43.6139, 1.3367), ('Tournefeuille', 43.5853, 1.3442), ('Cugnaux', 43.5386, 1.3444), ('Villeneuve-Tolosane', 43.5247, 1.3425), ('\"La Salvetat-Saint-Gilles\"', 43.5769, 1.2722), ('Toulouse', 43.6045, 1.444), ('Ramonville-Saint-Agne', 43.5434, 1.4787), ('Castanet-Tolosan', 43.5164, 1.4989), ('Perpignan', 42.6986, 2.8956), ('Valras-Plage', 43.2478, 3.2917), ('Sète', 43.4053, 3.6975), ('Palavas-les-Flots', 43.5303, 3.9314), ('Pérols', 43.5658, 3.9511), ('\"Le Crès\"', 43.6481, 3.9397), ('Jacou', 43.6614, 3.9122), ('Castelnau-le-Lez', 43.6369, 3.9019), ('Montpellier', 43.6119, 3.8772), ('Nîmes', 43.8383, 4.3597), ('Alès', 44.1281, 4.0817), ('\"Le Pontet\"', 43.965, 4.8606), ('Aix-en-Provence', 43.5263, 5.4454), ('Marseille', 43.2964, 5.37), ('\"La Penne-sur-Huveaune\"', 43.2806, 5.5158), ('Carnoux-en-Provence', 43.2564, 5.5644), ('\"La Seyne-sur-Mer\"', 43.1, 5.883), ('Toulon', 43.1258, 5.9306), ('\"La Valette-du-Var\"', 43.1383, 5.9831), ('\"La Garde\"', 43.1256, 6.0108), ('Cannes', 43.5513, 7.0128), ('\"Le Cannet\"', 43.5769, 7.0194), ('Vallauris', 43.5805, 7.0538), ('Antibes', 43.5808, 7.1239), ('Cagnes-sur-Mer', 43.6644, 7.1489), ('Saint-Laurent-du-Var', 43.668, 7.188), ('Nice', 43.7034, 7.2663), ('Saint-André-de-la-Roche', 43.7411, 7.2883), ('Beaulieu-sur-Mer', 43.705, 7.33), ('Cap-d’Ail', 43.7219, 7.4064), ('Beausoleil', 43.7425, 7.4244), ('Menton', 43.775, 7.5), ('Ajaccio', 41.9267, 8.7369), ('Bastia', 42.7008, 9.4503)]\n"
     ]
    }
   ],
   "source": [
    "# Fonction itineraire_greedy(villes) qui retourne une liste avec l'ordre des villes\n",
    "\n",
    "def itineraire_greedy(villes: list) -> list:\n",
    "    # On commence par la ville d'indice i\n",
    "    i = 10\n",
    "    assert 0 <= i < len(villes), \"L'indice de la ville de départ doit être compris entre 0 et le nombre de villes - 1\"\n",
    "    itineraire = [villes[i]]\n",
    "    # On retire la i-ème ville de la liste\n",
    "    villes.pop(i)\n",
    "    while villes:\n",
    "        # On récupère la dernière ville visitée\n",
    "        derniere_ville = itineraire[-1]\n",
    "        # On récupère la ville la plus proche\n",
    "        ville_plus_proche = min(villes, key=lambda x: distance(derniere_ville, x))\n",
    "        # On ajoute la ville à l'itinéraire\n",
    "        itineraire.append(ville_plus_proche)\n",
    "        # On retire la ville de la liste des villes\n",
    "        villes.remove(ville_plus_proche)\n",
    "    return itineraire\n",
    "\n",
    "\n",
    "villes_ = charger_villes('villes.txt')\n",
    "itineraire = itineraire_greedy(villes_)\n",
    "print(itineraire)"
   ]
  },
  {
   "cell_type": "markdown",
   "metadata": {},
   "source": [
    "## 4. Calcul de la distance totale de la tournée"
   ]
  },
  {
   "cell_type": "markdown",
   "metadata": {},
   "source": [
    "Une fois que vous avez l’itinéraire, vous devez calculer la distance totale parcourue.\n",
    "\n",
    "Tâches :\n",
    "- Écrire une fonction distance_totale(itineraire) qui calcule la somme des distances entre chaque ville dans l’ordre donné par l’itinéraire, en considérant que l’on ne revient pas à la ville de départ.\n",
    "- Afficher la distance totale de la tournée retournée par votre heuristique."
   ]
  },
  {
   "cell_type": "code",
   "execution_count": 37,
   "metadata": {},
   "outputs": [
    {
     "name": "stdout",
     "output_type": "stream",
     "text": [
      "Distance totale de l'itinéraire : 106.84325838501418\n"
     ]
    }
   ],
   "source": [
    "# Fonction distance_totale(itineraire) qui retourne la distance totale de l'itinéraire\n",
    "\n",
    "def distance_totale(itineraire: list) -> float:\n",
    "    dist = 0\n",
    "    for i in range(len(itineraire) - 1):\n",
    "        dist += distance(itineraire[i], itineraire[i + 1])\n",
    "    return dist\n",
    "\n",
    "\n",
    "print(f\"Distance totale de l'itinéraire : {distance_totale(itineraire)}\")"
   ]
  },
  {
   "cell_type": "markdown",
   "metadata": {},
   "source": [
    "## 5. Affichage et analyse"
   ]
  },
  {
   "cell_type": "markdown",
   "metadata": {},
   "source": [
    "Pour terminer :\n",
    "- Afficher un récapitulatif : nombre total de villes, itinéraire trouvé, distance totale.\n",
    "- Discuter brièvement (en commentaire dans le code) des limites de cette approche heuristique. Par exemple : pourquoi n’est-elle pas optimale ? Quels sont les problèmes éventuels de cette méthode sur un plus grand ensemble de villes ?"
   ]
  },
  {
   "cell_type": "code",
   "execution_count": 38,
   "metadata": {},
   "outputs": [
    {
     "name": "stdout",
     "output_type": "stream",
     "text": [
      "Nombre total de villes : 627\n",
      "Itinéraire trouvé : [('Rennes', 48.1147, -1.6794), ('Dinan', 48.4564, -2.0489), ('Saint-Brieuc', 48.5136, -2.7653), ('Guingamp', 48.5633, -3.15), ('Lorient', 47.75, -3.36), ('Port-Louis', 47.7072, -3.3519), ('Auray', 47.6686, -2.9814), ('Vannes', 47.6559, -2.7603), ('Saint-Nazaire', 47.2736, -2.2139), ('Paimbœuf', 47.2833, -2.0333), ('\"La Montagne\"', 47.1833, -1.6833), ('Saint-Herblain', 47.2122, -1.6497), ('Rezé', 47.1917, -1.5694), ('Nantes', 47.2181, -1.5528), ('Saint-Sébastien-sur-Loire', 47.2081, -1.5014), ('Montaigu', 46.9736, -1.3086), ('\"Les Sables-d’Olonne\"', 46.4972, -1.7833), ('\"La Rochelle\"', 46.16, -1.15), ('Eysines', 44.8853, -0.65), ('Mérignac', 44.8386, -0.6436), ('Pessac', 44.8067, -0.6311), ('Gradignan', 44.7725, -0.6156), ('Talence', 44.8, -0.584), ('Villenave-d’Ornon', 44.7806, -0.5658), ('Bègles', 44.8086, -0.5478), ('Floirac', 44.8375, -0.5247), ('Cenon', 44.8578, -0.5317), ('Lormont', 44.8792, -0.5217), ('Carbon-Blanc', 44.8958, -0.5053), ('Bordeaux', 44.84, -0.58), ('\"Le Bouscat\"', 44.8651, -0.5996), ('Arcachon', 44.65, -1.17), ('Boucau', 43.5244, -1.4853), ('Bayonne', 43.49, -1.48), ('Anglet', 43.485, -1.5183), ('Biarritz', 43.48, -1.56), ('Hendaye', 43.36, -1.77), ('Billère', 43.3031, -0.3906), ('Pau', 43.3, -0.37), ('Tarbes', 43.23, 0.07), ('Agen', 44.2049, 0.6212), ('Sainte-Foy-la-Grande', 44.84, 0.22), ('Périgueux', 45.1929, 0.7217), ('Angoulême', 45.65, 0.16), ('Poitiers', 46.58, 0.34), ('Tours', 47.3936, 0.6892), ('\"Le Mans\"', 48.0077, 0.1984), ('Coulaines', 48.0267, 0.2042), ('Alençon', 48.4306, 0.0931), ('Lisieux', 49.15, 0.23), ('Harfleur', 49.5072, 0.1989), ('Rouelles', 49.5208, 0.1608), ('\"Le Havre\"', 49.49, 0.1), ('Sainte-Adresse', 49.51, 0.08), ('Hérouville-Saint-Clair', 49.2044, -0.3253), ('Caen', 49.1814, -0.3636), ('Bayeux', 49.2794, -0.7028), ('Avranches', 48.685, -1.3556), ('Fougères', 48.3525, -1.1986), ('Laval', 48.0733, -0.7689), ('Angers', 47.4736, -0.5542), ('Lucé', 48.4389, 1.4658), ('Luisant', 48.4325, 1.4772), ('Chartres', 48.456, 1.484), ('Magnanville', 48.9681, 1.6828), ('Mantes-la-Ville', 48.975, 1.7117), ('Mantes-la-Jolie', 48.9908, 1.7172), ('Limay', 48.9942, 1.7367), ('\"Les Mureaux\"', 48.9875, 1.9172), ('Verneuil-sur-Seine', 48.9806, 1.9747), ('Vernouillet', 48.9728, 1.9842), ('Chanteloup-les-Vignes', 48.9792, 2.0319), ('Andrésy', 48.9817, 2.0592), ('Achères', 48.9602, 2.0684), ('Carrières-sous-Poissy', 48.9486, 2.0394), ('Poissy', 48.9294, 2.0456), ('Mareil-Marly', 48.8825, 2.0775), ('Marly-le-Roi', 48.8675, 2.0947), ('\"Le Pecq\"', 48.8969, 2.1069), ('\"Le Port-Marly\"', 48.8967, 2.1106), ('\"Le Vésinet\"', 48.8923, 2.1331), ('Croissy-sur-Seine', 48.8783, 2.1433), ('Bougival', 48.8667, 2.1333), ('\"La Celle-Saint-Cloud\"', 48.8411, 2.1344), ('\"Le Chesnay\"', 48.8211, 2.1311), ('Versailles', 48.8053, 2.135), ('Viroflay', 48.8, 2.167), ('Chaville', 48.8086, 2.1886), ('Ville-d’Avray', 48.8261, 2.1933), ('Sèvres', 48.8239, 2.2117), ('Saint-Cloud', 48.84, 2.22), ('Boulogne-Billancourt', 48.8352, 2.2409), ('Meudon', 48.8123, 2.2382), ('Clamart', 48.8014, 2.2628), ('\"Le Plessis-Robinson\"', 48.7811, 2.2633), ('Châtenay-Malabry', 48.7653, 2.2781), ('Sceaux', 48.7786, 2.2906), ('Fontenay-aux-Roses', 48.7893, 2.2888), ('Châtillon', 48.8, 2.29), ('Malakoff', 48.8172, 2.2992), ('Vanves', 48.8208, 2.2897), ('Issy-les-Moulineaux', 48.8239, 2.27), ('Bagneux', 48.7983, 2.3137), ('Bourg-la-Reine', 48.7796, 2.3151), ('Cachan', 48.7919, 2.3319), ('L’Haÿ-les-Roses', 48.78, 2.3374), ('Chevilly-Larue', 48.7663, 2.3533), ('Villejuif', 48.7919, 2.3636), ('\"Le Kremlin-Bicêtre\"', 48.81, 2.3581), ('Gentilly', 48.8133, 2.3444), ('Arcueil', 48.8075, 2.3361), ('Montrouge', 48.8172, 2.3219), ('Paris', 48.8567, 2.3522), ('Bellevue', 48.871, 2.385), ('\"Le Pré-Saint-Gervais\"', 48.8833, 2.4), ('Pantin', 48.8966, 2.4017), ('\"Les Lilas\"', 48.88, 2.42), ('Bagnolet', 48.8692, 2.4181), ('Romainville', 48.884, 2.435), ('Noisy-le-Sec', 48.8894, 2.4503), ('Bobigny', 48.9106, 2.4397), ('Drancy', 48.93, 2.45), ('\"Le Blanc-Mesnil\"', 48.9387, 2.4614), ('Aulnay-sous-Bois', 48.9386, 2.4906), ('Bondy', 48.9022, 2.4828), ('\"Les Pavillons-sous-Bois\"', 48.9, 2.5), ('Villemomble', 48.8833, 2.5), ('Neuilly-Plaisance', 48.8619, 2.5064), ('\"Le Perreux-Sur-Marne\"', 48.8422, 2.5036), ('Bry-sur-Marne', 48.8411, 2.5222), ('Champigny-sur-Marne', 48.8172, 2.5156), ('Saint-Maur-des-Fossés', 48.7994, 2.4997), ('Bonneuil-sur-Marne', 48.7742, 2.4875), ('Limeil-Brévannes', 48.7464, 2.4883), ('Valenton', 48.745, 2.4672), ('Villeneuve-Saint-Georges', 48.7325, 2.4497), ('Crosne', 48.7164, 2.458), ('Montgeron', 48.7039, 2.4605), ('Yerres', 48.7171, 2.4881), ('Brunoy', 48.6979, 2.5044), ('Épinay-sous-Sénart', 48.6948, 2.5147), ('Boussy-Saint-Antoine', 48.6886, 2.5298), ('Mandres-les-Roses', 48.7022, 2.5444), ('Villecresnes', 48.7214, 2.5342), ('Boissy-Saint-Léger', 48.7511, 2.5106), ('Sucy-en-Brie', 48.7697, 2.5228), ('Ormesson-sur-Marne', 48.7858, 2.5383), ('Chennevières-sur-Marne', 48.7983, 2.5339), ('Villiers-sur-Marne', 48.8275, 2.5447), ('Noisy-le-Grand', 48.8478, 2.5528), ('Neuilly-sur-Marne', 48.8537, 2.549), ('Gournay-sur-Marne', 48.8606, 2.5772), ('Champs-Sur-Marne', 48.8529, 2.6027), ('Noisiel', 48.8547, 2.6289), ('Lognes', 48.836, 2.6278), ('Torcy', 48.8502, 2.6508), ('Vaires-sur-Marne', 48.8667, 2.65), ('Chelles', 48.8833, 2.6), ('Courtry', 48.9175, 2.6031), ('Villeparisis', 48.9503, 2.6025), ('Vaujours', 48.9333, 2.5667), ('Clichy-sous-Bois', 48.9102, 2.5532), ('Montfermeil', 48.9, 2.5667), ('Livry-Gargan', 48.9192, 2.5361), ('Sevran', 48.9333, 2.5333), ('Villepinte', 48.955, 2.541), ('\"Le Raincy\"', 48.9, 2.5167), ('Gagny', 48.8833, 2.5333), ('Rosny-sous-Bois', 48.8667, 2.4833), ('Fontenay-sous-Bois', 48.8517, 2.4772), ('Nogent-sur-Marne', 48.8375, 2.4833), ('Joinville-le-Pont', 48.8214, 2.4728), ('Saint-Maurice', 48.8156, 2.4592), ('Maisons-Alfort', 48.8058, 2.4378), ('Alfortville', 48.805, 2.4239), ('Charenton-le-Pont', 48.8265, 2.405), ('Saint-Mandé', 48.8422, 2.4186), ('Vincennes', 48.8478, 2.4392), ('Montreuil', 48.8611, 2.4436), ('Créteil', 48.7911, 2.4628), ('Choisy-le-Roi', 48.763, 2.409), ('Thiais', 48.765, 2.3923), ('Orly', 48.7439, 2.3928), ('Villeneuve-le-Roi', 48.7333, 2.4167), ('Ablon-sur-Seine', 48.7256, 2.4211), ('Vigneux-sur-Seine', 48.7001, 2.417), ('Draveil', 48.6852, 2.408), ('Athis-Mons', 48.7074, 2.3889), ('Juvisy-sur-Orge', 48.6889, 2.3783), ('Viry-Châtillon', 48.6713, 2.375), ('Grigny', 48.6562, 2.3849), ('Ris-Orangis', 48.6537, 2.4161), ('Courcouronnes', 48.6239, 2.4294), ('Évry', 48.6238, 2.4296), ('Bondoufle', 48.6145, 2.3807), ('Fleury-Mérogis', 48.63, 2.362), ('Sainte-Geneviève-des-Bois', 48.6369, 2.3403), ('Morsang-sur-Orge', 48.6618, 2.3461), ('Villemoisson-sur-Orge', 48.6618, 2.3298), ('Épinay-sur-Orge', 48.6726, 2.3239), ('Savigny-sur-Orge', 48.6797, 2.3457), ('Morangis', 48.7055, 2.3326), ('Chilly-Mazarin', 48.7025, 2.3125), ('Longjumeau', 48.6943, 2.2958), ('Villiers-sur-Orge', 48.6574, 2.3001), ('Saint-Michel-sur-Orge', 48.6303, 2.3025), ('Brétigny-sur-Orge', 48.6114, 2.3059), ('Leuville-sur-Orge', 48.6175, 2.2658), ('Montlhéry', 48.6392, 2.2722), ('\"La Ville-du-Bois\"', 48.6611, 2.2687), ('Palaiseau', 48.7145, 2.2457), ('Massy', 48.7309, 2.2713), ('Verrières-le-Buisson', 48.7464, 2.2674), ('Antony', 48.7539, 2.2975), ('Fresnes', 48.755, 2.3221), ('Ivry-sur-Seine', 48.8078, 2.3747), ('Vitry-sur-Seine', 48.7875, 2.3928), ('Aubervilliers', 48.9131, 2.3831), ('\"La Courneuve\"', 48.9322, 2.3967), ('Stains', 48.95, 2.3833), ('Pierrefitte-sur-Seine', 48.9656, 2.3614), ('Montmagny', 48.9744, 2.3467), ('Groslay', 48.9875, 2.3453), ('Saint-Brice-sous-Forêt', 48.9992, 2.3578), ('Sarcelles', 48.9956, 2.3808), ('Villiers-le-Bel', 49.0094, 2.3911), ('Arnouville-lès-Gonesse', 48.9878, 2.4175), ('Garges-lès-Gonesse', 48.9728, 2.4008), ('Dugny', 48.95, 2.4167), ('\"Le Bourget\"', 48.9353, 2.4256), ('Saint-Denis', 48.9356, 2.3539), ('L’Île-Saint-Denis', 48.9333, 2.3333), ('Villeneuve-la-Garenne', 48.9372, 2.3278), ('Saint-Ouen', 48.9123, 2.3342), ('Clichy', 48.9044, 2.3064), ('Carrières-sur-Seine', 48.9108, 2.2889), ('Levallois-Perret', 48.895, 2.2872), ('Neuilly-sur-Seine', 48.8881, 2.2686), ('Courbevoic', 48.8978, 2.2531), ('\"La Garenne-Colombes\"', 48.9056, 2.2445), ('Colombes', 48.9236, 2.2522), ('Bois-Colombes', 48.9175, 2.2683), ('Gennevilliers', 48.9333, 2.3), ('Épinay-sur-Seine', 48.9553, 2.3092), ('Enghien-les-Bains', 48.9697, 2.3081), ('Soisy-sous-Montmorency', 48.9886, 2.3006), ('Eaubonne', 48.9922, 2.2806), ('Ermont', 48.9922, 2.2603), ('Sannois', 48.9722, 2.2578), ('Argenteuil', 48.95, 2.25), ('Saint-Gratien', 48.9719, 2.2828), ('Montmorency', 48.9906, 2.3228), ('Deuil-la-Barre', 48.9767, 2.3272), ('Domont', 49.0283, 2.3275), ('Bouffémont', 49.0442, 2.3), ('Saint-Leu-la-Forêt', 49.0175, 2.2472), ('\"Le Plessis-Bouchard\"', 49.0033, 2.2375), ('Franconville', 48.9889, 2.2314), ('Cormeilles-en-Parisis', 48.9739, 2.2014), ('Montigny-lès-Cormeilles', 48.9944, 2.1958), ('Beauchamp', 49.0144, 2.1906), ('Taverny', 49.0264, 2.2275), ('\"La Frette-sur-Seine\"', 48.975, 2.1794), ('Sartrouville', 48.9372, 2.1644), ('Maisons-Laffitte', 48.9469, 2.1456), ('\"Le Mesnil-le-Roi\"', 48.9375, 2.1275), ('Montesson', 48.9085, 2.1496), ('Chatou', 48.8897, 2.1573), ('Rueil-Malmaison', 48.876, 2.181), ('Nanterre', 48.8988, 2.1969), ('Houilles', 48.9261, 2.1892), ('Bezons', 48.9261, 2.2178), ('Puteaux', 48.885, 2.2389), ('Suresnes', 48.87, 2.22), ('Garches', 48.8461, 2.1889), ('Vaucresson', 48.8392, 2.1578), ('Vélizy-Villacoublay', 48.7834, 2.1834), ('Igny', 48.7421, 2.2261), ('Orsay', 48.6993, 2.1875), ('Bures-sur-Yvette', 48.6969, 2.1639), ('Guyancourt', 48.7714, 2.0739), ('Voisins-le-Bretonneux', 48.7592, 2.0517), ('Montigny-le-Bretonneux', 48.7711, 2.0333), ('Bois-d’Arcy', 48.8, 2.03), ('Fontenay-le-Fleury', 48.8144, 2.0494), ('Saint-Cyr-l’École', 48.8008, 2.0633), ('Trappes', 48.7775, 2.0025), ('\"La Verrière\"', 48.7592, 1.9631), ('Maurepas', 48.76, 1.95), ('Élancourt', 48.7847, 1.9589), ('Plaisir', 48.8183, 1.9472), ('\"Les Clayes-sous-Bois\"', 48.8167, 1.9833), ('Neauphle-le-Château', 48.8153, 1.9031), ('Menucourt', 49.0278, 1.9819), ('Vauréal', 49.0353, 2.0328), ('Jouy-le-Moutier', 49.0117, 2.0397), ('Cergy', 49.0361, 2.0631), ('Éragny', 49.0181, 2.0922), ('Conflans-Sainte-Honorine', 48.9992, 2.0983), ('Saint-Ouen-l’Aumône', 49.0447, 2.1111), ('Pontoise', 49.0516, 2.1017), ('Persan', 49.1542, 2.2719), ('Beaumont-sur-Oise', 49.1431, 2.2872), ('Ézanville', 49.0286, 2.3617), ('Goussainville', 49.0325, 2.4747), ('Fosses', 49.0989, 2.5075), ('Creil', 49.2583, 2.4833), ('Nogent-sur-Oise', 49.2756, 2.4683), ('Liancourt', 49.3317, 2.4661), ('Clermont', 49.3797, 2.4133), ('Beauvais', 49.4303, 2.0952), ('Amiens', 49.892, 2.299), ('Longueau', 49.8708, 2.3569), ('Arras', 50.292, 2.78), ('Saint-Nicolas', 50.3031, 2.7781), ('Liévin', 50.4228, 2.7786), ('Éleu-dit-Leauwette', 50.4217, 2.8119), ('Lens', 50.4322, 2.8333), ('Loison-sous-Lens', 50.4389, 2.8533), ('Sallaumines', 50.4203, 2.8631), ('Noyelles-sous-Lens', 50.4311, 2.8736), ('Méricourt', 50.4031, 2.8667), ('Fouquières-lès-Lens', 50.4294, 2.9136), ('Montigny-en-Gohelle', 50.4286, 2.9308), ('Billy-Montigny', 50.4519, 2.9128), ('Pont-à-Vendin', 50.4744, 2.8894), ('Wingles', 50.4947, 2.8561), ('\"La Bassée\"', 50.5342, 2.8081), ('Grenay', 50.4528, 2.7439), ('Bully-les-Mines', 50.4425, 2.7253), ('Béthune', 50.5303, 2.6408), ('Auchel', 50.5086, 2.4744), ('Armentières', 50.6881, 2.8811), ('Pérenchies', 50.6686, 2.9731), ('Lomme', 50.6358, 3.0142), ('Lambersart', 50.65, 3.025), ('Saint-André', 50.6608, 3.045), ('\"La Madeleine\"', 50.6558, 3.071), ('Marquette-lès-Lille', 50.6764, 3.0667), ('Marcq-en-Baroeul', 50.6711, 3.0972), ('Wasquehal', 50.6694, 3.1308), ('Croix', 50.6781, 3.1508), ('Mouvaux', 50.7039, 3.1414), ('Tourcoing', 50.7239, 3.1612), ('Neuville-en-Ferrain', 50.7472, 3.1589), ('Halluin', 50.7836, 3.1256), ('Roubaix', 50.6901, 3.1817), ('Hem', 50.6558, 3.1886), ('Lys-lès-Lannoy', 50.6722, 3.2153), ('Toufflers', 50.6617, 3.2303), ('Leers', 50.6825, 3.2447), ('Wattrelos', 50.7, 3.217), ('Ascq', 50.6167, 3.1667), ('Flers-lez-Lille', 50.6333, 3.1333), ('Mons-en-Baroeul', 50.6369, 3.1103), ('Hellemmes-Lille', 50.6167, 3.1167), ('Ronchin', 50.6053, 3.0886), ('Fâches-Thumesnil', 50.5994, 3.0744), ('Lille', 50.6278, 3.0583), ('Wattignies', 50.5856, 3.0439), ('Loos', 50.6128, 3.0144), ('Haubourdin', 50.6097, 2.9878), ('Oignies', 50.47, 2.9944), ('Courcelles-les-Lens', 50.4186, 3.0189), ('Douai', 50.3714, 3.08), ('Waziers', 50.387, 3.113), ('Courchelettes', 50.34, 3.06), ('Aniche', 50.3306, 3.2519), ('Lourches', 50.315, 3.356), ('Denain', 50.3294, 3.3958), ('Anzin', 50.3722, 3.505), ('Beuvrages', 50.3867, 3.5064), ('Valenciennes', 50.3581, 3.5233), ('Marly', 50.349, 3.545), ('Bruay-sur-l’Escaut', 50.3989, 3.5403), ('Cambrai', 50.1767, 3.2356), ('Neuville-Saint-Rémy', 50.1883, 3.2231), ('Saint-Quentin', 49.8486, 3.2864), ('Soissons', 49.3817, 3.3236), ('Crégy-lès-Meaux', 48.9794, 2.8792), ('Meaux', 48.9603, 2.8883), ('Esbly', 48.9067, 2.8125), ('Magny-le-Hongre', 48.8631, 2.8133), ('Serris', 48.8456, 2.7878), ('Montévrain', 48.875, 2.7456), ('Thorigny-sur-Marne', 48.8788, 2.7075), ('Bussy-Saint-Georges', 48.8422, 2.6983), ('Roissy-en-Brie', 48.7906, 2.6519), ('\"Le Plessis-Trévise\"', 48.8111, 2.5717), ('Combs-la-Ville', 48.67, 2.56), ('Quincy-sous-Sénart', 48.6714, 2.5407), ('Saint-Germain-lès-Corbeil', 48.6205, 2.4879), ('Corbeil-Essonnes', 48.6139, 2.482), ('Saintry-sur-Seine', 48.5962, 2.4929), ('Savigny-le-Temple', 48.5841, 2.5832), ('Cesson', 48.5633, 2.6053), ('\"Le Mée-sur-Seine\"', 48.5333, 2.6289), ('Dammarie-lè-Lys', 48.5177, 2.6402), ('Melun', 48.5406, 2.66), ('Avon', 48.4097, 2.7161), ('Saint-Mammès', 48.3893, 2.808), ('Montereau-faut-Yonne', 48.3853, 2.9508), ('Montargis', 47.9978, 2.7333), ('Saint-Germain-lès-Arpajon', 48.5946, 2.2558), ('Arpajon', 48.5901, 2.2476), ('Égly', 48.5798, 2.2218), ('Saint-Jean-de-Braye', 47.9128, 1.9719), ('Fleury-les-Aubrais', 47.9312, 1.921), ('Orléans', 47.9025, 1.909), ('Saint-Jean-de-la-Ruelle', 47.9139, 1.8745), ('Châteauroux', 46.8103, 1.6911), ('Montluçon', 46.3408, 2.6033), ('Chamalières', 45.7744, 3.0678), ('Clermont-Ferrand', 45.7831, 3.0824), ('Beaumont', 45.7525, 3.0836), ('Vichy', 46.1278, 3.4267), ('Moulins', 46.5653, 3.3333), ('Nevers', 46.9933, 3.1572), ('Roanne', 46.0367, 4.0689), ('L’Arbresle', 45.8364, 4.6178), ('Craponne', 45.7453, 4.7233), ('Francheville', 45.7364, 4.7636), ('Tassin-la-Demi-Lune', 45.764, 4.78), ('Écully', 45.7753, 4.7783), ('Champagne-au-Mont-d’Or', 45.795, 4.791), ('Caluire-et-Cuire', 45.7953, 4.8472), ('Lyon', 45.76, 4.84), ('Villeurbanne', 45.7667, 4.8803), ('Vaulx-en-Velin', 45.7768, 4.9186), ('Bron', 45.7386, 4.9131), ('Vénissieux', 45.6969, 4.8858), ('Saint-Fons', 45.7086, 4.8533), ('Pierre-Bénite', 45.7036, 4.8242), ('Oullins', 45.7142, 4.8075), ('\"La Mulatière\"', 45.7281, 4.8122), ('Sainte-Foy-lès-Lyon', 45.7336, 4.8025), ('Saint-Genis-Laval', 45.6953, 4.7931), ('Grigny', 45.6092, 4.7906), ('Saint-Priest', 45.6964, 4.9439), ('Décines-Charpieu', 45.7694, 4.9594), ('Meyzieu', 45.7667, 5.0036), ('Rillieux-la-Pape', 45.8214, 4.8983), ('Sathonay-Camp', 45.8242, 4.8747), ('Fontaines-sur-Saône', 45.836, 4.845), ('Villefranche-sur-Saône', 45.9833, 4.7167), ('Rive-de-Gier', 45.5303, 4.6178), ('Terrenoire', 45.4343, 4.4377), ('Saint-Étienne', 45.4347, 4.3903), ('Saint-Priest-en-Jarez', 45.475, 4.3789), ('Firminy', 45.3889, 4.2878), ('Valence', 44.9333, 4.8917), ('Villefontaine', 45.6142, 5.1494), ('L’Isle-d’Abeau', 45.6233, 5.2305), ('Pont-de-Chéruy', 45.7514, 5.1736), ('\"La Tour-du-Pin\"', 45.565, 5.4444), ('Saint-Égrève', 45.2325, 5.6836), ('Fontaine', 45.1939, 5.6856), ('Grenoble', 45.1715, 5.7224), ('Échirolles', 45.1436, 5.7183), ('\"Le Pont-de-Claix\"', 45.1289, 5.6989), ('Eybens', 45.1494, 5.7508), ('Saint-Martin-d’Hères', 45.1672, 5.7653), ('Meylan', 45.2092, 5.78), ('Jacob-Bellecombette', 45.5582, 5.91), ('Cognin', 45.563, 5.9), ('Chambéry', 45.57, 5.9118), ('Bassens', 45.5756, 5.94), ('Barby', 45.5722, 5.9784), ('Aix-les-Bains', 45.6886, 5.915), ('Meythet', 45.9156, 6.0936), ('Cran-Gévrier', 45.9097, 6.1107), ('Annecy', 45.916, 6.133), ('Saint-Julien-en-Genevois', 46.1436, 6.0811), ('Saint-Genis-Pouilly', 46.2437, 6.025), ('Ferney-Voltaire', 46.2558, 6.1081), ('Gaillard', 46.1858, 6.2083), ('Ambilly', 46.194, 6.223), ('Annemasse', 46.1958, 6.2364), ('Ville-la-Grand', 46.2031, 6.2475), ('Thonon-les-Bains', 46.3627, 6.475), ('Évian-les-Bains', 46.3833, 6.5833), ('Cluses', 46.0611, 6.5794), ('Lons-le-Saunier', 46.6753, 5.5544), ('Bourg-en-Bresse', 46.2056, 5.2289), ('Chalon-sur-Saône', 46.7806, 4.8528), ('Chenôve', 47.2917, 5.0081), ('Dijon', 47.3167, 5.0167), ('Talant', 47.3372, 5.0064), ('Fontaine-lès-Dijon', 47.3433, 5.0206), ('Besançon', 47.24, 6.02), ('Vesoul', 47.6231, 6.1558), ('Montbéliard', 47.51, 6.8), ('Sochaux', 47.52, 6.83), ('Audincourt', 47.4836, 6.8403), ('Belfort', 47.64, 6.85), ('Pfastatt', 47.7697, 7.3025), ('Mulhouse', 47.75, 7.34), ('Riedisheim', 47.7489, 7.3675), ('Illzach', 47.7831, 7.3486), ('Kingersheim', 47.7922, 7.3386), ('Huningue', 47.5919, 7.5844), ('Ostwald', 48.5425, 7.7103), ('Lingolsheim', 48.56, 7.68), ('Oberhausbergen', 48.6072, 7.6861), ('Souffelweyersheim', 48.6356, 7.7417), ('Hœnheim', 48.625, 7.7553), ('Bischheim', 48.6144, 7.7528), ('Schiltigheim', 48.6078, 7.75), ('Strasbourg', 48.5833, 7.7458), ('Stiring-Wendel', 49.2, 6.93), ('Talange', 49.2372, 6.175), ('Hagondange', 49.255, 6.1686), ('Terville', 49.3453, 6.1347), ('Nilvange', 49.3428, 6.0508), ('Jœuf', 49.2306, 6.0097), ('Longeville-lès-Metz', 49.1153, 6.1361), ('\"Le Ban-Saint-Martin\"', 49.1225, 6.1511), ('Montigny-lès-Metz', 49.1006, 6.1539), ('Metz', 49.1203, 6.1778), ('Maxéville', 48.7122, 6.1639), ('Nancy', 48.6936, 6.1846), ('Saint-Max', 48.7017, 6.2072), ('Essey-lès-Nancy', 48.7067, 6.2231), ('Tomblaine', 48.6833, 6.2167), ('Jarville-la-Malgrange', 48.67, 6.2067), ('Heillecourt', 48.6531, 6.195), ('Vandœuvre-lès-Nancy', 48.6567, 6.1683), ('Villers-lès-Nancy', 48.6731, 6.1547), ('Neuves-Maisons', 48.6169, 6.1044), ('Villerupt', 49.4697, 5.9286), ('Longwy', 49.52, 5.7606), ('Charleville-Mézières', 49.7719, 4.7161), ('Reims', 49.2628, 4.0347), ('Tinqueux', 49.2509, 3.9918), ('Châlons-en-Champagne', 48.9575, 4.365), ('Vitry-le-François', 48.7256, 4.5853), ('Troyes', 48.2997, 4.0792), ('Saint-André-les-Vergers', 48.2806, 4.0547), ('\"Les Noës-près-Troyes\"', 48.3031, 4.0419), ('Avesnes-sur-Helpe', 50.1244, 3.9267), ('Maubeuge', 50.2775, 3.9734), ('Bergues', 50.9692, 2.435), ('Coudekerque-Branche', 51.0253, 2.3917), ('Dunkerque', 51.0383, 2.3775), ('Rosendaël', 51.0413, 2.4037), ('Cappelle-la-Grande', 50.999, 2.364), ('Petite-Synthe', 51.0194, 2.3467), ('Saint-Pol-sur-Mer', 51.0314, 2.3439), ('Fort-Mardyck', 51.031, 2.3061), ('Grand-Fort-Philippe', 50.99, 2.11), ('Calais', 50.9481, 1.8564), ('Boulogne-sur-Mer', 50.7264, 1.6147), ('Outreau', 50.7044, 1.5947), ('\"Le Portel\"', 50.7075, 1.5744), ('Neuville-lès-Dieppe', 49.9267, 1.1014), ('Dieppe', 49.925, 1.075), ('Maromme', 49.4825, 1.0428), ('Déville-lès-Rouen', 49.47, 1.05), ('Mont-Saint-Aignan', 49.463, 1.0883), ('Rouen', 49.4428, 1.0886), ('Bois-Guillaume', 49.4614, 1.1092), ('Bihorel', 49.4553, 1.1169), ('Bonsecours', 49.43, 1.13), ('\"Le Mesnil-Esnard\"', 49.4117, 1.1428), ('Darnétal', 49.4453, 1.1519), ('Sotteville-lès-Rouen', 49.4092, 1.09), ('Saint-Étienne-du-Rouvray', 49.3786, 1.105), ('\"Le Grand-Quevilly\"', 49.4072, 1.0531), ('\"Le Petit-Quevilly\"', 49.4311, 1.0539), ('Saint-Aubin-lès-Elbeuf', 49.2991, 1.0127), ('Caudebec-lès-Elbeuf', 49.2817, 1.0222), ('Évreux', 49.02, 1.15), ('Yvetot', 49.62, 0.75), ('Cherbourg', 49.63, -1.62), ('Octeville', 49.6269, -1.6431), ('\"Le Relecq-Kerhuon\"', 48.4092, -4.3956), ('Brest', 48.39, -4.49), ('Limoges', 45.8353, 1.2625), ('Rodez', 44.3506, 2.575), ('Saint-Jean', 43.6664, 1.5058), ('L’Union', 43.6575, 1.4853), ('Aucamville', 43.6697, 1.4311), ('Saint-Alban', 43.6928, 1.4156), ('Beauzelle', 43.6664, 1.3783), ('Blagnac', 43.6364, 1.3906), ('Colomiers', 43.6139, 1.3367), ('Tournefeuille', 43.5853, 1.3442), ('Cugnaux', 43.5386, 1.3444), ('Villeneuve-Tolosane', 43.5247, 1.3425), ('\"La Salvetat-Saint-Gilles\"', 43.5769, 1.2722), ('Toulouse', 43.6045, 1.444), ('Ramonville-Saint-Agne', 43.5434, 1.4787), ('Castanet-Tolosan', 43.5164, 1.4989), ('Perpignan', 42.6986, 2.8956), ('Valras-Plage', 43.2478, 3.2917), ('Sète', 43.4053, 3.6975), ('Palavas-les-Flots', 43.5303, 3.9314), ('Pérols', 43.5658, 3.9511), ('\"Le Crès\"', 43.6481, 3.9397), ('Jacou', 43.6614, 3.9122), ('Castelnau-le-Lez', 43.6369, 3.9019), ('Montpellier', 43.6119, 3.8772), ('Nîmes', 43.8383, 4.3597), ('Alès', 44.1281, 4.0817), ('\"Le Pontet\"', 43.965, 4.8606), ('Aix-en-Provence', 43.5263, 5.4454), ('Marseille', 43.2964, 5.37), ('\"La Penne-sur-Huveaune\"', 43.2806, 5.5158), ('Carnoux-en-Provence', 43.2564, 5.5644), ('\"La Seyne-sur-Mer\"', 43.1, 5.883), ('Toulon', 43.1258, 5.9306), ('\"La Valette-du-Var\"', 43.1383, 5.9831), ('\"La Garde\"', 43.1256, 6.0108), ('Cannes', 43.5513, 7.0128), ('\"Le Cannet\"', 43.5769, 7.0194), ('Vallauris', 43.5805, 7.0538), ('Antibes', 43.5808, 7.1239), ('Cagnes-sur-Mer', 43.6644, 7.1489), ('Saint-Laurent-du-Var', 43.668, 7.188), ('Nice', 43.7034, 7.2663), ('Saint-André-de-la-Roche', 43.7411, 7.2883), ('Beaulieu-sur-Mer', 43.705, 7.33), ('Cap-d’Ail', 43.7219, 7.4064), ('Beausoleil', 43.7425, 7.4244), ('Menton', 43.775, 7.5), ('Ajaccio', 41.9267, 8.7369), ('Bastia', 42.7008, 9.4503)]\n",
      "Distance totale : 106.84325838501418\n"
     ]
    }
   ],
   "source": [
    "# On affiche un récapitulatif\n",
    "print(f\"Nombre total de villes : {len(villes)}\")\n",
    "print(f\"Itinéraire trouvé : {itineraire}\")\n",
    "print(f\"Distance totale : {distance_totale(itineraire)}\")\n",
    "\n",
    "# Cette approche heuristique n'est pas optimale car elle ne garantit pas de trouver la solution optimale. En effet, on choisit à chaque étape la ville la plus proche, mais cela ne garantit pas que l'itinéraire final sera le plus court. Par exemple, si on a une ville très proche de la ville de départ, on risque de rester bloqué dans une boucle locale. De plus, cette méthode peut être très coûteuse en temps de calcul pour un grand nombre de villes, car on doit calculer la distance entre chaque paire de villes à chaque étape."
   ]
  }
 ],
 "metadata": {
  "kernelspec": {
   "display_name": "fast_env",
   "language": "python",
   "name": "python3"
  },
  "language_info": {
   "codemirror_mode": {
    "name": "ipython",
    "version": 3
   },
   "file_extension": ".py",
   "mimetype": "text/x-python",
   "name": "python",
   "nbconvert_exporter": "python",
   "pygments_lexer": "ipython3",
   "version": "3.11.0"
  }
 },
 "nbformat": 4,
 "nbformat_minor": 2
}
