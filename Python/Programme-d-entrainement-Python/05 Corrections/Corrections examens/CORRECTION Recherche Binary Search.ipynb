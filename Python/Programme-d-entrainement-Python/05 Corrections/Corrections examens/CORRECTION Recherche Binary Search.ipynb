{
 "cells": [
  {
   "cell_type": "markdown",
   "metadata": {},
   "source": [
    "# Correction Recherche Binary Search"
   ]
  },
  {
   "cell_type": "markdown",
   "metadata": {},
   "source": [
    "Durée : 1 heure\n",
    "Langage : Python (version 3.x)\n",
    "\n",
    "Sujet de l’examen : Binary Search\n",
    "\n",
    "Contexte : La recherche dichotomique (binary search) est une méthode efficace pour trouver la position d’un élément dans une liste triée. Votre objectif est d’implémenter cette méthode, de la tester, et de l’étendre avec quelques variantes."
   ]
  },
  {
   "cell_type": "markdown",
   "metadata": {},
   "source": [
    "## 1. Implémentation de la Recherche Dichotomique "
   ]
  },
  {
   "cell_type": "markdown",
   "metadata": {},
   "source": [
    "Tâches :\n",
    "\n",
    "1.\tÉcrire une fonction binary_search(sorted_list, target) qui :\n",
    "\n",
    "\t- Prend en entrée une liste triée sorted_list (de nombres ou de chaînes de caractères, au choix, mais cohérente) et une valeur target à rechercher.\n",
    "\t- Retourne l’indice où la valeur target se trouve, si elle est présente dans la liste, avec la méthode de recherche dichotomique.\n",
    "\t- Retourne -1 si l’élément n’est pas trouvé.\n",
    "\n",
    "Vous veillerez à ce que votre fonction soit itérative (pas de récursion).\n",
    "\n",
    "Voici le détail de l’algorithme de recherche dichotomique :\n",
    "\n",
    "- Initialiser deux variables, low et high, qui représentent les indices de début et de fin de la liste à explorer. Au départ, low est à 0 et high est l'indice du dernier élément.\n",
    "- Répéter les étapes suivantes tant que low <= high :\n",
    "- Calculer l’indice qui se trouve au milieu de la liste, arrondi à l’entier inférieur.\n",
    "- Si l'élément à cet indice est égal à la valeur cherchée, retourner cet élément.\n",
    "- Sinon, si l'élément recherché est plus grand que l'élément au milieu, mettre à jour low pour être mid + 1. et donc chercher dans la moitié supérieure.\n",
    "- Sinon, mettre à jour high = mid - 1 pour chercher dans la moitié inférieure.\n",
    "- Si on sort de la boucle sans avoir trouvé la valeur, retourner -1.\n",
    "\n",
    "Exemple:\n",
    "\n",
    "![dichotomie](dichotomie.png)\n",
    "\n",
    "Vidéo en plus : https://www.youtube.com/watch?v=0vOS48RiOag\n"
   ]
  },
  {
   "cell_type": "code",
   "execution_count": 1,
   "metadata": {},
   "outputs": [],
   "source": [
    "def binary_search(sorted_list, target):\n",
    "    # On appelle low et high les indices de début et de fin de la liste dans laquelle on cherche\n",
    "    # Au début high est la fin de la liste et low le début\n",
    "    low, high = 0, len(sorted_list) - 1\n",
    "    while low <= high:\n",
    "        # On cherche l'indice du milieu de la liste\n",
    "        mid = (low + high) // 2\n",
    "        if sorted_list[mid] == target:\n",
    "            # Si on a trouvé la cible, on renvoie son indice\n",
    "            return mid\n",
    "        elif sorted_list[mid] < target:\n",
    "            # Si la cible est plus grande que l'élément du milieu, on cherche dans la partie droite\n",
    "            # Donc la borne de gauche devient l'élément suivant du milieu\n",
    "            low = mid + 1\n",
    "        else:\n",
    "            # Sinon on cherche dans la partie gauche\n",
    "            # Donc la borne de droite devient l'élément précédent du milieu\n",
    "            high = mid - 1\n",
    "    return -1"
   ]
  },
  {
   "cell_type": "markdown",
   "metadata": {},
   "source": [
    "2.\tTester votre fonction sur au moins trois cas différents :\n",
    "    - Une recherche où l’élément est présent au milieu de la liste.\n",
    "    - Une recherche où l’élément n’est pas présent.\n",
    "    - Une recherche où l’élément est présent aux extrémités (début ou fin) de la liste.\n",
    "\n",
    "Afficher les résultats pour vérifier le bon comportement de la fonction."
   ]
  },
  {
   "cell_type": "code",
   "execution_count": 2,
   "metadata": {},
   "outputs": [
    {
     "name": "stdout",
     "output_type": "stream",
     "text": [
      "2\n",
      "-1\n",
      "9\n"
     ]
    }
   ],
   "source": [
    "list_test = [1, 2, 3, 4, 5, 6, 7, 8, 9, 10]\n",
    "print(binary_search(list_test, 3))  # Doit afficher 2\n",
    "print(binary_search(list_test, 12))  # Doit afficher -1\n",
    "print(binary_search(list_test, 10))  # Doit afficher 9"
   ]
  },
  {
   "cell_type": "markdown",
   "metadata": {},
   "source": [
    "## 2. Gestion de Cas Spéciaux "
   ]
  },
  {
   "cell_type": "markdown",
   "metadata": {},
   "source": [
    "1.\tQue se passe-t-il si la liste est vide ?\n",
    "    - Modifier (ou vérifier) le comportement de binary_search pour qu’elle retourne -1 quand sorted_list est vide."
   ]
  },
  {
   "cell_type": "code",
   "execution_count": 3,
   "metadata": {},
   "outputs": [
    {
     "name": "stdout",
     "output_type": "stream",
     "text": [
      "-1\n"
     ]
    }
   ],
   "source": [
    "# Test si la liste est vide\n",
    "print(binary_search([], 3))  # Doit afficher -1"
   ]
  },
  {
   "cell_type": "markdown",
   "metadata": {},
   "source": [
    "2.\tTester votre fonction sur une liste vide et une liste à un seul élément, pour s’assurer du bon fonctionnement dans ces cas particuliers."
   ]
  },
  {
   "cell_type": "code",
   "execution_count": 4,
   "metadata": {},
   "outputs": [
    {
     "name": "stdout",
     "output_type": "stream",
     "text": [
      "0\n"
     ]
    }
   ],
   "source": [
    "print(binary_search([1], 1))  # Doit afficher 0"
   ]
  },
  {
   "cell_type": "markdown",
   "metadata": {},
   "source": [
    "## 3. Variation – Première occurrence"
   ]
  },
  {
   "cell_type": "markdown",
   "metadata": {},
   "source": [
    "Écrire une nouvelle fonction binary_search_first_occurrence(sorted_list, target) qui, dans une liste triée pouvant contenir des doublons, retourne l’indice de la première occurrence du target. Si l’élément n’est pas présent, retourner -1.\n",
    "\n",
    "Tester cette fonction sur un exemple :\n",
    "- sorted_list = [1,2,2,2,3,4] et target = 2 doit retourner l’indice de la première occurrence de 2.\n"
   ]
  },
  {
   "cell_type": "code",
   "execution_count": 5,
   "metadata": {},
   "outputs": [
    {
     "name": "stdout",
     "output_type": "stream",
     "text": [
      "2\n"
     ]
    }
   ],
   "source": [
    "sorted_list = [1,2,2,2,3,4]\n",
    "target = 2\n",
    "\n",
    "print(binary_search(sorted_list, target))  # Doit afficher 1"
   ]
  },
  {
   "cell_type": "markdown",
   "metadata": {},
   "source": [
    "Ici on remarque que la première occurrence de 2 est à l'indice 1, mais notre première fonction binary_search retournerait l'indice 2, qui n'est pas la première occurrence. On va devoir modifier notre fonction pour qu'elle retourne l'indice de la première occurrence."
   ]
  },
  {
   "cell_type": "code",
   "execution_count": 6,
   "metadata": {},
   "outputs": [
    {
     "name": "stdout",
     "output_type": "stream",
     "text": [
      "1\n"
     ]
    }
   ],
   "source": [
    "def binary_search_first(sorted_list, target):\n",
    "    low, high = 0, len(sorted_list) - 1\n",
    "    while low <= high:\n",
    "        mid = (low + high) // 2\n",
    "        if sorted_list[mid] == target:\n",
    "            if mid == 0 or sorted_list[mid - 1] != target:\n",
    "                return mid\n",
    "            high = mid - 1\n",
    "        elif sorted_list[mid] < target:\n",
    "            low = mid + 1\n",
    "        else:\n",
    "            high = mid - 1\n",
    "    return -1\n",
    "\n",
    "\n",
    "print(binary_search_first(sorted_list, target))  # Doit afficher 1"
   ]
  },
  {
   "cell_type": "markdown",
   "metadata": {},
   "source": [
    "À présent vous avez une fonction qui renvoie l'indice du premier élément égal à la cible dans une liste triée. Pour cela nous avons juste modifié la condition de sortie de la boucle, et nous avons ajouté une condition pour vérifier si l'élément précédent est égal à la cible. Si tel est le cas, on met à jour high pour chercher plus à gauche."
   ]
  },
  {
   "cell_type": "markdown",
   "metadata": {},
   "source": []
  }
 ],
 "metadata": {
  "kernelspec": {
   "display_name": "fast_env",
   "language": "python",
   "name": "python3"
  },
  "language_info": {
   "codemirror_mode": {
    "name": "ipython",
    "version": 3
   },
   "file_extension": ".py",
   "mimetype": "text/x-python",
   "name": "python",
   "nbconvert_exporter": "python",
   "pygments_lexer": "ipython3",
   "version": "3.11.0"
  }
 },
 "nbformat": 4,
 "nbformat_minor": 2
}
