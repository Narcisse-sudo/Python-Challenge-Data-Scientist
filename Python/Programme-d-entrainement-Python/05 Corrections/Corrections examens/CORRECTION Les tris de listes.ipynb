{
 "cells": [
  {
   "cell_type": "markdown",
   "metadata": {},
   "source": [
    "# Correction les tris de listes"
   ]
  },
  {
   "cell_type": "markdown",
   "metadata": {},
   "source": [
    "# Examen 1 : Tri à Bulles (Bubble Sort)\n",
    "\n",
    "Durée : 30 minutes\n",
    "\n",
    "Explications du tri à bulles: Le tri à bulles compare des paires d’éléments adjacents dans une liste et les échange s’ils ne sont pas dans le bon ordre (du plus petit au plus grand). On répète ce processus autant de fois que nécessaire jusqu’à ce que la liste soit totalement triée. L’idée est que, comme des bulles dans l’eau, les plus grands éléments « remontent » progressivement vers la fin de la liste.\n",
    "\n",
    "Schéma :\n",
    "\n",
    "1.\tOn regarde la liste du début à la fin.\n",
    "2.\tPour chaque paire d’éléments (positions i et i+1), on compare :\n",
    "    -\tSi l’élément à gauche est plus grand, on échange.\n",
    "    -\tSinon, on ne fait rien.\n",
    "3.\tOn recommence plusieurs passages tant qu’on a fait au moins un échange.\n",
    "\n",
    "\n",
    "Cette méthode est très simple à comprendre mais peu performante quand la liste devient grande.\n",
    "\n",
    "**Exemple de fonctionnement**\n",
    "\n",
    "Liste initiale : [5, 3, 8, 6, 2]\n",
    "\n",
    "-\tPassage 1 :\n",
    "\t-\tCompare 5 et 3 → 5 > 3, on échange → [3, 5, 8, 6, 2]\n",
    "\t-\tCompare 5 et 8 → 5 < 8, pas d’échange → [3, 5, 8, 6, 2]\n",
    "\t-\tCompare 8 et 6 → 8 > 6, on échange → [3, 5, 6, 8, 2]\n",
    "\t-\tCompare 8 et 2 → 8 > 2, on échange → [3, 5, 6, 2, 8]\n",
    "-\tPassage 2 :\n",
    "\t-\tCompare 3 et 5 → 3 < 5, pas d’échange → [3, 5, 6, 2, 8]\n",
    "\t-\tCompare 5 et 6 → 5 < 6, pas d’échange → [3, 5, 6, 2, 8]\n",
    "\t-\tCompare 6 et 2 → 6 > 2, on échange → [3, 5, 2, 6, 8]\n",
    "\t-\tCompare 6 et 8 → 6 < 8, pas d’échange → [3, 5, 2, 6, 8]\n",
    "-\tPassage 3 :\n",
    "\t-\tCompare 3 et 5 → pas d’échange\n",
    "\t-\tCompare 5 et 2 → 5 > 2, on échange → [3, 2, 5, 6, 8]\n",
    "\t-\tCompare 5 et 6 → pas d’échange\n",
    "\t-\tCompare 6 et 8 → pas d’échange\n",
    "-\tPassage 4 :\n",
    "\t-\tCompare 3 et 2 → 3 > 2, on échange → [2, 3, 5, 6, 8]\n",
    "\t-\tCompare 3 et 5 → pas d’échange\n",
    "\t-\tCompare 5 et 6 → pas d’échange\n",
    "\t-\tCompare 6 et 8 → pas d’échange\n",
    "\t-\tOn constate maintenant qu’aucun échange n’est nécessaire : la liste est triée.\n"
   ]
  },
  {
   "cell_type": "code",
   "execution_count": 34,
   "metadata": {},
   "outputs": [
    {
     "name": "stdout",
     "output_type": "stream",
     "text": [
      "=== Bubble Sort ===\n",
      "[2, 3, 5, 6, 8]\n",
      "[1, 2, 3, 4, 5]\n",
      "[1, 2, 3, 4, 5]\n"
     ]
    }
   ],
   "source": [
    "def bubble_sort(liste_a_trier):\n",
    "    # On fera au pire n-1 passages sur la liste (à chaque itération, on place le plus grand élément à sa place)\n",
    "    for n in range(len(liste_a_trier)-1, 0, -1):\n",
    "        # on initialise une variable echange pour savoir s'il y a eu un échange dans la liste pendant le passage\n",
    "        echange = False\n",
    "        # on parcourt la liste jusqu'à l'avant-dernier élément\n",
    "        for i in range(n):\n",
    "            # si l'élément courant est plus grand que le suivant, on les échange\n",
    "            if liste_a_trier[i] > liste_a_trier[i+1]:\n",
    "                liste_a_trier[i], liste_a_trier[i+1] = liste_a_trier[i+1], liste_a_trier[i]\n",
    "                # on indique qu'il y a eu un échange\n",
    "                echange = True\n",
    "        # si on n'a pas eu d'échange, c'est que la liste est triée, on peut s'arrêter\n",
    "        if not echange:\n",
    "            break\n",
    "    return liste_a_trier\n",
    "\n",
    "\n",
    "# Tests\n",
    "print(\"=== Bubble Sort ===\")\n",
    "print(bubble_sort([5, 3, 8, 6, 2]))         # cas \"mélangé\"\n",
    "print(bubble_sort([1, 2, 3, 4, 5]))         # cas \"déjà trié\"\n",
    "print(bubble_sort([5, 4, 3, 2, 1]))         # cas \"trié à l'envers\""
   ]
  },
  {
   "cell_type": "markdown",
   "metadata": {},
   "source": [
    "---\n",
    "\n",
    "# Examen 2 : Tri Rapide (Quick Sort)\n",
    "\n",
    "Durée : 30 minutes\n",
    "\n",
    "Explications du tri rapide: Le tri rapide (quick sort) est basé sur l’idée de choisir un pivot dans la liste et de séparer (partitionner) tous les éléments en deux sous-listes :\n",
    "- Les éléments inférieurs ou égaux au pivot\n",
    "- Les éléments supérieurs au pivot\n",
    "\n",
    "On trie ensuite récursivement ces deux sous-listes, puis on combine le tout pour obtenir la liste finale triée.\n",
    "\n",
    "Étapes principales :\n",
    "1.\tChoisir un pivot (par exemple, le dernier élément de la liste).\n",
    "2.\tCréer deux sous-listes :\n",
    "      -\tpetits pour ceux qui sont <= pivot\n",
    "      -\tgrands pour ceux qui sont > pivot\n",
    "3.\tAppliquer récursivement quick sort sur petits et grands.\n",
    "4.\tCombiner : (tri(petits)) + [pivot] + (tri(grands)).\n",
    "\n",
    "**Exemple de fonctionnement**\n",
    "\n",
    "Liste initiale : [7, 2, 8, 1, 5]\n",
    "\n",
    "- On choisit le pivot = 5 (le dernier élément).\n",
    "  - petits = [2, 1] (car 7 et 8 sont > 5)\n",
    "  - grands = [7, 8]\n",
    "  - On trie récursivement [2, 1] (pivot=1, petits=[], grands=[2]) → [1, 2]\n",
    "  - On trie récursivement [7, 8] → c’est déjà trié → [7, 8]\n",
    "  - On combine : [1, 2] + [5] + [7, 8] → [1, 2, 5, 7, 8]."
   ]
  },
  {
   "cell_type": "code",
   "execution_count": 35,
   "metadata": {},
   "outputs": [],
   "source": [
    "def quick_sort(liste_a_trier):\n",
    "    # si la liste est vide ou ne contient qu'un élément, elle est déjà triée\n",
    "    if len(liste_a_trier) <= 1:\n",
    "        return liste_a_trier\n",
    "    \n",
    "    # on choisit un pivot, par exemple le dernier élément de la liste\n",
    "    pivot = liste_a_trier[-1]\n",
    "    # on crée deux listes, une pour les éléments plus petits que le pivot, une pour les éléments plus grands\n",
    "    petits = []\n",
    "    grands = []\n",
    "    \n",
    "    # on parcourt la liste à trier sans le pivot\n",
    "    for element in liste_a_trier[:-1]:\n",
    "        # si l'élément est plus petit que le pivot, on le met dans la liste des petits\n",
    "        if element <= pivot:\n",
    "            petits.append(element)\n",
    "        # sinon, on le met dans la liste des grands\n",
    "        else:\n",
    "            grands.append(element)\n",
    "            \n",
    "    # on trie récursivement les deux listes\n",
    "    return quick_sort(petits) + [pivot] + quick_sort(grands)\n"
   ]
  },
  {
   "cell_type": "code",
   "execution_count": 36,
   "metadata": {},
   "outputs": [
    {
     "name": "stdout",
     "output_type": "stream",
     "text": [
      "=== Quick Sort ===\n",
      "Liste aléatoire avant :  [2, 3, 24, 2, 17, 45, 33, 4, 32, 1]\n",
      "Après Quick Sort     :  [1, 2, 2, 3, 4, 17, 24, 32, 33, 45]\n",
      "Liste de chaînes avant :  ['banana', 'apple', 'cherry', 'mango', 'blueberry']\n",
      "Après Quick Sort       :  ['apple', 'banana', 'blueberry', 'cherry', 'mango']\n"
     ]
    }
   ],
   "source": [
    "# Tests\n",
    "from random import randint\n",
    "\n",
    "print(\"=== Quick Sort ===\")\n",
    "liste_random = [randint(1, 50) for _ in range(10)]\n",
    "print(\"Liste aléatoire avant : \", liste_random)\n",
    "print(\"Après Quick Sort     : \", quick_sort(liste_random))\n",
    "\n",
    "liste_strings = [\"banana\", \"apple\", \"cherry\", \"mango\", \"blueberry\"]\n",
    "print(\"Liste de chaînes avant : \", liste_strings)\n",
    "print(\"Après Quick Sort       : \", quick_sort(liste_strings))\n"
   ]
  },
  {
   "cell_type": "markdown",
   "metadata": {},
   "source": [
    "---\n",
    "\n",
    "# Examen 3 : Tri par Insertion (Insertion Sort)\n",
    "\n",
    "Durée : 30 minutes\n",
    "\n",
    "Explications du tri par insertion: Le tri par insertion consiste à parcourir la liste élément par élément, en considérant que les éléments avant la position courante sont déjà triés. On « insère » alors le nouvel élément dans la partie déjà triée à la bonne place.\n",
    "\n",
    "Étapes principales :\n",
    "\t1.\tOn commence au deuxième élément de la liste (car le premier est déjà « trié » tout seul).\n",
    "\t2.\tOn prend la valeur courante (disons `val`) et on la compare aux éléments situés avant elle.\n",
    "\t3.\tTant qu’un élément précédent est plus grand que `val`, on le décale d’une position vers la droite.\n",
    "\t4.\tQuand on a trouvé l’emplacement correct, on place `val`.\n",
    "\n",
    "Cette méthode est très efficace si la liste est déjà presque triée, mais devient moins efficace sur de très grandes listes totalement désordonnées.\n",
    "\n",
    "Exemple de fonctionnement\n",
    "\n",
    "Liste initiale : [3, 1, 2]\n",
    "\n",
    "-\ti = 1 : élément courant = 1\n",
    "    -\tCompare avec 3 (index 0) : 3 > 1, on décale 3 → la liste devient [3, 3, 2]\n",
    "    -\tOn insère 1 au début → [1, 3, 2]\n",
    "-\ti = 2 : élément courant = 2\n",
    "    -\tCompare avec 3 (index 1) : 3 > 2, on décale 3 → la liste devient [1, 3, 3]\n",
    "    -\tCompare avec 1 (index 0) : 1 < 2, on s’arrête et on insère 2 → [1, 2, 3]"
   ]
  },
  {
   "cell_type": "code",
   "execution_count": 37,
   "metadata": {},
   "outputs": [],
   "source": [
    "def insertion_sort(liste_a_trier):\n",
    "    # on parcourt la liste à trier\n",
    "    for i in range(1, len(liste_a_trier)):\n",
    "        # on sauvegarde l'élément courant\n",
    "        element = liste_a_trier[i]\n",
    "        # on sauvegarde l'indice de l'élément précédent\n",
    "        j = i-1\n",
    "        # on décale les éléments plus grands que l'élément courant\n",
    "        while j >= 0 and liste_a_trier[j] > element:\n",
    "            liste_a_trier[j+1] = liste_a_trier[j]\n",
    "            j -= 1\n",
    "        # on place l'élément courant à sa place\n",
    "        liste_a_trier[j+1] = element\n",
    "    return liste_a_trier"
   ]
  },
  {
   "cell_type": "code",
   "execution_count": 38,
   "metadata": {},
   "outputs": [
    {
     "name": "stdout",
     "output_type": "stream",
     "text": [
      "=== Insertion Sort ===\n",
      "[2, 3, 5, 6, 8]\n",
      "[1, 2, 3, 4, 5]\n",
      "[1, 2, 2, 2, 3, 5]\n"
     ]
    }
   ],
   "source": [
    "# Tests\n",
    "print(\"=== Insertion Sort ===\")\n",
    "print(insertion_sort([5, 3, 8, 6, 2]))    # mélange\n",
    "print(insertion_sort([1, 2, 3, 5, 4]))    # presque trié\n",
    "print(insertion_sort([3, 1, 2, 2, 5, 2])) # doublons"
   ]
  },
  {
   "cell_type": "markdown",
   "metadata": {},
   "source": [
    "---\n",
    "\n",
    "# Examen 4 : Tri par Fusion (Merge Sort)\n",
    "\n",
    "Durée : 30 minutes\n",
    "\n",
    "Explications du tri par fusion: Le tri par fusion (merge sort) est une technique « diviser pour régner » :\n",
    "1.\tDiviser la liste en deux moitiés.\n",
    "2.\tTrier chacune des moitiés de façon récursive.\n",
    "3.\tFusionner (merge) les deux moitiés triées pour former une liste globale triée.\n",
    "\n",
    "L’intérêt : la fusion de deux listes déjà triées se fait en temps linéaire par rapport à la taille totale des deux listes. C’est un algorithme en général plus rapide que bubble sort ou insertion sort pour des listes de grande taille.\n",
    "\n",
    "**Exemple de fonctionnement**\n",
    "\n",
    "Liste initiale : [8, 3, 5, 2, 9, 1]\n",
    "\n",
    "-\tOn la coupe en deux : [8, 3, 5] et [2, 9, 1]\n",
    "-\tOn trie [8, 3, 5] en la recoupant en [8] et [3, 5] :\n",
    "     -\t[8] est déjà trié\n",
    "     -\t[3, 5] → recoupé en [3] et [5] → puis fusion → [3, 5]\n",
    "     -\tfusion de [8] et [3, 5] → [3, 5, 8]\n",
    "-\tOn trie [2, 9, 1] de même en la coupant en [2] et [9, 1] :\n",
    "     -\t[2] déjà trié\n",
    "     -\t[9, 1] → recoupé en [9] et [1] → fusion → [1, 9]\n",
    "     -\tfusion de [2] et [1, 9] → [1, 2, 9]\n",
    "-\tOn fusionne enfin [3, 5, 8] et [1, 2, 9] pour obtenir [1, 2, 3, 5, 8, 9].\n",
    "\n",
    "\n",
    "Pour le code, on va écrire une fonction auxiliaire fusionner(left, right) qui prend en paramètre deux listes déjà triées et renvoie une liste fusionnée et triée."
   ]
  },
  {
   "cell_type": "code",
   "execution_count": 39,
   "metadata": {},
   "outputs": [],
   "source": [
    "def fusionner(left, right):\n",
    "    resultat = []\n",
    "    i, j = 0, 0\n",
    "    # On parcourt les deux listes en même temps et on prend à chaque fois le plus petit des deux\n",
    "    while i < len(left) and j < len(right):\n",
    "        if left[i] < right[j]:\n",
    "            resultat.append(left[i])\n",
    "            i += 1\n",
    "        else:\n",
    "            resultat.append(right[j])\n",
    "            j += 1\n",
    "    \n",
    "    # Si on a fini de parcourir l’une des deux listes, on ajoute le reste de l’autre\n",
    "    resultat.extend(left[i:])\n",
    "    resultat.extend(right[j:])\n",
    "    \n",
    "    return resultat\n",
    "\n",
    "def merge_sort(liste_a_trier):\n",
    "    # Cas de base : liste vide ou 1 élément\n",
    "    if len(liste_a_trier) <= 1:\n",
    "        return liste_a_trier\n",
    "    \n",
    "    # On coupe la liste en deux\n",
    "    milieu = len(liste_a_trier) // 2\n",
    "    left = liste_a_trier[:milieu]\n",
    "    right = liste_a_trier[milieu:]\n",
    "    \n",
    "    # On trie récursivement chaque moitié\n",
    "    left_sorted = merge_sort(left)\n",
    "    right_sorted = merge_sort(right)\n",
    "    \n",
    "    # On fusionne les deux moitiés triées\n",
    "    return fusionner(left_sorted, right_sorted)"
   ]
  },
  {
   "cell_type": "code",
   "execution_count": 40,
   "metadata": {},
   "outputs": [
    {
     "name": "stdout",
     "output_type": "stream",
     "text": [
      "=== Merge Sort ===\n",
      "Avant  :  [8, 3, 5, 2, 9, 1]\n",
      "Après  :  [1, 2, 3, 5, 8, 9]\n",
      "Avant  :  [2]\n",
      "Après  :  [2]\n",
      "Avant  :  [9, 1]\n",
      "Après  :  [1, 9]\n",
      "Avant  :  [2, 5, 5, 1, 2]\n",
      "Après  :  [1, 2, 2, 5, 5]\n"
     ]
    }
   ],
   "source": [
    "print(\"=== Merge Sort ===\")\n",
    "# Liste mélangée\n",
    "liste_melangee = [8, 3, 5, 2, 9, 1]\n",
    "print(\"Avant  : \", liste_melangee)\n",
    "print(\"Après  : \", merge_sort(liste_melangee))\n",
    "\n",
    "# Liste très courte\n",
    "liste_courte = [2]\n",
    "print(\"Avant  : \", liste_courte)\n",
    "print(\"Après  : \", merge_sort(liste_courte))\n",
    "\n",
    "liste_2_elements = [9, 1]\n",
    "print(\"Avant  : \", liste_2_elements)\n",
    "print(\"Après  : \", merge_sort(liste_2_elements))\n",
    "\n",
    "# Avec doublons\n",
    "liste_doublons = [2, 5, 5, 1, 2]\n",
    "print(\"Avant  : \", liste_doublons)\n",
    "print(\"Après  : \", merge_sort(liste_doublons))"
   ]
  },
  {
   "cell_type": "code",
   "execution_count": null,
   "metadata": {},
   "outputs": [],
   "source": []
  }
 ],
 "metadata": {
  "kernelspec": {
   "display_name": "fast_env",
   "language": "python",
   "name": "python3"
  },
  "language_info": {
   "codemirror_mode": {
    "name": "ipython",
    "version": 3
   },
   "file_extension": ".py",
   "mimetype": "text/x-python",
   "name": "python",
   "nbconvert_exporter": "python",
   "pygments_lexer": "ipython3",
   "version": "3.11.0"
  }
 },
 "nbformat": 4,
 "nbformat_minor": 2
}
