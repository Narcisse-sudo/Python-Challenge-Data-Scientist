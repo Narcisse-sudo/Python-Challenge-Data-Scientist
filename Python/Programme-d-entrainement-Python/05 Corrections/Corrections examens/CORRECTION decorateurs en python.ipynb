{
 "cells": [
  {
   "cell_type": "markdown",
   "metadata": {},
   "source": [
    "# Correction décorateurs"
   ]
  },
  {
   "cell_type": "markdown",
   "metadata": {},
   "source": [
    "Durée : 1 heure\n",
    "Langage : Python 3.x\n",
    "\n",
    "Sujet : Les décorateurs en Python sont un moyen pratique de modifier le comportement d’une fonction sans en altérer le code source directement. Ils sont utiles pour la journalisation, la validation, le contrôle d’accès, etc.\n",
    "\n",
    "\n",
    "## 1. Décorateur de Journalisation Simple\n",
    "\n",
    "- Écrire un décorateur @journaliser qui, appliqué à une fonction, affiche :\n",
    "  - Le nom de la fonction appelée\n",
    "  - Les arguments positionnels et nommés passés à cette fonction\n",
    "  - La fonction décorée doit ensuite s’exécuter normalement et retourner son résultat.\n",
    "\n",
    "Exemple d’utilisation :\n",
    "\n",
    "```py\n",
    "@journaliser\n",
    "def addition(a, b):\n",
    "    return a + b\n",
    "```\n",
    "\n",
    "Appeler `addition(3, 5)` devrait afficher quelque chose comme :\n",
    "\n",
    "`Appel de addition(3, 5)`\n",
    "\n",
    "Et retourner 8."
   ]
  },
  {
   "cell_type": "code",
   "execution_count": 13,
   "metadata": {},
   "outputs": [],
   "source": [
    "def journaliser(fonction):\n",
    "    def wrapper(*args, **kwargs):\n",
    "        # Construction d'une représentation claire des arguments\n",
    "        args_repr = \", \".join(repr(a) for a in args)                # ex : \"3, 5\"\n",
    "        kwargs_repr = \", \".join(f\"{k}={v!r}\" for k, v in kwargs.items())  # ex : \"x=2, y=4\"\n",
    "        \n",
    "        # Assemblage pour l'affichage\n",
    "        if args_repr and kwargs_repr:\n",
    "            signature = args_repr + \", \" + kwargs_repr\n",
    "        elif args_repr:\n",
    "            signature = args_repr\n",
    "        else:\n",
    "            signature = kwargs_repr\n",
    "        \n",
    "        # Journalisation\n",
    "        print(f\"Appel de {fonction.__name__}({signature})\")\n",
    "        \n",
    "        # Appel de la fonction d'origine\n",
    "        resultat = fonction(*args, **kwargs)\n",
    "        \n",
    "        return resultat\n",
    "    \n",
    "    return wrapper\n",
    "\n",
    "# --- Test / Démo ---\n",
    "@journaliser\n",
    "def addition(a, b):\n",
    "    return a + b"
   ]
  },
  {
   "cell_type": "code",
   "execution_count": 14,
   "metadata": {},
   "outputs": [
    {
     "name": "stdout",
     "output_type": "stream",
     "text": [
      "Appel de addition(3, 5)\n",
      "Résultat : 8\n"
     ]
    }
   ],
   "source": [
    "print(\"Résultat :\", addition(3, 5))  \n",
    "# Doit afficher :\n",
    "# Appel de addition(3, 5)\n",
    "# Résultat : 8"
   ]
  },
  {
   "cell_type": "markdown",
   "metadata": {},
   "source": [
    "## 2. Décorateur de Mémorisation (Caching)\n",
    "- Écrire un décorateur @memoriser qui stocke les résultats de la fonction décorée en fonction de ses arguments.\n",
    "- Si la fonction est appelée à nouveau avec les mêmes arguments, retourner directement le résultat mémorisé au lieu de recalculer.\n",
    "- Tester ce décorateur sur une fonction de calcul un peu coûteuse (par exemple, une fonction qui calcule le n-ième nombre de Fibonacci de manière récursive)."
   ]
  },
  {
   "cell_type": "code",
   "execution_count": 27,
   "metadata": {},
   "outputs": [],
   "source": [
    "def memoriser(fonction):\n",
    "    \"\"\"\n",
    "    Décorateur qui stocke les résultats de la fonction\n",
    "    en fonction de ses arguments pour éviter de recalculer.\n",
    "    \"\"\"\n",
    "    cache = {}  # Dictionnaire pour la mémorisation\n",
    "    \n",
    "    def wrapper(*args, **kwargs):\n",
    "        # On crée une clé immuable (tuple) basée sur args + un frozenset de kwargs\n",
    "        key = (args, frozenset(kwargs.items()))\n",
    "        \n",
    "        # Explication: En Python, un set est une collection d’éléments non ordonnée et modifiable (on peut ajouter, retirer des éléments). \n",
    "        # Comme il est modifiable, on ne peut pas l’utiliser comme clé dans un dictionnaire (car les clés doivent être immuables, donc hachables). \n",
    "        # Un frozenset, c’est la version immutable (figée) d’un set. On ne peut plus le modifier après sa création. \n",
    "        # Ainsi, Python autorise un frozenset à être utilisé comme clé dans un dictionnaire (ou placé dans un set) parce qu’il est hachable.\n",
    "        \n",
    "        # Si la clé est dans le cache, on renvoie directement la valeur\n",
    "        if key in cache:\n",
    "            print(\"Résultat en cache pour\", key)  # Pour tester\n",
    "            return cache[key]\n",
    "        \n",
    "        # Sinon, on calcule la fonction et on stocke le résultat\n",
    "        resultat = fonction(*args, **kwargs)\n",
    "        cache[key] = resultat\n",
    "        \n",
    "        return resultat\n",
    "    \n",
    "    return wrapper\n",
    "\n",
    "\n",
    "# --- Démo sur une fonction coûteuse : Fibonacci récursif ---\n",
    "@memoriser\n",
    "def fibonacci(n):\n",
    "    \"\"\"\n",
    "    Calcul du n-ième Fibonacci de manière récursive (très coûteuse sans mémorisation).\n",
    "    \"\"\"\n",
    "    if n <= 1:\n",
    "        return n\n",
    "    return fibonacci(n-1) + fibonacci(n-2)"
   ]
  },
  {
   "cell_type": "code",
   "execution_count": 28,
   "metadata": {},
   "outputs": [
    {
     "name": "stdout",
     "output_type": "stream",
     "text": [
      "Résultat en cache pour ((1,), frozenset())\n",
      "Résultat en cache pour ((2,), frozenset())\n",
      "Résultat en cache pour ((3,), frozenset())\n",
      "Résultat en cache pour ((4,), frozenset())\n",
      "Résultat en cache pour ((5,), frozenset())\n",
      "Résultat en cache pour ((6,), frozenset())\n",
      "Résultat en cache pour ((7,), frozenset())\n",
      "Résultat en cache pour ((8,), frozenset())\n",
      "fibonacci(10) = 55\n",
      "Résultat en cache pour ((10,), frozenset())\n",
      "Résultat en cache pour ((9,), frozenset())\n",
      "Résultat en cache pour ((10,), frozenset())\n",
      "Résultat en cache pour ((11,), frozenset())\n",
      "Résultat en cache pour ((12,), frozenset())\n",
      "Résultat en cache pour ((13,), frozenset())\n",
      "Résultat en cache pour ((14,), frozenset())\n",
      "Résultat en cache pour ((15,), frozenset())\n",
      "Résultat en cache pour ((16,), frozenset())\n",
      "Résultat en cache pour ((17,), frozenset())\n",
      "Résultat en cache pour ((18,), frozenset())\n",
      "fibonacci(20) = 6765\n"
     ]
    }
   ],
   "source": [
    "# On peut tester sur des valeurs un peu grandes\n",
    "print(\"fibonacci(10) =\", fibonacci(10))  # 55\n",
    "print(\"fibonacci(20) =\", fibonacci(20))  # 6765"
   ]
  },
  {
   "cell_type": "markdown",
   "metadata": {},
   "source": [
    "## 3. Combinaison de décorateurs\n",
    "Appliquer les deux décorateurs @journaliser et @memoriser à la même fonction pour observer l’ordre d’exécution (décorer la fonction avec @journaliser puis @memoriser, ou l’inverse, et commenter le comportement).\n"
   ]
  },
  {
   "cell_type": "code",
   "execution_count": 24,
   "metadata": {},
   "outputs": [
    {
     "name": "stdout",
     "output_type": "stream",
     "text": [
      "Appel de wrapper(3, 5)\n",
      "  [Corps de la fonction addition_memorisee exécuté]\n",
      "8\n",
      "Appel de wrapper(3, 5)\n",
      "Résultat en cache pour (3, 5)\n",
      "8\n"
     ]
    }
   ],
   "source": [
    "@journaliser\n",
    "@memoriser\n",
    "def addition_memorisee(a, b):\n",
    "    print(\"  [Corps de la fonction addition_memorisee exécuté]\")\n",
    "    return a + b\n",
    "\n",
    "print(addition_memorisee(3, 5))\n",
    "print(addition_memorisee(3, 5))"
   ]
  },
  {
   "cell_type": "markdown",
   "metadata": {},
   "source": [
    "Que se passe-t-il ?\n",
    "\n",
    "1.\tLors du premier appel addition_memorisee(3, 5) :\n",
    "    -\tLa fonction la plus externe (due à @journaliser) s’exécute et affiche :\n",
    "    Appel de wrapper((3, 5)) (ou quelque chose dans ce style, selon l’implémentation).\n",
    "    -\tÀ l’intérieur, on appelle la fonction renvoyée par memoriser (c’est-à-dire le wrapper de memoriser).\n",
    "    -\tComme c’est la première fois qu’on appelle (3, 5), il n’y a pas de résultat dans le cache, donc on exécute le vrai addition_memorisee.\n",
    "    -\tOn affiche : [Corps de la fonction addition_memorisee exécuté], et on retourne 8.\n",
    "    -\tTout remonte et 8 est renvoyé et affiché.\n",
    "2.\tLors du deuxième appel addition_memorisee(3, 5) :\n",
    "    -\tDe nouveau, @journaliser affiche : Appel de wrapper((3, 5)).\n",
    "    -\tOn arrive dans le memoriser, qui cette fois reconnaît (3, 5) dans son cache.\n",
    "    -\tIl ne ré-exécute pas le corps de addition_memorisee.\n",
    "    -\tIl renvoie directement 8.\n",
    "\n",
    "Résultat : on journalise toujours l’appel (à cause de @journaliser), mais on ne recalcule pas la somme (grâce à @memoriser)."
   ]
  },
  {
   "cell_type": "code",
   "execution_count": null,
   "metadata": {},
   "outputs": [],
   "source": [
    "# On inverse\n",
    "\n",
    "@memoriser\n",
    "@journaliser\n",
    "def addition_memorisee_inverse(a, b):\n",
    "    print(\"  [Corps de la fonction addition_memorisee_inverse exécuté]\")\n",
    "    return a + b"
   ]
  },
  {
   "cell_type": "markdown",
   "metadata": {},
   "source": [
    "-\tCette fois, l’ordre est différent :\n",
    "    -\tOn applique d’abord @journaliser.\n",
    "    -\tPuis, le résultat de journaliser(...) est décoré par @memoriser.\n",
    "-\tCe qui veut dire qu’on va faire le « journal » avant de regarder si le résultat est en cache.\n",
    "-\tOn observera que la journaling se produit peut-être à chaque appel, même si le résultat est en cache, selon l’implémentation choisie.\n",
    "\n",
    "En conclusion, l’ordre des décorateurs a un impact direct sur la façon dont les décorateurs communiquent et à quel moment s’appliquent leurs effets."
   ]
  },
  {
   "cell_type": "markdown",
   "metadata": {},
   "source": []
  }
 ],
 "metadata": {
  "kernelspec": {
   "display_name": "fast_env",
   "language": "python",
   "name": "python3"
  },
  "language_info": {
   "codemirror_mode": {
    "name": "ipython",
    "version": 3
   },
   "file_extension": ".py",
   "mimetype": "text/x-python",
   "name": "python",
   "nbconvert_exporter": "python",
   "pygments_lexer": "ipython3",
   "version": "3.11.0"
  }
 },
 "nbformat": 4,
 "nbformat_minor": 2
}
