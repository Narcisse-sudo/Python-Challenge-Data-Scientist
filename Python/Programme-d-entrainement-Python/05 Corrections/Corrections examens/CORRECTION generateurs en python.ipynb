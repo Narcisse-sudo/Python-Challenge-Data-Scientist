{
 "cells": [
  {
   "cell_type": "markdown",
   "metadata": {},
   "source": [
    "# Correction générateurs en python"
   ]
  },
  {
   "cell_type": "markdown",
   "metadata": {},
   "source": [
    "Durée : 1 heure\n",
    "Langage : Python 3.x\n",
    "\n",
    "Sujet : Les générateurs en Python permettent de créer des itérateurs en écrivant des fonctions utilisant le mot-clé `yield`. Ils offrent un moyen efficace de produire des séquences sans charger toute la liste en mémoire."
   ]
  },
  {
   "cell_type": "markdown",
   "metadata": {},
   "source": [
    "## 1. Générateur de suite simple\n",
    "\n",
    "- Écrire une fonction générateur compter(start, end) qui produit tous les entiers de start à end inclus.\n",
    "- Tester en itérant dessus et en affichant les valeurs produites."
   ]
  },
  {
   "cell_type": "code",
   "execution_count": 33,
   "metadata": {},
   "outputs": [
    {
     "name": "stdout",
     "output_type": "stream",
     "text": [
      "=== Générateur compter ===\n",
      "3\n",
      "4\n",
      "5\n",
      "6\n",
      "7\n"
     ]
    }
   ],
   "source": [
    "def compter(start, end):\n",
    "    \"\"\"\n",
    "    Génère tous les entiers de start à end inclus.\n",
    "    \"\"\"\n",
    "    for nombre in range(start, end + 1):\n",
    "        yield nombre\n",
    "\n",
    "\n",
    "# --- Test ---\n",
    "print(\"=== Générateur compter ===\")\n",
    "for val in compter(3, 7):\n",
    "    print(val)  # doit afficher 3, 4, 5, 6, 7"
   ]
  },
  {
   "cell_type": "markdown",
   "metadata": {},
   "source": [
    "## 2. Générateur filtrant\n",
    "- Écrire un générateur nombres_pairs(iterable) qui prend un itérable de nombres et ne yield que les nombres pairs.\n",
    "- Tester ce générateur avec une liste de nombres de 1 à 10 et afficher uniquement les pairs."
   ]
  },
  {
   "cell_type": "code",
   "execution_count": 34,
   "metadata": {},
   "outputs": [
    {
     "name": "stdout",
     "output_type": "stream",
     "text": [
      "=== Générateur nombres_pairs ===\n",
      "2\n",
      "4\n",
      "6\n",
      "8\n",
      "10\n"
     ]
    }
   ],
   "source": [
    "def nombres_pairs(iterable):\n",
    "    \"\"\"\n",
    "    Génère uniquement les nombres pairs présents dans 'iterable'.\n",
    "    \"\"\"\n",
    "    for nombre in iterable:\n",
    "        if nombre % 2 == 0:\n",
    "            yield nombre\n",
    "\n",
    "\n",
    "# --- Test ---\n",
    "print(\"=== Générateur nombres_pairs ===\")\n",
    "liste = range(1, 11)  # 1,2,3,4,...,10\n",
    "for val in nombres_pairs(liste):\n",
    "    print(val)  # doit afficher 2, 4, 6, 8, 10"
   ]
  },
  {
   "cell_type": "markdown",
   "metadata": {},
   "source": [
    "## 3. Générateur infini avec pause\n",
    "- Écrire un générateur fibonacci() qui produit la suite de Fibonacci sans fin (0, 1, 1, 2, 3, 5, 8, …).\n",
    "- Dans le code principal, afficher les 10 premiers termes puis arrêter l’itération.\n",
    "- Astuce : vous pouvez utiliser un for avec break ou itertools.islice."
   ]
  },
  {
   "cell_type": "code",
   "execution_count": 35,
   "metadata": {},
   "outputs": [
    {
     "name": "stdout",
     "output_type": "stream",
     "text": [
      "=== Générateur fibonacci ===\n",
      "0\n",
      "1\n",
      "1\n",
      "2\n",
      "3\n",
      "5\n",
      "8\n",
      "13\n",
      "21\n",
      "34\n"
     ]
    }
   ],
   "source": [
    "def fibonacci():\n",
    "    \"\"\"\n",
    "    Génère les termes de la suite de Fibonacci à l'infini :\n",
    "    F0 = 0, F1 = 1, F2 = 1, F3 = 2, ...\n",
    "    \"\"\"\n",
    "    a, b = 0, 1\n",
    "    while True:\n",
    "        yield a\n",
    "        a, b = b, a + b  # on \"avance\" dans la suite\n",
    "\n",
    "\n",
    "# --- Test ---\n",
    "print(\"=== Générateur fibonacci ===\")\n",
    "gen_fibo = fibonacci()  # gen_fibo est un générateur \"infini\"\n",
    "\n",
    "# On affiche les 10 premiers termes\n",
    "for _ in range(10):\n",
    "    print(next(gen_fibo))  "
   ]
  },
  {
   "cell_type": "markdown",
   "metadata": {},
   "source": [
    "## 4. Générateur de puissances\n",
    "- Écrire une fonction générateur_puissance(n) qui prend un entier n et produit les puissances de 2 jusqu’à n.\n",
    "- Tester ce générateur avec n=10 et afficher les valeurs produites."
   ]
  },
  {
   "cell_type": "code",
   "execution_count": 36,
   "metadata": {},
   "outputs": [
    {
     "name": "stdout",
     "output_type": "stream",
     "text": [
      "=== Générateur de puissances de 2 ===\n",
      "1\n",
      "2\n",
      "4\n",
      "8\n",
      "16\n",
      "32\n",
      "64\n",
      "128\n",
      "256\n",
      "512\n",
      "1024\n"
     ]
    }
   ],
   "source": [
    "def generateur_puissance(n):\n",
    "    \"\"\"\n",
    "    Génère les puissances de 2 depuis 2^0 jusqu'à 2^n.\n",
    "    \"\"\"\n",
    "    for i in range(n + 1):\n",
    "        yield 2 ** i\n",
    "\n",
    "\n",
    "# --- Test ---\n",
    "print(\"=== Générateur de puissances de 2 ===\")\n",
    "for puissance in generateur_puissance(10):\n",
    "    print(puissance)"
   ]
  },
  {
   "cell_type": "markdown",
   "metadata": {},
   "source": [
    "## 5. Utiliser next() pour afficher les lignes d'un texte une par une\n",
    "\n",
    "- Écrire une fonction qui lit les lignes d'un texte et les affiche une par une avec un iterateur. Les lignes doivent apparaitre à chaque appel de `next`.\n",
    "\n",
    "Le texte : \n",
    "\n",
    "```python\n",
    "\"\"\"\n",
    "Il faut, autant qu'on peut, obliger tout le monde :\n",
    "On a souvent besoin d'un plus petit que soi.\n",
    "De cette vérité deux fables feront foi,\n",
    "Tant la chose en preuves abonde.\n",
    "Entre les pattes d'un Lion,\n",
    "Un Rat sortit de terre assez à l'étourdie.\n",
    "Le Roi des animaux, en cette occasion,\n",
    "Montra ce qu'il était, et lui donna la vie.\n",
    "Ce bienfait ne fut pas perdu.\n",
    "Quelqu'un aurait-il jamais cru\n",
    "Qu'un Lion d'un Rat eût affaire (1)?\n",
    "Cependant il avint(2)qu'au sortir des forêts\n",
    "Ce Lion fut pris dans des rets (3),\n",
    "Dont ses rugissements ne le purent défaire.\n",
    "Sire Rat accourut, et fit tant par ses dents\n",
    "Qu'une maille rongée emporta tout l'ouvrage.\n",
    "Patience et longueur de temps\n",
    "Font plus que force ni que rage.\n",
    "\"\"\"\n",
    "```"
   ]
  },
  {
   "cell_type": "code",
   "execution_count": 37,
   "metadata": {},
   "outputs": [],
   "source": [
    "def generateur_text(texte):\n",
    "    \"\"\"\n",
    "    Génère les lignes du texte une par une.\n",
    "    \"\"\"\n",
    "    for ligne in texte.strip().split(\"\\n\"):\n",
    "        yield ligne\n",
    "\n",
    "text = \"\"\"\n",
    "Il faut, autant qu'on peut, obliger tout le monde :\n",
    "On a souvent besoin d'un plus petit que soi.\n",
    "De cette vérité deux fables feront foi,\n",
    "Tant la chose en preuves abonde.\n",
    "Entre les pattes d'un Lion,\n",
    "Un Rat sortit de terre assez à l'étourdie.\n",
    "Le Roi des animaux, en cette occasion,\n",
    "Montra ce qu'il était, et lui donna la vie.\n",
    "Ce bienfait ne fut pas perdu.\n",
    "Quelqu'un aurait-il jamais cru\n",
    "Qu'un Lion d'un Rat eût affaire (1)?\n",
    "Cependant il avint(2)qu'au sortir des forêts\n",
    "Ce Lion fut pris dans des rets (3),\n",
    "Dont ses rugissements ne le purent défaire.\n",
    "Sire Rat accourut, et fit tant par ses dents\n",
    "Qu'une maille rongée emporta tout l'ouvrage.\n",
    "Patience et longueur de temps\n",
    "Font plus que force ni que rage.\n",
    "\"\"\"\n",
    "\n",
    "gen_text = generateur_text(text)"
   ]
  },
  {
   "cell_type": "code",
   "execution_count": 38,
   "metadata": {},
   "outputs": [
    {
     "data": {
      "text/plain": [
       "\"Il faut, autant qu'on peut, obliger tout le monde :\""
      ]
     },
     "execution_count": 38,
     "metadata": {},
     "output_type": "execute_result"
    }
   ],
   "source": [
    "# Cellule à laquelle on peut accéder une ligne à la fois\n",
    "next(gen_text)  # affiche la première ligne"
   ]
  },
  {
   "cell_type": "code",
   "execution_count": null,
   "metadata": {},
   "outputs": [],
   "source": []
  }
 ],
 "metadata": {
  "kernelspec": {
   "display_name": "fast_env",
   "language": "python",
   "name": "python3"
  },
  "language_info": {
   "codemirror_mode": {
    "name": "ipython",
    "version": 3
   },
   "file_extension": ".py",
   "mimetype": "text/x-python",
   "name": "python",
   "nbconvert_exporter": "python",
   "pygments_lexer": "ipython3",
   "version": "3.11.0"
  }
 },
 "nbformat": 4,
 "nbformat_minor": 2
}
