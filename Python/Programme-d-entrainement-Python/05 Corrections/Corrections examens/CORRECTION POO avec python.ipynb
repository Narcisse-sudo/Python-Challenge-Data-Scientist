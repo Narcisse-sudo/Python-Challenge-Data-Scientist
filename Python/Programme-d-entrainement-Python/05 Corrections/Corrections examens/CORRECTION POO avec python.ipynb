{
 "cells": [
  {
   "cell_type": "markdown",
   "metadata": {},
   "source": [
    "# Correction POO avec python"
   ]
  },
  {
   "cell_type": "markdown",
   "metadata": {},
   "source": [
    "Durée : 1 heure\n",
    "Langage : Python 3.x\n",
    "\n",
    "Sujet : Gestion d’une Concession Automobile\n",
    "\n",
    "Contexte : Vous devez modéliser une concession automobile qui vend différents types de voitures. Les voitures peuvent être de types variés : électriques, thermiques, hybrides. Pour simplifier, on se concentrera sur des voitures générales (classe de base) et des voitures électriques (classe dérivée).\n",
    "\n",
    "Objectifs :\n",
    "- Créer une hiérarchie de classes modélisant des voitures et une concession.\n",
    "- Gérer la liste des voitures disponibles en inventaire.\n",
    "- Ajouter une méthode de vente simulant le retrait d’une voiture de l’inventaire.\n",
    "- Présenter un exemple d’héritage entre classes (une sous-classe “Voiture Électrique” héritant de la classe “Voiture”)."
   ]
  },
  {
   "cell_type": "markdown",
   "metadata": {},
   "source": [
    "## 1.\tClasse Voiture"
   ]
  },
  {
   "cell_type": "markdown",
   "metadata": {},
   "source": [
    "- Créer une classe Voiture avec les attributs suivants :\n",
    "- marque (string)\n",
    "- modele (string)\n",
    "- prix (float ou int)\n",
    "- kilometrage (int, par défaut 0)\n",
    "- Dans le constructeur (__init__), initialiser ces attributs.\n",
    "- Ajouter une méthode afficher_info() qui affiche les informations de la voiture sous une forme lisible, par exemple :\n",
    "\n",
    "Marque: Tesla  \n",
    "Modèle: Model 3  \n",
    "Prix: 35000  \n",
    "Kilométrage: 10000  "
   ]
  },
  {
   "cell_type": "code",
   "execution_count": 5,
   "metadata": {},
   "outputs": [
    {
     "name": "stdout",
     "output_type": "stream",
     "text": [
      "Marque: Tesla\n",
      "Modèle: Modèle 3\n",
      "Kilométrage: 10000km\n",
      "Prix: 35000€\n"
     ]
    }
   ],
   "source": [
    "class Voiture:\n",
    "    def __init__(self, marque: str, modele: str, prix: float, kilometrage: float):\n",
    "        self.marque = marque\n",
    "        self.modele = modele\n",
    "        self.prix = prix\n",
    "        self.kilometrage = kilometrage\n",
    "    \n",
    "    def afficher_info(self):\n",
    "        print(f\"Marque: {self.marque}\\nModèle: {self.modele}\\nKilométrage: {self.kilometrage}km\\nPrix: {self.prix}€\")\n",
    "\n",
    "\n",
    "voiture1 = Voiture(\"Tesla\", \"Modèle 3\", 35000, 10000)\n",
    "voiture1.afficher_info()"
   ]
  },
  {
   "cell_type": "markdown",
   "metadata": {},
   "source": [
    "## 2.\tClasse VoitureElectrique (héritage)"
   ]
  },
  {
   "cell_type": "markdown",
   "metadata": {},
   "source": [
    "- Créer une classe VoitureElectrique qui hérite de Voiture.\n",
    "- Ajouter un attribut autonomie (en km).\n",
    "- Le constructeur prend en plus de marque, modele, prix, kilometrage, la valeur d’autonomie.\n",
    "- Redéfinir (surcharger) la méthode afficher_info() pour qu’elle affiche également l’autonomie du véhicule :\n",
    "\n",
    "Marque: Tesla  \n",
    "Modèle: Model S  \n",
    "Prix: 55000  \n",
    "Kilométrage: 100000  \n",
    "Autonomie: 600 km"
   ]
  },
  {
   "cell_type": "code",
   "execution_count": 8,
   "metadata": {},
   "outputs": [
    {
     "name": "stdout",
     "output_type": "stream",
     "text": [
      "Marque: Tesla\n",
      "Modèle: Modèle S\n",
      "Kilométrage: 100000km\n",
      "Prix: 55000€\n",
      "Autonomie: 600km\n"
     ]
    }
   ],
   "source": [
    "class VoitureElectrique(Voiture):\n",
    "    def __init__(self, marque: str, modele: str, prix: float, kilometrage: float, autonomie: float):\n",
    "        super().__init__(marque, modele, prix, kilometrage)\n",
    "        self.autonomie = autonomie\n",
    "    \n",
    "    def afficher_info(self):\n",
    "        super().afficher_info()\n",
    "        print(f\"Autonomie: {self.autonomie}km\")\n",
    "        \n",
    "\n",
    "voiture2 = VoitureElectrique(\"Tesla\", \"Modèle S\", 55000, 100000, 600)\n",
    "voiture2.afficher_info()"
   ]
  },
  {
   "cell_type": "markdown",
   "metadata": {},
   "source": [
    "## 3.\tClasse Concession"
   ]
  },
  {
   "cell_type": "markdown",
   "metadata": {},
   "source": [
    "- Créer une classe Concession avec un attribut nom (string) et un attribut inventaire (liste de voitures, vide au départ).\n",
    "- Le constructeur initialise le nom et l’inventaire (une liste vide).\n",
    "- Ajouter une méthode ajouter_voiture(voiture) qui prend en paramètre un objet de type Voiture (ou VoitureElectrique) et l’ajoute à l’inventaire.\n",
    "- Ajouter une méthode afficher_inventaire() qui affiche la liste des voitures disponibles, en appelant afficher_info() sur chacune.\n",
    "- Ajouter une méthode vendre_voiture(marque, modele) qui :\n",
    "  - Recherche dans l’inventaire une voiture correspondant à la marque et au modele.\n",
    "  - Si trouvée, la retire de l’inventaire et affiche un message de vente du type :\n",
    "\n",
    "        La voiture Tesla modèle 3 a été vendue.\n",
    "\n",
    "  - Si aucune voiture ne correspond, afficher un message indiquant que la voiture n’a pas été trouvée.\n",
    "- Créer une méthode qui calcule le prix total de toutes les voitures en inventaire et le prix moyen.\n",
    "- Surcharger la méthode __str__ pour afficher le nom de la concession et le nombre de voitures en inventaire."
   ]
  },
  {
   "cell_type": "code",
   "execution_count": 14,
   "metadata": {},
   "outputs": [],
   "source": [
    "class Concession:\n",
    "    def __init__(self, nom: str):\n",
    "        self.nom = nom\n",
    "        self.inventaire = []\n",
    "    \n",
    "    def __str__(self):\n",
    "        return f\"La {self.nom} a {len(self.inventaire)} voitures en stock.\"\n",
    "    \n",
    "    def total_prix_voitures(self):\n",
    "        total = 0\n",
    "        for voiture in self.inventaire:\n",
    "            total += voiture.prix\n",
    "        return total\n",
    "    \n",
    "    def moyenne_prix_voitures(self):\n",
    "        return self.total_prix_voitures() / len(self.inventaire)\n",
    "    \n",
    "    def ajouter_voiture(self, voiture: Voiture):\n",
    "        self.inventaire.append(voiture)\n",
    "    \n",
    "    def afficher_inventaire(self):\n",
    "        print(f\"Inventaire de {self.nom}:\")\n",
    "        for voiture in self.inventaire:\n",
    "            voiture.afficher_info()\n",
    "            print(\"--\")\n",
    "    \n",
    "    def vendre_voiture(self, marque: str, modele: str):\n",
    "        for voiture in self.inventaire:\n",
    "            if voiture.marque == marque and voiture.modele == modele:\n",
    "                self.inventaire.remove(voiture)\n",
    "                print(f\"La voiture {marque} {modele} a été vendue.\")\n",
    "                return\n",
    "        print(f\"La {marque} {modele} n'est pas en stock.\")"
   ]
  },
  {
   "cell_type": "markdown",
   "metadata": {},
   "source": [
    "## 4.\tMain / Tests\n",
    "- Créer une instance de Concession (par exemple Concession(\"Concession du Centre\")).\n",
    "- Créer au moins 3 instances de Voiture et VoitureElectrique, avec des valeurs variées.\n",
    "- Ajouter toutes ces voitures à la concession.\n",
    "- Afficher l’inventaire complet.\n",
    "- Tenter de vendre une voiture existante et une voiture inexistante, vérifier que le message affiché est correct.\n",
    "- Utiliser la méthode print sur l’instance de Concession pour afficher le nom et le nombre de voitures en inventaire.\n",
    "- Afficher le prix total et le prix moyen des voitures en inventaire."
   ]
  },
  {
   "cell_type": "code",
   "execution_count": 15,
   "metadata": {},
   "outputs": [
    {
     "name": "stdout",
     "output_type": "stream",
     "text": [
      "Inventaire de Concession du centre:\n",
      "Marque: Renault\n",
      "Modèle: Clio\n",
      "Kilométrage: 20000km\n",
      "Prix: 15000€\n",
      "--\n",
      "Marque: Peugeot\n",
      "Modèle: 208\n",
      "Kilométrage: 25000km\n",
      "Prix: 17000€\n",
      "--\n",
      "Marque: Peugeot\n",
      "Modèle: 3008\n",
      "Kilométrage: 40000km\n",
      "Prix: 25000€\n",
      "--\n",
      "La Peugeot 207 n'est pas en stock.\n",
      "La voiture Renault Clio a été vendue.\n",
      "La voiture Peugeot 3008 a été vendue.\n",
      "La Concession du centre a 1 voitures en stock.\n"
     ]
    }
   ],
   "source": [
    "consession_du_centre = Concession(\"Concession du centre\")\n",
    "# Ajout de 5 voitures\n",
    "voiture3 = Voiture(\"Renault\", \"Clio\", 15000, 20000)\n",
    "voiture4 = Voiture(\"Peugeot\", \"208\", 17000, 25000)\n",
    "voiture5 = Voiture(\"Peugeot\", \"3008\", 25000, 40000)\n",
    "consession_du_centre.ajouter_voiture(voiture3)\n",
    "consession_du_centre.ajouter_voiture(voiture4)\n",
    "consession_du_centre.ajouter_voiture(voiture5)\n",
    "consession_du_centre.afficher_inventaire()\n",
    "\n",
    "consession_du_centre.vendre_voiture(\"Peugeot\", \"207\")\n",
    "\n",
    "consession_du_centre.vendre_voiture(\"Renault\", \"Clio\")\n",
    "consession_du_centre.vendre_voiture(\"Peugeot\", \"3008\")\n",
    "print(consession_du_centre)\n",
    "\n"
   ]
  },
  {
   "cell_type": "markdown",
   "metadata": {},
   "source": [
    "## 5.\tQuestion conceptuelle (en commentaire dans le code)\n",
    "- Expliquez en quelques lignes l’intérêt de l’héritage en POO. Pourquoi créer une classe VoitureElectrique héritant de Voiture plutôt que de tout réécrire dans une classe indépendante ?"
   ]
  },
  {
   "cell_type": "markdown",
   "metadata": {},
   "source": [
    "Réponse: L'héritage permet de réutiliser du code existant, de factoriser les attributs et méthodes communs entre plusieurs classes. Cela permet de créer une hiérarchie de classes, avec une classe de base (Voiture) et des classes dérivées (VoitureElectrique, VoitureThermique, etc.). Cela permet de simplifier la conception, de faciliter la maintenance et d'éviter la duplication de code. En créant une classe VoitureElectrique héritant de Voiture, on peut bénéficier de toutes les fonctionnalités de la classe Voiture (comme afficher_info()), tout en ajoutant des attributs et méthodes spécifiques aux voitures électriques. Cela permet une meilleure organisation du code et une meilleure extensibilité du système."
   ]
  }
 ],
 "metadata": {
  "kernelspec": {
   "display_name": "fast_env",
   "language": "python",
   "name": "python3"
  },
  "language_info": {
   "codemirror_mode": {
    "name": "ipython",
    "version": 3
   },
   "file_extension": ".py",
   "mimetype": "text/x-python",
   "name": "python",
   "nbconvert_exporter": "python",
   "pygments_lexer": "ipython3",
   "version": "3.11.0"
  }
 },
 "nbformat": 4,
 "nbformat_minor": 2
}
