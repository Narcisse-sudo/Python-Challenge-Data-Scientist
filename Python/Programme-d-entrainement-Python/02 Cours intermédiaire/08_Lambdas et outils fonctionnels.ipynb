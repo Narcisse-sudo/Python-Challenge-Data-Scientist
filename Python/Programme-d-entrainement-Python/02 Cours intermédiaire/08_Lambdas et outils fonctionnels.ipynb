{
 "cells": [
  {
   "cell_type": "markdown",
   "metadata": {},
   "source": [
    "# Lambdas, `map`, `filter`, `reduce` en Python\n",
    "\n",
    "Dans cette section, nous allons explorer les **fonctions lambda** et les outils fonctionnels **`map`**, **`filter`**, et **`reduce`** en Python.\n",
    "\n",
    "## Pourquoi ces Outils ?\n",
    "Ces outils s’inspirent de la programmation fonctionnelle pour :\n",
    "- **Simplifier** le code en évitant les boucles explicites.\n",
    "- **Améliorer la lisibilité** avec des expressions concises.\n",
    "- **Optimiser** certaines opérations sur des collections.\n",
    "\n",
    "Commençons par les fonctions lambda !"
   ]
  },
  {
   "cell_type": "markdown",
   "metadata": {},
   "source": [
    "## Fonctions Lambda\n",
    "\n",
    "Une **fonction lambda** est une fonction anonyme définie en une seule ligne.\n",
    "\n",
    "### Syntaxe\n",
    "```py\n",
    "lambda arguments: expression\n",
    "```\n",
    "\n",
    "### Pourquoi s’en servir ?\n",
    "\n",
    "- Évite de définir une fonction nommée pour des usages ponctuels.\n",
    "- Utile avec map, filter, reduce ou comme argument de tri.\n",
    "\n",
    "### Exemple Simple\n",
    "\n",
    "Additionnons deux nombres."
   ]
  },
  {
   "cell_type": "code",
   "execution_count": 2,
   "metadata": {},
   "outputs": [
    {
     "name": "stdout",
     "output_type": "stream",
     "text": [
      "8\n"
     ]
    }
   ],
   "source": [
    "# Fonction lambda simple\n",
    "addition = lambda x, y: x + y\n",
    "\n",
    "# Utilisation\n",
    "print(addition(3, 5)) \n"
   ]
  },
  {
   "cell_type": "code",
   "execution_count": 3,
   "metadata": {},
   "outputs": [
    {
     "name": "stdout",
     "output_type": "stream",
     "text": [
      "8\n"
     ]
    }
   ],
   "source": [
    "\n",
    "# Comparaison avec une fonction classique\n",
    "def addition_classique(x, y):\n",
    "    return x + y\n",
    "\n",
    "print(addition_classique(3, 5))"
   ]
  },
  {
   "cell_type": "markdown",
   "metadata": {},
   "source": [
    "## Utilisation avec `map`\n",
    "\n",
    "La fonction **`map()`** applique une fonction à chaque élément d’un itérable.\n",
    "\n",
    "### Syntaxe\n",
    "```py\n",
    "map(fonction, itérable)\n",
    "```\n",
    "\n",
    "### Pourquoi s’en servir ?\n",
    "\n",
    "Transforme une collection sans boucle explicite.\n",
    "Concis et lisible pour des opérations uniformes.\n",
    "\n",
    "### Exemple\n",
    "\n",
    "Mettons des nombres au carré."
   ]
  },
  {
   "cell_type": "code",
   "execution_count": 4,
   "metadata": {},
   "outputs": [
    {
     "name": "stdout",
     "output_type": "stream",
     "text": [
      "Carrés : [1, 4, 9, 16]\n"
     ]
    }
   ],
   "source": [
    "# Liste de nombres\n",
    "nombres = [1, 2, 3, 4]\n",
    "\n",
    "# Avec map et lambda\n",
    "carres = list(map(lambda x: x ** 2, nombres))\n",
    "print(\"Carrés :\", carres)  \n"
   ]
  },
  {
   "cell_type": "code",
   "execution_count": 5,
   "metadata": {},
   "outputs": [
    {
     "name": "stdout",
     "output_type": "stream",
     "text": [
      "Carrés (fonction nommée) : [1, 4, 9, 16]\n"
     ]
    }
   ],
   "source": [
    "\n",
    "# Avec une fonction nommée\n",
    "def carre(x):\n",
    "    return x ** 2\n",
    "\n",
    "carres_nomme = list(map(carre, nombres))\n",
    "print(\"Carrés (fonction nommée) :\", carres_nomme)  \n"
   ]
  },
  {
   "cell_type": "code",
   "execution_count": 6,
   "metadata": {},
   "outputs": [
    {
     "name": "stdout",
     "output_type": "stream",
     "text": [
      "Carrés (boucle) : [1, 4, 9, 16]\n"
     ]
    }
   ],
   "source": [
    "\n",
    "# Sans map (boucle classique)\n",
    "carres_boucle = []\n",
    "for n in nombres:\n",
    "    carres_boucle.append(n ** 2)\n",
    "print(\"Carrés (boucle) :\", carres_boucle)"
   ]
  },
  {
   "cell_type": "markdown",
   "metadata": {},
   "source": [
    "## Utilisation avec `filter`\n",
    "\n",
    "La fonction **`filter()`** sélectionne les éléments d’un itérable qui satisfont une condition.\n",
    "\n",
    "### Syntaxe\n",
    "```python\n",
    "filter(fonction, itérable)\n",
    "```\n",
    "\n",
    "### Pourquoi s’en servir ?\n",
    "\n",
    "- Filtre une collection de manière concise.\n",
    "- Évite les boucles avec conditions redondantes.\n",
    "\n",
    "### Exemple\n",
    "\n",
    "Filtrons les nombres pairs."
   ]
  },
  {
   "cell_type": "code",
   "execution_count": 7,
   "metadata": {},
   "outputs": [
    {
     "name": "stdout",
     "output_type": "stream",
     "text": [
      "Nombres pairs : [2, 4, 6]\n"
     ]
    }
   ],
   "source": [
    "# Liste de nombres\n",
    "nombres = [1, 2, 3, 4, 5, 6]\n",
    "\n",
    "# Avec filter et lambda\n",
    "pairs = list(filter(lambda x: x % 2 == 0, nombres))\n",
    "print(\"Nombres pairs :\", pairs)  \n"
   ]
  },
  {
   "cell_type": "code",
   "execution_count": 8,
   "metadata": {},
   "outputs": [
    {
     "name": "stdout",
     "output_type": "stream",
     "text": [
      "Nombres pairs (fonction nommée) : [2, 4, 6]\n"
     ]
    }
   ],
   "source": [
    "\n",
    "# Avec une fonction nommée\n",
    "def est_pair(x):\n",
    "    return x % 2 == 0\n",
    "\n",
    "pairs_nomme = list(filter(est_pair, nombres))\n",
    "print(\"Nombres pairs (fonction nommée) :\", pairs_nomme)  \n"
   ]
  },
  {
   "cell_type": "code",
   "execution_count": 9,
   "metadata": {},
   "outputs": [
    {
     "name": "stdout",
     "output_type": "stream",
     "text": [
      "Nombres pairs (boucle) : [2, 4, 6]\n"
     ]
    }
   ],
   "source": [
    "\n",
    "# Sans filter (boucle classique)\n",
    "pairs_boucle = []\n",
    "for n in nombres:\n",
    "    if n % 2 == 0:\n",
    "        pairs_boucle.append(n)\n",
    "print(\"Nombres pairs (boucle) :\", pairs_boucle)"
   ]
  },
  {
   "cell_type": "markdown",
   "metadata": {},
   "source": [
    "## Utilisation avec `reduce`\n",
    "\n",
    "La fonction **`reduce()`** (du module `functools`) applique une fonction cumulativement à une séquence pour réduire ses éléments à une seule valeur.\n",
    "\n",
    "### Syntaxe\n",
    "```python\n",
    "from functools import reduce\n",
    "reduce(fonction, itérable, initial)\n",
    "```\n",
    "\n",
    "### Pourquoi s’en servir ?\n",
    "\n",
    "- Réduit une collection à une valeur unique (ex. : somme, produit).\n",
    "- Puissant pour les opérations cumulatives.\n",
    "\n",
    "### Exemple\n",
    "\n",
    "Calculons une somme."
   ]
  },
  {
   "cell_type": "code",
   "execution_count": 10,
   "metadata": {},
   "outputs": [
    {
     "name": "stdout",
     "output_type": "stream",
     "text": [
      "Somme : 10\n"
     ]
    }
   ],
   "source": [
    "from functools import reduce\n",
    "\n",
    "# Liste de nombres\n",
    "nombres = [1, 2, 3, 4]\n",
    "\n",
    "# Avec reduce et lambda\n",
    "somme = reduce(lambda x, y: x + y, nombres)\n",
    "print(\"Somme :\", somme)  \n"
   ]
  },
  {
   "cell_type": "code",
   "execution_count": 11,
   "metadata": {},
   "outputs": [
    {
     "name": "stdout",
     "output_type": "stream",
     "text": [
      "Somme (fonction nommée) : 10\n"
     ]
    }
   ],
   "source": [
    "\n",
    "# Avec une fonction nommée\n",
    "def addition(x, y):\n",
    "    return x + y\n",
    "\n",
    "somme_nomme = reduce(addition, nombres)\n",
    "print(\"Somme (fonction nommée) :\", somme_nomme) \n"
   ]
  },
  {
   "cell_type": "code",
   "execution_count": 12,
   "metadata": {},
   "outputs": [
    {
     "name": "stdout",
     "output_type": "stream",
     "text": [
      "Somme avec initiale : 110\n"
     ]
    }
   ],
   "source": [
    "\n",
    "# Avec une valeur initiale\n",
    "somme_initiale = reduce(lambda x, y: x + y, nombres, 100)\n",
    "print(\"Somme avec initiale :\", somme_initiale)  \n"
   ]
  },
  {
   "cell_type": "code",
   "execution_count": 13,
   "metadata": {},
   "outputs": [
    {
     "name": "stdout",
     "output_type": "stream",
     "text": [
      "Somme (boucle) : 10\n"
     ]
    }
   ],
   "source": [
    "\n",
    "# Sans reduce (boucle classique)\n",
    "somme_boucle = 0\n",
    "for n in nombres:\n",
    "    somme_boucle += n\n",
    "print(\"Somme (boucle) :\", somme_boucle)  "
   ]
  },
  {
   "cell_type": "markdown",
   "metadata": {},
   "source": [
    "## Pourquoi Utiliser `lambda`, `map`, `filter`, `reduce` ?\n",
    "\n",
    "### Avantages\n",
    "1. **Concision** : Réduit le code par rapport aux boucles explicites.\n",
    "2. **Lisibilité** : Exprime clairement l’intention (transformation, filtrage, réduction).\n",
    "3. **Fonctionnalité** : Encourage un style fonctionnel, évitant les effets secondaires.\n",
    "4. **Performance** : `map` et `filter` sont optimisés pour les itérations (bien que les compréhensions de listes soient souvent aussi rapides).\n",
    "\n",
    "### Limites\n",
    "- Moins intuitif pour les débutants.\n",
    "- Peut être moins flexible pour des logiques complexes.\n",
    "- `reduce` est moins utilisé depuis l’essor des compréhensions et `sum()`.\n",
    "\n",
    "### Quand les Utiliser ?\n",
    "- **Petites transformations rapides** (ex. : `map` pour appliquer une fonction).\n",
    "- **Filtres simples** (ex. : `filter` pour sélectionner).\n",
    "- **Réductions spécifiques** (ex. : `reduce` pour des calculs cumulatifs inhabituels).\n",
    "\n",
    "Voyons des cas pratiques !"
   ]
  },
  {
   "cell_type": "markdown",
   "metadata": {},
   "source": [
    "## Exemple Avancé : Traitement de Données\n",
    "\n",
    "Utilisons ces outils pour traiter une liste de chaînes représentant des données.\n",
    "\n",
    "### Exemple\n",
    "Transformons, filtrons et réduisons des noms."
   ]
  },
  {
   "cell_type": "code",
   "execution_count": 14,
   "metadata": {},
   "outputs": [],
   "source": [
    "from functools import reduce\n",
    "\n",
    "# Liste de noms\n",
    "noms = [\"alice\", \"bob\", \"charlie\", \"david\"]\n"
   ]
  },
  {
   "cell_type": "code",
   "execution_count": 15,
   "metadata": {},
   "outputs": [
    {
     "name": "stdout",
     "output_type": "stream",
     "text": [
      "Majuscules : ['ALICE', 'BOB', 'CHARLIE', 'DAVID']\n"
     ]
    }
   ],
   "source": [
    "\n",
    "# Mettre en majuscules avec map\n",
    "majuscules = list(map(str.upper, noms))\n",
    "print(\"Majuscules :\", majuscules)  \n"
   ]
  },
  {
   "cell_type": "code",
   "execution_count": 16,
   "metadata": {},
   "outputs": [
    {
     "name": "stdout",
     "output_type": "stream",
     "text": [
      "Noms longs : ['ALICE', 'CHARLIE', 'DAVID']\n"
     ]
    }
   ],
   "source": [
    "\n",
    "# Filtrer les noms de plus de 4 lettres\n",
    "longs = list(filter(lambda x: len(x) > 4, majuscules))\n",
    "print(\"Noms longs :\", longs)  \n"
   ]
  },
  {
   "cell_type": "code",
   "execution_count": 17,
   "metadata": {},
   "outputs": [
    {
     "name": "stdout",
     "output_type": "stream",
     "text": [
      "Concaténation : ALICE CHARLIE DAVID\n"
     ]
    }
   ],
   "source": [
    "\n",
    "# Concaténer avec reduce\n",
    "concat = reduce(lambda x, y: x + \" \" + y, longs)\n",
    "print(\"Concaténation :\", concat)  "
   ]
  },
  {
   "cell_type": "markdown",
   "metadata": {},
   "source": [
    "## Comparaison avec les Compréhensions\n",
    "\n",
    "Les compréhensions de listes sont souvent une alternative moderne et lisible à `map` et `filter`.\n",
    "\n",
    "### Exemple\n",
    "Comparons les deux approches."
   ]
  },
  {
   "cell_type": "code",
   "execution_count": 18,
   "metadata": {},
   "outputs": [],
   "source": [
    "nombres = [1, 2, 3, 4, 5]\n"
   ]
  },
  {
   "cell_type": "code",
   "execution_count": 19,
   "metadata": {},
   "outputs": [
    {
     "name": "stdout",
     "output_type": "stream",
     "text": [
      "Carrés des pairs (map/filter) : [4, 16]\n"
     ]
    }
   ],
   "source": [
    "\n",
    "# Avec map et filter\n",
    "carres_pairs = list(map(lambda x: x ** 2, filter(lambda x: x % 2 == 0, nombres)))\n",
    "print(\"Carrés des pairs (map/filter) :\", carres_pairs)  \n"
   ]
  },
  {
   "cell_type": "code",
   "execution_count": 20,
   "metadata": {},
   "outputs": [
    {
     "name": "stdout",
     "output_type": "stream",
     "text": [
      "Carrés des pairs (compréhension) : [4, 16]\n"
     ]
    }
   ],
   "source": [
    "\n",
    "# Avec compréhensions\n",
    "carres_pairs_comp = [x ** 2 for x in nombres if x % 2 == 0]\n",
    "print(\"Carrés des pairs (compréhension) :\", carres_pairs_comp)  "
   ]
  },
  {
   "cell_type": "markdown",
   "metadata": {},
   "source": [
    "## Conclusion\n",
    "\n",
    "Cette section vous a permis de maîtriser :\n",
    "- Les **fonctions lambda** pour des définitions rapides et anonymes.\n",
    "- **`map`** pour transformer des collections.\n",
    "- **`filter`** pour sélectionner des éléments.\n",
    "- **`reduce`** pour réduire une collection à une valeur unique.\n",
    "\n",
    "### Pourquoi s’en servir ?\n",
    "- **Efficacité** : Moins de code pour des opérations communes.\n",
    "- **Style fonctionnel** : Approche déclarative claire.\n",
    "- **Flexibilité** : Puissant avec des fonctions complexes ou des itérables.\n",
    "\n",
    "Bien que les compréhensions soient souvent privilégiées, ces outils restent pertinents pour des cas spécifiques ou un style fonctionnel pur. Expérimentez pour trouver la meilleure approche selon vos besoins !"
   ]
  }
 ],
 "metadata": {
  "kernelspec": {
   "display_name": "fast_env",
   "language": "python",
   "name": "python3"
  },
  "language_info": {
   "codemirror_mode": {
    "name": "ipython",
    "version": 3
   },
   "file_extension": ".py",
   "mimetype": "text/x-python",
   "name": "python",
   "nbconvert_exporter": "python",
   "pygments_lexer": "ipython3",
   "version": "3.11.0"
  }
 },
 "nbformat": 4,
 "nbformat_minor": 2
}
