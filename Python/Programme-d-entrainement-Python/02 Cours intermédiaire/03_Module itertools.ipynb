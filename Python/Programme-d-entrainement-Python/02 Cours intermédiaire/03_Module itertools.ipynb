{
 "cells": [
  {
   "cell_type": "markdown",
   "metadata": {},
   "source": [
    "# Itertools en Python : Produits Cartésiens, Combinaisons, Permutations et Plus\n",
    "\n",
    "Dans cette section, nous allons explorer le module **`itertools`**, qui fournit des outils puissants pour manipuler et optimiser les itérations en Python. Nous nous concentrerons sur les **produits cartésiens**, les **combinaisons**, les **permutations**, et d'autres fonctions utiles.\n",
    "\n",
    "## Qu’est-ce que `itertools` ?\n",
    "Le module `itertools` est une bibliothèque standard qui offre des générateurs efficaces pour créer des itérations complexes sans écrire de boucles explicites. Il est idéal pour travailler avec des séquences, des ensembles ou des calculs combinatoires.\n",
    "\n",
    "Commençons par le produit cartésien !"
   ]
  },
  {
   "cell_type": "markdown",
   "metadata": {},
   "source": [
    "## Produit Cartésien avec `product`\n",
    "\n",
    "La fonction `itertools.product()` génère toutes les combinaisons possibles entre plusieurs itérables, comme un produit cartésien.\n",
    "\n",
    "### Importation\n",
    "```py\n",
    "from itertools import product\n",
    "```\n",
    "\n",
    "### Fonctionnalités\n",
    "\n",
    "- Prend plusieurs itérables en entrée.\n",
    "- Paramètre repeat pour répéter les itérations.\n",
    "\n",
    "### Exemple Simple\n",
    "\n",
    "Créons des paires à partir de deux listes."
   ]
  },
  {
   "cell_type": "code",
   "execution_count": 1,
   "metadata": {},
   "outputs": [],
   "source": [
    "from itertools import product\n"
   ]
  },
  {
   "cell_type": "code",
   "execution_count": 2,
   "metadata": {},
   "outputs": [
    {
     "name": "stdout",
     "output_type": "stream",
     "text": [
      "Paires possibles : [('rouge', 'S'), ('rouge', 'M'), ('bleu', 'S'), ('bleu', 'M')]\n"
     ]
    }
   ],
   "source": [
    "\n",
    "# Produit cartésien de deux listes\n",
    "couleurs = [\"rouge\", \"bleu\"]\n",
    "tailles = [\"S\", \"M\"]\n",
    "paires = list(product(couleurs, tailles))\n",
    "\n",
    "print(\"Paires possibles :\", paires)  \n"
   ]
  },
  {
   "cell_type": "code",
   "execution_count": 3,
   "metadata": {},
   "outputs": [
    {
     "name": "stdout",
     "output_type": "stream",
     "text": [
      "Tirages (2 dés) : [(1, 1), (1, 2), (2, 1), (2, 2)]\n"
     ]
    }
   ],
   "source": [
    "\n",
    "# Avec repeat\n",
    "tirages = list(product([1, 2], repeat=2))\n",
    "print(\"Tirages (2 dés) :\", tirages)  "
   ]
  },
  {
   "cell_type": "markdown",
   "metadata": {},
   "source": [
    "## Combinaisons avec `combinations`\n",
    "\n",
    "La fonction `itertools.combinations()` génère toutes les combinaisons possibles d’un itérable, sans répétition d’ordre.\n",
    "\n",
    "### Importation\n",
    "```py\n",
    "from itertools import combinations\n",
    "```\n",
    "\n",
    "### Fonctionnalités\n",
    "\n",
    "- Prend un itérable et une taille `r`.\n",
    "- Ne considère pas l’ordre (ex. : (1, 2) = (2, 1)).\n",
    "\n",
    "### Exemple Simple\n",
    "\n",
    "Sélectionnons des paires dans une liste."
   ]
  },
  {
   "cell_type": "code",
   "execution_count": 4,
   "metadata": {},
   "outputs": [],
   "source": [
    "from itertools import combinations\n"
   ]
  },
  {
   "cell_type": "code",
   "execution_count": 5,
   "metadata": {},
   "outputs": [
    {
     "name": "stdout",
     "output_type": "stream",
     "text": [
      "Paires possibles : [(1, 2), (1, 3), (1, 4), (2, 3), (2, 4), (3, 4)]\n"
     ]
    }
   ],
   "source": [
    "\n",
    "# Combinaisons de 2 éléments\n",
    "nombres = [1, 2, 3, 4]\n",
    "paires = list(combinations(nombres, 2))\n",
    "\n",
    "print(\"Paires possibles :\", paires)  \n"
   ]
  },
  {
   "cell_type": "code",
   "execution_count": 6,
   "metadata": {},
   "outputs": [
    {
     "name": "stdout",
     "output_type": "stream",
     "text": [
      "Trios possibles : [(1, 2, 3), (1, 2, 4), (1, 3, 4), (2, 3, 4)]\n"
     ]
    }
   ],
   "source": [
    "\n",
    "# Combinaisons de 3 éléments\n",
    "trios = list(combinations(nombres, 3))\n",
    "print(\"Trios possibles :\", trios)  "
   ]
  },
  {
   "cell_type": "markdown",
   "metadata": {},
   "source": [
    "## Permutations avec `permutations`\n",
    "\n",
    "La fonction `itertools.permutations()` génère toutes les permutations possibles d’un itérable, en tenant compte de l’ordre.\n",
    "\n",
    "### Importation\n",
    "```python\n",
    "from itertools import permutations\n",
    "```\n",
    "\n",
    "### Fonctionnalités\n",
    "\n",
    "- Prend un itérable et une taille optionnelle `r`.\n",
    "- Considère l’ordre (ex. : (1, 2) ≠ (2, 1)).\n",
    "\n",
    "### Exemple Simple\n",
    "\n",
    "Créons des arrangements d’une liste."
   ]
  },
  {
   "cell_type": "code",
   "execution_count": 7,
   "metadata": {},
   "outputs": [],
   "source": [
    "from itertools import permutations\n"
   ]
  },
  {
   "cell_type": "code",
   "execution_count": 8,
   "metadata": {},
   "outputs": [
    {
     "name": "stdout",
     "output_type": "stream",
     "text": [
      "Permutations complètes : [('A', 'B', 'C'), ('A', 'C', 'B'), ('B', 'A', 'C'), ('B', 'C', 'A'), ('C', 'A', 'B'), ('C', 'B', 'A')]\n"
     ]
    }
   ],
   "source": [
    "\n",
    "# Permutations de 3 éléments\n",
    "lettres = [\"A\", \"B\", \"C\"]\n",
    "arrangements = list(permutations(lettres))\n",
    "\n",
    "print(\"Permutations complètes :\", arrangements)  \n"
   ]
  },
  {
   "cell_type": "code",
   "execution_count": 9,
   "metadata": {},
   "outputs": [
    {
     "name": "stdout",
     "output_type": "stream",
     "text": [
      "Permutations de 2 : [('A', 'B'), ('A', 'C'), ('B', 'A'), ('B', 'C'), ('C', 'A'), ('C', 'B')]\n"
     ]
    }
   ],
   "source": [
    "\n",
    "# Permutations de 2 éléments\n",
    "paires = list(permutations(lettres, 2))\n",
    "print(\"Permutations de 2 :\", paires)  "
   ]
  },
  {
   "cell_type": "markdown",
   "metadata": {},
   "source": [
    "## Autres Outils Utiles dans `itertools`\n",
    "\n",
    "### `combinations_with_replacement`\n",
    "Comme `combinations`, mais autorise les répétitions.\n",
    "\n",
    "### `chain`\n",
    "Concatène plusieurs itérables en une seule séquence.\n",
    "\n",
    "### `cycle`\n",
    "Itère indéfiniment sur un itérable.\n",
    "\n",
    "### `islice`\n",
    "Tranche un itérable comme une liste, mais en tant que générateur.\n",
    "\n",
    "### Exemple avec `combinations_with_replacement`"
   ]
  },
  {
   "cell_type": "code",
   "execution_count": 10,
   "metadata": {},
   "outputs": [
    {
     "name": "stdout",
     "output_type": "stream",
     "text": [
      "Paires avec répétition : [(1, 1), (1, 2), (1, 3), (2, 2), (2, 3), (3, 3)]\n"
     ]
    }
   ],
   "source": [
    "from itertools import combinations_with_replacement\n",
    "\n",
    "# Combinaisons avec répétition\n",
    "nombres = [1, 2, 3]\n",
    "paires = list(combinations_with_replacement(nombres, 2))\n",
    "\n",
    "print(\"Paires avec répétition :\", paires)  "
   ]
  },
  {
   "cell_type": "markdown",
   "metadata": {},
   "source": [
    "### Exemple avec `chain`\n",
    "Concaténons des listes différentes."
   ]
  },
  {
   "cell_type": "code",
   "execution_count": 11,
   "metadata": {},
   "outputs": [
    {
     "name": "stdout",
     "output_type": "stream",
     "text": [
      "Concaténation : [1, 2, 'a', 'b']\n"
     ]
    }
   ],
   "source": [
    "from itertools import chain\n",
    "\n",
    "# Concaténer des itérables\n",
    "liste1 = [1, 2]\n",
    "liste2 = [\"a\", \"b\"]\n",
    "concat = list(chain(liste1, liste2))\n",
    "\n",
    "print(\"Concaténation :\", concat)  "
   ]
  },
  {
   "cell_type": "markdown",
   "metadata": {},
   "source": [
    "### Exemple avec `cycle` et `islice`\n",
    "Créons une répétition infinie et coupons à une taille donnée."
   ]
  },
  {
   "cell_type": "code",
   "execution_count": 12,
   "metadata": {},
   "outputs": [
    {
     "name": "stdout",
     "output_type": "stream",
     "text": [
      "Une semaine : ['lundi', 'mardi', 'mercredi', 'lundi', 'mardi', 'mercredi', 'lundi']\n"
     ]
    }
   ],
   "source": [
    "from itertools import cycle, islice\n",
    "\n",
    "# Cycle infini (limité avec islice)\n",
    "jours = cycle([\"lundi\", \"mardi\", \"mercredi\"])\n",
    "semaine = list(islice(jours, 7))\n",
    "\n",
    "print(\"Une semaine :\", semaine)  "
   ]
  },
  {
   "cell_type": "markdown",
   "metadata": {},
   "source": [
    "## Optimisation des Itérations\n",
    "\n",
    "Les fonctions `itertools` sont des **générateurs**, ce qui signifie qu’elles produisent les éléments à la demande (lazy evaluation), économisant mémoire et temps.\n",
    "\n",
    "### Exemple\n",
    "Comparons une boucle explicite avec `product`."
   ]
  },
  {
   "cell_type": "code",
   "execution_count": 13,
   "metadata": {},
   "outputs": [
    {
     "name": "stdout",
     "output_type": "stream",
     "text": [
      "Boucle explicite : [(0, 0), (0, 1), (1, 0), (1, 1), (2, 0), (2, 1)]\n"
     ]
    }
   ],
   "source": [
    "from itertools import product\n",
    "\n",
    "# Sans itertools (boucle explicite)\n",
    "resultat = []\n",
    "for x in range(3):\n",
    "    for y in range(2):\n",
    "        resultat.append((x, y))\n",
    "print(\"Boucle explicite :\", resultat)  \n"
   ]
  },
  {
   "cell_type": "code",
   "execution_count": 14,
   "metadata": {},
   "outputs": [
    {
     "name": "stdout",
     "output_type": "stream",
     "text": [
      "Avec product : [(0, 0), (0, 1), (1, 0), (1, 1), (2, 0), (2, 1)]\n"
     ]
    }
   ],
   "source": [
    "\n",
    "# Avec itertools (plus concis et efficace)\n",
    "resultat_iter = list(product(range(3), range(2)))\n",
    "print(\"Avec product :\", resultat_iter)  # Même sortie"
   ]
  },
  {
   "cell_type": "markdown",
   "metadata": {},
   "source": [
    "## Exemple Avancé : Planification\n",
    "\n",
    "Combinons plusieurs outils `itertools` pour planifier des tâches."
   ]
  },
  {
   "cell_type": "code",
   "execution_count": 15,
   "metadata": {},
   "outputs": [
    {
     "name": "stdout",
     "output_type": "stream",
     "text": [
      "Affectations possibles : [('Alice', 'coder', 'lundi'), ('Alice', 'coder', 'mardi'), ('Alice', 'tester', 'lundi'), ('Alice', 'tester', 'mardi'), ('Bob', 'coder', 'lundi'), ('Bob', 'coder', 'mardi'), ('Bob', 'tester', 'lundi'), ('Bob', 'tester', 'mardi')]\n"
     ]
    }
   ],
   "source": [
    "from itertools import product, permutations, chain\n",
    "\n",
    "# Données\n",
    "personnes = [\"Alice\", \"Bob\"]\n",
    "taches = [\"coder\", \"tester\"]\n",
    "jours = [\"lundi\", \"mardi\"]\n",
    "\n",
    "# 1. Toutes les affectations possibles (produit cartésien)\n",
    "affectations = list(product(personnes, taches, jours))\n",
    "print(\"Affectations possibles :\", affectations)\n"
   ]
  },
  {
   "cell_type": "code",
   "execution_count": null,
   "metadata": {},
   "outputs": [
    {
     "name": "stdout",
     "output_type": "stream",
     "text": [
      "Ordres des tâches : [('coder', 'tester'), ('tester', 'coder')]\n"
     ]
    }
   ],
   "source": [
    "\n",
    "# 2. Permutations des tâches pour un jour donné\n",
    "ordre_taches = list(permutations(taches))\n",
    "print(\"Ordres des tâches :\", ordre_taches)  \n",
    " "
   ]
  },
  {
   "cell_type": "code",
   "execution_count": 17,
   "metadata": {},
   "outputs": [
    {
     "name": "stdout",
     "output_type": "stream",
     "text": [
      "Vue globale (extrait) : [('Alice', 'coder', 'lundi'), ('Alice', 'coder', 'mardi'), ('Alice', 'tester', 'lundi'), ('Alice', 'tester', 'mardi'), ('Bob', 'coder', 'lundi')]\n"
     ]
    }
   ],
   "source": [
    "\n",
    "# 3. Chaîner les résultats pour une vue globale\n",
    "vue_globale = list(chain(affectations, ordre_taches))\n",
    "print(\"Vue globale (extrait) :\", vue_globale[:5])  # Limitée pour lisibilité"
   ]
  },
  {
   "cell_type": "markdown",
   "metadata": {},
   "source": [
    "## Conclusion\n",
    "\n",
    "Cette section vous a permis de maîtriser :\n",
    "- **`product`** : Produits cartésiens pour toutes les combinaisons possibles.\n",
    "- **`combinations`** : Sélections sans égard à l’ordre.\n",
    "- **`permutations`** : Arrangements avec ordre.\n",
    "- Autres outils comme **`chain`**, **`cycle`**, **`islice`** pour des itérations optimisées.\n",
    "\n",
    "`itertools` simplifie et accélère les calculs itératifs complexes. Expérimentez avec ces fonctions pour résoudre des problèmes combinatoires ou optimiser vos boucles !"
   ]
  }
 ],
 "metadata": {
  "kernelspec": {
   "display_name": "fast_env",
   "language": "python",
   "name": "python3"
  },
  "language_info": {
   "codemirror_mode": {
    "name": "ipython",
    "version": 3
   },
   "file_extension": ".py",
   "mimetype": "text/x-python",
   "name": "python",
   "nbconvert_exporter": "python",
   "pygments_lexer": "ipython3",
   "version": "3.11.0"
  }
 },
 "nbformat": 4,
 "nbformat_minor": 2
}
