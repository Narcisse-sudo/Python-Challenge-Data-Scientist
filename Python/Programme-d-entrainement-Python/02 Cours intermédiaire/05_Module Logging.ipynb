{
 "cells": [
  {
   "cell_type": "markdown",
   "metadata": {},
   "source": [
    "# Utilisation du Module `logging` en Python\n",
    "\n",
    "Dans cette section, nous allons explorer le module **`logging`**, qui permet de suivre l’exécution d’un programme et de détecter les problèmes via des messages de journalisation (logs). Nous aborderons la configuration des différents niveaux de log (**DEBUG**, **INFO**, **WARNING**, **ERROR**, **CRITICAL**).\n",
    "\n",
    "## Pourquoi Utiliser `logging` ?\n",
    "Contrairement à `print()`, `logging` offre :\n",
    "- Une gestion structurée des messages.\n",
    "- Des niveaux de gravité pour filtrer les informations.\n",
    "- La possibilité d’écrire dans des fichiers ou d’autres sorties.\n",
    "\n",
    "Commençons par les bases !"
   ]
  },
  {
   "cell_type": "markdown",
   "metadata": {},
   "source": [
    "## Bases de `logging`\n",
    "\n",
    "Le module `logging` fournit une API pour enregistrer des messages avec des niveaux de gravité.\n",
    "\n",
    "### Importation\n",
    "```py\n",
    "import logging\n",
    "```\n",
    "\n",
    "### Niveaux de Log\n",
    "\n",
    "- **DEBUG** : Informations détaillées pour le débogage.\n",
    "- **INFO** : Confirmation que tout fonctionne comme prévu.\n",
    "- **WARNING** : Indication d’un problème potentiel.\n",
    "- **ERROR** : Erreur bloquant une fonctionnalité.\n",
    "- **CRITICAL** : Erreur grave entraînant un arrêt.\n",
    "\n",
    "### Exemple Simple\n",
    "\n",
    "Utilisons logging avec différents niveaux."
   ]
  },
  {
   "cell_type": "code",
   "execution_count": 5,
   "metadata": {},
   "outputs": [],
   "source": [
    "import logging\n",
    "\n",
    "# Configuration de base (par défaut : WARNING et plus)\n",
    "logging.basicConfig(level=logging.INFO)\n"
   ]
  },
  {
   "cell_type": "code",
   "execution_count": 6,
   "metadata": {},
   "outputs": [],
   "source": [
    "\n",
    "# Messages avec différents niveaux\n",
    "logging.debug(\"Ceci est un message de débogage (non visible par défaut)\")\n"
   ]
  },
  {
   "cell_type": "code",
   "execution_count": 7,
   "metadata": {},
   "outputs": [
    {
     "name": "stderr",
     "output_type": "stream",
     "text": [
      "INFO:root:Programme démarré correctement\n"
     ]
    }
   ],
   "source": [
    "\n",
    "logging.info(\"Programme démarré correctement\")\n"
   ]
  },
  {
   "cell_type": "code",
   "execution_count": 8,
   "metadata": {},
   "outputs": [
    {
     "name": "stderr",
     "output_type": "stream",
     "text": [
      "WARNING:root:Attention : mémoire faible\n"
     ]
    }
   ],
   "source": [
    "\n",
    "logging.warning(\"Attention : mémoire faible\")\n"
   ]
  },
  {
   "cell_type": "code",
   "execution_count": 9,
   "metadata": {},
   "outputs": [
    {
     "name": "stderr",
     "output_type": "stream",
     "text": [
      "ERROR:root:Erreur lors du traitement des données\n"
     ]
    }
   ],
   "source": [
    "\n",
    "logging.error(\"Erreur lors du traitement des données\")\n"
   ]
  },
  {
   "cell_type": "code",
   "execution_count": 10,
   "metadata": {},
   "outputs": [
    {
     "name": "stderr",
     "output_type": "stream",
     "text": [
      "CRITICAL:root:Arrêt d’urgence : système en panne\n"
     ]
    }
   ],
   "source": [
    "\n",
    "logging.critical(\"Arrêt d’urgence : système en panne\")"
   ]
  },
  {
   "cell_type": "markdown",
   "metadata": {},
   "source": [
    "\n",
    "- **`basicConfig`** : Configure le niveau minimum à `INFO` (les messages `DEBUG` sont ignorés).\n",
    "- **Niveaux** : Chaque appel (`debug`, `info`, etc.) correspond à un niveau de gravité.\n",
    "- **Format par défaut** : `NIVEAU:NOM:Message` (ici, `root` est le logger par défaut).\n",
    "\n",
    "Passons à une configuration plus personnalisée !"
   ]
  },
  {
   "cell_type": "markdown",
   "metadata": {},
   "source": [
    "## Configuration Personnalisée de `logging`\n",
    "\n",
    "Pour plus de contrôle, configurez le format, le niveau et la destination des logs (console, fichier).\n",
    "\n",
    "### Options de `basicConfig`\n",
    "- `level` : Niveau minimum affiché.\n",
    "- `format` : Format des messages (ex. : heure, niveau, message).\n",
    "- `filename` : Fichier de sortie.\n",
    "\n",
    "### Exemple\n",
    "Ajoutons un format et un fichier."
   ]
  },
  {
   "cell_type": "code",
   "execution_count": 11,
   "metadata": {},
   "outputs": [],
   "source": [
    "import logging\n",
    "\n",
    "# Configuration personnalisée\n",
    "logging.basicConfig(\n",
    "    level=logging.DEBUG,\n",
    "    format=\"%(asctime)s - %(levelname)s - %(message)s\",\n",
    "    filename=\"mon_journal.log\",\n",
    "    filemode=\"w\"  # Écriture (remplace le fichier existant)\n",
    ")\n"
   ]
  },
  {
   "cell_type": "code",
   "execution_count": 12,
   "metadata": {},
   "outputs": [],
   "source": [
    "\n",
    "# Messages\n",
    "logging.debug(\"Début du processus\")\n"
   ]
  },
  {
   "cell_type": "code",
   "execution_count": 13,
   "metadata": {},
   "outputs": [
    {
     "name": "stderr",
     "output_type": "stream",
     "text": [
      "INFO:root:Traitement en cours\n"
     ]
    }
   ],
   "source": [
    "\n",
    "logging.info(\"Traitement en cours\")\n"
   ]
  },
  {
   "cell_type": "code",
   "execution_count": 14,
   "metadata": {},
   "outputs": [
    {
     "name": "stderr",
     "output_type": "stream",
     "text": [
      "WARNING:root:Valeur inattendue détectée\n"
     ]
    }
   ],
   "source": [
    "logging.warning(\"Valeur inattendue détectée\")\n"
   ]
  },
  {
   "cell_type": "code",
   "execution_count": 15,
   "metadata": {},
   "outputs": [
    {
     "name": "stderr",
     "output_type": "stream",
     "text": [
      "ERROR:root:Erreur de division par zéro\n"
     ]
    }
   ],
   "source": [
    "logging.error(\"Erreur de division par zéro\")\n"
   ]
  },
  {
   "cell_type": "code",
   "execution_count": 16,
   "metadata": {},
   "outputs": [
    {
     "name": "stderr",
     "output_type": "stream",
     "text": [
      "CRITICAL:root:Échec critique, arrêt requis\n"
     ]
    }
   ],
   "source": [
    "logging.critical(\"Échec critique, arrêt requis\")\n"
   ]
  },
  {
   "cell_type": "markdown",
   "metadata": {},
   "source": [
    "## Utilisation de Loggers Spécifiques\n",
    "\n",
    "Plutôt que d’utiliser le logger par défaut (`root`), créez des loggers nommés pour séparer les contextes.\n",
    "\n",
    "### Syntaxe\n",
    "```python\n",
    "logger = logging.getLogger(\"nom\")\n",
    "logger.setLevel(logging.NIVEAU)\n",
    "```\n",
    "\n",
    "### Exemple\n",
    "\n",
    "Créons deux loggers pour une application."
   ]
  },
  {
   "cell_type": "code",
   "execution_count": 17,
   "metadata": {},
   "outputs": [],
   "source": [
    "import logging\n"
   ]
  },
  {
   "cell_type": "code",
   "execution_count": 18,
   "metadata": {},
   "outputs": [],
   "source": [
    "\n",
    "# Créer des loggers\n",
    "logger_main = logging.getLogger(\"main\")\n",
    "logger_db = logging.getLogger(\"database\")\n",
    "# Configuration\n",
    "logger_main.setLevel(logging.INFO)\n",
    "logger_db.setLevel(logging.DEBUG)\n",
    "# Ajouter un gestionnaire (handler) pour la console\n",
    "console_handler = logging.StreamHandler()\n",
    "console_handler.setFormatter(\n",
    "    logging.Formatter(\"%(name)s - %(levelname)s - %(message)s\")\n",
    ")\n",
    "logger_main.addHandler(console_handler)\n",
    "logger_db.addHandler(console_handler)\n"
   ]
  },
  {
   "cell_type": "code",
   "execution_count": 19,
   "metadata": {},
   "outputs": [
    {
     "name": "stderr",
     "output_type": "stream",
     "text": [
      "main - INFO - Démarrage de l’application\n",
      "main - INFO - Démarrage de l’application\n",
      "INFO:main:Démarrage de l’application\n"
     ]
    }
   ],
   "source": [
    "\n",
    "# Messages\n",
    "logger_main.info(\"Démarrage de l’application\")\n"
   ]
  },
  {
   "cell_type": "code",
   "execution_count": 20,
   "metadata": {},
   "outputs": [
    {
     "name": "stderr",
     "output_type": "stream",
     "text": [
      "database - DEBUG - Connexion à la base de données\n",
      "database - DEBUG - Connexion à la base de données\n",
      "DEBUG:database:Connexion à la base de données\n"
     ]
    }
   ],
   "source": [
    "logger_db.debug(\"Connexion à la base de données\")\n"
   ]
  },
  {
   "cell_type": "code",
   "execution_count": 21,
   "metadata": {},
   "outputs": [
    {
     "name": "stderr",
     "output_type": "stream",
     "text": [
      "main - WARNING - Performance lente détectée\n",
      "main - WARNING - Performance lente détectée\n",
      "WARNING:main:Performance lente détectée\n"
     ]
    }
   ],
   "source": [
    "logger_main.warning(\"Performance lente détectée\")\n"
   ]
  },
  {
   "cell_type": "code",
   "execution_count": 22,
   "metadata": {},
   "outputs": [
    {
     "name": "stderr",
     "output_type": "stream",
     "text": [
      "database - ERROR - Échec de la requête SQL\n",
      "database - ERROR - Échec de la requête SQL\n",
      "ERROR:database:Échec de la requête SQL\n"
     ]
    }
   ],
   "source": [
    "logger_db.error(\"Échec de la requête SQL\")"
   ]
  },
  {
   "cell_type": "markdown",
   "metadata": {},
   "source": [
    "## Gestion des Exceptions avec `logging`\n",
    "\n",
    "Utilisez `logging` pour journaliser les exceptions capturées dans un bloc `try`.\n",
    "\n",
    "### Exemple\n",
    "Gérons une division par zéro."
   ]
  },
  {
   "cell_type": "code",
   "execution_count": 23,
   "metadata": {},
   "outputs": [],
   "source": [
    "import logging\n",
    "\n",
    "# Configuration\n",
    "logging.basicConfig(level=logging.ERROR)\n",
    "\n",
    "logger = logging.getLogger(\"calcul\")\n",
    "\n",
    "def diviser(a: float, b: float) -> float:\n",
    "    \"\"\"Divise deux nombres avec journalisation des erreurs.\"\"\"\n",
    "    try:\n",
    "        resultat = a / b\n",
    "    except ZeroDivisionError as e:\n",
    "        logger.error(f\"Erreur de division : {e}\", exc_info=True)\n",
    "        return 0.0\n",
    "    else:\n",
    "        logger.info(\"Division réussie\")\n",
    "        return resultat\n",
    "\n"
   ]
  },
  {
   "cell_type": "code",
   "execution_count": 24,
   "metadata": {},
   "outputs": [
    {
     "name": "stderr",
     "output_type": "stream",
     "text": [
      "INFO:calcul:Division réussie\n"
     ]
    },
    {
     "name": "stdout",
     "output_type": "stream",
     "text": [
      "5.0\n"
     ]
    }
   ],
   "source": [
    "# division de 10 par 2\n",
    "print(diviser(10, 2)) \n"
   ]
  },
  {
   "cell_type": "code",
   "execution_count": 25,
   "metadata": {},
   "outputs": [
    {
     "name": "stderr",
     "output_type": "stream",
     "text": [
      "ERROR:calcul:Erreur de division : division by zero\n",
      "Traceback (most recent call last):\n",
      "  File \"/var/folders/7c/qh_f77q909x2hjyg13cbq0600000gn/T/ipykernel_28688/4265871066.py\", line 11, in diviser\n",
      "    resultat = a / b\n",
      "               ~~^~~\n",
      "ZeroDivisionError: division by zero\n"
     ]
    },
    {
     "name": "stdout",
     "output_type": "stream",
     "text": [
      "0.0\n"
     ]
    }
   ],
   "source": [
    "# division de 5 par 0\n",
    "print(diviser(5, 0))"
   ]
  },
  {
   "cell_type": "markdown",
   "metadata": {},
   "source": [
    "## Exemple Avancé : Application Réelle\n",
    "\n",
    "Simulons une application avec plusieurs composants et journalisation."
   ]
  },
  {
   "cell_type": "code",
   "execution_count": 26,
   "metadata": {},
   "outputs": [],
   "source": [
    "import logging\n",
    "\n",
    "\n",
    "class Application:\n",
    "    \"\"\"Simule une application avec journalisation.\"\"\"\n",
    "    \n",
    "    def __init__(self):\n",
    "        # Configuration du logger\n",
    "        self.logger = logging.getLogger(\"app\")\n",
    "        self.logger.setLevel(logging.DEBUG)\n",
    "        \n",
    "        # Handlers : console et fichier\n",
    "        ch = logging.StreamHandler()\n",
    "        fh = logging.FileHandler(\"app.log\", mode=\"w\")\n",
    "        formatter = logging.Formatter(\"%(asctime)s - %(name)s - %(levelname)s - %(message)s\")\n",
    "        ch.setFormatter(formatter)\n",
    "        fh.setFormatter(formatter)\n",
    "        self.logger.addHandler(ch)\n",
    "        self.logger.addHandler(fh)\n",
    "    \n",
    "    def demarrer(self) -> None:\n",
    "        \"\"\"Démarre l’application.\"\"\"\n",
    "        self.logger.info(\"Démarrage de l’application\")\n",
    "        try:\n",
    "            self._initialiser()\n",
    "        except Exception as e:\n",
    "            self.logger.critical(f\"Échec critique au démarrage : {e}\", exc_info=True)\n",
    "    \n",
    "    def _initialiser(self) -> None:\n",
    "        \"\"\"Initialisation simulée.\"\"\"\n",
    "        self.logger.debug(\"Initialisation des composants\")\n",
    "        # Simulation d’un problème\n",
    "        if True:  # Forcer une erreur pour l’exemple\n",
    "            raise RuntimeError(\"Composant non trouvé\")\n",
    "        self.logger.info(\"Initialisation réussie\")\n",
    "\n"
   ]
  },
  {
   "cell_type": "code",
   "execution_count": 27,
   "metadata": {},
   "outputs": [
    {
     "name": "stderr",
     "output_type": "stream",
     "text": [
      "2025-04-14 14:19:19,824 - app - INFO - Démarrage de l’application\n",
      "INFO:app:Démarrage de l’application\n",
      "2025-04-14 14:19:19,825 - app - DEBUG - Initialisation des composants\n",
      "DEBUG:app:Initialisation des composants\n",
      "2025-04-14 14:19:19,826 - app - CRITICAL - Échec critique au démarrage : Composant non trouvé\n",
      "Traceback (most recent call last):\n",
      "  File \"/var/folders/7c/qh_f77q909x2hjyg13cbq0600000gn/T/ipykernel_28688/2452878516.py\", line 25, in demarrer\n",
      "    self._initialiser()\n",
      "  File \"/var/folders/7c/qh_f77q909x2hjyg13cbq0600000gn/T/ipykernel_28688/2452878516.py\", line 34, in _initialiser\n",
      "    raise RuntimeError(\"Composant non trouvé\")\n",
      "RuntimeError: Composant non trouvé\n",
      "CRITICAL:app:Échec critique au démarrage : Composant non trouvé\n",
      "Traceback (most recent call last):\n",
      "  File \"/var/folders/7c/qh_f77q909x2hjyg13cbq0600000gn/T/ipykernel_28688/2452878516.py\", line 25, in demarrer\n",
      "    self._initialiser()\n",
      "  File \"/var/folders/7c/qh_f77q909x2hjyg13cbq0600000gn/T/ipykernel_28688/2452878516.py\", line 34, in _initialiser\n",
      "    raise RuntimeError(\"Composant non trouvé\")\n",
      "RuntimeError: Composant non trouvé\n"
     ]
    }
   ],
   "source": [
    "\n",
    "# Test\n",
    "app = Application()\n",
    "app.demarrer()"
   ]
  },
  {
   "cell_type": "markdown",
   "metadata": {},
   "source": [
    "## Conclusion\n",
    "\n",
    "Cette section vous a permis de maîtriser :\n",
    "- L’utilisation du module **`logging`** pour suivre l’exécution.\n",
    "- La configuration des niveaux (**DEBUG**, **INFO**, **WARNING**, **ERROR**, **CRITICAL**) avec formats personnalisés.\n",
    "- La journalisation des exceptions pour un diagnostic précis.\n",
    "\n",
    "`logging` est un outil puissant pour déboguer et surveiller vos programmes. Expérimentez avec différentes configurations pour adapter les logs à vos besoins !"
   ]
  }
 ],
 "metadata": {
  "kernelspec": {
   "display_name": "fast_env",
   "language": "python",
   "name": "python3"
  },
  "language_info": {
   "codemirror_mode": {
    "name": "ipython",
    "version": 3
   },
   "file_extension": ".py",
   "mimetype": "text/x-python",
   "name": "python",
   "nbconvert_exporter": "python",
   "pygments_lexer": "ipython3",
   "version": "3.11.0"
  }
 },
 "nbformat": 4,
 "nbformat_minor": 2
}
