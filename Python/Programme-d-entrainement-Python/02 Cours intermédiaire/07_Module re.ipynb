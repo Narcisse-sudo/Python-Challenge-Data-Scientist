{
 "cells": [
  {
   "cell_type": "markdown",
   "metadata": {},
   "source": [
    "# Utilisation du Module `re` en Python : Expressions Régulières (Regex)\n",
    "\n",
    "Dans cette section, nous allons explorer le module **`re`** de Python, qui permet de travailler avec les **expressions régulières** (regex). Nous couvrirons la recherche, la correspondance, le remplacement et d'autres opérations sur les chaînes de caractères.\n",
    "\n",
    "## Qu’est-ce qu’une Expression Régulière ?\n",
    "Une **regex** est une séquence de caractères définissant un motif de recherche. Elle est utilisée pour extraire, valider ou manipuler du texte de manière puissante et flexible. Le module `re` est l’outil standard de Python pour cela.\n",
    "\n",
    "Commençons par les bases !"
   ]
  },
  {
   "cell_type": "markdown",
   "metadata": {},
   "source": [
    "## Fonctions de Base du Module `re`\n",
    "\n",
    "### Importation\n",
    "```python\n",
    "import re\n",
    "```\n",
    "\n",
    "### Fonctions Principales\n",
    "\n",
    "- `re.search(pattern, string)` : Cherche la première occurrence du motif.\n",
    "- `re.match(pattern, string)` : Vérifie si le motif correspond au début de la chaîne.\n",
    "- `re.findall(pattern, string)` : Retourne toutes les occurrences du motif.\n",
    "- `re.sub(pattern, repl, string)` : Remplace les occurrences du motif.\n",
    "\n",
    "### Exemple Simple\n",
    "\n",
    "Cherchons un mot dans une phrase."
   ]
  },
  {
   "cell_type": "code",
   "execution_count": 1,
   "metadata": {},
   "outputs": [
    {
     "name": "stdout",
     "output_type": "stream",
     "text": [
      "Trouvé : Alice\n",
      "Position : (17, 22)\n"
     ]
    }
   ],
   "source": [
    "import re\n",
    "\n",
    "# Chaîne de test\n",
    "texte = \"Bonjour, je suis Alice et j’ai 25 ans.\"\n",
    "\n",
    "# Recherche d’un mot\n",
    "resultat = re.search(r\"Alice\", texte)\n",
    "if resultat:\n",
    "    print(\"Trouvé :\", resultat.group())  \n",
    "    print(\"Position :\", resultat.span())\n",
    "else:\n",
    "    print(\"Non trouvé\")"
   ]
  },
  {
   "cell_type": "markdown",
   "metadata": {},
   "source": [
    "\n",
    "- **`re.search`** : Cherche \"Alice\" dans `texte` et retourne un objet `Match`.\n",
    "- **`group()`** : Extrait la correspondance trouvée.\n",
    "- **`span()`** : Donne les indices de début et de fin.\n",
    "- **`r\"...\"`** : Chaîne brute (*raw string*) pour éviter l’échappement des caractères spéciaux.\n",
    "\n",
    "Passons aux motifs plus complexes !"
   ]
  },
  {
   "cell_type": "markdown",
   "metadata": {},
   "source": [
    "## Syntaxe des Motifs Regex\n",
    "\n",
    "### Caractères Spéciaux Courants\n",
    "- **`.`** : Tout caractère sauf newline.\n",
    "- **`^`** : Début de la chaîne.\n",
    "- **`$`** : Fin de la chaîne.\n",
    "- **`*`** : 0 ou plus.\n",
    "- **`+`** : 1 ou plus.\n",
    "- **`?`** : 0 ou 1.\n",
    "- **`[]`** : Ensemble de caractères (ex. : `[a-z]`).\n",
    "- **`|`** : OU logique.\n",
    "- **`\\d`** : Chiffre (équivalent à `[0-9]`).\n",
    "- **`\\w`** : Caractère alphanumérique (`[a-zA-Z0-9_]`).\n",
    "- **`\\s`** : Espace blanc.\n",
    "\n",
    "### Exemple\n",
    "Extrayons des nombres et des mots."
   ]
  },
  {
   "cell_type": "code",
   "execution_count": 2,
   "metadata": {},
   "outputs": [],
   "source": [
    "import re\n",
    "\n",
    "texte = \"J’ai 25 ans et mon numéro est 123-456-7890.\"\n"
   ]
  },
  {
   "cell_type": "code",
   "execution_count": 3,
   "metadata": {},
   "outputs": [
    {
     "name": "stdout",
     "output_type": "stream",
     "text": [
      "Nombres trouvés : ['25', '123', '456', '7890']\n"
     ]
    }
   ],
   "source": [
    "\n",
    "# Trouver tous les nombres\n",
    "nombres = re.findall(r\"\\d+\", texte)\n",
    "print(\"Nombres trouvés :\", nombres)\n"
   ]
  },
  {
   "cell_type": "code",
   "execution_count": 4,
   "metadata": {},
   "outputs": [
    {
     "name": "stdout",
     "output_type": "stream",
     "text": [
      "Numéro de téléphone : 123-456-7890\n"
     ]
    }
   ],
   "source": [
    "\n",
    "# Trouver un motif de téléphone\n",
    "telephone = re.search(r\"\\d{3}-\\d{3}-\\d{4}\", texte)\n",
    "if telephone:\n",
    "    print(\"Numéro de téléphone :\", telephone.group())  \n"
   ]
  },
  {
   "cell_type": "code",
   "execution_count": 5,
   "metadata": {},
   "outputs": [
    {
     "name": "stdout",
     "output_type": "stream",
     "text": [
      "Début correspond : J’ai\n"
     ]
    }
   ],
   "source": [
    "\n",
    "# Vérifier le début de la chaîne\n",
    "debut = re.match(r\"J’ai\", texte)\n",
    "if debut:\n",
    "    print(\"Début correspond :\", debut.group())  "
   ]
  },
  {
   "cell_type": "markdown",
   "metadata": {},
   "source": [
    "## Groupes et Capture\n",
    "\n",
    "Les **parenthèses `()`** dans un motif créent des groupes capturés, accessibles via `group()`.\n",
    "\n",
    "### Exemple\n",
    "Capturons des parties d’une adresse email."
   ]
  },
  {
   "cell_type": "code",
   "execution_count": 6,
   "metadata": {},
   "outputs": [],
   "source": [
    "import re\n",
    "\n",
    "email = \"contact.alice@exemple.com\"\n"
   ]
  },
  {
   "cell_type": "code",
   "execution_count": 7,
   "metadata": {},
   "outputs": [
    {
     "name": "stdout",
     "output_type": "stream",
     "text": [
      "Adresse complète : contact.alice@exemple.com\n",
      "Prénom : contact\n",
      "Nom : alice\n",
      "Domaine : exemple.com\n"
     ]
    }
   ],
   "source": [
    "\n",
    "# Motif avec groupes\n",
    "motif = r\"(\\w+)\\.(\\w+)@(\\w+\\.\\w+)\"\n",
    "resultat = re.search(motif, email)\n",
    "if resultat:\n",
    "    print(\"Adresse complète :\", resultat.group(0)) \n",
    "    print(\"Prénom :\", resultat.group(1))           \n",
    "    print(\"Nom :\", resultat.group(2))              \n",
    "    print(\"Domaine :\", resultat.group(3))          "
   ]
  },
  {
   "cell_type": "markdown",
   "metadata": {},
   "source": [
    "## Remplacement avec `re.sub`\n",
    "\n",
    "La fonction **`re.sub`** remplace les correspondances par une nouvelle valeur.\n",
    "\n",
    "### Syntaxe\n",
    "```py\n",
    "re.sub(pattern, remplacement, string)\n",
    "```\n",
    "\n",
    "### Exemple\n",
    "\n",
    "Masquons des chiffres dans un texte."
   ]
  },
  {
   "cell_type": "code",
   "execution_count": 8,
   "metadata": {},
   "outputs": [],
   "source": [
    "import re\n",
    "\n",
    "texte = \"Mon numéro est 123-456-7890 et mon code 9876.\"\n"
   ]
  },
  {
   "cell_type": "code",
   "execution_count": 9,
   "metadata": {},
   "outputs": [
    {
     "name": "stdout",
     "output_type": "stream",
     "text": [
      "Texte modifié : Mon numéro est XXXX-XXXX-XXXX et mon code XXXX.\n"
     ]
    }
   ],
   "source": [
    "\n",
    "# Remplacer les nombres par XXXX\n",
    "nouveau_texte = re.sub(r\"\\d+\", \"XXXX\", texte)\n",
    "print(\"Texte modifié :\", nouveau_texte)\n"
   ]
  },
  {
   "cell_type": "code",
   "execution_count": 10,
   "metadata": {},
   "outputs": [
    {
     "name": "stdout",
     "output_type": "stream",
     "text": [
      "Numéro masqué : Mon numéro est 123-XXX-XXXX et mon code 9876.\n"
     ]
    }
   ],
   "source": [
    "\n",
    "# Remplacement avec groupes\n",
    "nouveau_texte = re.sub(r\"(\\d{3})-(\\d{3})-(\\d{4})\", r\"\\1-XXX-XXXX\", texte)\n",
    "print(\"Numéro masqué :\", nouveau_texte)"
   ]
  },
  {
   "cell_type": "markdown",
   "metadata": {},
   "source": [
    "## Gestion des Exceptions et Flags\n",
    "\n",
    "### Exceptions\n",
    "Si aucun motif ne correspond, `re.search` retourne `None`.\n",
    "\n",
    "### Flags\n",
    "- **`re.IGNORECASE`** : Ignore la casse.\n",
    "- **`re.MULTILINE`** : Traite chaque ligne séparément avec `^` et `$`.\n",
    "\n",
    "### Exemple\n",
    "Utilisons des flags pour une recherche insensible à la casse."
   ]
  },
  {
   "cell_type": "code",
   "execution_count": 11,
   "metadata": {},
   "outputs": [],
   "source": [
    "import re\n",
    "\n",
    "texte = \"Bonjour ALICE et bob.\"\n"
   ]
  },
  {
   "cell_type": "code",
   "execution_count": 12,
   "metadata": {},
   "outputs": [
    {
     "name": "stdout",
     "output_type": "stream",
     "text": [
      "Occurrences (ignorecase) : ['ALICE']\n"
     ]
    }
   ],
   "source": [
    "\n",
    "# Recherche insensible à la casse\n",
    "resultat = re.findall(r\"alice\", texte, re.IGNORECASE)\n",
    "print(\"Occurrences (ignorecase) :\", resultat)  \n"
   ]
  },
  {
   "cell_type": "code",
   "execution_count": 13,
   "metadata": {},
   "outputs": [
    {
     "name": "stdout",
     "output_type": "stream",
     "text": [
      "Lignes correspondantes : ['alice']\n"
     ]
    }
   ],
   "source": [
    "\n",
    "# Multiligne\n",
    "texte_multi = \"Première ligne\\nalice\\nDEUXIÈME LIGNE\"\n",
    "resultat = re.findall(r\"^alice$\", texte_multi, re.MULTILINE)\n",
    "print(\"Lignes correspondantes :\", resultat)  \n"
   ]
  },
  {
   "cell_type": "code",
   "execution_count": 14,
   "metadata": {},
   "outputs": [
    {
     "name": "stdout",
     "output_type": "stream",
     "text": [
      "Aucune correspondance\n"
     ]
    }
   ],
   "source": [
    "\n",
    "# Gestion si rien n’est trouvé\n",
    "resultat = re.search(r\"xyz\", texte)\n",
    "if resultat:\n",
    "    print(\"Trouvé :\", resultat.group())\n",
    "else:\n",
    "    print(\"Aucune correspondance\") "
   ]
  },
  {
   "cell_type": "markdown",
   "metadata": {},
   "source": [
    "## Exemple Avancé : Analyse de Logs\n",
    "\n",
    "Utilisons `re` pour extraire des informations d’un fichier de logs simulé.\n",
    "\n",
    "### Exemple\n",
    "Analysons des entrées de log."
   ]
  },
  {
   "cell_type": "code",
   "execution_count": 15,
   "metadata": {},
   "outputs": [],
   "source": [
    "import re\n",
    "\n",
    "# Simulation d’un fichier de logs\n",
    "logs = \"\"\"\n",
    "2023-10-15 14:30:45 INFO Utilisateur alice connecté depuis 192.168.1.10\n",
    "2023-10-15 14:32:10 ERROR Échec connexion pour bob à 192.168.1.15\n",
    "2023-10-15 14:35:20 INFO Utilisateur clara déconnecté\n",
    "\"\"\"\n"
   ]
  },
  {
   "cell_type": "code",
   "execution_count": 16,
   "metadata": {},
   "outputs": [
    {
     "name": "stdout",
     "output_type": "stream",
     "text": [
      "Date : 2023-10-15 14:30:45, Niveau : INFO, Message : Utilisateur alice connecté, IP : 192.168.1.10\n",
      "Date : 2023-10-15 14:32:10, Niveau : ERROR, Message : Échec connexion pour bob à 192.168.1.15, IP : N/A\n",
      "Date : 2023-10-15 14:35:20, Niveau : INFO, Message : Utilisateur clara déconnecté, IP : N/A\n"
     ]
    }
   ],
   "source": [
    "\n",
    "# Motif pour extraire date, niveau, message, et IP (si présent)\n",
    "motif = r\"(\\d{4}-\\d{2}-\\d{2} \\d{2}:\\d{2}:\\d{2}) (\\w+) (.+?)(?: depuis (\\d+\\.\\d+\\.\\d+\\.\\d+))?$\"\n",
    "resultats = re.findall(motif, logs, re.MULTILINE)\n",
    "\n",
    "for date, niveau, message, ip in resultats:\n",
    "    print(f\"Date : {date}, Niveau : {niveau}, Message : {message}, IP : {ip or 'N/A'}\")"
   ]
  },
  {
   "cell_type": "markdown",
   "metadata": {},
   "source": [
    "## Conclusion\n",
    "\n",
    "Cette section vous a permis de maîtriser :\n",
    "- Les **fonctions de base** de `re` (`search`, `match`, `findall`, `sub`) pour manipuler les chaînes.\n",
    "- La **syntaxe des motifs regex** avec caractères spéciaux, groupes et flags.\n",
    "- Des cas pratiques comme l’**extraction** et le **remplacement** dans des textes structurés.\n",
    "\n",
    "Les expressions régulières avec `re` sont un outil puissant pour le traitement de texte. Expérimentez avec ces exemples pour analyser vos propres données !"
   ]
  }
 ],
 "metadata": {
  "kernelspec": {
   "display_name": "fast_env",
   "language": "python",
   "name": "python3"
  },
  "language_info": {
   "codemirror_mode": {
    "name": "ipython",
    "version": 3
   },
   "file_extension": ".py",
   "mimetype": "text/x-python",
   "name": "python",
   "nbconvert_exporter": "python",
   "pygments_lexer": "ipython3",
   "version": "3.11.0"
  }
 },
 "nbformat": 4,
 "nbformat_minor": 2
}
