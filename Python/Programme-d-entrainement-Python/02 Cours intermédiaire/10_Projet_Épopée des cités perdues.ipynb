{
 "cells": [
  {
   "cell_type": "markdown",
   "metadata": {},
   "source": [
    "# Projet"
   ]
  },
  {
   "cell_type": "markdown",
   "metadata": {},
   "source": [
    "Vous allez maintenant mettre en éxécution les choses que vous appris durant tous les cours de cette section. "
   ]
  },
  {
   "cell_type": "markdown",
   "metadata": {},
   "source": [
    "### Thème du projet : \"L’Épopée des Cités Perdues\"\n",
    "\n",
    "Le projet est un jeu textuel où le joueur incarne un explorateur chargé de redonner vie à des cités perdues. Il devra gérer des ressources, explorer des lieux, interagir avec des personnages (alliés ou ennemis) et relever des défis. Les données de base (personnages, lieux, ressources, etc.) sont fournies dans un fichier JSON, et le joueur interagit via la console.\n",
    "\n",
    "Objectif du projet : Créer une version simple du jeu où le joueur explore une cité, gère des ressources et interagit avec des personnages via des choix textuels.\n",
    "\n",
    "\n",
    "## Fichier JSON fourni : Un fichier data.json contient :\n",
    "\n",
    "Une liste de lieux (par exemple, \"Temple Oublié\", \"Forêt Maudite\") avec des caractéristiques (nom, description, ressources disponibles, ennemis présents).\n",
    "Une liste de personnages (nom, type [allié/ennemi], force, dialogue).\n",
    "Une liste de ressources (nom, quantité initiale, utilité).\n",
    "Exemple de data.json :\n",
    "\n",
    "```json\n",
    "{\n",
    "    \"lieux\": [\n",
    "        {\"nom\": \"Temple Oublié\", \"description\": \"Un temple envahi par la végétation\", \"ressources\": [\"or\", \"pierres\"], \"ennemis\": [\"serpent géant\"]},\n",
    "        {\"nom\": \"Forêt Maudite\", \"description\": \"Une forêt sombre et mystérieuse\", \"ressources\": [\"bois\", \"herbes\"], \"ennemis\": [\"loup spectral\"]}\n",
    "    ],\n",
    "    \"personnages\": [\n",
    "        {\"nom\": \"Arwen\", \"type\": \"allié\", \"force\": 5, \"dialogue\": \"Je peux t'aider à explorer, mais il me faut 10 unités d'or.\"},\n",
    "        {\"nom\": \"Serpent Géant\", \"type\": \"ennemi\", \"force\": 8, \"dialogue\": \"Sssss... Tu ne passeras pas !\"}\n",
    "    ],\n",
    "    \"ressources\": [\n",
    "        {\"nom\": \"or\", \"quantite\": 20, \"utilite\": \"Acheter de l'aide\"},\n",
    "        {\"nom\": \"bois\", \"quantite\": 10, \"utilite\": \"Construire des abris\"}\n",
    "    ]\n",
    "}\n",
    "```\n",
    "\n",
    "## Mécaniques du jeu :\n",
    "\n",
    "Le joueur commence avec un inventaire vide et un certain nombre de points de vie (par exemple, 100).\n",
    "Le joueur peut :\n",
    "Explorer un lieu (afficher sa description, récupérer des ressources, affronter un ennemi via un système de \"combat\" simple basé sur des comparaisons de force).\n",
    "Interagir avec un personnage (dialoguer, payer un allié pour obtenir de l’aide, fuir un ennemi).\n",
    "Gérer son inventaire (ajouter des ressources, vérifier les quantités).\n",
    "Les choix du joueur sont faits via des entrées textuelles (par exemple, \"1 pour explorer, 2 pour parler à un personnage, 3 pour quitter\").\n",
    "Les données du jeu (inventaire, points de vie, etc.) sont sauvegardées dans un fichier JSON à la fin de chaque session.\n",
    "\n",
    "## Exemple de fonctionnalités à implémenter :\n",
    "\n",
    "Lecture du JSON : Utiliser le module json pour charger les données.\n",
    "Affichage des lieux : Une boucle pour afficher les lieux disponibles et leurs descriptions.\n",
    "Combat simple : Une fonction qui compare la force du joueur (fixée ou augmentée par des ressources) à celle d’un ennemi, avec des conditions (if/else) pour déterminer l’issue.\n",
    "Gestion de l’inventaire : Utiliser des dictionnaires pour stocker les ressources et des listes pour suivre les objets collectés.\n",
    "Choix du joueur : Utiliser match-case pour gérer les entrées du joueur (par exemple, \"explorer\", \"combattre\", \"quitter\").\n",
    "Sauvegarde : Écrire l’état du jeu (inventaire, points de vie) dans un fichier JSON.\n",
    "Livrable attendu : Un programme structuré (selon PEP8) avec des fonctions bien documentées (docstrings), qui permet de jouer une session simple du jeu et de sauvegarder son état."
   ]
  },
  {
   "cell_type": "markdown",
   "metadata": {},
   "source": []
  }
 ],
 "metadata": {
  "language_info": {
   "name": "python"
  }
 },
 "nbformat": 4,
 "nbformat_minor": 2
}
