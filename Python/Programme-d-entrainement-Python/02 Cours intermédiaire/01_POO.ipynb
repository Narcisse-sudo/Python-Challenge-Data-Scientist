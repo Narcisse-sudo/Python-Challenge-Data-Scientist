{
 "cells": [
  {
   "cell_type": "markdown",
   "metadata": {},
   "source": [
    "# Concepts de Programmation Orientée Objet (POO) en Python\n",
    "\n",
    "Dans cette section, nous allons explorer les **concepts fondamentaux de la POO** en Python : classes, objets, attributs, méthodes, méthodes spéciales (`__init__`, `__str__`, `__repr__`), encapsulation, héritage et polymorphisme. La POO est essentielle pour structurer des programmes complexes de manière claire et réutilisable.\n",
    "\n",
    "## Qu’est-ce que la POO ?\n",
    "La **Programmation Orientée Objet** est un paradigme qui organise le code autour d’**objets**, instances de **classes**, combinant données (attributs) et comportements (méthodes). Python est un langage qui supporte pleinement la POO.\n",
    "\n",
    "## Pourquoi Utiliser la Programmation Orientée Objet (POO) ?\n",
    "\n",
    "- **Modélisation complexe** : Représenter des entités réelles (ex. : utilisateurs, véhicules) avec des propriétés et comportements.\n",
    "- **Réutilisabilité** : Héritage pour partager du code entre classes similaires.\n",
    "- **Encapsulation** : Protéger les données et contrôler leur accès.\n",
    "\n",
    "### Par Rapport à d’Autres Approches\n",
    "- **Vs Fonctions seules** : Les fonctions sont simples mais ne regroupent pas données et comportements ; la POO offre une organisation plus naturelle pour des systèmes complexes.\n",
    "- **Vs Structures simples** : Les dictionnaires ou tuples peuvent stocker des données, mais sans méthodes associées, contrairement aux objets POO.\n",
    "- **Vs Programmation fonctionnelle** : La POO privilégie l’état et la mutation, tandis que la fonctionnelle évite les effets secondaires ; choisissez selon la nature du projet.\n",
    "\n",
    "### Exemple Pratique\n",
    "La POO est parfaite pour un jeu avec des personnages ayant des attributs (vie, position) et des actions (attaquer, se déplacer), où des fonctions seules seraient désorganisées.\n",
    "\n",
    "Commençons par les bases : classes et objets !"
   ]
  },
  {
   "cell_type": "markdown",
   "metadata": {},
   "source": [
    "## Classes, Objets, Attributs et Méthodes\n",
    "\n",
    "### Définitions\n",
    "- **Classe** : Un modèle ou blueprint définissant les attributs (données) et méthodes (comportements).\n",
    "- **Objet** : Une instance spécifique d’une classe.\n",
    "- **Attributs** : Variables associées à un objet (ex. : nom, âge).\n",
    "- **Méthodes** : Fonctions définies dans une classe, opérant sur ses attributs.\n",
    "\n",
    "### Exemple Simple\n",
    "Créons une classe `Personne` pour représenter une personne."
   ]
  },
  {
   "cell_type": "code",
   "execution_count": 1,
   "metadata": {},
   "outputs": [],
   "source": [
    "class Personne:\n",
    "    \"\"\"Classe représentant une personne avec un nom et un âge.\"\"\"\n",
    "    \n",
    "    def __init__(self, nom: str, age: int):\n",
    "        \"\"\"Initialise une personne avec un nom et un âge.\"\"\"\n",
    "        self.nom = nom  # Attribut d’instance\n",
    "        self.age = age  # Attribut d’instance\n",
    "    \n",
    "    def se_presenter(self) -> str:\n",
    "        \"\"\"Retourne une présentation de la personne.\"\"\"\n",
    "        return f\"Je m’appelle {self.nom} et j’ai {self.age} ans.\"\n",
    "\n"
   ]
  },
  {
   "cell_type": "code",
   "execution_count": 2,
   "metadata": {},
   "outputs": [],
   "source": [
    "\n",
    "# Création d’objets (instances)\n",
    "alice = Personne(\"Alice\", 25)\n",
    "bob = Personne(\"Bob\", 30)\n"
   ]
  },
  {
   "cell_type": "code",
   "execution_count": 3,
   "metadata": {},
   "outputs": [
    {
     "name": "stdout",
     "output_type": "stream",
     "text": [
      "Je m’appelle Alice et j’ai 25 ans.\n",
      "Je m’appelle Bob et j’ai 30 ans.\n"
     ]
    }
   ],
   "source": [
    "\n",
    "# Appel des méthodes\n",
    "print(alice.se_presenter())  \n",
    "print(bob.se_presenter())    \n"
   ]
  },
  {
   "cell_type": "code",
   "execution_count": 4,
   "metadata": {},
   "outputs": [
    {
     "name": "stdout",
     "output_type": "stream",
     "text": [
      "Âge d’Alice : 25\n"
     ]
    }
   ],
   "source": [
    "\n",
    "# Accès aux attributs\n",
    "print(f\"Âge d’Alice : {alice.age}\") "
   ]
  },
  {
   "cell_type": "markdown",
   "metadata": {},
   "source": [
    "## Analyse de la Classe Simple\n",
    "\n",
    "- **Classe `Personne`** : Définit le modèle avec `__init__` pour initialiser les attributs.\n",
    "- **Objets** : `alice` et `bob` sont des instances distinctes avec leurs propres valeurs.\n",
    "- **Attributs** : `nom` et `age` sont stockés dans chaque objet via `self`.\n",
    "- **`self`** : Référence à l’instance courante, obligatoire dans les méthodes.\n",
    "- **Méthode `se_presenter`** : Utilise les attributs pour générer une sortie.\n",
    "\n",
    "Passons aux méthodes spéciales !"
   ]
  },
  {
   "cell_type": "markdown",
   "metadata": {},
   "source": [
    "## Méthodes Spéciales\n",
    "\n",
    "Les **méthodes spéciales** commencent et finissent par `__`. Elles permettent de personnaliser le comportement des objets pour des opérations comme l’initialisation, la représentation ou les comparaisons.\n",
    "\n",
    "### Méthodes Courantes\n",
    "- `__init__` : Constructeur, initialise l’objet.\n",
    "- `__str__` : Représentation lisible (pour `print`).\n",
    "- `__repr__` : Représentation technique (pour débogage).\n",
    "\n",
    "### Exemple\n",
    "Ajoutons ces méthodes à `Personne`."
   ]
  },
  {
   "cell_type": "code",
   "execution_count": 5,
   "metadata": {},
   "outputs": [],
   "source": [
    "class Personne:\n",
    "    \"\"\"Classe représentant une personne avec un nom et un âge.\"\"\"\n",
    "    \n",
    "    def __init__(self, nom: str, age: int):\n",
    "        \"\"\"Initialise une personne avec un nom et un âge.\n",
    "        \n",
    "        Args:\n",
    "            nom (str): Nom de la personne.\n",
    "            age (int): Âge de la personne.\n",
    "        \"\"\"\n",
    "        self.nom = nom\n",
    "        self.age = age\n",
    "    \n",
    "    def __str__(self) -> str:\n",
    "        \"\"\"Retourne une représentation lisible de la personne.\"\"\"\n",
    "        return f\"{self.nom}, {self.age} ans\"\n",
    "    \n",
    "    def __repr__(self) -> str:\n",
    "        \"\"\"Retourne une représentation technique de la personne.\"\"\"\n",
    "        return f\"Personne(nom='{self.nom}', age={self.age})\"\n"
   ]
  },
  {
   "cell_type": "code",
   "execution_count": 6,
   "metadata": {},
   "outputs": [],
   "source": [
    "# Tests\n",
    "alice = Personne(\"Alice\", 25)\n"
   ]
  },
  {
   "cell_type": "code",
   "execution_count": 7,
   "metadata": {},
   "outputs": [
    {
     "name": "stdout",
     "output_type": "stream",
     "text": [
      "Alice, 25 ans\n"
     ]
    }
   ],
   "source": [
    "\n",
    "print(alice)          # Utilise __str__ \n"
   ]
  },
  {
   "cell_type": "code",
   "execution_count": 8,
   "metadata": {},
   "outputs": [
    {
     "name": "stdout",
     "output_type": "stream",
     "text": [
      "Personne(nom='Alice', age=25)\n"
     ]
    }
   ],
   "source": [
    "\n",
    "print(repr(alice))    # Utilise __repr__ "
   ]
  },
  {
   "cell_type": "markdown",
   "metadata": {},
   "source": [
    "## Encapsulation\n",
    "\n",
    "L’**encapsulation** consiste à protéger les données d’un objet en contrôlant leur accès. En Python, elle est conventionnelle (pas strictement privée comme en Java).\n",
    "\n",
    "### Conventions\n",
    "- **Public** : `nom` (accessible partout).\n",
    "- **Protégé** : `_nom` (convention pour indiquer \"usage interne\").\n",
    "- **Privé** : `__nom` (name mangling pour éviter les accès directs).\n",
    "\n",
    "### Exemple\n",
    "Protégeons le salaire d’un employé."
   ]
  },
  {
   "cell_type": "code",
   "execution_count": 9,
   "metadata": {},
   "outputs": [],
   "source": [
    "class Employe:\n",
    "    \"\"\"Classe représentant un employé avec un salaire encapsulé.\"\"\"\n",
    "    \n",
    "    def __init__(self, nom: str, salaire: float):\n",
    "        \"\"\"Initialise un employé.\"\"\"\n",
    "        self.nom = nom          # Public\n",
    "        self._departement = \"Inconnu\"  # Protégé\n",
    "        self.__salaire = salaire       # Privé\n",
    "    \n",
    "    def obtenir_salaire(self) -> float:\n",
    "        \"\"\"Retourne le salaire de l’employé.\"\"\"\n",
    "        return self.__salaire\n",
    "    \n",
    "    def definir_salaire(self, nouveau_salaire: float) -> None:\n",
    "        \"\"\"Définit un nouveau salaire avec validation.\"\"\"\n",
    "        if nouveau_salaire >= 0:\n",
    "            self.__salaire = nouveau_salaire\n",
    "        else:\n",
    "            raise ValueError(\"Le salaire ne peut pas être négatif\")\n",
    "\n"
   ]
  },
  {
   "cell_type": "code",
   "execution_count": 10,
   "metadata": {},
   "outputs": [
    {
     "name": "stdout",
     "output_type": "stream",
     "text": [
      "Salaire : 2000.0\n"
     ]
    }
   ],
   "source": [
    "\n",
    "# Tests\n",
    "emp = Employe(\"Clara\", 2000.0)\n",
    "print(f\"Salaire : {emp.obtenir_salaire()}\") \n"
   ]
  },
  {
   "cell_type": "code",
   "execution_count": 11,
   "metadata": {},
   "outputs": [
    {
     "name": "stdout",
     "output_type": "stream",
     "text": [
      "Nouveau salaire : 2500.0\n"
     ]
    }
   ],
   "source": [
    "\n",
    "emp.definir_salaire(2500.0)\n",
    "print(f\"Nouveau salaire : {emp.obtenir_salaire()}\")  \n"
   ]
  },
  {
   "cell_type": "code",
   "execution_count": 12,
   "metadata": {},
   "outputs": [
    {
     "ename": "AttributeError",
     "evalue": "'Employe' object has no attribute '__salaire'",
     "output_type": "error",
     "traceback": [
      "\u001b[0;31m---------------------------------------------------------------------------\u001b[0m",
      "\u001b[0;31mAttributeError\u001b[0m                            Traceback (most recent call last)",
      "Cell \u001b[0;32mIn[12], line 2\u001b[0m\n\u001b[1;32m      1\u001b[0m \u001b[38;5;66;03m# Accès direct (non recommandé)\u001b[39;00m\n\u001b[0;32m----> 2\u001b[0m \u001b[38;5;28mprint\u001b[39m(\u001b[43memp\u001b[49m\u001b[38;5;241;43m.\u001b[39;49m\u001b[43m__salaire\u001b[49m)\n",
      "\u001b[0;31mAttributeError\u001b[0m: 'Employe' object has no attribute '__salaire'"
     ]
    }
   ],
   "source": [
    "\n",
    "# Accès direct (non recommandé)\n",
    "print(emp.__salaire)\n"
   ]
  },
  {
   "cell_type": "code",
   "execution_count": 13,
   "metadata": {},
   "outputs": [
    {
     "name": "stdout",
     "output_type": "stream",
     "text": [
      "2500.0\n"
     ]
    }
   ],
   "source": [
    "\n",
    "print(emp._Employe__salaire)  "
   ]
  },
  {
   "cell_type": "markdown",
   "metadata": {},
   "source": [
    "- **`nom`** : Public, directement accessible.\n",
    "- **`_departement`** : Protégé, convention pour éviter un usage externe direct.\n",
    "- **`__salaire`** : Privé, masqué via name mangling (`_Employe__salaire`), mais accessible si nécessaire (Python n’est pas strict).\n",
    "- **Méthodes** : `obtenir_salaire` et `definir_salaire` contrôlent l’accès et la modification."
   ]
  },
  {
   "cell_type": "markdown",
   "metadata": {},
   "source": [
    "## Héritage\n",
    "\n",
    "L’**héritage** permet à une classe d’hériter des attributs et méthodes d’une autre classe (classe parent).\n",
    "\n",
    "### Syntaxe\n",
    "```python\n",
    "class Enfant(Parent):\n",
    "    ...\n",
    "```\n",
    "\n",
    "### Exemple\n",
    "\n",
    "Créons une classe `Manager` héritant de `Employe`."
   ]
  },
  {
   "cell_type": "code",
   "execution_count": 14,
   "metadata": {},
   "outputs": [],
   "source": [
    "class Employe:\n",
    "    \"\"\"Classe de base pour un employé.\"\"\"\n",
    "    \n",
    "    def __init__(self, nom: str, salaire: float):\n",
    "        self.nom = nom\n",
    "        self.__salaire = salaire\n",
    "    \n",
    "    def obtenir_salaire(self) -> float:\n",
    "        return self.__salaire\n",
    "    \n",
    "    def travailler(self) -> str:\n",
    "        return f\"{self.nom} travaille.\"\n",
    "\n",
    "\n",
    "class Manager(Employe):\n",
    "    \"\"\"Classe dérivée représentant un manager.\"\"\"\n",
    "    \n",
    "    def __init__(self, nom: str, salaire: float, equipe: int):\n",
    "        super().__init__(nom, salaire)  # Appelle le constructeur parent\n",
    "        self.equipe = equipe\n",
    "    \n",
    "    def travailler(self) -> str:  # Redéfinition\n",
    "        return f\"{self.nom} gère une équipe de {self.equipe} personnes.\"\n",
    "\n"
   ]
  },
  {
   "cell_type": "code",
   "execution_count": 15,
   "metadata": {},
   "outputs": [
    {
     "name": "stdout",
     "output_type": "stream",
     "text": [
      "Bob travaille.\n"
     ]
    }
   ],
   "source": [
    "\n",
    "# Tests\n",
    "emp = Employe(\"Bob\", 2000.0)\n",
    "mgr = Manager(\"Alice\", 4000.0, 5)\n",
    "print(emp.travailler())  \n"
   ]
  },
  {
   "cell_type": "code",
   "execution_count": 16,
   "metadata": {},
   "outputs": [
    {
     "name": "stdout",
     "output_type": "stream",
     "text": [
      "Alice gère une équipe de 5 personnes.\n"
     ]
    }
   ],
   "source": [
    "\n",
    "print(mgr.travailler())  \n"
   ]
  },
  {
   "cell_type": "code",
   "execution_count": 17,
   "metadata": {},
   "outputs": [
    {
     "name": "stdout",
     "output_type": "stream",
     "text": [
      "4000.0\n"
     ]
    }
   ],
   "source": [
    "print(mgr.obtenir_salaire())  "
   ]
  },
  {
   "cell_type": "markdown",
   "metadata": {},
   "source": [
    "## Analyse de l’Héritage\n",
    "\n",
    "- **`Employe`** : Classe parent avec des attributs et méthodes de base.\n",
    "- **`Manager`** : Classe enfant qui hérite via `(Employe)` et ajoute `equipe`.\n",
    "- **`super()`** : Appelle `__init__` du parent pour initialiser `nom` et `salaire`.\n",
    "- **Redéfinition** : `travailler()` est adapté dans `Manager`.\n",
    "\n",
    "Ceci nous amène au polymorphisme !"
   ]
  },
  {
   "cell_type": "markdown",
   "metadata": {},
   "source": [
    "## Polymorphisme\n",
    "\n",
    "Le **polymorphisme** permet à des objets de différentes classes de répondre différemment à une même méthode, grâce à la redéfinition ou à l’héritage.\n",
    "\n",
    "### Exemple\n",
    "Utilisons une liste d’employés pour montrer le polymorphisme."
   ]
  },
  {
   "cell_type": "code",
   "execution_count": 18,
   "metadata": {},
   "outputs": [],
   "source": [
    "class Employe:\n",
    "    def __init__(self, nom: str, salaire: float):\n",
    "        self.nom = nom\n",
    "        self.__salaire = salaire\n",
    "    \n",
    "    def travailler(self) -> str:\n",
    "        return f\"{self.nom} travaille.\"\n",
    "\n",
    "\n",
    "class Manager(Employe):\n",
    "    def travailler(self) -> str:\n",
    "        return f\"{self.nom} gère son équipe.\"\n",
    "\n",
    "\n",
    "class Developpeur(Employe):\n",
    "    def travailler(self) -> str:\n",
    "        return f\"{self.nom} code des programmes.\"\n"
   ]
  },
  {
   "cell_type": "code",
   "execution_count": 19,
   "metadata": {},
   "outputs": [],
   "source": [
    "\n",
    "# Liste d’objets\n",
    "equipe = [\n",
    "    Employe(\"Clara\", 2000.0),\n",
    "    Manager(\"Alice\", 4000.0),\n",
    "    Developpeur(\"Bob\", 2500.0)\n",
    "]\n"
   ]
  },
  {
   "cell_type": "code",
   "execution_count": 20,
   "metadata": {},
   "outputs": [
    {
     "name": "stdout",
     "output_type": "stream",
     "text": [
      "Clara travaille.\n",
      "Alice gère son équipe.\n",
      "Bob code des programmes.\n"
     ]
    }
   ],
   "source": [
    "\n",
    "# Polymorphisme en action\n",
    "for membre in equipe:\n",
    "    print(membre.travailler())\n"
   ]
  },
  {
   "cell_type": "markdown",
   "metadata": {},
   "source": [
    "## Exemple Avancé : Classe Complète avec POO\n",
    "\n",
    "Mettons tout ensemble : encapsulation, héritage, polymorphisme et méthodes spéciales."
   ]
  },
  {
   "cell_type": "code",
   "execution_count": 21,
   "metadata": {},
   "outputs": [],
   "source": [
    "from typing import List\n",
    "\n",
    "\n",
    "class Vehicule:\n",
    "    \"\"\"Classe de base pour un véhicule.\"\"\"\n",
    "    \n",
    "    def __init__(self, marque: str, vitesse_max: float):\n",
    "        self._marque = marque\n",
    "        self.__vitesse_max = vitesse_max\n",
    "    \n",
    "    def __str__(self) -> str:\n",
    "        return f\"Véhicule {self._marque}\"\n",
    "    \n",
    "    def __eq__(self, autre: 'Vehicule') -> bool:\n",
    "        # deux véhicules sont égaux s'ils ont la même marque et vitesse max (tous les attributs)\n",
    "        return self._marque == autre._marque and self.__vitesse_max == autre.__vitesse_max\n",
    "    \n",
    "    def deplacer(self) -> str:\n",
    "        return f\"Le véhicule {self._marque} se déplace.\"\n",
    "\n",
    "\n",
    "class Voiture(Vehicule):\n",
    "    \"\"\"Classe dérivée pour une voiture.\"\"\"\n",
    "    \n",
    "    def __init__(self, marque: str, vitesse_max: float, portes: int):\n",
    "        super().__init__(marque, vitesse_max)\n",
    "        self.portes = portes\n",
    "    \n",
    "    def deplacer(self) -> str:\n",
    "        return f\"La voiture {self._marque} roule à {self.portes} portes.\"\n",
    "\n",
    "\n",
    "class Moto(Vehicule):\n",
    "    \"\"\"Classe dérivée pour une moto.\"\"\"\n",
    "    \n",
    "    def deplacer(self) -> str:\n",
    "        return f\"La moto {self._marque} fonce !\"\n"
   ]
  },
  {
   "cell_type": "code",
   "execution_count": 22,
   "metadata": {},
   "outputs": [],
   "source": [
    "\n",
    "# Tests\n",
    "vehicules: List[Vehicule] = [\n",
    "    Voiture(\"Peugeot\", 180.0, 4),\n",
    "    Moto(\"Honda\", 200.0)\n",
    "]"
   ]
  },
  {
   "cell_type": "code",
   "execution_count": 23,
   "metadata": {},
   "outputs": [
    {
     "name": "stdout",
     "output_type": "stream",
     "text": [
      "La voiture Peugeot roule à 4 portes.\n",
      "La moto Honda fonce !\n",
      "True\n"
     ]
    }
   ],
   "source": [
    "\n",
    "for v in vehicules:\n",
    "    print(v.deplacer())\n",
    "\n",
    "v1 = Voiture(\"Toyota\", 150.0, 4)\n",
    "v2 = Voiture(\"Toyota\", 150.0, 5)\n",
    "print(v1 == v2)  "
   ]
  },
  {
   "cell_type": "markdown",
   "metadata": {},
   "source": [
    "- **Encapsulation** : `_marque` (protégé), `__vitesse_max` (privé).\n",
    "- **Héritage** : `Voiture` et `Moto` héritent de `Vehicule`.\n",
    "- **Polymorphisme** : `deplacer()` varie selon la classe.\n",
    "- **Méthodes spéciales** :\n",
    "  - `__str__` : Représentation personnalisée.\n",
    "  - `__eq__` : Comparaison d’égalité basée sur les attributs.\n",
    "- **Typage** : Annotations pour les paramètres et retours.\n"
   ]
  },
  {
   "cell_type": "markdown",
   "metadata": {},
   "source": [
    "## Conclusion\n",
    "\n",
    "Cette section vous a permis de maîtriser :\n",
    "- Les **classes et objets** avec attributs et méthodes.\n",
    "- Les **méthodes spéciales** (`__init__`, `__str__`, `__repr__`, `__eq__`) pour personnaliser les objets.\n",
    "- L’**encapsulation** pour protéger les données.\n",
    "- L’**héritage** pour réutiliser et étendre le code.\n",
    "- Le **polymorphisme** pour une flexibilité comportementale.\n",
    "\n",
    "La POO structure vos programmes de manière puissante et intuitive. Expérimentez avec ces concepts pour créer vos propres hiérarchies de classes !"
   ]
  },
  {
   "cell_type": "markdown",
   "metadata": {},
   "source": []
  }
 ],
 "metadata": {
  "kernelspec": {
   "display_name": "fast_env",
   "language": "python",
   "name": "python3"
  },
  "language_info": {
   "codemirror_mode": {
    "name": "ipython",
    "version": 3
   },
   "file_extension": ".py",
   "mimetype": "text/x-python",
   "name": "python",
   "nbconvert_exporter": "python",
   "pygments_lexer": "ipython3",
   "version": "3.11.0"
  }
 },
 "nbformat": 4,
 "nbformat_minor": 2
}
