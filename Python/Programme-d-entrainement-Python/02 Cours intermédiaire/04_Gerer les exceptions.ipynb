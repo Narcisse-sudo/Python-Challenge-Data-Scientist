{
 "cells": [
  {
   "cell_type": "markdown",
   "metadata": {},
   "source": [
    "# Gestion des Exceptions en Python\n",
    "\n",
    "Dans cette section, nous allons explorer les **mécanismes de gestion des exceptions** en Python avec **`try`, `except`, `finally`**, l’utilisation de **`assert`** et **`raise`** pour valider et lever des erreurs, ainsi que la **création d’exceptions personnalisées** pour des cas spécifiques.\n",
    "\n",
    "## Pourquoi Gérer les Exceptions ?\n",
    "Les exceptions permettent de gérer les erreurs de manière contrôlée, évitant les arrêts brutaux du programme et offrant des messages clairs aux utilisateurs ou développeurs.\n",
    "\n",
    "Commençons par `try`, `except` et `finally` !"
   ]
  },
  {
   "cell_type": "markdown",
   "metadata": {},
   "source": [
    "## Mécanismes `try`, `except`, `finally`\n",
    "\n",
    "Ces blocs permettent de capturer et gérer les exceptions.\n",
    "\n",
    "### Syntaxe\n",
    "```py\n",
    "try:\n",
    "    # Code susceptible de lever une exception\n",
    "except Exception as e:\n",
    "    # Gestion de l’exception\n",
    "finally:\n",
    "    # Code exécuté quoi qu’il arrive\n",
    "```\n",
    "\n",
    "### Fonctionnalités\n",
    "\n",
    "- `try` : Contient le code à risque.\n",
    "- `except` : Capture les erreurs spécifiques ou générales.\n",
    "- `finally` : S’exécute toujours (ex. : fermer un fichier).\n",
    "\n",
    "### Exemple Simple\n",
    "\n",
    "Divisons deux nombres avec gestion d’erreur."
   ]
  },
  {
   "cell_type": "code",
   "execution_count": 1,
   "metadata": {},
   "outputs": [],
   "source": [
    "def diviser(a: float, b: float) -> float:\n",
    "    \"\"\"Divise a par b avec gestion des erreurs.\"\"\"\n",
    "    try:\n",
    "        resultat = a / b\n",
    "    except ZeroDivisionError:\n",
    "        print(\"Erreur : Division par zéro détectée.\")\n",
    "        return 0.0\n",
    "    except TypeError as e:\n",
    "        print(f\"Erreur de type : {e}\")\n",
    "        return 0.0\n",
    "    finally:\n",
    "        print(\"Opération terminée.\")\n",
    "    return resultat\n",
    "\n"
   ]
  },
  {
   "cell_type": "code",
   "execution_count": null,
   "metadata": {},
   "outputs": [
    {
     "name": "stdout",
     "output_type": "stream",
     "text": [
      "Opération terminée.\n",
      "5.0\n"
     ]
    }
   ],
   "source": [
    "# division de 10 par 2\n",
    "print(diviser(10, 2))   \n"
   ]
  },
  {
   "cell_type": "code",
   "execution_count": null,
   "metadata": {},
   "outputs": [
    {
     "name": "stdout",
     "output_type": "stream",
     "text": [
      "Erreur : Division par zéro détectée.\n",
      "Opération terminée.\n",
      "0.0\n"
     ]
    }
   ],
   "source": [
    "# division de 5 par 0\n",
    "print(diviser(5, 0))  \n"
   ]
  },
  {
   "cell_type": "code",
   "execution_count": null,
   "metadata": {},
   "outputs": [
    {
     "name": "stdout",
     "output_type": "stream",
     "text": [
      "Erreur de type : unsupported operand type(s) for /: 'int' and 'str'\n",
      "Opération terminée.\n",
      "0.0\n"
     ]
    }
   ],
   "source": [
    "# division de 10 par \"2\" \n",
    "print(diviser(10, \"2\"))  "
   ]
  },
  {
   "cell_type": "markdown",
   "metadata": {},
   "source": [
    "\n",
    "- **`try`** : Contient la division risquée.\n",
    "- **`except ZeroDivisionError`** : Capture spécifiquement la division par zéro.\n",
    "- **`except TypeError`** : Capture les erreurs de type (ex. : chaîne au lieu de nombre).\n",
    "- **`finally`** : S’exécute dans tous les cas, utile pour des nettoyages.\n",
    "\n",
    "Passons à `assert` et `raise` !"
   ]
  },
  {
   "cell_type": "markdown",
   "metadata": {},
   "source": [
    "## Utilisation de `assert` et `raise`\n",
    "\n",
    "### `assert`\n",
    "Valide une condition ; lève une `AssertionError` si fausse. Utile pour le débogage ou les invariants.\n",
    "\n",
    "### `raise`\n",
    "Lève une exception explicitement quand une condition est remplie.\n",
    "\n",
    "### Syntaxe\n",
    "```python\n",
    "assert condition, \"message\"\n",
    "raise Exception(\"message\")\n",
    "```\n",
    "\n",
    "### Exemple\n",
    "\n",
    "Validons des entrées."
   ]
  },
  {
   "cell_type": "code",
   "execution_count": null,
   "metadata": {},
   "outputs": [
    {
     "name": "stdout",
     "output_type": "stream",
     "text": [
      "16\n",
      "Erreur d’assertion : Le paramètre doit être un nombre\n",
      "Erreur levée : Le nombre ne peut pas être négatif\n"
     ]
    }
   ],
   "source": [
    "def calculer_carre(nombre: float) -> float:\n",
    "    \"\"\"Calcule le carré d’un nombre avec validation.\"\"\"\n",
    "    # Utilisation de assert pour valider une condition\n",
    "    assert isinstance(nombre, (int, float)), \"Le paramètre doit être un nombre\"\n",
    "    \n",
    "    # Utilisation de raise pour une condition personnalisée\n",
    "    if nombre < 0:\n",
    "        raise ValueError(\"Le nombre ne peut pas être négatif\")\n",
    "    \n",
    "    return nombre ** 2\n",
    "\n"
   ]
  },
  {
   "cell_type": "code",
   "execution_count": null,
   "metadata": {},
   "outputs": [],
   "source": [
    "\n",
    "# Tests\n",
    "print(calculer_carre(4))\n"
   ]
  },
  {
   "cell_type": "code",
   "execution_count": null,
   "metadata": {},
   "outputs": [],
   "source": [
    "\n",
    "# AssertionError\n",
    "try:\n",
    "    calculer_carre(\"quatre\")\n",
    "except AssertionError as e:\n",
    "    print(f\"Erreur d’assertion : {e}\")\n"
   ]
  },
  {
   "cell_type": "code",
   "execution_count": null,
   "metadata": {},
   "outputs": [],
   "source": [
    "\n",
    "# ValueError\n",
    "try:\n",
    "    calculer_carre(-2)\n",
    "except ValueError as e:\n",
    "    print(f\"Erreur levée : {e}\")"
   ]
  },
  {
   "cell_type": "markdown",
   "metadata": {},
   "source": [
    "- **`assert`** : Vérifie que `nombre` est un type numérique ; échoue avec `AssertionError` sinon (débogage).\n",
    "- **`raise`** : Lève une `ValueError` pour les nombres négatifs, avec un message explicite.\n",
    "- **Différence** : `assert` est désactivable en production (`python -O`), `raise` est permanent.\n",
    "\n",
    "Passons aux exceptions personnalisées !"
   ]
  },
  {
   "cell_type": "markdown",
   "metadata": {},
   "source": [
    "## Création d’Exceptions Personnalisées\n",
    "\n",
    "Les exceptions personnalisées permettent de définir des erreurs spécifiques à une logique métier.\n",
    "\n",
    "### Syntaxe\n",
    "```python\n",
    "class MonException(Exception):\n",
    "    pass\n",
    "```\n",
    "\n",
    "### Fonctionnalités\n",
    "\n",
    "- Hérite de `Exception` ou d’une sous-classe.\n",
    "- Ajoute des attributs ou méthodes pour plus de contexte.\n",
    "\n",
    "### Exemple Simple\n",
    "\n",
    "Créons une exception pour une banque."
   ]
  },
  {
   "cell_type": "code",
   "execution_count": 5,
   "metadata": {},
   "outputs": [],
   "source": [
    "class SoldeInsuffisantError(Exception):\n",
    "    \"\"\"Exception levée quand le solde est insuffisant.\"\"\"\n",
    "    pass\n",
    "\n",
    "\n",
    "class CompteBancaire:\n",
    "    def __init__(self, solde_initial: float):\n",
    "        self.solde = solde_initial\n",
    "    \n",
    "    def retirer(self, montant: float) -> None:\n",
    "        \"\"\"Retire un montant du compte.\"\"\"\n",
    "        if montant > self.solde:\n",
    "            raise SoldeInsuffisantError(\"Solde insuffisant pour ce retrait\")\n",
    "        self.solde -= montant\n",
    "\n"
   ]
  },
  {
   "cell_type": "code",
   "execution_count": 6,
   "metadata": {},
   "outputs": [
    {
     "name": "stdout",
     "output_type": "stream",
     "text": [
      "Erreur : Solde insuffisant pour ce retrait\n"
     ]
    }
   ],
   "source": [
    "\n",
    "# Tests\n",
    "compte = CompteBancaire(100.0)\n",
    "try:\n",
    "    compte.retirer(150.0)\n",
    "except SoldeInsuffisantError as e:\n",
    "    print(f\"Erreur : {e}\")  "
   ]
  },
  {
   "cell_type": "markdown",
   "metadata": {},
   "source": [
    "## Exception Personnalisée Avancée\n",
    "\n",
    "Ajoutons des informations supplémentaires à une exception.\n",
    "\n",
    "### Exemple\n",
    "Exception avec détails sur une opération."
   ]
  },
  {
   "cell_type": "code",
   "execution_count": null,
   "metadata": {},
   "outputs": [
    {
     "name": "stdout",
     "output_type": "stream",
     "text": [
      "Erreur : Retrait impossible : solde insuffisant\n",
      "Solde actuel : 200.0, Montant demandé : 250.0\n"
     ]
    }
   ],
   "source": [
    "class OperationInvalideError(Exception):\n",
    "    \"\"\"Exception levée pour une opération bancaire invalide.\"\"\"\n",
    "    \n",
    "    def __init__(self, message: str, solde: float, montant: float):\n",
    "        self.solde = solde\n",
    "        self.montant = montant\n",
    "        super().__init__(message)\n",
    "\n"
   ]
  },
  {
   "cell_type": "code",
   "execution_count": null,
   "metadata": {},
   "outputs": [],
   "source": [
    "\n",
    "class CompteBancaire:\n",
    "    def __init__(self, solde_initial: float):\n",
    "        self.solde = solde_initial\n",
    "    \n",
    "    def retirer(self, montant: float) -> None:\n",
    "        \"\"\"Retire un montant du compte avec validation.\"\"\"\n",
    "        if montant <= 0:\n",
    "            raise ValueError(\"Le montant doit être positif\")\n",
    "        if montant > self.solde:\n",
    "            raise OperationInvalideError(\n",
    "                \"Retrait impossible : solde insuffisant\",\n",
    "                solde=self.solde,\n",
    "                montant=montant\n",
    "            )\n",
    "        self.solde -= montant\n",
    "\n"
   ]
  },
  {
   "cell_type": "code",
   "execution_count": null,
   "metadata": {},
   "outputs": [],
   "source": [
    "\n",
    "# Tests\n",
    "compte = CompteBancaire(200.0)\n",
    "try:\n",
    "    compte.retirer(250.0)\n",
    "except OperationInvalideError as e:\n",
    "    print(f\"Erreur : {e}\")\n",
    "    print(f\"Solde actuel : {e.solde}, Montant demandé : {e.montant}\")"
   ]
  },
  {
   "cell_type": "markdown",
   "metadata": {},
   "source": [
    "## Conclusion\n",
    "\n",
    "Cette section vous a permis de maîtriser :\n",
    "- **`try`, `except`, `finally`** : Gestion des exceptions avec nettoyage garanti.\n",
    "- **`assert`** et **`raise`** : Validation et levée d’erreurs explicites.\n",
    "- **Exceptions personnalisées** : Création de classes d’erreurs spécifiques avec contexte.\n",
    "\n",
    "La gestion des exceptions est cruciale pour des programmes robustes et informatifs. Expérimentez avec ces outils pour sécuriser vos applications !"
   ]
  }
 ],
 "metadata": {
  "kernelspec": {
   "display_name": "fast_env",
   "language": "python",
   "name": "python3"
  },
  "language_info": {
   "codemirror_mode": {
    "name": "ipython",
    "version": 3
   },
   "file_extension": ".py",
   "mimetype": "text/x-python",
   "name": "python",
   "nbconvert_exporter": "python",
   "pygments_lexer": "ipython3",
   "version": "3.11.0"
  }
 },
 "nbformat": 4,
 "nbformat_minor": 2
}
