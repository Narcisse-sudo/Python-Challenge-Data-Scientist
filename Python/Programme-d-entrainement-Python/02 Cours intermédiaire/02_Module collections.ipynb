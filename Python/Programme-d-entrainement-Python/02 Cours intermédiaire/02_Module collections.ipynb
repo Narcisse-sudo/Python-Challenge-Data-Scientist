{
 "cells": [
  {
   "cell_type": "markdown",
   "metadata": {},
   "source": [
    "# Collections en Python : Counter, defaultdict, OrderedDict, etc.\n",
    "\n",
    "Dans cette section, nous allons explorer le module **`collections`**, qui fournit des structures de données spécialisées améliorant les types built-in comme les listes, dictionnaires et tuples. Nous nous concentrerons sur **`Counter`**, **`defaultdict`**, **`OrderedDict`**, et d'autres outils utiles.\n",
    "\n",
    "## Qu’est-ce que `collections` ?\n",
    "Le module `collections` offre des alternatives optimisées aux structures de données standard, adaptées à des besoins spécifiques comme le comptage, la gestion de valeurs par défaut ou l’ordre des éléments.\n",
    "\n",
    "Commençons par `Counter` !"
   ]
  },
  {
   "cell_type": "markdown",
   "metadata": {},
   "source": [
    "## Utilisation de `Counter`\n",
    "\n",
    "`Counter` est une sous-classe de dictionnaire conçue pour compter les occurrences d’éléments dans une séquence.\n",
    "\n",
    "### Importation\n",
    "```py\n",
    "from collections import Counter\n",
    "```\n",
    "\n",
    "### Fonctionnalités\n",
    "\n",
    "- Compte automatiquement les éléments.\n",
    "- Supporte des opérations comme l’addition ou la soustraction de compteurs.\n",
    "\n",
    "### Exemple Simple\n",
    "\n",
    "Comptons les éléments d’une liste."
   ]
  },
  {
   "cell_type": "code",
   "execution_count": 1,
   "metadata": {},
   "outputs": [],
   "source": [
    "from collections import Counter\n"
   ]
  },
  {
   "cell_type": "code",
   "execution_count": 2,
   "metadata": {},
   "outputs": [
    {
     "name": "stdout",
     "output_type": "stream",
     "text": [
      "Compte des fruits : Counter({'pomme': 3, 'banane': 2, 'orange': 1})\n"
     ]
    }
   ],
   "source": [
    "\n",
    "# Compter les éléments d’une liste\n",
    "fruits = [\"pomme\", \"banane\", \"pomme\", \"orange\", \"banane\", \"pomme\"]\n",
    "compteur = Counter(fruits)\n",
    "\n",
    "print(\"Compte des fruits :\", compteur)  \n"
   ]
  },
  {
   "cell_type": "code",
   "execution_count": 3,
   "metadata": {},
   "outputs": [
    {
     "name": "stdout",
     "output_type": "stream",
     "text": [
      "Nombre de pommes : 3\n"
     ]
    }
   ],
   "source": [
    "\n",
    "# Accéder à un élément\n",
    "print(\"Nombre de pommes :\", compteur[\"pomme\"])  \n"
   ]
  },
  {
   "cell_type": "code",
   "execution_count": 4,
   "metadata": {},
   "outputs": [
    {
     "name": "stdout",
     "output_type": "stream",
     "text": [
      "Nombre de kiwis : 0\n"
     ]
    }
   ],
   "source": [
    "\n",
    "# Éléments absents \n",
    "print(\"Nombre de kiwis :\", compteur[\"kiwi\"])  \n"
   ]
  },
  {
   "cell_type": "code",
   "execution_count": 5,
   "metadata": {},
   "outputs": [
    {
     "name": "stdout",
     "output_type": "stream",
     "text": [
      "Top 2 : [('pomme', 3), ('banane', 2)]\n"
     ]
    }
   ],
   "source": [
    "\n",
    "# Liste des éléments les plus fréquents\n",
    "print(\"Top 2 :\", compteur.most_common(2)) "
   ]
  },
  {
   "cell_type": "markdown",
   "metadata": {},
   "source": [
    "### Opérations avec `Counter`\n",
    "`Counter` permet des opérations arithmétiques comme l’addition ou l’intersection.\n",
    "\n",
    "### Exemple\n",
    "Comptons et combinons deux ensembles."
   ]
  },
  {
   "cell_type": "code",
   "execution_count": 6,
   "metadata": {},
   "outputs": [],
   "source": [
    "from collections import Counter\n"
   ]
  },
  {
   "cell_type": "code",
   "execution_count": 7,
   "metadata": {},
   "outputs": [],
   "source": [
    "\n",
    "# Deux compteurs\n",
    "c1 = Counter(\"aabbbcc\")\n",
    "c2 = Counter(\"abbc\")\n"
   ]
  },
  {
   "cell_type": "code",
   "execution_count": 8,
   "metadata": {},
   "outputs": [
    {
     "name": "stdout",
     "output_type": "stream",
     "text": [
      "c1 : Counter({'b': 3, 'a': 2, 'c': 2})\n",
      "c2 : Counter({'b': 2, 'a': 1, 'c': 1})\n"
     ]
    }
   ],
   "source": [
    "\n",
    "print(\"c1 :\", c1)  \n",
    "print(\"c2 :\", c2) \n"
   ]
  },
  {
   "cell_type": "code",
   "execution_count": 9,
   "metadata": {},
   "outputs": [
    {
     "name": "stdout",
     "output_type": "stream",
     "text": [
      "Total (addition) : Counter({'b': 5, 'a': 3, 'c': 3})\n"
     ]
    }
   ],
   "source": [
    "\n",
    "# Addition\n",
    "total = c1 + c2\n",
    "print(\"Total (addition) :\", total)  \n"
   ]
  },
  {
   "cell_type": "code",
   "execution_count": 10,
   "metadata": {},
   "outputs": [
    {
     "name": "stdout",
     "output_type": "stream",
     "text": [
      "Intersection (&) : Counter({'b': 2, 'a': 1, 'c': 1})\n"
     ]
    }
   ],
   "source": [
    "\n",
    "# Intersection (minimum)\n",
    "commun = c1 & c2\n",
    "print(\"Intersection (&) :\", commun)  \n"
   ]
  },
  {
   "cell_type": "code",
   "execution_count": 11,
   "metadata": {},
   "outputs": [
    {
     "name": "stdout",
     "output_type": "stream",
     "text": [
      "Différence (-) : Counter({'a': 1, 'b': 1, 'c': 1})\n"
     ]
    }
   ],
   "source": [
    "\n",
    "# Différence (soustraction)\n",
    "difference = c1 - c2\n",
    "print(\"Différence (-) :\", difference)  "
   ]
  },
  {
   "cell_type": "markdown",
   "metadata": {},
   "source": [
    "## Utilisation de `defaultdict`\n",
    "\n",
    "`defaultdict` est une sous-classe de dictionnaire qui fournit une valeur par défaut pour les clés absentes, évitant les `KeyError`.\n",
    "\n",
    "### Importation\n",
    "```python\n",
    "from collections import defaultdict\n",
    "```\n",
    "\n",
    "### Fonctionnalités\n",
    "\n",
    "- Définit une usine (factory) pour les valeurs par défaut (ex. : int, list).\n",
    "- Simplifie l’initialisation de structures complexes.\n",
    "\n",
    "### Exemple Simple\n",
    "\n",
    "Regroupons des éléments par catégorie."
   ]
  },
  {
   "cell_type": "code",
   "execution_count": 12,
   "metadata": {},
   "outputs": [],
   "source": [
    "from collections import defaultdict\n"
   ]
  },
  {
   "cell_type": "code",
   "execution_count": 13,
   "metadata": {},
   "outputs": [],
   "source": [
    "\n",
    "# Dictionnaire avec liste par défaut\n",
    "groupes = defaultdict(list)\n"
   ]
  },
  {
   "cell_type": "code",
   "execution_count": 14,
   "metadata": {},
   "outputs": [
    {
     "name": "stdout",
     "output_type": "stream",
     "text": [
      "Groupes : {'fruit': ['pomme', 'banane'], 'légume': ['carotte']}\n"
     ]
    }
   ],
   "source": [
    "\n",
    "# Ajouter des éléments sans initialisation explicite\n",
    "donnees = [(\"fruit\", \"pomme\"), (\"légume\", \"carotte\"), (\"fruit\", \"banane\")]\n",
    "for categorie, item in donnees:\n",
    "    groupes[categorie].append(item)\n",
    "\n",
    "print(\"Groupes :\", dict(groupes))  \n"
   ]
  },
  {
   "cell_type": "code",
   "execution_count": 15,
   "metadata": {},
   "outputs": [
    {
     "ename": "KeyError",
     "evalue": "'inconnu'",
     "output_type": "error",
     "traceback": [
      "\u001b[0;31m---------------------------------------------------------------------------\u001b[0m",
      "\u001b[0;31mKeyError\u001b[0m                                  Traceback (most recent call last)",
      "Cell \u001b[0;32mIn[15], line 3\u001b[0m\n\u001b[1;32m      1\u001b[0m \u001b[38;5;66;03m# Comparaison avec dict classique\u001b[39;00m\n\u001b[1;32m      2\u001b[0m d \u001b[38;5;241m=\u001b[39m {}\n\u001b[0;32m----> 3\u001b[0m \u001b[43md\u001b[49m\u001b[43m[\u001b[49m\u001b[38;5;124;43m\"\u001b[39;49m\u001b[38;5;124;43minconnu\u001b[39;49m\u001b[38;5;124;43m\"\u001b[39;49m\u001b[43m]\u001b[49m\u001b[38;5;241m.\u001b[39mappend(\u001b[38;5;124m\"\u001b[39m\u001b[38;5;124mtest\u001b[39m\u001b[38;5;124m\"\u001b[39m)  \u001b[38;5;66;03m# Erreur : KeyError\u001b[39;00m\n",
      "\u001b[0;31mKeyError\u001b[0m: 'inconnu'"
     ]
    }
   ],
   "source": [
    "\n",
    "# Comparaison avec dict classique\n",
    "d = {}\n",
    "d[\"inconnu\"].append(\"test\")  # Erreur : KeyError\n"
   ]
  },
  {
   "cell_type": "code",
   "execution_count": 32,
   "metadata": {},
   "outputs": [
    {
     "name": "stdout",
     "output_type": "stream",
     "text": [
      "Avec inconnu : {'fruit': ['pomme', 'banane'], 'légume': ['carotte'], 'inconnu': ['test']}\n"
     ]
    }
   ],
   "source": [
    "\n",
    "# Avec defaultdict, pas d’erreur\n",
    "groupes[\"inconnu\"].append(\"test\")\n",
    "print(\"Avec inconnu :\", dict(groupes))"
   ]
  },
  {
   "cell_type": "markdown",
   "metadata": {},
   "source": [
    "### `defaultdict` avec `int`\n",
    "Utilisons `int` comme usine pour compter (similaire à `Counter`).\n",
    "\n",
    "### Exemple\n",
    "Comptons des occurrences."
   ]
  },
  {
   "cell_type": "code",
   "execution_count": 16,
   "metadata": {},
   "outputs": [],
   "source": [
    "from collections import defaultdict\n"
   ]
  },
  {
   "cell_type": "code",
   "execution_count": 17,
   "metadata": {},
   "outputs": [
    {
     "name": "stdout",
     "output_type": "stream",
     "text": [
      "Compte des lettres : {'a': 5, 'b': 2, 'r': 2, 'c': 1, 'd': 1}\n"
     ]
    }
   ],
   "source": [
    "\n",
    "# Compteur avec defaultdict(int)\n",
    "compteur = defaultdict(int)\n",
    "\n",
    "texte = \"abracadabra\"\n",
    "for lettre in texte:\n",
    "    compteur[lettre] += 1\n",
    "\n",
    "print(\"Compte des lettres :\", dict(compteur))  "
   ]
  },
  {
   "cell_type": "markdown",
   "metadata": {},
   "source": [
    "## Utilisation de `OrderedDict`\n",
    "\n",
    "`OrderedDict` est une sous-classe de dictionnaire qui conserve l’ordre d’insertion des clés (utile avant Python 3.7, où les dictionnaires standards ne le faisaient pas).\n",
    "\n",
    "### Importation\n",
    "```python\n",
    "from collections import OrderedDict\n",
    "```\n",
    "\n",
    "### Fonctionnalités\n",
    "\n",
    "- Maintient l’ordre des éléments.\n",
    "- Utile pour des structures ordonnées spécifiques.\n",
    "\n",
    "### Exemple Simple\n",
    "\n",
    "Créons un dictionnaire ordonné."
   ]
  },
  {
   "cell_type": "code",
   "execution_count": 18,
   "metadata": {},
   "outputs": [],
   "source": [
    "from collections import OrderedDict\n"
   ]
  },
  {
   "cell_type": "code",
   "execution_count": 19,
   "metadata": {},
   "outputs": [
    {
     "name": "stdout",
     "output_type": "stream",
     "text": [
      "OrderedDict : OrderedDict([('c', 3), ('a', 1), ('b', 2)])\n"
     ]
    }
   ],
   "source": [
    "\n",
    "# OrderedDict\n",
    "od = OrderedDict()\n",
    "od[\"c\"] = 3\n",
    "od[\"a\"] = 1\n",
    "od[\"b\"] = 2\n",
    "\n",
    "print(\"OrderedDict :\", od)  \n"
   ]
  },
  {
   "cell_type": "code",
   "execution_count": 20,
   "metadata": {},
   "outputs": [
    {
     "name": "stdout",
     "output_type": "stream",
     "text": [
      "c : 3\n",
      "a : 1\n",
      "b : 2\n"
     ]
    }
   ],
   "source": [
    "\n",
    "# Itération dans l’ordre d’insertion\n",
    "for cle, valeur in od.items():\n",
    "    print(f\"{cle} : {valeur}\")\n"
   ]
  },
  {
   "cell_type": "code",
   "execution_count": 21,
   "metadata": {},
   "outputs": [
    {
     "name": "stdout",
     "output_type": "stream",
     "text": [
      "Dict standard : {'c': 3, 'a': 1, 'b': 2}\n"
     ]
    }
   ],
   "source": [
    "\n",
    "# Comparaison avec dict standard (depuis 3.7, ordre conservé aussi)\n",
    "d = {\"c\": 3, \"a\": 1, \"b\": 2}\n",
    "print(\"Dict standard :\", d)  "
   ]
  },
  {
   "cell_type": "markdown",
   "metadata": {},
   "source": [
    "## Autres Outils de `collections`\n",
    "\n",
    "### `namedtuple`\n",
    "Crée des tuples avec des noms d’attributs pour une meilleure lisibilité.\n",
    "\n",
    "### `deque`\n",
    "Liste doublement chaînée pour des ajouts/suppressions rapides aux extrémités.\n",
    "\n",
    "### Exemple avec `namedtuple`\n",
    "Représentons un point en 2D."
   ]
  },
  {
   "cell_type": "code",
   "execution_count": 22,
   "metadata": {},
   "outputs": [
    {
     "name": "stdout",
     "output_type": "stream",
     "text": [
      "Point : Point(x=3, y=4)\n",
      "X : 3 Y : 4\n"
     ]
    }
   ],
   "source": [
    "from collections import namedtuple\n",
    "\n",
    "# Définir un namedtuple\n",
    "Point = namedtuple(\"Point\", [\"x\", \"y\"])\n",
    "\n",
    "# Créer une instance\n",
    "p = Point(3, 4)\n",
    "print(\"Point :\", p)         \n",
    "print(\"X :\", p.x, \"Y :\", p.y) \n"
   ]
  },
  {
   "cell_type": "code",
   "execution_count": 23,
   "metadata": {},
   "outputs": [
    {
     "ename": "AttributeError",
     "evalue": "can't set attribute",
     "output_type": "error",
     "traceback": [
      "\u001b[0;31m---------------------------------------------------------------------------\u001b[0m",
      "\u001b[0;31mAttributeError\u001b[0m                            Traceback (most recent call last)",
      "Cell \u001b[0;32mIn[23], line 2\u001b[0m\n\u001b[1;32m      1\u001b[0m \u001b[38;5;66;03m# Immutabilité\u001b[39;00m\n\u001b[0;32m----> 2\u001b[0m \u001b[43mp\u001b[49m\u001b[38;5;241;43m.\u001b[39;49m\u001b[43mx\u001b[49m \u001b[38;5;241m=\u001b[39m \u001b[38;5;241m5\u001b[39m  \u001b[38;5;66;03m# Erreur : AttributeError: can't set attribute\u001b[39;00m\n",
      "\u001b[0;31mAttributeError\u001b[0m: can't set attribute"
     ]
    }
   ],
   "source": [
    "\n",
    "# Immutabilité\n",
    "p.x = 5  # Erreur : AttributeError: can't set attribute"
   ]
  },
  {
   "cell_type": "markdown",
   "metadata": {},
   "source": [
    "### Exemple avec `deque`\n",
    "Utilisons `deque` pour une file à double entrée."
   ]
  },
  {
   "cell_type": "code",
   "execution_count": 24,
   "metadata": {},
   "outputs": [],
   "source": [
    "from collections import deque\n"
   ]
  },
  {
   "cell_type": "code",
   "execution_count": 25,
   "metadata": {},
   "outputs": [
    {
     "name": "stdout",
     "output_type": "stream",
     "text": [
      "Deque initial : deque([1, 2, 3])\n"
     ]
    }
   ],
   "source": [
    "\n",
    "# Créer une deque\n",
    "d = deque([1, 2, 3])\n",
    "print(\"Deque initial :\", d)  \n"
   ]
  },
  {
   "cell_type": "code",
   "execution_count": 26,
   "metadata": {},
   "outputs": [
    {
     "name": "stdout",
     "output_type": "stream",
     "text": [
      "Après ajouts : deque([0, 1, 2, 3, 4])\n"
     ]
    }
   ],
   "source": [
    "\n",
    "# Ajouter à gauche et à droite\n",
    "d.append(4)        # Droite\n",
    "d.appendleft(0)    # Gauche\n",
    "print(\"Après ajouts :\", d)  \n"
   ]
  },
  {
   "cell_type": "code",
   "execution_count": 27,
   "metadata": {},
   "outputs": [
    {
     "name": "stdout",
     "output_type": "stream",
     "text": [
      "Après suppressions : deque([1, 2, 3])\n"
     ]
    }
   ],
   "source": [
    "\n",
    "# Supprimer\n",
    "d.pop()            # Droite\n",
    "d.popleft()        # Gauche\n",
    "print(\"Après suppressions :\", d)  "
   ]
  },
  {
   "cell_type": "markdown",
   "metadata": {},
   "source": [
    "## Exemple Avancé : Analyse de Données\n",
    "\n",
    "Combinons `Counter`, `defaultdict` et `OrderedDict` pour analyser des données."
   ]
  },
  {
   "cell_type": "code",
   "execution_count": 28,
   "metadata": {},
   "outputs": [],
   "source": [
    "from collections import Counter, defaultdict, OrderedDict\n",
    "\n",
    "# Données : ventes par produit et jour\n",
    "ventes = [\n",
    "    (\"lundi\", \"pomme\", 5),\n",
    "    (\"mardi\", \"banane\", 3),\n",
    "    (\"lundi\", \"pomme\", 2),\n",
    "    (\"mardi\", \"pomme\", 4)\n",
    "]\n"
   ]
  },
  {
   "cell_type": "code",
   "execution_count": 29,
   "metadata": {},
   "outputs": [
    {
     "name": "stdout",
     "output_type": "stream",
     "text": [
      "Compte total par produit : Counter({'pomme': 3, 'banane': 1})\n"
     ]
    }
   ],
   "source": [
    "\n",
    "# Compter les ventes totales par produit avec Counter\n",
    "produits = Counter(produit for _, produit, _ in ventes)\n",
    "print(\"Compte total par produit :\", produits)  \n"
   ]
  },
  {
   "cell_type": "code",
   "execution_count": 30,
   "metadata": {},
   "outputs": [
    {
     "name": "stdout",
     "output_type": "stream",
     "text": [
      "Ventes par jour : {'lundi': [('pomme', 5), ('pomme', 2)], 'mardi': [('banane', 3), ('pomme', 4)]}\n"
     ]
    }
   ],
   "source": [
    "\n",
    "# Regrouper par jour avec defaultdict\n",
    "ventes_par_jour = defaultdict(list)\n",
    "for jour, produit, quantite in ventes:\n",
    "    ventes_par_jour[jour].append((produit, quantite))\n",
    "print(\"Ventes par jour :\", dict(ventes_par_jour))\n"
   ]
  },
  {
   "cell_type": "code",
   "execution_count": 31,
   "metadata": {},
   "outputs": [
    {
     "name": "stdout",
     "output_type": "stream",
     "text": [
      "Ventes ordonnées : {'lundi': [('pomme', 5), ('pomme', 2)], 'mardi': [('banane', 3), ('pomme', 4)]}\n"
     ]
    }
   ],
   "source": [
    "\n",
    "# OrderedDict pour trier par jour\n",
    "ventes_ordonnees = OrderedDict(sorted(ventes_par_jour.items()))\n",
    "print(\"Ventes ordonnées :\", dict(ventes_ordonnees))"
   ]
  },
  {
   "cell_type": "markdown",
   "metadata": {},
   "source": [
    "## Conclusion\n",
    "\n",
    "Cette section vous a permis de maîtriser :\n",
    "- **`Counter`** : Comptage rapide et opérations arithmétiques.\n",
    "- **`defaultdict`** : Gestion des valeurs par défaut pour éviter les erreurs.\n",
    "- **`OrderedDict`** : Conservation explicite de l’ordre (moins critique depuis Python 3.7).\n",
    "- Autres outils comme **`namedtuple`** et **`deque`** pour des cas spécifiques.\n",
    "\n",
    "Le module `collections` enrichit vos outils pour manipuler des données efficacement. Expérimentez avec ces structures pour optimiser vos programmes !"
   ]
  }
 ],
 "metadata": {
  "kernelspec": {
   "display_name": "fast_env",
   "language": "python",
   "name": "python3"
  },
  "language_info": {
   "codemirror_mode": {
    "name": "ipython",
    "version": 3
   },
   "file_extension": ".py",
   "mimetype": "text/x-python",
   "name": "python",
   "nbconvert_exporter": "python",
   "pygments_lexer": "ipython3",
   "version": "3.11.0"
  }
 },
 "nbformat": 4,
 "nbformat_minor": 2
}
