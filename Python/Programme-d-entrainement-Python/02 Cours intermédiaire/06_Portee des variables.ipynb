{
 "cells": [
  {
   "cell_type": "markdown",
   "metadata": {},
   "source": [
    "# Portée des Variables en Python : Locales, Globales, `global` et `nonlocal`\n",
    "\n",
    "Dans cette section, nous allons explorer la **distinction entre variables locales et globales**, ainsi que l’utilisation des mots-clés **`global`** et **`nonlocal`** pour gérer les états dans les fonctions, notamment les fonctions imbriquées. \n",
    "\n",
    "## Qu’est-ce que la Portée ?\n",
    "La **portée** (ou *scope*) d’une variable détermine où elle est accessible dans le code. Python suit la règle **LEGB** (*Local, Enclosing, Global, Built-in*) pour résoudre les noms.\n",
    "\n",
    "Commençons par les variables locales et globales !"
   ]
  },
  {
   "cell_type": "markdown",
   "metadata": {},
   "source": [
    "## Variables Locales vs Globales\n",
    "\n",
    "### Définitions\n",
    "- **Locale** : Définie dans une fonction, accessible uniquement à l’intérieur de cette fonction.\n",
    "- **Globale** : Définie en dehors de toute fonction, accessible partout dans le module.\n",
    "\n",
    "### Règles\n",
    "- Une variable est locale par défaut si elle est assignée dans une fonction.\n",
    "- Pour modifier une variable globale dans une fonction, il faut utiliser `global`.\n",
    "\n",
    "### Exemple Simple\n",
    "Illustrons la distinction."
   ]
  },
  {
   "cell_type": "code",
   "execution_count": 12,
   "metadata": {},
   "outputs": [],
   "source": [
    "# Variable globale\n",
    "compteur = 0\n",
    "\n",
    "def incrementer():\n",
    "    \"\"\"Tente d’incrémenter une variable.\"\"\"\n",
    "    # Variable locale par défaut (pas de référence à la globale sans `global`)\n",
    "    compteur = 1  # Nouvelle variable locale, pas la globale\n",
    "    print(\"Compteur local :\", compteur)\n"
   ]
  },
  {
   "cell_type": "code",
   "execution_count": 13,
   "metadata": {},
   "outputs": [
    {
     "name": "stdout",
     "output_type": "stream",
     "text": [
      "Avant : 0\n"
     ]
    }
   ],
   "source": [
    "print(\"Avant :\", compteur)  "
   ]
  },
  {
   "cell_type": "code",
   "execution_count": 14,
   "metadata": {},
   "outputs": [
    {
     "name": "stdout",
     "output_type": "stream",
     "text": [
      "Compteur local : 1\n"
     ]
    }
   ],
   "source": [
    "incrementer()   "
   ]
  },
  {
   "cell_type": "code",
   "execution_count": 15,
   "metadata": {},
   "outputs": [
    {
     "name": "stdout",
     "output_type": "stream",
     "text": [
      "Après : 0\n"
     ]
    }
   ],
   "source": [
    " \n",
    "print(\"Après :\", compteur)  "
   ]
  },
  {
   "cell_type": "markdown",
   "metadata": {},
   "source": [
    "\n",
    "- **`compteur` global** : Défini à 0 en dehors de la fonction.\n",
    "- **`compteur` local** : Dans `incrementer()`, l’assignation crée une nouvelle variable locale, laissant la globale intacte.\n",
    "- **Problème** : Sans `global`, la fonction ne peut pas modifier la variable globale.\n",
    "\n",
    "Corrigeons cela avec `global` !"
   ]
  },
  {
   "cell_type": "markdown",
   "metadata": {},
   "source": [
    "## Utilisation de `global`\n",
    "\n",
    "Le mot-clé **`global`** permet à une fonction de modifier une variable globale.\n",
    "\n",
    "### Syntaxe\n",
    "```python\n",
    "global nom_variable\n",
    "```\n",
    "\n",
    "### Exemple\n",
    "\n",
    "Modifions la variable globale."
   ]
  },
  {
   "cell_type": "code",
   "execution_count": 16,
   "metadata": {},
   "outputs": [],
   "source": [
    "# Variable globale\n",
    "compteur = 0\n",
    "\n",
    "def incrementer():\n",
    "    \"\"\"Incrémente la variable globale compteur.\"\"\"\n",
    "    global compteur  # Déclare que nous utilisons la globale\n",
    "    compteur += 1\n",
    "    print(\"Compteur dans la fonction :\", compteur)\n"
   ]
  },
  {
   "cell_type": "code",
   "execution_count": 17,
   "metadata": {},
   "outputs": [
    {
     "name": "stdout",
     "output_type": "stream",
     "text": [
      "Avant : 0\n"
     ]
    }
   ],
   "source": [
    "print(\"Avant :\", compteur)  "
   ]
  },
  {
   "cell_type": "code",
   "execution_count": 18,
   "metadata": {},
   "outputs": [
    {
     "name": "stdout",
     "output_type": "stream",
     "text": [
      "Compteur dans la fonction : 1\n"
     ]
    }
   ],
   "source": [
    "incrementer()"
   ]
  },
  {
   "cell_type": "code",
   "execution_count": 19,
   "metadata": {},
   "outputs": [
    {
     "name": "stdout",
     "output_type": "stream",
     "text": [
      "Après : 1\n"
     ]
    }
   ],
   "source": [
    "print(\"Après :\", compteur)\n"
   ]
  },
  {
   "cell_type": "code",
   "execution_count": 20,
   "metadata": {},
   "outputs": [
    {
     "name": "stdout",
     "output_type": "stream",
     "text": [
      "Compteur dans la fonction : 2\n"
     ]
    }
   ],
   "source": [
    "incrementer()"
   ]
  },
  {
   "cell_type": "code",
   "execution_count": 21,
   "metadata": {},
   "outputs": [
    {
     "name": "stdout",
     "output_type": "stream",
     "text": [
      "Après encore : 2\n"
     ]
    }
   ],
   "source": [
    "print(\"Après encore :\", compteur) "
   ]
  },
  {
   "cell_type": "markdown",
   "metadata": {},
   "source": [
    "\n",
    "- **`global compteur`** : Indique que la fonction modifie la variable globale.\n",
    "- **Résultat** : Chaque appel à `incrementer()` met à jour `compteur` globalement.\n",
    "- **Attention** : L’abus de `global` peut rendre le code difficile à suivre ; préférez les retours de fonctions quand possible.\n",
    "\n",
    "Passons aux fonctions imbriquées et `nonlocal` !"
   ]
  },
  {
   "cell_type": "markdown",
   "metadata": {},
   "source": [
    "## Variables dans les Fonctions Imbriquées et `nonlocal`\n",
    "\n",
    "Dans une fonction imbriquée, une variable peut être :\n",
    "- **Locale** : Définie dans la fonction interne.\n",
    "- **Enclosing** : Définie dans la fonction englobante.\n",
    "- **Globale** : Définie à l’extérieur.\n",
    "\n",
    "Le mot-clé **`nonlocal`** permet de modifier une variable de la portée englobante (*enclosing scope*).\n",
    "\n",
    "### Exemple Simple\n",
    "Créons une fonction avec une closure."
   ]
  },
  {
   "cell_type": "code",
   "execution_count": 22,
   "metadata": {},
   "outputs": [],
   "source": [
    "def externe():\n",
    "    \"\"\"Fonction externe avec une variable locale.\"\"\"\n",
    "    compteur = 0\n",
    "    \n",
    "    def interne():\n",
    "        \"\"\"Tente de modifier la variable englobante.\"\"\"\n",
    "        compteur = 1  # Crée une nouvelle variable locale\n",
    "        print(\"Compteur interne :\", compteur)\n",
    "    \n",
    "    interne()\n",
    "    print(\"Compteur externe :\", compteur)\n"
   ]
  },
  {
   "cell_type": "code",
   "execution_count": 23,
   "metadata": {},
   "outputs": [
    {
     "name": "stdout",
     "output_type": "stream",
     "text": [
      "Compteur interne : 1\n",
      "Compteur externe : 0\n"
     ]
    }
   ],
   "source": [
    "externe()"
   ]
  },
  {
   "cell_type": "markdown",
   "metadata": {},
   "source": [
    "\n",
    "- **`compteur` dans `externe`** : Variable locale à la portée englobante (0).\n",
    "- **`compteur` dans `interne`** : Nouvelle variable locale (1), ne modifie pas celle de `externe`.\n",
    "- **Problème** : Sans `nonlocal`, `interne` ne peut pas accéder à la variable englobante pour la modifier.\n",
    "\n",
    "Corrigeons avec `nonlocal` !"
   ]
  },
  {
   "cell_type": "code",
   "execution_count": 24,
   "metadata": {},
   "outputs": [],
   "source": [
    "def externe():\n",
    "    \"\"\"Fonction externe avec une variable modifiable.\"\"\"\n",
    "    compteur = 0\n",
    "    \n",
    "    def interne():\n",
    "        \"\"\"Modifie la variable englobante.\"\"\"\n",
    "        nonlocal compteur  # Référence la variable de la portée englobante\n",
    "        compteur += 1\n",
    "        print(\"Compteur interne :\", compteur)\n",
    "    \n",
    "    interne()\n",
    "    print(\"Compteur externe :\", compteur)\n",
    "\n"
   ]
  },
  {
   "cell_type": "code",
   "execution_count": 25,
   "metadata": {},
   "outputs": [
    {
     "name": "stdout",
     "output_type": "stream",
     "text": [
      "Compteur interne : 1\n",
      "Compteur externe : 1\n"
     ]
    }
   ],
   "source": [
    "externe()"
   ]
  },
  {
   "cell_type": "markdown",
   "metadata": {},
   "source": [
    "\n",
    "- **`nonlocal compteur`** : Permet à `interne` de modifier la variable `compteur` de `externe`.\n",
    "- **Résultat** : La modification est visible dans la portée englobante.\n",
    "- **Limitation** : `nonlocal` ne fonctionne pas pour les variables globales, uniquement pour les portées englobantes.\n",
    "\n",
    "Comparons `global` et `nonlocal` dans un exemple avancé !"
   ]
  },
  {
   "cell_type": "markdown",
   "metadata": {},
   "source": [
    "## Comparaison `global` et `nonlocal`\n",
    "\n",
    "### Exemple\n",
    "Utilisons les deux dans une structure imbriquée."
   ]
  },
  {
   "cell_type": "code",
   "execution_count": 26,
   "metadata": {},
   "outputs": [],
   "source": [
    "# Variable globale\n",
    "total_global = 0\n",
    "\n",
    "def gestionnaire():\n",
    "    \"\"\"Fonction englobante avec une variable locale.\"\"\"\n",
    "    total_local = 10\n",
    "    \n",
    "    def incrementer_global():\n",
    "        \"\"\"Modifie la variable globale.\"\"\"\n",
    "        global total_global\n",
    "        total_global += 1\n",
    "        print(\"Total global dans incrementer_global :\", total_global)\n",
    "    \n",
    "    def incrementer_local():\n",
    "        \"\"\"Modifie la variable englobante.\"\"\"\n",
    "        nonlocal total_local\n",
    "        total_local += 5\n",
    "        print(\"Total local dans incrementer_local :\", total_local)\n",
    "    \n",
    "    incrementer_global()\n",
    "    incrementer_local()\n",
    "    print(\"Total local dans gestionnaire :\", total_local)\n",
    "\n"
   ]
  },
  {
   "cell_type": "code",
   "execution_count": 27,
   "metadata": {},
   "outputs": [
    {
     "name": "stdout",
     "output_type": "stream",
     "text": [
      "Global avant : 0\n"
     ]
    }
   ],
   "source": [
    "\n",
    "print(\"Global avant :\", total_global)\n"
   ]
  },
  {
   "cell_type": "code",
   "execution_count": 28,
   "metadata": {},
   "outputs": [
    {
     "name": "stdout",
     "output_type": "stream",
     "text": [
      "Total global dans incrementer_global : 1\n",
      "Total local dans incrementer_local : 15\n",
      "Total local dans gestionnaire : 15\n"
     ]
    }
   ],
   "source": [
    "gestionnaire()"
   ]
  },
  {
   "cell_type": "code",
   "execution_count": 29,
   "metadata": {},
   "outputs": [
    {
     "name": "stdout",
     "output_type": "stream",
     "text": [
      "Global après : 1\n"
     ]
    }
   ],
   "source": [
    "print(\"Global après :\", total_global)"
   ]
  },
  {
   "cell_type": "markdown",
   "metadata": {},
   "source": [
    "## Exemple Avancé : Compteur Persistant\n",
    "\n",
    "Créons une application avec un état persistant utilisant `global` et `nonlocal`."
   ]
  },
  {
   "cell_type": "code",
   "execution_count": 30,
   "metadata": {},
   "outputs": [],
   "source": [
    "# Variable globale\n",
    "total_operations = 0\n",
    "\n",
    "def gestion_operations():\n",
    "    \"\"\"Gère des opérations avec un compteur local et global.\"\"\"\n",
    "    compteur_local = 0\n",
    "    \n",
    "    def enregistrer_operation():\n",
    "        \"\"\"Enregistre une opération aux deux niveaux.\"\"\"\n",
    "        global total_operations\n",
    "        nonlocal compteur_local\n",
    "        total_operations += 1\n",
    "        compteur_local += 1\n",
    "        print(f\"Opération enregistrée - Local : {compteur_local}, Global : {total_operations}\")\n",
    "    \n",
    "    def obtenir_stats():\n",
    "        \"\"\"Retourne les statistiques actuelles.\"\"\"\n",
    "        return {\"local\": compteur_local, \"global\": total_operations}\n",
    "    \n",
    "    return enregistrer_operation, obtenir_stats\n",
    "\n"
   ]
  },
  {
   "cell_type": "code",
   "execution_count": 31,
   "metadata": {},
   "outputs": [],
   "source": [
    "\n",
    "# Création de deux gestionnaires\n",
    "gestion1_enregistrer, gestion1_stats = gestion_operations()\n",
    "gestion2_enregistrer, gestion2_stats = gestion_operations()\n"
   ]
  },
  {
   "cell_type": "code",
   "execution_count": 32,
   "metadata": {},
   "outputs": [
    {
     "name": "stdout",
     "output_type": "stream",
     "text": [
      "Opération enregistrée - Local : 1, Global : 1\n"
     ]
    }
   ],
   "source": [
    "gestion1_enregistrer()\n"
   ]
  },
  {
   "cell_type": "code",
   "execution_count": 33,
   "metadata": {},
   "outputs": [
    {
     "name": "stdout",
     "output_type": "stream",
     "text": [
      "Opération enregistrée - Local : 1, Global : 2\n"
     ]
    }
   ],
   "source": [
    "gestion2_enregistrer()\n"
   ]
  },
  {
   "cell_type": "code",
   "execution_count": 34,
   "metadata": {},
   "outputs": [
    {
     "name": "stdout",
     "output_type": "stream",
     "text": [
      "Opération enregistrée - Local : 2, Global : 3\n"
     ]
    }
   ],
   "source": [
    "gestion1_enregistrer()\n"
   ]
  },
  {
   "cell_type": "code",
   "execution_count": 35,
   "metadata": {},
   "outputs": [
    {
     "name": "stdout",
     "output_type": "stream",
     "text": [
      "Stats gestion1 : {'local': 2, 'global': 3}\n"
     ]
    }
   ],
   "source": [
    "print(\"Stats gestion1 :\", gestion1_stats())\n"
   ]
  },
  {
   "cell_type": "code",
   "execution_count": 36,
   "metadata": {},
   "outputs": [
    {
     "name": "stdout",
     "output_type": "stream",
     "text": [
      "Stats gestion2 : {'local': 1, 'global': 3}\n"
     ]
    }
   ],
   "source": [
    "print(\"Stats gestion2 :\", gestion2_stats())"
   ]
  },
  {
   "cell_type": "markdown",
   "metadata": {},
   "source": [
    "## Conclusion\n",
    "\n",
    "Cette section vous a permis de maîtriser :\n",
    "- La **distinction entre variables locales et globales** et leurs portées.\n",
    "- L’utilisation de **`global`** pour modifier des variables globales dans une fonction.\n",
    "- L’utilisation de **`nonlocal`** pour gérer les variables des portées englobantes dans des fonctions imbriquées.\n",
    "\n",
    "Ces outils sont puissants pour gérer l’état, mais utilisez-les avec parcimonie pour éviter des dépendances complexes. Expérimentez pour bien comprendre les subtilités des portées !"
   ]
  }
 ],
 "metadata": {
  "kernelspec": {
   "display_name": "fast_env",
   "language": "python",
   "name": "python3"
  },
  "language_info": {
   "codemirror_mode": {
    "name": "ipython",
    "version": 3
   },
   "file_extension": ".py",
   "mimetype": "text/x-python",
   "name": "python",
   "nbconvert_exporter": "python",
   "pygments_lexer": "ipython3",
   "version": "3.11.0"
  }
 },
 "nbformat": 4,
 "nbformat_minor": 2
}
