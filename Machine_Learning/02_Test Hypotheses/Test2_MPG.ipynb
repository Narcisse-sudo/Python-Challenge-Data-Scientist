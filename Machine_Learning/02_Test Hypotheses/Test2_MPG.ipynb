{
 "cells": [
  {
   "cell_type": "code",
   "execution_count": 1,
   "metadata": {},
   "outputs": [],
   "source": [
    "import seaborn as sns\n",
    "import matplotlib.pyplot as plt\n",
    "import pandas as pd\n",
    "import scipy.stats as sts\n",
    "import numpy as np"
   ]
  },
  {
   "cell_type": "markdown",
   "metadata": {},
   "source": [
    "# Data"
   ]
  },
  {
   "cell_type": "code",
   "execution_count": 119,
   "metadata": {},
   "outputs": [
    {
     "data": {
      "text/html": [
       "<div>\n",
       "<style scoped>\n",
       "    .dataframe tbody tr th:only-of-type {\n",
       "        vertical-align: middle;\n",
       "    }\n",
       "\n",
       "    .dataframe tbody tr th {\n",
       "        vertical-align: top;\n",
       "    }\n",
       "\n",
       "    .dataframe thead th {\n",
       "        text-align: right;\n",
       "    }\n",
       "</style>\n",
       "<table border=\"1\" class=\"dataframe\">\n",
       "  <thead>\n",
       "    <tr style=\"text-align: right;\">\n",
       "      <th></th>\n",
       "      <th>mpg</th>\n",
       "      <th>cylinders</th>\n",
       "      <th>displacement</th>\n",
       "      <th>horsepower</th>\n",
       "      <th>weight</th>\n",
       "      <th>acceleration</th>\n",
       "      <th>model_year</th>\n",
       "      <th>origin</th>\n",
       "      <th>name</th>\n",
       "    </tr>\n",
       "  </thead>\n",
       "  <tbody>\n",
       "    <tr>\n",
       "      <th>0</th>\n",
       "      <td>18.0</td>\n",
       "      <td>8</td>\n",
       "      <td>307.0</td>\n",
       "      <td>130.0</td>\n",
       "      <td>3504</td>\n",
       "      <td>12.0</td>\n",
       "      <td>70</td>\n",
       "      <td>usa</td>\n",
       "      <td>chevrolet chevelle malibu</td>\n",
       "    </tr>\n",
       "    <tr>\n",
       "      <th>1</th>\n",
       "      <td>15.0</td>\n",
       "      <td>8</td>\n",
       "      <td>350.0</td>\n",
       "      <td>165.0</td>\n",
       "      <td>3693</td>\n",
       "      <td>11.5</td>\n",
       "      <td>70</td>\n",
       "      <td>usa</td>\n",
       "      <td>buick skylark 320</td>\n",
       "    </tr>\n",
       "    <tr>\n",
       "      <th>2</th>\n",
       "      <td>18.0</td>\n",
       "      <td>8</td>\n",
       "      <td>318.0</td>\n",
       "      <td>150.0</td>\n",
       "      <td>3436</td>\n",
       "      <td>11.0</td>\n",
       "      <td>70</td>\n",
       "      <td>usa</td>\n",
       "      <td>plymouth satellite</td>\n",
       "    </tr>\n",
       "    <tr>\n",
       "      <th>3</th>\n",
       "      <td>16.0</td>\n",
       "      <td>8</td>\n",
       "      <td>304.0</td>\n",
       "      <td>150.0</td>\n",
       "      <td>3433</td>\n",
       "      <td>12.0</td>\n",
       "      <td>70</td>\n",
       "      <td>usa</td>\n",
       "      <td>amc rebel sst</td>\n",
       "    </tr>\n",
       "    <tr>\n",
       "      <th>4</th>\n",
       "      <td>17.0</td>\n",
       "      <td>8</td>\n",
       "      <td>302.0</td>\n",
       "      <td>140.0</td>\n",
       "      <td>3449</td>\n",
       "      <td>10.5</td>\n",
       "      <td>70</td>\n",
       "      <td>usa</td>\n",
       "      <td>ford torino</td>\n",
       "    </tr>\n",
       "    <tr>\n",
       "      <th>5</th>\n",
       "      <td>15.0</td>\n",
       "      <td>8</td>\n",
       "      <td>429.0</td>\n",
       "      <td>198.0</td>\n",
       "      <td>4341</td>\n",
       "      <td>10.0</td>\n",
       "      <td>70</td>\n",
       "      <td>usa</td>\n",
       "      <td>ford galaxie 500</td>\n",
       "    </tr>\n",
       "    <tr>\n",
       "      <th>6</th>\n",
       "      <td>14.0</td>\n",
       "      <td>8</td>\n",
       "      <td>454.0</td>\n",
       "      <td>220.0</td>\n",
       "      <td>4354</td>\n",
       "      <td>9.0</td>\n",
       "      <td>70</td>\n",
       "      <td>usa</td>\n",
       "      <td>chevrolet impala</td>\n",
       "    </tr>\n",
       "    <tr>\n",
       "      <th>7</th>\n",
       "      <td>14.0</td>\n",
       "      <td>8</td>\n",
       "      <td>440.0</td>\n",
       "      <td>215.0</td>\n",
       "      <td>4312</td>\n",
       "      <td>8.5</td>\n",
       "      <td>70</td>\n",
       "      <td>usa</td>\n",
       "      <td>plymouth fury iii</td>\n",
       "    </tr>\n",
       "    <tr>\n",
       "      <th>8</th>\n",
       "      <td>14.0</td>\n",
       "      <td>8</td>\n",
       "      <td>455.0</td>\n",
       "      <td>225.0</td>\n",
       "      <td>4425</td>\n",
       "      <td>10.0</td>\n",
       "      <td>70</td>\n",
       "      <td>usa</td>\n",
       "      <td>pontiac catalina</td>\n",
       "    </tr>\n",
       "    <tr>\n",
       "      <th>9</th>\n",
       "      <td>15.0</td>\n",
       "      <td>8</td>\n",
       "      <td>390.0</td>\n",
       "      <td>190.0</td>\n",
       "      <td>3850</td>\n",
       "      <td>8.5</td>\n",
       "      <td>70</td>\n",
       "      <td>usa</td>\n",
       "      <td>amc ambassador dpl</td>\n",
       "    </tr>\n",
       "    <tr>\n",
       "      <th>10</th>\n",
       "      <td>15.0</td>\n",
       "      <td>8</td>\n",
       "      <td>383.0</td>\n",
       "      <td>170.0</td>\n",
       "      <td>3563</td>\n",
       "      <td>10.0</td>\n",
       "      <td>70</td>\n",
       "      <td>usa</td>\n",
       "      <td>dodge challenger se</td>\n",
       "    </tr>\n",
       "    <tr>\n",
       "      <th>11</th>\n",
       "      <td>14.0</td>\n",
       "      <td>8</td>\n",
       "      <td>340.0</td>\n",
       "      <td>160.0</td>\n",
       "      <td>3609</td>\n",
       "      <td>8.0</td>\n",
       "      <td>70</td>\n",
       "      <td>usa</td>\n",
       "      <td>plymouth 'cuda 340</td>\n",
       "    </tr>\n",
       "    <tr>\n",
       "      <th>12</th>\n",
       "      <td>15.0</td>\n",
       "      <td>8</td>\n",
       "      <td>400.0</td>\n",
       "      <td>150.0</td>\n",
       "      <td>3761</td>\n",
       "      <td>9.5</td>\n",
       "      <td>70</td>\n",
       "      <td>usa</td>\n",
       "      <td>chevrolet monte carlo</td>\n",
       "    </tr>\n",
       "    <tr>\n",
       "      <th>13</th>\n",
       "      <td>14.0</td>\n",
       "      <td>8</td>\n",
       "      <td>455.0</td>\n",
       "      <td>225.0</td>\n",
       "      <td>3086</td>\n",
       "      <td>10.0</td>\n",
       "      <td>70</td>\n",
       "      <td>usa</td>\n",
       "      <td>buick estate wagon (sw)</td>\n",
       "    </tr>\n",
       "    <tr>\n",
       "      <th>14</th>\n",
       "      <td>24.0</td>\n",
       "      <td>4</td>\n",
       "      <td>113.0</td>\n",
       "      <td>95.0</td>\n",
       "      <td>2372</td>\n",
       "      <td>15.0</td>\n",
       "      <td>70</td>\n",
       "      <td>japan</td>\n",
       "      <td>toyota corona mark ii</td>\n",
       "    </tr>\n",
       "  </tbody>\n",
       "</table>\n",
       "</div>"
      ],
      "text/plain": [
       "     mpg  cylinders  displacement  horsepower  weight  acceleration  \\\n",
       "0   18.0          8         307.0       130.0    3504          12.0   \n",
       "1   15.0          8         350.0       165.0    3693          11.5   \n",
       "2   18.0          8         318.0       150.0    3436          11.0   \n",
       "3   16.0          8         304.0       150.0    3433          12.0   \n",
       "4   17.0          8         302.0       140.0    3449          10.5   \n",
       "5   15.0          8         429.0       198.0    4341          10.0   \n",
       "6   14.0          8         454.0       220.0    4354           9.0   \n",
       "7   14.0          8         440.0       215.0    4312           8.5   \n",
       "8   14.0          8         455.0       225.0    4425          10.0   \n",
       "9   15.0          8         390.0       190.0    3850           8.5   \n",
       "10  15.0          8         383.0       170.0    3563          10.0   \n",
       "11  14.0          8         340.0       160.0    3609           8.0   \n",
       "12  15.0          8         400.0       150.0    3761           9.5   \n",
       "13  14.0          8         455.0       225.0    3086          10.0   \n",
       "14  24.0          4         113.0        95.0    2372          15.0   \n",
       "\n",
       "    model_year origin                       name  \n",
       "0           70    usa  chevrolet chevelle malibu  \n",
       "1           70    usa          buick skylark 320  \n",
       "2           70    usa         plymouth satellite  \n",
       "3           70    usa              amc rebel sst  \n",
       "4           70    usa                ford torino  \n",
       "5           70    usa           ford galaxie 500  \n",
       "6           70    usa           chevrolet impala  \n",
       "7           70    usa          plymouth fury iii  \n",
       "8           70    usa           pontiac catalina  \n",
       "9           70    usa         amc ambassador dpl  \n",
       "10          70    usa        dodge challenger se  \n",
       "11          70    usa         plymouth 'cuda 340  \n",
       "12          70    usa      chevrolet monte carlo  \n",
       "13          70    usa    buick estate wagon (sw)  \n",
       "14          70  japan      toyota corona mark ii  "
      ]
     },
     "execution_count": 119,
     "metadata": {},
     "output_type": "execute_result"
    }
   ],
   "source": [
    "df = sns.load_dataset(\"mpg\")\n",
    "df.dropna(inplace=True)\n",
    "df.head(15)"
   ]
  },
  {
   "cell_type": "code",
   "execution_count": 128,
   "metadata": {},
   "outputs": [
    {
     "data": {
      "text/plain": [
       "<Axes: xlabel='horsepower', ylabel='mpg'>"
      ]
     },
     "execution_count": 128,
     "metadata": {},
     "output_type": "execute_result"
    },
    {
     "data": {
      "image/png": "[encoded data removed]",
      "text/plain": [
       "<Figure size 640x480 with 1 Axes>"
      ]
     },
     "metadata": {},
     "output_type": "display_data"
    }
   ],
   "source": [
    "sns.scatterplot(df, y='mpg', x='horsepower')"
   ]
  },
  {
   "cell_type": "markdown",
   "metadata": {},
   "source": [
    "1. Analysez l'évolution de la consommation des voitures (mpg) par rapport à la puissance du moteur (horsepower).\n",
    "\n",
    "- Refaites le graphique correspondant \n",
    "\n",
    "- Quelle est la corrélation de Pearson entre ces deux variables ?\n",
    "\n",
    "- Quelle serait la probabilité d'obtenir une telle corrélation ou plus extrême, si en réalité les deux variables étaient totalement décorrélées ?\n",
    "\n"
   ]
  },
  {
   "cell_type": "markdown",
   "metadata": {},
   "source": []
  },
  {
   "cell_type": "code",
   "execution_count": null,
   "metadata": {},
   "outputs": [
    {
     "name": "stdout",
     "output_type": "stream",
     "text": [
      "Corrélation des deux variable: -0.7784267838977774 et de p-valeur: 7.031989029396278e-81\n"
     ]
    }
   ],
   "source": [
    "corr, p_value = sts.pearsonr(df['mpg'], df['horsepower'])\n",
    "print(f\"Corrélation des deux variable: {corr} et de p-valeur: {p_value}\")"
   ]
  },
  {
   "cell_type": "markdown",
   "metadata": {},
   "source": [
    "2. Peut-on affirmer avec un risque d'erreur de 2% que les voitures du Japon, d'Europe, et des États-Unis ont vu leur autonomie moyenne (mpg) augmenter entre la première moitié des années 70, et la seconde moitié des années 70 ?"
   ]
  },
  {
   "cell_type": "code",
   "execution_count": 140,
   "metadata": {},
   "outputs": [
    {
     "data": {
      "text/plain": [
       "<Axes: xlabel='half', ylabel='mpg'>"
      ]
     },
     "execution_count": 140,
     "metadata": {},
     "output_type": "execute_result"
    },
    {
     "data": {
      "image/png": "[encoded data removed]",
      "text/plain": [
       "<Figure size 1500x500 with 2 Axes>"
      ]
     },
     "metadata": {},
     "output_type": "display_data"
    }
   ],
   "source": [
    "df1 = df.query(\"`model_year` <= 80 \").copy()\n",
    "fig, ax = plt.subplots(1,2, figsize=(15,5))\n",
    "df1[\"half\"] = df1[\"model_year\"].apply(lambda x: x<75).replace({True:'first', False :'second'})\n",
    "sns.boxplot(df1, x='model_year', y='mpg', hue=\"half\", ax=ax[0])\n",
    "sns.boxplot(df1, x='half', y='mpg', hue=\"half\", ax=ax[1])\n"
   ]
  },
  {
   "cell_type": "code",
   "execution_count": 40,
   "metadata": {},
   "outputs": [
    {
     "data": {
      "text/plain": [
       "<Axes: xlabel='model_year', ylabel='mpg'>"
      ]
     },
     "execution_count": 40,
     "metadata": {},
     "output_type": "execute_result"
    },
    {
     "data": {
      "image/png": "[encoded data removed]",
      "text/plain": [
       "<Figure size 640x480 with 1 Axes>"
      ]
     },
     "metadata": {},
     "output_type": "display_data"
    }
   ],
   "source": [
    "sns.barplot(df.query(\"`model_year` < 80 \"), x='model_year', y='mpg')"
   ]
  },
  {
   "cell_type": "markdown",
   "metadata": {},
   "source": [
    "Condition pour appliquer un test de student `ttest_ind`\n",
    "- - Données normales ou plus de 30 points\n",
    "- - Observations indépendantes\n",
    "- - Variances similaires entre les deux groupes"
   ]
  },
  {
   "cell_type": "markdown",
   "metadata": {},
   "source": [
    "- HO : \"mpg moyen groupe A = mpg moyen groupe B\"\n",
    "  - groupe A = tout les modeles de 70-74\n",
    "  - groupe B = tout les modeles de 75-80"
   ]
  },
  {
   "cell_type": "code",
   "execution_count": 160,
   "metadata": {},
   "outputs": [],
   "source": [
    "groupe_A, groupe_B = df1.groupby('half')['mpg'].apply(list)"
   ]
  },
  {
   "cell_type": "code",
   "execution_count": 164,
   "metadata": {},
   "outputs": [
    {
     "name": "stdout",
     "output_type": "stream",
     "text": [
      "HO: <<  Les voitures du Japon, d'Europe, et des États-Unis ont vu leur autonomie moyenne mpg  augmenter entre la première moitié des années 70, et la seconde moitié des années 70  >>\n",
      "Valeur p obtenue : 2.4451466260288248e-11\n",
      "Nous avons suffisamment d'argument pour rejeter 'HO'\n"
     ]
    }
   ],
   "source": [
    "\n",
    "seuil = 0.02\n",
    "correlation, p_value = sts.ttest_ind(groupe_A, groupe_B, equal_var = True)\n",
    "\n",
    "print(\"HO: <<  Les voitures du Japon, d'Europe, et des États-Unis ont vu leur autonomie moyenne \"\n",
    "      \"mpg  augmenter entre la première moitié des années 70, et la seconde moitié des années 70  >>\"  )\n",
    "print(f\"Valeur p obtenue : {p_value}\")\n",
    "\n",
    "if p_value < seuil:\n",
    "    print(\"Nous avons suffisamment d'argument pour rejeter 'HO'\")\n",
    "else:\n",
    "    print(\"Nous n'avons pas suffisamment d'évidence pour rjeter 'HO'\")  \n"
   ]
  },
  {
   "cell_type": "markdown",
   "metadata": {},
   "source": [
    "2. Un constructeur automobile américain affirme que les voitures américaines à 4 cylindres ont en moyenne la même accélération que les voitures américaines à 6 cylindres. \n",
    "- Testez cette affirmation et concluez avec un niveau de confiance de 98 % (alpha = 0,02).\n",
    "\n"
   ]
  },
  {
   "cell_type": "code",
   "execution_count": 166,
   "metadata": {},
   "outputs": [
    {
     "data": {
      "text/html": [
       "<div>\n",
       "<style scoped>\n",
       "    .dataframe tbody tr th:only-of-type {\n",
       "        vertical-align: middle;\n",
       "    }\n",
       "\n",
       "    .dataframe tbody tr th {\n",
       "        vertical-align: top;\n",
       "    }\n",
       "\n",
       "    .dataframe thead th {\n",
       "        text-align: right;\n",
       "    }\n",
       "</style>\n",
       "<table border=\"1\" class=\"dataframe\">\n",
       "  <thead>\n",
       "    <tr style=\"text-align: right;\">\n",
       "      <th></th>\n",
       "      <th>count</th>\n",
       "      <th>mean</th>\n",
       "      <th>std</th>\n",
       "      <th>min</th>\n",
       "      <th>25%</th>\n",
       "      <th>50%</th>\n",
       "      <th>75%</th>\n",
       "      <th>max</th>\n",
       "    </tr>\n",
       "    <tr>\n",
       "      <th>cylinders</th>\n",
       "      <th></th>\n",
       "      <th></th>\n",
       "      <th></th>\n",
       "      <th></th>\n",
       "      <th></th>\n",
       "      <th></th>\n",
       "      <th></th>\n",
       "      <th></th>\n",
       "    </tr>\n",
       "  </thead>\n",
       "  <tbody>\n",
       "    <tr>\n",
       "      <th>4</th>\n",
       "      <td>69.0</td>\n",
       "      <td>16.465217</td>\n",
       "      <td>2.180989</td>\n",
       "      <td>11.6</td>\n",
       "      <td>14.90</td>\n",
       "      <td>16.2</td>\n",
       "      <td>17.7</td>\n",
       "      <td>22.2</td>\n",
       "    </tr>\n",
       "    <tr>\n",
       "      <th>6</th>\n",
       "      <td>83.0</td>\n",
       "      <td>16.254217</td>\n",
       "      <td>2.031778</td>\n",
       "      <td>11.3</td>\n",
       "      <td>15.05</td>\n",
       "      <td>16.0</td>\n",
       "      <td>17.6</td>\n",
       "      <td>21.0</td>\n",
       "    </tr>\n",
       "  </tbody>\n",
       "</table>\n",
       "</div>"
      ],
      "text/plain": [
       "           count       mean       std   min    25%   50%   75%   max\n",
       "cylinders                                                           \n",
       "4           69.0  16.465217  2.180989  11.6  14.90  16.2  17.7  22.2\n",
       "6           83.0  16.254217  2.031778  11.3  15.05  16.0  17.6  21.0"
      ]
     },
     "execution_count": 166,
     "metadata": {},
     "output_type": "execute_result"
    }
   ],
   "source": [
    "df.query(\"`origin` == 'usa' & `cylinders` == 4 | `cylinders` == 6 \").groupby('cylinders')['acceleration'].describe()"
   ]
  },
  {
   "cell_type": "code",
   "execution_count": 183,
   "metadata": {},
   "outputs": [],
   "source": [
    "groupe_A, groupe_B = df.query(\"`origin` == 'usa' & `model_year` <= 80 & (`cylinders` == 4 | `cylinders` == 6) \").groupby('cylinders')['acceleration'].apply(list)"
   ]
  },
  {
   "cell_type": "code",
   "execution_count": 184,
   "metadata": {},
   "outputs": [
    {
     "name": "stdout",
     "output_type": "stream",
     "text": [
      "HO: << les voitures américaines à 4 cylindres ont en moyenne la même accélération que les voitures américaines à 6 cylindres. >>\n",
      "Valeur p obtenue : 0.9650325251684159\n",
      "Nous n'avons pas suffisamment d'évidence pour rjeter 'HO'\n"
     ]
    }
   ],
   "source": [
    "\n",
    "seuil = 0.02\n",
    "\n",
    "correlation,p_value = sts.ttest_ind(groupe_B, groupe_A, equal_var=True)\n",
    "print(\"HO: << les voitures américaines à 4 cylindres ont en moyenne la même accélération que les voitures américaines à 6 cylindres. >>\"  )\n",
    "print(f\"Valeur p obtenue : {p_value}\")\n",
    "\n",
    "if p_value < seuil:\n",
    "    print(\"Nous avons suffisamment d'argument pour rejeter 'HO'\")\n",
    "else:\n",
    "    print(\"Nous n'avons pas suffisamment d'évidence pour rjeter 'HO'\")  \n",
    "    "
   ]
  },
  {
   "cell_type": "markdown",
   "metadata": {},
   "source": [
    "## 4. Un collectionneur de voitures vous affirme que parmi les voitures Ford des années 1970-1982, il y avait :\n",
    "\n",
    "- 25 % de 4 cylindres\n",
    "\n",
    "- 25 % de 6 cylindres\n",
    "\n",
    "- 50 % de 8 cylindres\n",
    "\n",
    "Testez son affirmation et concluez avec un niveau de confiance de 95 %."
   ]
  },
  {
   "cell_type": "code",
   "execution_count": 100,
   "metadata": {},
   "outputs": [
    {
     "data": {
      "text/plain": [
       "array([16, 12, 20], dtype=int64)"
      ]
     },
     "execution_count": 100,
     "metadata": {},
     "output_type": "execute_result"
    }
   ],
   "source": [
    "df_cylinders = df.query(\"(`cylinders` == 4 | `cylinders` == 6 | `cylinders` == 8) & name.str.startswith ('ford')\" )\n",
    "\n",
    "# frequence observer\n",
    "freq_obs = df_cylinders['cylinders'].value_counts(normalize=False, sort=False).sort_index().values\n",
    "freq_obs"
   ]
  },
  {
   "cell_type": "code",
   "execution_count": null,
   "metadata": {},
   "outputs": [
    {
     "data": {
      "text/plain": [
       "array([12., 12., 24.])"
      ]
     },
     "execution_count": 98,
     "metadata": {},
     "output_type": "execute_result"
    }
   ],
   "source": [
    "# frequence experimentale\n",
    "freq_exp = np.array([0.25,0.25,0.50])\n",
    "freq_exp = freq_exp*len(df_cylinders)\n"
   ]
  },
  {
   "cell_type": "code",
   "execution_count": 199,
   "metadata": {},
   "outputs": [
    {
     "name": "stdout",
     "output_type": "stream",
     "text": [
      "HO: << il y avait :\n",
      " - 25 % de 4 cylindres\n",
      " - 25 % de 6 cylindres \n",
      " - 50 % de 8 cylindres >>\n",
      "\n",
      "Valeur p obtenue : 0.36788\n",
      "Nous n'avons pas suffisamment d'évidence pour rejeter 'HO' au seuil 0.02\n"
     ]
    }
   ],
   "source": [
    "p_value = sts.chisquare(f_obs=freq_obs, f_exp=freq_exp).pvalue\n",
    "print(f\"HO: << il y avait :\\n - 25 % de 4 cylindres\\n - 25 % de 6 cylindres \\n - 50 % de 8 cylindres >>\"  )\n",
    "print(f\"\\nValeur p obtenue : {p_value:.5f}\")\n",
    "\n",
    "if p_value < seuil:\n",
    "    print(\"Nous avons suffisamment d'argument pour rejeter 'HO'\")\n",
    "else:\n",
    "    print(f\"Nous n'avons pas suffisamment d'évidence pour rejeter 'HO' au seuil {seuil}\")  "
   ]
  },
  {
   "cell_type": "markdown",
   "metadata": {},
   "source": [
    "5. Les voitures à 4 cylindres ont en moyenne la même consommation d'essence au Japon, en Europe et aux États-Unis, dans les années 1970-1982. Testez cette affirmation et concluez avec un niveau de confiance de 98 % (alpha = 0,02)."
   ]
  },
  {
   "cell_type": "code",
   "execution_count": 192,
   "metadata": {},
   "outputs": [
    {
     "data": {
      "text/html": [
       "<div>\n",
       "<style scoped>\n",
       "    .dataframe tbody tr th:only-of-type {\n",
       "        vertical-align: middle;\n",
       "    }\n",
       "\n",
       "    .dataframe tbody tr th {\n",
       "        vertical-align: top;\n",
       "    }\n",
       "\n",
       "    .dataframe thead th {\n",
       "        text-align: right;\n",
       "    }\n",
       "</style>\n",
       "<table border=\"1\" class=\"dataframe\">\n",
       "  <thead>\n",
       "    <tr style=\"text-align: right;\">\n",
       "      <th></th>\n",
       "      <th>count</th>\n",
       "      <th>mean</th>\n",
       "      <th>std</th>\n",
       "      <th>min</th>\n",
       "      <th>25%</th>\n",
       "      <th>50%</th>\n",
       "      <th>75%</th>\n",
       "      <th>max</th>\n",
       "    </tr>\n",
       "    <tr>\n",
       "      <th>origin</th>\n",
       "      <th></th>\n",
       "      <th></th>\n",
       "      <th></th>\n",
       "      <th></th>\n",
       "      <th></th>\n",
       "      <th></th>\n",
       "      <th></th>\n",
       "      <th></th>\n",
       "    </tr>\n",
       "  </thead>\n",
       "  <tbody>\n",
       "    <tr>\n",
       "      <th>europe</th>\n",
       "      <td>61.0</td>\n",
       "      <td>28.106557</td>\n",
       "      <td>6.291075</td>\n",
       "      <td>18.0</td>\n",
       "      <td>24.0</td>\n",
       "      <td>27.0</td>\n",
       "      <td>30.0</td>\n",
       "      <td>44.3</td>\n",
       "    </tr>\n",
       "    <tr>\n",
       "      <th>japan</th>\n",
       "      <td>69.0</td>\n",
       "      <td>31.595652</td>\n",
       "      <td>5.435787</td>\n",
       "      <td>20.0</td>\n",
       "      <td>27.5</td>\n",
       "      <td>32.0</td>\n",
       "      <td>35.0</td>\n",
       "      <td>46.6</td>\n",
       "    </tr>\n",
       "    <tr>\n",
       "      <th>usa</th>\n",
       "      <td>69.0</td>\n",
       "      <td>28.013043</td>\n",
       "      <td>4.566596</td>\n",
       "      <td>19.0</td>\n",
       "      <td>25.0</td>\n",
       "      <td>27.2</td>\n",
       "      <td>30.9</td>\n",
       "      <td>39.0</td>\n",
       "    </tr>\n",
       "  </tbody>\n",
       "</table>\n",
       "</div>"
      ],
      "text/plain": [
       "        count       mean       std   min   25%   50%   75%   max\n",
       "origin                                                          \n",
       "europe   61.0  28.106557  6.291075  18.0  24.0  27.0  30.0  44.3\n",
       "japan    69.0  31.595652  5.435787  20.0  27.5  32.0  35.0  46.6\n",
       "usa      69.0  28.013043  4.566596  19.0  25.0  27.2  30.9  39.0"
      ]
     },
     "execution_count": 192,
     "metadata": {},
     "output_type": "execute_result"
    }
   ],
   "source": [
    "df.query(\"`cylinders` == 4\").groupby('origin')['mpg'].describe()"
   ]
  },
  {
   "cell_type": "code",
   "execution_count": 201,
   "metadata": {},
   "outputs": [
    {
     "name": "stdout",
     "output_type": "stream",
     "text": [
      "HO: << Les voitures à 4 cylindres ont en moyenne la même consommation \n",
      "  d'essence au Japon, en Europe et aux États-Unis, dans les années 1970-1982 >>\n",
      "\n",
      "Valeur p obtenue : 0.00011\n",
      "Nous avons suffisamment d'argument pour rejeter 'HO'\n"
     ]
    }
   ],
   "source": [
    "p_value= sts.f_oneway(*df.query(\"`cylinders` == 4\").groupby('origin')['mpg'].apply(list)).pvalue\n",
    "\n",
    "print(f\"HO: << Les voitures à 4 cylindres ont en moyenne la même consommation \\n\"\n",
    "      \"  d'essence au Japon, en Europe et aux États-Unis, dans les années 1970-1982 >>\"  )\n",
    "print(f\"\\nValeur p obtenue : {p_value:.5f}\")\n",
    "\n",
    "if p_value < seuil:\n",
    "    print(\"Nous avons suffisamment d'argument pour rejeter 'HO'\")\n",
    "else:\n",
    "    print(\"Nous n'avons pas suffisamment d'évidence pour rejeter 'HO'\")  "
   ]
  },
  {
   "cell_type": "markdown",
   "metadata": {},
   "source": [
    "## 6. Les voitures européennes et japonaises ont en moyenne le même nombre de chevaux. \n",
    "Testez cette affirmation et concluez avec un niveau de confiance de 98 % (alpha = 0,02).\n",
    "\n"
   ]
  },
  {
   "cell_type": "code",
   "execution_count": 193,
   "metadata": {},
   "outputs": [
    {
     "data": {
      "text/html": [
       "<div>\n",
       "<style scoped>\n",
       "    .dataframe tbody tr th:only-of-type {\n",
       "        vertical-align: middle;\n",
       "    }\n",
       "\n",
       "    .dataframe tbody tr th {\n",
       "        vertical-align: top;\n",
       "    }\n",
       "\n",
       "    .dataframe thead th {\n",
       "        text-align: right;\n",
       "    }\n",
       "</style>\n",
       "<table border=\"1\" class=\"dataframe\">\n",
       "  <thead>\n",
       "    <tr style=\"text-align: right;\">\n",
       "      <th></th>\n",
       "      <th>count</th>\n",
       "      <th>mean</th>\n",
       "      <th>std</th>\n",
       "      <th>min</th>\n",
       "      <th>25%</th>\n",
       "      <th>50%</th>\n",
       "      <th>75%</th>\n",
       "      <th>max</th>\n",
       "    </tr>\n",
       "    <tr>\n",
       "      <th>origin</th>\n",
       "      <th></th>\n",
       "      <th></th>\n",
       "      <th></th>\n",
       "      <th></th>\n",
       "      <th></th>\n",
       "      <th></th>\n",
       "      <th></th>\n",
       "      <th></th>\n",
       "    </tr>\n",
       "  </thead>\n",
       "  <tbody>\n",
       "    <tr>\n",
       "      <th>europe</th>\n",
       "      <td>68.0</td>\n",
       "      <td>80.558824</td>\n",
       "      <td>20.157871</td>\n",
       "      <td>46.0</td>\n",
       "      <td>69.75</td>\n",
       "      <td>76.5</td>\n",
       "      <td>90.0</td>\n",
       "      <td>133.0</td>\n",
       "    </tr>\n",
       "    <tr>\n",
       "      <th>japan</th>\n",
       "      <td>79.0</td>\n",
       "      <td>79.835443</td>\n",
       "      <td>17.819199</td>\n",
       "      <td>52.0</td>\n",
       "      <td>67.00</td>\n",
       "      <td>75.0</td>\n",
       "      <td>95.0</td>\n",
       "      <td>132.0</td>\n",
       "    </tr>\n",
       "    <tr>\n",
       "      <th>usa</th>\n",
       "      <td>245.0</td>\n",
       "      <td>119.048980</td>\n",
       "      <td>39.897790</td>\n",
       "      <td>52.0</td>\n",
       "      <td>88.00</td>\n",
       "      <td>105.0</td>\n",
       "      <td>150.0</td>\n",
       "      <td>230.0</td>\n",
       "    </tr>\n",
       "  </tbody>\n",
       "</table>\n",
       "</div>"
      ],
      "text/plain": [
       "        count        mean        std   min    25%    50%    75%    max\n",
       "origin                                                                \n",
       "europe   68.0   80.558824  20.157871  46.0  69.75   76.5   90.0  133.0\n",
       "japan    79.0   79.835443  17.819199  52.0  67.00   75.0   95.0  132.0\n",
       "usa     245.0  119.048980  39.897790  52.0  88.00  105.0  150.0  230.0"
      ]
     },
     "execution_count": 193,
     "metadata": {},
     "output_type": "execute_result"
    }
   ],
   "source": [
    "df.groupby('origin')['horsepower'].describe()"
   ]
  },
  {
   "cell_type": "code",
   "execution_count": 196,
   "metadata": {},
   "outputs": [],
   "source": [
    "europe, japan = df.query(\"`origin` == 'europe' | `origin` == 'japan'\").groupby('origin')['horsepower'].apply(list)"
   ]
  },
  {
   "cell_type": "code",
   "execution_count": 198,
   "metadata": {},
   "outputs": [
    {
     "name": "stdout",
     "output_type": "stream",
     "text": [
      "HO: << Les voitures européennes et japonaises ont en moyenne le même nombre de chevaux >>\n",
      "\n",
      "Valeur p obtenue : 0.81769\n",
      "Nous n'avons pas suffisamment d'évidence pour rejeter 'HO'\n"
     ]
    }
   ],
   "source": [
    "p_value= sts.ttest_ind(europe, japan, equal_var=True).pvalue\n",
    "\n",
    "print(f\"HO: << Les voitures européennes et japonaises ont en moyenne le même nombre de chevaux >>\"  )\n",
    "print(f\"\\nValeur p obtenue : {p_value:.5f}\")\n",
    "\n",
    "if p_value < seuil:\n",
    "    print(\"Nous avons suffisamment d'argument pour rejeter 'HO'\")\n",
    "else:\n",
    "    print(\"Nous n'avons pas suffisamment d'évidence pour rejeter 'HO'\")  "
   ]
  },
  {
   "cell_type": "markdown",
   "metadata": {},
   "source": [
    "### 7. Un spécialiste vous dit que les constructeurs Ford et Dodge produisaient dans les années 70-82 des voitures avec un nombre de cylindres équivalent. Testez cette affirmation et concluez avec un niveau de confiance de 98 % (alpha = 0,02).\n",
    "\n",
    "\n",
    "\n",
    "Pour cette question aidez-vous du code suivant :"
   ]
  },
  {
   "cell_type": "code",
   "execution_count": 222,
   "metadata": {},
   "outputs": [
    {
     "data": {
      "text/html": [
       "<div>\n",
       "<style scoped>\n",
       "    .dataframe tbody tr th:only-of-type {\n",
       "        vertical-align: middle;\n",
       "    }\n",
       "\n",
       "    .dataframe tbody tr th {\n",
       "        vertical-align: top;\n",
       "    }\n",
       "\n",
       "    .dataframe thead th {\n",
       "        text-align: right;\n",
       "    }\n",
       "</style>\n",
       "<table border=\"1\" class=\"dataframe\">\n",
       "  <thead>\n",
       "    <tr style=\"text-align: right;\">\n",
       "      <th>cylinders</th>\n",
       "      <th>4</th>\n",
       "      <th>6</th>\n",
       "      <th>8</th>\n",
       "    </tr>\n",
       "    <tr>\n",
       "      <th>brand</th>\n",
       "      <th></th>\n",
       "      <th></th>\n",
       "      <th></th>\n",
       "    </tr>\n",
       "  </thead>\n",
       "  <tbody>\n",
       "    <tr>\n",
       "      <th>dodge</th>\n",
       "      <td>12</td>\n",
       "      <td>4</td>\n",
       "      <td>12</td>\n",
       "    </tr>\n",
       "    <tr>\n",
       "      <th>ford</th>\n",
       "      <td>16</td>\n",
       "      <td>12</td>\n",
       "      <td>20</td>\n",
       "    </tr>\n",
       "  </tbody>\n",
       "</table>\n",
       "</div>"
      ],
      "text/plain": [
       "cylinders   4   6   8\n",
       "brand                \n",
       "dodge      12   4  12\n",
       "ford       16  12  20"
      ]
     },
     "execution_count": 222,
     "metadata": {},
     "output_type": "execute_result"
    }
   ],
   "source": [
    "dodge_ford = df.query(\" name.str.contains('ford|dodge', case=False, na=False)\").copy()\n",
    "dodge_ford['brand'] = dodge_ford['name'].apply(lambda x: 'ford' if 'ford' in x else 'dodge' )\n",
    "pd.crosstab(dodge_ford['brand'], dodge_ford['cylinders'])"
   ]
  },
  {
   "cell_type": "code",
   "execution_count": 223,
   "metadata": {},
   "outputs": [
    {
     "data": {
      "text/plain": [
       "Chi2ContingencyResult(statistic=1.4056122448979598, pvalue=0.49519377793169383, dof=2, expected_freq=array([[10.31578947,  5.89473684, 11.78947368],\n",
       "       [17.68421053, 10.10526316, 20.21052632]]))"
      ]
     },
     "execution_count": 223,
     "metadata": {},
     "output_type": "execute_result"
    }
   ],
   "source": [
    "sts.chi2_contingency(pd.crosstab(dodge_ford['brand'], dodge_ford['cylinders']))"
   ]
  },
  {
   "cell_type": "markdown",
   "metadata": {},
   "source": []
  }
 ],
 "metadata": {
  "kernelspec": {
   "display_name": "base",
   "language": "python",
   "name": "python3"
  },
  "language_info": {
   "codemirror_mode": {
    "name": "ipython",
    "version": 3
   },
   "file_extension": ".py",
   "mimetype": "text/x-python",
   "name": "python",
   "nbconvert_exporter": "python",
   "pygments_lexer": "ipython3",
   "version": "3.12.7"
  }
 },
 "nbformat": 4,
 "nbformat_minor": 2
}
